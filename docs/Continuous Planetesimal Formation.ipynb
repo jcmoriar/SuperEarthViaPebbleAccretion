{
 "metadata": {
  "language": "Julia",
  "name": "",
  "signature": "sha256:486981884a6b4f799424b7c854605e00cc432d31fea0d631a9ee4b1dae1cffdd"
 },
 "nbformat": 3,
 "nbformat_minor": 0,
 "worksheets": [
  {
   "cells": [
    {
     "cell_type": "markdown",
     "metadata": {},
     "source": [
      "###Goal\n",
      "Add planetesimals over the course of the simulation rather than as initial conditions."
     ]
    },
    {
     "cell_type": "markdown",
     "metadata": {},
     "source": [
      "####Initial code changes\n",
      "Change code to only have individual bodies (i.e. brute force technique). This breaks some previous code (e.g. plotting)\n"
     ]
    },
    {
     "cell_type": "code",
     "collapsed": false,
     "input": [
      "include(\"../src/pebble_accretion.jl\")\n",
      "d = PA.Disk(0.05,5.)\n",
      "PA.plot(d)"
     ],
     "language": "python",
     "metadata": {},
     "outputs": [
      {
       "html": [
        "<?xml version=\"1.0\" encoding=\"UTF-8\"?>\n",
        "<svg xmlns=\"http://www.w3.org/2000/svg\"\n",
        "     xmlns:xlink=\"http://www.w3.org/1999/xlink\"\n",
        "     xmlns:gadfly=\"http://www.gadflyjl.org/ns\"\n",
        "     version=\"1.2\"\n",
        "     width=\"141.42mm\" height=\"100mm\" viewBox=\"0 0 141.42 100\"\n",
        "     stroke=\"none\"\n",
        "     fill=\"#000000\"\n",
        "     stroke-width=\"0.3\"\n",
        "     font-size=\"3.88\"\n",
        "\n",
        "     id=\"fig-a9b2d61192a44ec2aef15def8aed44d5\">\n",
        "<g class=\"plotroot xscalable yscalable\" id=\"fig-a9b2d61192a44ec2aef15def8aed44d5-element-1\">\n",
        "  <g font-size=\"6\" font-family=\"'PT Sans','Helvetica Neue','Helvetica',sans-serif\" fill=\"#FFFFFF\" stroke=\"none\" id=\"fig-a9b2d61192a44ec2aef15def8aed44d5-element-2\">\n",
        "    <text x=\"72.47\" y=\"92\" text-anchor=\"middle\">Semi-major axis [AU]</text>\n",
        "  </g>\n",
        "  <g class=\"guide xlabels\" font-size=\"4.23\" font-family=\"'PT Sans Caption','Helvetica Neue','Helvetica',sans-serif\" fill=\"#FFFFFF\" id=\"fig-a9b2d61192a44ec2aef15def8aed44d5-element-3\">\n",
        "    <text x=\"-79.47\" y=\"84.42\" text-anchor=\"middle\" visibility=\"hidden\" gadfly:scale=\"1.0\">10<tspan style=\"dominant-baseline:inherit\" dy=\"-0.6em\" font-size=\"83.333333%\">-4.5</tspan></text>\n",
        "    <text x=\"-61.6\" y=\"84.42\" text-anchor=\"middle\" visibility=\"hidden\" gadfly:scale=\"1.0\">10<tspan style=\"dominant-baseline:inherit\" dy=\"-0.6em\" font-size=\"83.333333%\">-4.0</tspan></text>\n",
        "    <text x=\"-43.72\" y=\"84.42\" text-anchor=\"middle\" visibility=\"hidden\" gadfly:scale=\"1.0\">10<tspan style=\"dominant-baseline:inherit\" dy=\"-0.6em\" font-size=\"83.333333%\">-3.5</tspan></text>\n",
        "    <text x=\"-25.85\" y=\"84.42\" text-anchor=\"middle\" visibility=\"hidden\" gadfly:scale=\"1.0\">10<tspan style=\"dominant-baseline:inherit\" dy=\"-0.6em\" font-size=\"83.333333%\">-3.0</tspan></text>\n",
        "    <text x=\"-7.97\" y=\"84.42\" text-anchor=\"middle\" visibility=\"hidden\" gadfly:scale=\"1.0\">10<tspan style=\"dominant-baseline:inherit\" dy=\"-0.6em\" font-size=\"83.333333%\">-2.5</tspan></text>\n",
        "    <text x=\"9.91\" y=\"84.42\" text-anchor=\"middle\" visibility=\"hidden\" gadfly:scale=\"1.0\">10<tspan style=\"dominant-baseline:inherit\" dy=\"-0.6em\" font-size=\"83.333333%\">-2.0</tspan></text>\n",
        "    <text x=\"27.78\" y=\"84.42\" text-anchor=\"middle\" visibility=\"visible\" gadfly:scale=\"1.0\">10<tspan style=\"dominant-baseline:inherit\" dy=\"-0.6em\" font-size=\"83.333333%\">-1.5</tspan></text>\n",
        "    <text x=\"45.66\" y=\"84.42\" text-anchor=\"middle\" visibility=\"visible\" gadfly:scale=\"1.0\">10<tspan style=\"dominant-baseline:inherit\" dy=\"-0.6em\" font-size=\"83.333333%\">-1.0</tspan></text>\n",
        "    <text x=\"63.53\" y=\"84.42\" text-anchor=\"middle\" visibility=\"visible\" gadfly:scale=\"1.0\">10<tspan style=\"dominant-baseline:inherit\" dy=\"-0.6em\" font-size=\"83.333333%\">-0.5</tspan></text>\n",
        "    <text x=\"81.41\" y=\"84.42\" text-anchor=\"middle\" visibility=\"visible\" gadfly:scale=\"1.0\">10<tspan style=\"dominant-baseline:inherit\" dy=\"-0.6em\" font-size=\"83.333333%\">0.0</tspan></text>\n",
        "    <text x=\"99.29\" y=\"84.42\" text-anchor=\"middle\" visibility=\"visible\" gadfly:scale=\"1.0\">10<tspan style=\"dominant-baseline:inherit\" dy=\"-0.6em\" font-size=\"83.333333%\">0.5</tspan></text>\n",
        "    <text x=\"117.16\" y=\"84.42\" text-anchor=\"middle\" visibility=\"visible\" gadfly:scale=\"1.0\">10<tspan style=\"dominant-baseline:inherit\" dy=\"-0.6em\" font-size=\"83.333333%\">1.0</tspan></text>\n",
        "    <text x=\"135.04\" y=\"84.42\" text-anchor=\"middle\" visibility=\"hidden\" gadfly:scale=\"1.0\">10<tspan style=\"dominant-baseline:inherit\" dy=\"-0.6em\" font-size=\"83.333333%\">1.5</tspan></text>\n",
        "    <text x=\"152.91\" y=\"84.42\" text-anchor=\"middle\" visibility=\"hidden\" gadfly:scale=\"1.0\">10<tspan style=\"dominant-baseline:inherit\" dy=\"-0.6em\" font-size=\"83.333333%\">2.0</tspan></text>\n",
        "    <text x=\"170.79\" y=\"84.42\" text-anchor=\"middle\" visibility=\"hidden\" gadfly:scale=\"1.0\">10<tspan style=\"dominant-baseline:inherit\" dy=\"-0.6em\" font-size=\"83.333333%\">2.5</tspan></text>\n",
        "    <text x=\"188.67\" y=\"84.42\" text-anchor=\"middle\" visibility=\"hidden\" gadfly:scale=\"1.0\">10<tspan style=\"dominant-baseline:inherit\" dy=\"-0.6em\" font-size=\"83.333333%\">3.0</tspan></text>\n",
        "    <text x=\"206.54\" y=\"84.42\" text-anchor=\"middle\" visibility=\"hidden\" gadfly:scale=\"1.0\">10<tspan style=\"dominant-baseline:inherit\" dy=\"-0.6em\" font-size=\"83.333333%\">3.5</tspan></text>\n",
        "    <text x=\"224.42\" y=\"84.42\" text-anchor=\"middle\" visibility=\"hidden\" gadfly:scale=\"1.0\">10<tspan style=\"dominant-baseline:inherit\" dy=\"-0.6em\" font-size=\"83.333333%\">4.0</tspan></text>\n",
        "    <text x=\"-61.6\" y=\"84.42\" text-anchor=\"middle\" visibility=\"hidden\" gadfly:scale=\"10.0\">10<tspan style=\"dominant-baseline:inherit\" dy=\"-0.6em\" font-size=\"83.333333%\">-4.0</tspan></text>\n",
        "    <text x=\"-58.02\" y=\"84.42\" text-anchor=\"middle\" visibility=\"hidden\" gadfly:scale=\"10.0\">10<tspan style=\"dominant-baseline:inherit\" dy=\"-0.6em\" font-size=\"83.333333%\">-3.9</tspan></text>\n",
        "    <text x=\"-54.45\" y=\"84.42\" text-anchor=\"middle\" visibility=\"hidden\" gadfly:scale=\"10.0\">10<tspan style=\"dominant-baseline:inherit\" dy=\"-0.6em\" font-size=\"83.333333%\">-3.8</tspan></text>\n",
        "    <text x=\"-50.87\" y=\"84.42\" text-anchor=\"middle\" visibility=\"hidden\" gadfly:scale=\"10.0\">10<tspan style=\"dominant-baseline:inherit\" dy=\"-0.6em\" font-size=\"83.333333%\">-3.7</tspan></text>\n",
        "    <text x=\"-47.3\" y=\"84.42\" text-anchor=\"middle\" visibility=\"hidden\" gadfly:scale=\"10.0\">10<tspan style=\"dominant-baseline:inherit\" dy=\"-0.6em\" font-size=\"83.333333%\">-3.6</tspan></text>\n",
        "    <text x=\"-43.72\" y=\"84.42\" text-anchor=\"middle\" visibility=\"hidden\" gadfly:scale=\"10.0\">10<tspan style=\"dominant-baseline:inherit\" dy=\"-0.6em\" font-size=\"83.333333%\">-3.5</tspan></text>\n",
        "    <text x=\"-40.15\" y=\"84.42\" text-anchor=\"middle\" visibility=\"hidden\" gadfly:scale=\"10.0\">10<tspan style=\"dominant-baseline:inherit\" dy=\"-0.6em\" font-size=\"83.333333%\">-3.4</tspan></text>\n",
        "    <text x=\"-36.57\" y=\"84.42\" text-anchor=\"middle\" visibility=\"hidden\" gadfly:scale=\"10.0\">10<tspan style=\"dominant-baseline:inherit\" dy=\"-0.6em\" font-size=\"83.333333%\">-3.3</tspan></text>\n",
        "    <text x=\"-33\" y=\"84.42\" text-anchor=\"middle\" visibility=\"hidden\" gadfly:scale=\"10.0\">10<tspan style=\"dominant-baseline:inherit\" dy=\"-0.6em\" font-size=\"83.333333%\">-3.2</tspan></text>\n",
        "    <text x=\"-29.42\" y=\"84.42\" text-anchor=\"middle\" visibility=\"hidden\" gadfly:scale=\"10.0\">10<tspan style=\"dominant-baseline:inherit\" dy=\"-0.6em\" font-size=\"83.333333%\">-3.1</tspan></text>\n",
        "    <text x=\"-25.85\" y=\"84.42\" text-anchor=\"middle\" visibility=\"hidden\" gadfly:scale=\"10.0\">10<tspan style=\"dominant-baseline:inherit\" dy=\"-0.6em\" font-size=\"83.333333%\">-3.0</tspan></text>\n",
        "    <text x=\"-22.27\" y=\"84.42\" text-anchor=\"middle\" visibility=\"hidden\" gadfly:scale=\"10.0\">10<tspan style=\"dominant-baseline:inherit\" dy=\"-0.6em\" font-size=\"83.333333%\">-2.9</tspan></text>\n",
        "    <text x=\"-18.7\" y=\"84.42\" text-anchor=\"middle\" visibility=\"hidden\" gadfly:scale=\"10.0\">10<tspan style=\"dominant-baseline:inherit\" dy=\"-0.6em\" font-size=\"83.333333%\">-2.8</tspan></text>\n",
        "    <text x=\"-15.12\" y=\"84.42\" text-anchor=\"middle\" visibility=\"hidden\" gadfly:scale=\"10.0\">10<tspan style=\"dominant-baseline:inherit\" dy=\"-0.6em\" font-size=\"83.333333%\">-2.7</tspan></text>\n",
        "    <text x=\"-11.55\" y=\"84.42\" text-anchor=\"middle\" visibility=\"hidden\" gadfly:scale=\"10.0\">10<tspan style=\"dominant-baseline:inherit\" dy=\"-0.6em\" font-size=\"83.333333%\">-2.6</tspan></text>\n",
        "    <text x=\"-7.97\" y=\"84.42\" text-anchor=\"middle\" visibility=\"hidden\" gadfly:scale=\"10.0\">10<tspan style=\"dominant-baseline:inherit\" dy=\"-0.6em\" font-size=\"83.333333%\">-2.5</tspan></text>\n",
        "    <text x=\"-4.4\" y=\"84.42\" text-anchor=\"middle\" visibility=\"hidden\" gadfly:scale=\"10.0\">10<tspan style=\"dominant-baseline:inherit\" dy=\"-0.6em\" font-size=\"83.333333%\">-2.4</tspan></text>\n",
        "    <text x=\"-0.82\" y=\"84.42\" text-anchor=\"middle\" visibility=\"hidden\" gadfly:scale=\"10.0\">10<tspan style=\"dominant-baseline:inherit\" dy=\"-0.6em\" font-size=\"83.333333%\">-2.3</tspan></text>\n",
        "    <text x=\"2.76\" y=\"84.42\" text-anchor=\"middle\" visibility=\"hidden\" gadfly:scale=\"10.0\">10<tspan style=\"dominant-baseline:inherit\" dy=\"-0.6em\" font-size=\"83.333333%\">-2.2</tspan></text>\n",
        "    <text x=\"6.33\" y=\"84.42\" text-anchor=\"middle\" visibility=\"hidden\" gadfly:scale=\"10.0\">10<tspan style=\"dominant-baseline:inherit\" dy=\"-0.6em\" font-size=\"83.333333%\">-2.1</tspan></text>\n",
        "    <text x=\"9.91\" y=\"84.42\" text-anchor=\"middle\" visibility=\"hidden\" gadfly:scale=\"10.0\">10<tspan style=\"dominant-baseline:inherit\" dy=\"-0.6em\" font-size=\"83.333333%\">-2.0</tspan></text>\n",
        "    <text x=\"13.48\" y=\"84.42\" text-anchor=\"middle\" visibility=\"hidden\" gadfly:scale=\"10.0\">10<tspan style=\"dominant-baseline:inherit\" dy=\"-0.6em\" font-size=\"83.333333%\">-1.9</tspan></text>\n",
        "    <text x=\"17.06\" y=\"84.42\" text-anchor=\"middle\" visibility=\"hidden\" gadfly:scale=\"10.0\">10<tspan style=\"dominant-baseline:inherit\" dy=\"-0.6em\" font-size=\"83.333333%\">-1.8</tspan></text>\n",
        "    <text x=\"20.63\" y=\"84.42\" text-anchor=\"middle\" visibility=\"hidden\" gadfly:scale=\"10.0\">10<tspan style=\"dominant-baseline:inherit\" dy=\"-0.6em\" font-size=\"83.333333%\">-1.7</tspan></text>\n",
        "    <text x=\"24.21\" y=\"84.42\" text-anchor=\"middle\" visibility=\"hidden\" gadfly:scale=\"10.0\">10<tspan style=\"dominant-baseline:inherit\" dy=\"-0.6em\" font-size=\"83.333333%\">-1.6</tspan></text>\n",
        "    <text x=\"27.78\" y=\"84.42\" text-anchor=\"middle\" visibility=\"hidden\" gadfly:scale=\"10.0\">10<tspan style=\"dominant-baseline:inherit\" dy=\"-0.6em\" font-size=\"83.333333%\">-1.5</tspan></text>\n",
        "    <text x=\"31.36\" y=\"84.42\" text-anchor=\"middle\" visibility=\"hidden\" gadfly:scale=\"10.0\">10<tspan style=\"dominant-baseline:inherit\" dy=\"-0.6em\" font-size=\"83.333333%\">-1.4</tspan></text>\n",
        "    <text x=\"34.93\" y=\"84.42\" text-anchor=\"middle\" visibility=\"hidden\" gadfly:scale=\"10.0\">10<tspan style=\"dominant-baseline:inherit\" dy=\"-0.6em\" font-size=\"83.333333%\">-1.3</tspan></text>\n",
        "    <text x=\"38.51\" y=\"84.42\" text-anchor=\"middle\" visibility=\"hidden\" gadfly:scale=\"10.0\">10<tspan style=\"dominant-baseline:inherit\" dy=\"-0.6em\" font-size=\"83.333333%\">-1.2</tspan></text>\n",
        "    <text x=\"42.08\" y=\"84.42\" text-anchor=\"middle\" visibility=\"hidden\" gadfly:scale=\"10.0\">10<tspan style=\"dominant-baseline:inherit\" dy=\"-0.6em\" font-size=\"83.333333%\">-1.1</tspan></text>\n",
        "    <text x=\"45.66\" y=\"84.42\" text-anchor=\"middle\" visibility=\"hidden\" gadfly:scale=\"10.0\">10<tspan style=\"dominant-baseline:inherit\" dy=\"-0.6em\" font-size=\"83.333333%\">-1.0</tspan></text>\n",
        "    <text x=\"49.23\" y=\"84.42\" text-anchor=\"middle\" visibility=\"hidden\" gadfly:scale=\"10.0\">10<tspan style=\"dominant-baseline:inherit\" dy=\"-0.6em\" font-size=\"83.333333%\">-0.9</tspan></text>\n",
        "    <text x=\"52.81\" y=\"84.42\" text-anchor=\"middle\" visibility=\"hidden\" gadfly:scale=\"10.0\">10<tspan style=\"dominant-baseline:inherit\" dy=\"-0.6em\" font-size=\"83.333333%\">-0.8</tspan></text>\n",
        "    <text x=\"56.38\" y=\"84.42\" text-anchor=\"middle\" visibility=\"hidden\" gadfly:scale=\"10.0\">10<tspan style=\"dominant-baseline:inherit\" dy=\"-0.6em\" font-size=\"83.333333%\">-0.7</tspan></text>\n",
        "    <text x=\"59.96\" y=\"84.42\" text-anchor=\"middle\" visibility=\"hidden\" gadfly:scale=\"10.0\">10<tspan style=\"dominant-baseline:inherit\" dy=\"-0.6em\" font-size=\"83.333333%\">-0.6</tspan></text>\n",
        "    <text x=\"63.53\" y=\"84.42\" text-anchor=\"middle\" visibility=\"hidden\" gadfly:scale=\"10.0\">10<tspan style=\"dominant-baseline:inherit\" dy=\"-0.6em\" font-size=\"83.333333%\">-0.5</tspan></text>\n",
        "    <text x=\"67.11\" y=\"84.42\" text-anchor=\"middle\" visibility=\"hidden\" gadfly:scale=\"10.0\">10<tspan style=\"dominant-baseline:inherit\" dy=\"-0.6em\" font-size=\"83.333333%\">-0.4</tspan></text>\n",
        "    <text x=\"70.68\" y=\"84.42\" text-anchor=\"middle\" visibility=\"hidden\" gadfly:scale=\"10.0\">10<tspan style=\"dominant-baseline:inherit\" dy=\"-0.6em\" font-size=\"83.333333%\">-0.3</tspan></text>\n",
        "    <text x=\"74.26\" y=\"84.42\" text-anchor=\"middle\" visibility=\"hidden\" gadfly:scale=\"10.0\">10<tspan style=\"dominant-baseline:inherit\" dy=\"-0.6em\" font-size=\"83.333333%\">-0.2</tspan></text>\n",
        "    <text x=\"77.83\" y=\"84.42\" text-anchor=\"middle\" visibility=\"hidden\" gadfly:scale=\"10.0\">10<tspan style=\"dominant-baseline:inherit\" dy=\"-0.6em\" font-size=\"83.333333%\">-0.1</tspan></text>\n",
        "    <text x=\"81.41\" y=\"84.42\" text-anchor=\"middle\" visibility=\"hidden\" gadfly:scale=\"10.0\">10<tspan style=\"dominant-baseline:inherit\" dy=\"-0.6em\" font-size=\"83.333333%\">0.0</tspan></text>\n",
        "    <text x=\"84.98\" y=\"84.42\" text-anchor=\"middle\" visibility=\"hidden\" gadfly:scale=\"10.0\">10<tspan style=\"dominant-baseline:inherit\" dy=\"-0.6em\" font-size=\"83.333333%\">0.1</tspan></text>\n",
        "    <text x=\"88.56\" y=\"84.42\" text-anchor=\"middle\" visibility=\"hidden\" gadfly:scale=\"10.0\">10<tspan style=\"dominant-baseline:inherit\" dy=\"-0.6em\" font-size=\"83.333333%\">0.2</tspan></text>\n",
        "    <text x=\"92.14\" y=\"84.42\" text-anchor=\"middle\" visibility=\"hidden\" gadfly:scale=\"10.0\">10<tspan style=\"dominant-baseline:inherit\" dy=\"-0.6em\" font-size=\"83.333333%\">0.3</tspan></text>\n",
        "    <text x=\"95.71\" y=\"84.42\" text-anchor=\"middle\" visibility=\"hidden\" gadfly:scale=\"10.0\">10<tspan style=\"dominant-baseline:inherit\" dy=\"-0.6em\" font-size=\"83.333333%\">0.4</tspan></text>\n",
        "    <text x=\"99.29\" y=\"84.42\" text-anchor=\"middle\" visibility=\"hidden\" gadfly:scale=\"10.0\">10<tspan style=\"dominant-baseline:inherit\" dy=\"-0.6em\" font-size=\"83.333333%\">0.5</tspan></text>\n",
        "    <text x=\"102.86\" y=\"84.42\" text-anchor=\"middle\" visibility=\"hidden\" gadfly:scale=\"10.0\">10<tspan style=\"dominant-baseline:inherit\" dy=\"-0.6em\" font-size=\"83.333333%\">0.6</tspan></text>\n",
        "    <text x=\"106.44\" y=\"84.42\" text-anchor=\"middle\" visibility=\"hidden\" gadfly:scale=\"10.0\">10<tspan style=\"dominant-baseline:inherit\" dy=\"-0.6em\" font-size=\"83.333333%\">0.7</tspan></text>\n",
        "    <text x=\"110.01\" y=\"84.42\" text-anchor=\"middle\" visibility=\"hidden\" gadfly:scale=\"10.0\">10<tspan style=\"dominant-baseline:inherit\" dy=\"-0.6em\" font-size=\"83.333333%\">0.8</tspan></text>\n",
        "    <text x=\"113.59\" y=\"84.42\" text-anchor=\"middle\" visibility=\"hidden\" gadfly:scale=\"10.0\">10<tspan style=\"dominant-baseline:inherit\" dy=\"-0.6em\" font-size=\"83.333333%\">0.9</tspan></text>\n",
        "    <text x=\"117.16\" y=\"84.42\" text-anchor=\"middle\" visibility=\"hidden\" gadfly:scale=\"10.0\">10<tspan style=\"dominant-baseline:inherit\" dy=\"-0.6em\" font-size=\"83.333333%\">1.0</tspan></text>\n",
        "    <text x=\"120.74\" y=\"84.42\" text-anchor=\"middle\" visibility=\"hidden\" gadfly:scale=\"10.0\">10<tspan style=\"dominant-baseline:inherit\" dy=\"-0.6em\" font-size=\"83.333333%\">1.1</tspan></text>\n",
        "    <text x=\"124.31\" y=\"84.42\" text-anchor=\"middle\" visibility=\"hidden\" gadfly:scale=\"10.0\">10<tspan style=\"dominant-baseline:inherit\" dy=\"-0.6em\" font-size=\"83.333333%\">1.2</tspan></text>\n",
        "    <text x=\"127.89\" y=\"84.42\" text-anchor=\"middle\" visibility=\"hidden\" gadfly:scale=\"10.0\">10<tspan style=\"dominant-baseline:inherit\" dy=\"-0.6em\" font-size=\"83.333333%\">1.3</tspan></text>\n",
        "    <text x=\"131.46\" y=\"84.42\" text-anchor=\"middle\" visibility=\"hidden\" gadfly:scale=\"10.0\">10<tspan style=\"dominant-baseline:inherit\" dy=\"-0.6em\" font-size=\"83.333333%\">1.4</tspan></text>\n",
        "    <text x=\"135.04\" y=\"84.42\" text-anchor=\"middle\" visibility=\"hidden\" gadfly:scale=\"10.0\">10<tspan style=\"dominant-baseline:inherit\" dy=\"-0.6em\" font-size=\"83.333333%\">1.5</tspan></text>\n",
        "    <text x=\"138.61\" y=\"84.42\" text-anchor=\"middle\" visibility=\"hidden\" gadfly:scale=\"10.0\">10<tspan style=\"dominant-baseline:inherit\" dy=\"-0.6em\" font-size=\"83.333333%\">1.6</tspan></text>\n",
        "    <text x=\"142.19\" y=\"84.42\" text-anchor=\"middle\" visibility=\"hidden\" gadfly:scale=\"10.0\">10<tspan style=\"dominant-baseline:inherit\" dy=\"-0.6em\" font-size=\"83.333333%\">1.7</tspan></text>\n",
        "    <text x=\"145.76\" y=\"84.42\" text-anchor=\"middle\" visibility=\"hidden\" gadfly:scale=\"10.0\">10<tspan style=\"dominant-baseline:inherit\" dy=\"-0.6em\" font-size=\"83.333333%\">1.8</tspan></text>\n",
        "    <text x=\"149.34\" y=\"84.42\" text-anchor=\"middle\" visibility=\"hidden\" gadfly:scale=\"10.0\">10<tspan style=\"dominant-baseline:inherit\" dy=\"-0.6em\" font-size=\"83.333333%\">1.9</tspan></text>\n",
        "    <text x=\"152.91\" y=\"84.42\" text-anchor=\"middle\" visibility=\"hidden\" gadfly:scale=\"10.0\">10<tspan style=\"dominant-baseline:inherit\" dy=\"-0.6em\" font-size=\"83.333333%\">2.0</tspan></text>\n",
        "    <text x=\"156.49\" y=\"84.42\" text-anchor=\"middle\" visibility=\"hidden\" gadfly:scale=\"10.0\">10<tspan style=\"dominant-baseline:inherit\" dy=\"-0.6em\" font-size=\"83.333333%\">2.1</tspan></text>\n",
        "    <text x=\"160.06\" y=\"84.42\" text-anchor=\"middle\" visibility=\"hidden\" gadfly:scale=\"10.0\">10<tspan style=\"dominant-baseline:inherit\" dy=\"-0.6em\" font-size=\"83.333333%\">2.2</tspan></text>\n",
        "    <text x=\"163.64\" y=\"84.42\" text-anchor=\"middle\" visibility=\"hidden\" gadfly:scale=\"10.0\">10<tspan style=\"dominant-baseline:inherit\" dy=\"-0.6em\" font-size=\"83.333333%\">2.3</tspan></text>\n",
        "    <text x=\"167.21\" y=\"84.42\" text-anchor=\"middle\" visibility=\"hidden\" gadfly:scale=\"10.0\">10<tspan style=\"dominant-baseline:inherit\" dy=\"-0.6em\" font-size=\"83.333333%\">2.4</tspan></text>\n",
        "    <text x=\"170.79\" y=\"84.42\" text-anchor=\"middle\" visibility=\"hidden\" gadfly:scale=\"10.0\">10<tspan style=\"dominant-baseline:inherit\" dy=\"-0.6em\" font-size=\"83.333333%\">2.5</tspan></text>\n",
        "    <text x=\"174.36\" y=\"84.42\" text-anchor=\"middle\" visibility=\"hidden\" gadfly:scale=\"10.0\">10<tspan style=\"dominant-baseline:inherit\" dy=\"-0.6em\" font-size=\"83.333333%\">2.6</tspan></text>\n",
        "    <text x=\"177.94\" y=\"84.42\" text-anchor=\"middle\" visibility=\"hidden\" gadfly:scale=\"10.0\">10<tspan style=\"dominant-baseline:inherit\" dy=\"-0.6em\" font-size=\"83.333333%\">2.7</tspan></text>\n",
        "    <text x=\"181.51\" y=\"84.42\" text-anchor=\"middle\" visibility=\"hidden\" gadfly:scale=\"10.0\">10<tspan style=\"dominant-baseline:inherit\" dy=\"-0.6em\" font-size=\"83.333333%\">2.8</tspan></text>\n",
        "    <text x=\"185.09\" y=\"84.42\" text-anchor=\"middle\" visibility=\"hidden\" gadfly:scale=\"10.0\">10<tspan style=\"dominant-baseline:inherit\" dy=\"-0.6em\" font-size=\"83.333333%\">2.9</tspan></text>\n",
        "    <text x=\"188.67\" y=\"84.42\" text-anchor=\"middle\" visibility=\"hidden\" gadfly:scale=\"10.0\">10<tspan style=\"dominant-baseline:inherit\" dy=\"-0.6em\" font-size=\"83.333333%\">3.0</tspan></text>\n",
        "    <text x=\"192.24\" y=\"84.42\" text-anchor=\"middle\" visibility=\"hidden\" gadfly:scale=\"10.0\">10<tspan style=\"dominant-baseline:inherit\" dy=\"-0.6em\" font-size=\"83.333333%\">3.1</tspan></text>\n",
        "    <text x=\"195.82\" y=\"84.42\" text-anchor=\"middle\" visibility=\"hidden\" gadfly:scale=\"10.0\">10<tspan style=\"dominant-baseline:inherit\" dy=\"-0.6em\" font-size=\"83.333333%\">3.2</tspan></text>\n",
        "    <text x=\"199.39\" y=\"84.42\" text-anchor=\"middle\" visibility=\"hidden\" gadfly:scale=\"10.0\">10<tspan style=\"dominant-baseline:inherit\" dy=\"-0.6em\" font-size=\"83.333333%\">3.3</tspan></text>\n",
        "    <text x=\"202.97\" y=\"84.42\" text-anchor=\"middle\" visibility=\"hidden\" gadfly:scale=\"10.0\">10<tspan style=\"dominant-baseline:inherit\" dy=\"-0.6em\" font-size=\"83.333333%\">3.4</tspan></text>\n",
        "    <text x=\"206.54\" y=\"84.42\" text-anchor=\"middle\" visibility=\"hidden\" gadfly:scale=\"10.0\">10<tspan style=\"dominant-baseline:inherit\" dy=\"-0.6em\" font-size=\"83.333333%\">3.5</tspan></text>\n",
        "    <text x=\"-61.6\" y=\"84.42\" text-anchor=\"middle\" visibility=\"hidden\" gadfly:scale=\"0.5\">10<tspan style=\"dominant-baseline:inherit\" dy=\"-0.6em\" font-size=\"83.333333%\">-4</tspan></text>\n",
        "    <text x=\"9.91\" y=\"84.42\" text-anchor=\"middle\" visibility=\"hidden\" gadfly:scale=\"0.5\">10<tspan style=\"dominant-baseline:inherit\" dy=\"-0.6em\" font-size=\"83.333333%\">-2</tspan></text>\n",
        "    <text x=\"81.41\" y=\"84.42\" text-anchor=\"middle\" visibility=\"hidden\" gadfly:scale=\"0.5\">10<tspan style=\"dominant-baseline:inherit\" dy=\"-0.6em\" font-size=\"83.333333%\">0</tspan></text>\n",
        "    <text x=\"152.91\" y=\"84.42\" text-anchor=\"middle\" visibility=\"hidden\" gadfly:scale=\"0.5\">10<tspan style=\"dominant-baseline:inherit\" dy=\"-0.6em\" font-size=\"83.333333%\">2</tspan></text>\n",
        "    <text x=\"224.42\" y=\"84.42\" text-anchor=\"middle\" visibility=\"hidden\" gadfly:scale=\"0.5\">10<tspan style=\"dominant-baseline:inherit\" dy=\"-0.6em\" font-size=\"83.333333%\">4</tspan></text>\n",
        "    <text x=\"-61.6\" y=\"84.42\" text-anchor=\"middle\" visibility=\"hidden\" gadfly:scale=\"5.0\">10<tspan style=\"dominant-baseline:inherit\" dy=\"-0.6em\" font-size=\"83.333333%\">-4.0</tspan></text>\n",
        "    <text x=\"-54.45\" y=\"84.42\" text-anchor=\"middle\" visibility=\"hidden\" gadfly:scale=\"5.0\">10<tspan style=\"dominant-baseline:inherit\" dy=\"-0.6em\" font-size=\"83.333333%\">-3.8</tspan></text>\n",
        "    <text x=\"-47.3\" y=\"84.42\" text-anchor=\"middle\" visibility=\"hidden\" gadfly:scale=\"5.0\">10<tspan style=\"dominant-baseline:inherit\" dy=\"-0.6em\" font-size=\"83.333333%\">-3.6</tspan></text>\n",
        "    <text x=\"-40.15\" y=\"84.42\" text-anchor=\"middle\" visibility=\"hidden\" gadfly:scale=\"5.0\">10<tspan style=\"dominant-baseline:inherit\" dy=\"-0.6em\" font-size=\"83.333333%\">-3.4</tspan></text>\n",
        "    <text x=\"-33\" y=\"84.42\" text-anchor=\"middle\" visibility=\"hidden\" gadfly:scale=\"5.0\">10<tspan style=\"dominant-baseline:inherit\" dy=\"-0.6em\" font-size=\"83.333333%\">-3.2</tspan></text>\n",
        "    <text x=\"-25.85\" y=\"84.42\" text-anchor=\"middle\" visibility=\"hidden\" gadfly:scale=\"5.0\">10<tspan style=\"dominant-baseline:inherit\" dy=\"-0.6em\" font-size=\"83.333333%\">-3.0</tspan></text>\n",
        "    <text x=\"-18.7\" y=\"84.42\" text-anchor=\"middle\" visibility=\"hidden\" gadfly:scale=\"5.0\">10<tspan style=\"dominant-baseline:inherit\" dy=\"-0.6em\" font-size=\"83.333333%\">-2.8</tspan></text>\n",
        "    <text x=\"-11.55\" y=\"84.42\" text-anchor=\"middle\" visibility=\"hidden\" gadfly:scale=\"5.0\">10<tspan style=\"dominant-baseline:inherit\" dy=\"-0.6em\" font-size=\"83.333333%\">-2.6</tspan></text>\n",
        "    <text x=\"-4.4\" y=\"84.42\" text-anchor=\"middle\" visibility=\"hidden\" gadfly:scale=\"5.0\">10<tspan style=\"dominant-baseline:inherit\" dy=\"-0.6em\" font-size=\"83.333333%\">-2.4</tspan></text>\n",
        "    <text x=\"2.76\" y=\"84.42\" text-anchor=\"middle\" visibility=\"hidden\" gadfly:scale=\"5.0\">10<tspan style=\"dominant-baseline:inherit\" dy=\"-0.6em\" font-size=\"83.333333%\">-2.2</tspan></text>\n",
        "    <text x=\"9.91\" y=\"84.42\" text-anchor=\"middle\" visibility=\"hidden\" gadfly:scale=\"5.0\">10<tspan style=\"dominant-baseline:inherit\" dy=\"-0.6em\" font-size=\"83.333333%\">-2.0</tspan></text>\n",
        "    <text x=\"17.06\" y=\"84.42\" text-anchor=\"middle\" visibility=\"hidden\" gadfly:scale=\"5.0\">10<tspan style=\"dominant-baseline:inherit\" dy=\"-0.6em\" font-size=\"83.333333%\">-1.8</tspan></text>\n",
        "    <text x=\"24.21\" y=\"84.42\" text-anchor=\"middle\" visibility=\"hidden\" gadfly:scale=\"5.0\">10<tspan style=\"dominant-baseline:inherit\" dy=\"-0.6em\" font-size=\"83.333333%\">-1.6</tspan></text>\n",
        "    <text x=\"31.36\" y=\"84.42\" text-anchor=\"middle\" visibility=\"hidden\" gadfly:scale=\"5.0\">10<tspan style=\"dominant-baseline:inherit\" dy=\"-0.6em\" font-size=\"83.333333%\">-1.4</tspan></text>\n",
        "    <text x=\"38.51\" y=\"84.42\" text-anchor=\"middle\" visibility=\"hidden\" gadfly:scale=\"5.0\">10<tspan style=\"dominant-baseline:inherit\" dy=\"-0.6em\" font-size=\"83.333333%\">-1.2</tspan></text>\n",
        "    <text x=\"45.66\" y=\"84.42\" text-anchor=\"middle\" visibility=\"hidden\" gadfly:scale=\"5.0\">10<tspan style=\"dominant-baseline:inherit\" dy=\"-0.6em\" font-size=\"83.333333%\">-1.0</tspan></text>\n",
        "    <text x=\"52.81\" y=\"84.42\" text-anchor=\"middle\" visibility=\"hidden\" gadfly:scale=\"5.0\">10<tspan style=\"dominant-baseline:inherit\" dy=\"-0.6em\" font-size=\"83.333333%\">-0.8</tspan></text>\n",
        "    <text x=\"59.96\" y=\"84.42\" text-anchor=\"middle\" visibility=\"hidden\" gadfly:scale=\"5.0\">10<tspan style=\"dominant-baseline:inherit\" dy=\"-0.6em\" font-size=\"83.333333%\">-0.6</tspan></text>\n",
        "    <text x=\"67.11\" y=\"84.42\" text-anchor=\"middle\" visibility=\"hidden\" gadfly:scale=\"5.0\">10<tspan style=\"dominant-baseline:inherit\" dy=\"-0.6em\" font-size=\"83.333333%\">-0.4</tspan></text>\n",
        "    <text x=\"74.26\" y=\"84.42\" text-anchor=\"middle\" visibility=\"hidden\" gadfly:scale=\"5.0\">10<tspan style=\"dominant-baseline:inherit\" dy=\"-0.6em\" font-size=\"83.333333%\">-0.2</tspan></text>\n",
        "    <text x=\"81.41\" y=\"84.42\" text-anchor=\"middle\" visibility=\"hidden\" gadfly:scale=\"5.0\">10<tspan style=\"dominant-baseline:inherit\" dy=\"-0.6em\" font-size=\"83.333333%\">0.0</tspan></text>\n",
        "    <text x=\"88.56\" y=\"84.42\" text-anchor=\"middle\" visibility=\"hidden\" gadfly:scale=\"5.0\">10<tspan style=\"dominant-baseline:inherit\" dy=\"-0.6em\" font-size=\"83.333333%\">0.2</tspan></text>\n",
        "    <text x=\"95.71\" y=\"84.42\" text-anchor=\"middle\" visibility=\"hidden\" gadfly:scale=\"5.0\">10<tspan style=\"dominant-baseline:inherit\" dy=\"-0.6em\" font-size=\"83.333333%\">0.4</tspan></text>\n",
        "    <text x=\"102.86\" y=\"84.42\" text-anchor=\"middle\" visibility=\"hidden\" gadfly:scale=\"5.0\">10<tspan style=\"dominant-baseline:inherit\" dy=\"-0.6em\" font-size=\"83.333333%\">0.6</tspan></text>\n",
        "    <text x=\"110.01\" y=\"84.42\" text-anchor=\"middle\" visibility=\"hidden\" gadfly:scale=\"5.0\">10<tspan style=\"dominant-baseline:inherit\" dy=\"-0.6em\" font-size=\"83.333333%\">0.8</tspan></text>\n",
        "    <text x=\"117.16\" y=\"84.42\" text-anchor=\"middle\" visibility=\"hidden\" gadfly:scale=\"5.0\">10<tspan style=\"dominant-baseline:inherit\" dy=\"-0.6em\" font-size=\"83.333333%\">1.0</tspan></text>\n",
        "    <text x=\"124.31\" y=\"84.42\" text-anchor=\"middle\" visibility=\"hidden\" gadfly:scale=\"5.0\">10<tspan style=\"dominant-baseline:inherit\" dy=\"-0.6em\" font-size=\"83.333333%\">1.2</tspan></text>\n",
        "    <text x=\"131.46\" y=\"84.42\" text-anchor=\"middle\" visibility=\"hidden\" gadfly:scale=\"5.0\">10<tspan style=\"dominant-baseline:inherit\" dy=\"-0.6em\" font-size=\"83.333333%\">1.4</tspan></text>\n",
        "    <text x=\"138.61\" y=\"84.42\" text-anchor=\"middle\" visibility=\"hidden\" gadfly:scale=\"5.0\">10<tspan style=\"dominant-baseline:inherit\" dy=\"-0.6em\" font-size=\"83.333333%\">1.6</tspan></text>\n",
        "    <text x=\"145.76\" y=\"84.42\" text-anchor=\"middle\" visibility=\"hidden\" gadfly:scale=\"5.0\">10<tspan style=\"dominant-baseline:inherit\" dy=\"-0.6em\" font-size=\"83.333333%\">1.8</tspan></text>\n",
        "    <text x=\"152.91\" y=\"84.42\" text-anchor=\"middle\" visibility=\"hidden\" gadfly:scale=\"5.0\">10<tspan style=\"dominant-baseline:inherit\" dy=\"-0.6em\" font-size=\"83.333333%\">2.0</tspan></text>\n",
        "    <text x=\"160.06\" y=\"84.42\" text-anchor=\"middle\" visibility=\"hidden\" gadfly:scale=\"5.0\">10<tspan style=\"dominant-baseline:inherit\" dy=\"-0.6em\" font-size=\"83.333333%\">2.2</tspan></text>\n",
        "    <text x=\"167.21\" y=\"84.42\" text-anchor=\"middle\" visibility=\"hidden\" gadfly:scale=\"5.0\">10<tspan style=\"dominant-baseline:inherit\" dy=\"-0.6em\" font-size=\"83.333333%\">2.4</tspan></text>\n",
        "    <text x=\"174.36\" y=\"84.42\" text-anchor=\"middle\" visibility=\"hidden\" gadfly:scale=\"5.0\">10<tspan style=\"dominant-baseline:inherit\" dy=\"-0.6em\" font-size=\"83.333333%\">2.6</tspan></text>\n",
        "    <text x=\"181.51\" y=\"84.42\" text-anchor=\"middle\" visibility=\"hidden\" gadfly:scale=\"5.0\">10<tspan style=\"dominant-baseline:inherit\" dy=\"-0.6em\" font-size=\"83.333333%\">2.8</tspan></text>\n",
        "    <text x=\"188.67\" y=\"84.42\" text-anchor=\"middle\" visibility=\"hidden\" gadfly:scale=\"5.0\">10<tspan style=\"dominant-baseline:inherit\" dy=\"-0.6em\" font-size=\"83.333333%\">3.0</tspan></text>\n",
        "    <text x=\"195.82\" y=\"84.42\" text-anchor=\"middle\" visibility=\"hidden\" gadfly:scale=\"5.0\">10<tspan style=\"dominant-baseline:inherit\" dy=\"-0.6em\" font-size=\"83.333333%\">3.2</tspan></text>\n",
        "    <text x=\"202.97\" y=\"84.42\" text-anchor=\"middle\" visibility=\"hidden\" gadfly:scale=\"5.0\">10<tspan style=\"dominant-baseline:inherit\" dy=\"-0.6em\" font-size=\"83.333333%\">3.4</tspan></text>\n",
        "    <text x=\"210.12\" y=\"84.42\" text-anchor=\"middle\" visibility=\"hidden\" gadfly:scale=\"5.0\">10<tspan style=\"dominant-baseline:inherit\" dy=\"-0.6em\" font-size=\"83.333333%\">3.6</tspan></text>\n",
        "  </g>\n",
        "  <g class=\"guide colorkey\" id=\"fig-a9b2d61192a44ec2aef15def8aed44d5-element-4\">\n",
        "    <g fill=\"#FFFFFF\" font-size=\"2.82\" font-family=\"'PT Sans','Helvetica Neue','Helvetica',sans-serif\" id=\"fig-a9b2d61192a44ec2aef15def8aed44d5-element-5\">\n",
        "      <text x=\"122.97\" y=\"39.39\" dy=\"0.35em\" id=\"fig-a9b2d61192a44ec2aef15def8aed44d5-element-6\" class=\"color_Simulation\">Simulation</text>\n",
        "      <text x=\"122.97\" y=\"43.02\" dy=\"0.35em\" id=\"fig-a9b2d61192a44ec2aef15def8aed44d5-element-7\" class=\"color_MMSN\">MMSN</text>\n",
        "      <text x=\"122.97\" y=\"46.64\" dy=\"0.35em\" id=\"fig-a9b2d61192a44ec2aef15def8aed44d5-element-8\" class=\"color_10X_MMSN\">10X MMSN</text>\n",
        "    </g>\n",
        "    <g stroke=\"none\" id=\"fig-a9b2d61192a44ec2aef15def8aed44d5-element-9\">\n",
        "      <rect x=\"120.16\" y=\"38.48\" width=\"1.81\" height=\"1.81\" id=\"fig-a9b2d61192a44ec2aef15def8aed44d5-element-10\" class=\"color_Simulation\" fill=\"#00BFFF\"/>\n",
        "      <rect x=\"120.16\" y=\"42.11\" width=\"1.81\" height=\"1.81\" id=\"fig-a9b2d61192a44ec2aef15def8aed44d5-element-11\" class=\"color_MMSN\" fill=\"#D4CA3A\"/>\n",
        "      <rect x=\"120.16\" y=\"45.74\" width=\"1.81\" height=\"1.81\" id=\"fig-a9b2d61192a44ec2aef15def8aed44d5-element-12\" class=\"color_10X_MMSN\" fill=\"#FF5EA0\"/>\n",
        "    </g>\n",
        "    <g fill=\"#FFFFFF\" font-size=\"4.94\" font-family=\"'PT Sans','Helvetica Neue','Helvetica',sans-serif\" stroke=\"none\" id=\"fig-a9b2d61192a44ec2aef15def8aed44d5-element-13\">\n",
        "      <text x=\"120.16\" y=\"36.06\" id=\"fig-a9b2d61192a44ec2aef15def8aed44d5-element-14\"></text>\n",
        "    </g>\n",
        "  </g>\n",
        "  <g clip-path=\"url(#fig-a9b2d61192a44ec2aef15def8aed44d5-element-16)\" id=\"fig-a9b2d61192a44ec2aef15def8aed44d5-element-15\">\n",
        "    <g pointer-events=\"visible\" opacity=\"1\" fill=\"none\" stroke=\"#000000\" class=\"guide background\" id=\"fig-a9b2d61192a44ec2aef15def8aed44d5-element-17\">\n",
        "      <rect x=\"25.78\" y=\"5\" width=\"93.38\" height=\"72.4\" id=\"fig-a9b2d61192a44ec2aef15def8aed44d5-element-18\"/>\n",
        "    </g>\n",
        "    <g class=\"guide ygridlines xfixed\" stroke-dasharray=\"0.5,0.5\" stroke-width=\"0.2\" stroke=\"#D0D0E0\" id=\"fig-a9b2d61192a44ec2aef15def8aed44d5-element-19\">\n",
        "      <path fill=\"none\" d=\"M25.78,173.12 L 119.16 173.12\" id=\"fig-a9b2d61192a44ec2aef15def8aed44d5-element-20\" visibility=\"hidden\" gadfly:scale=\"1.0\"/>\n",
        "      <path fill=\"none\" d=\"M25.78,153.58 L 119.16 153.58\" id=\"fig-a9b2d61192a44ec2aef15def8aed44d5-element-21\" visibility=\"hidden\" gadfly:scale=\"1.0\"/>\n",
        "      <path fill=\"none\" d=\"M25.78,134.03 L 119.16 134.03\" id=\"fig-a9b2d61192a44ec2aef15def8aed44d5-element-22\" visibility=\"hidden\" gadfly:scale=\"1.0\"/>\n",
        "      <path fill=\"none\" d=\"M25.78,114.49 L 119.16 114.49\" id=\"fig-a9b2d61192a44ec2aef15def8aed44d5-element-23\" visibility=\"hidden\" gadfly:scale=\"1.0\"/>\n",
        "      <path fill=\"none\" d=\"M25.78,94.95 L 119.16 94.95\" id=\"fig-a9b2d61192a44ec2aef15def8aed44d5-element-24\" visibility=\"hidden\" gadfly:scale=\"1.0\"/>\n",
        "      <path fill=\"none\" d=\"M25.78,75.4 L 119.16 75.4\" id=\"fig-a9b2d61192a44ec2aef15def8aed44d5-element-25\" visibility=\"visible\" gadfly:scale=\"1.0\"/>\n",
        "      <path fill=\"none\" d=\"M25.78,55.86 L 119.16 55.86\" id=\"fig-a9b2d61192a44ec2aef15def8aed44d5-element-26\" visibility=\"visible\" gadfly:scale=\"1.0\"/>\n",
        "      <path fill=\"none\" d=\"M25.78,36.32 L 119.16 36.32\" id=\"fig-a9b2d61192a44ec2aef15def8aed44d5-element-27\" visibility=\"visible\" gadfly:scale=\"1.0\"/>\n",
        "      <path fill=\"none\" d=\"M25.78,16.77 L 119.16 16.77\" id=\"fig-a9b2d61192a44ec2aef15def8aed44d5-element-28\" visibility=\"visible\" gadfly:scale=\"1.0\"/>\n",
        "      <path fill=\"none\" d=\"M25.78,-2.77 L 119.16 -2.77\" id=\"fig-a9b2d61192a44ec2aef15def8aed44d5-element-29\" visibility=\"visible\" gadfly:scale=\"1.0\"/>\n",
        "      <path fill=\"none\" d=\"M25.78,-22.32 L 119.16 -22.32\" id=\"fig-a9b2d61192a44ec2aef15def8aed44d5-element-30\" visibility=\"hidden\" gadfly:scale=\"1.0\"/>\n",
        "      <path fill=\"none\" d=\"M25.78,-41.86 L 119.16 -41.86\" id=\"fig-a9b2d61192a44ec2aef15def8aed44d5-element-31\" visibility=\"hidden\" gadfly:scale=\"1.0\"/>\n",
        "      <path fill=\"none\" d=\"M25.78,-61.4 L 119.16 -61.4\" id=\"fig-a9b2d61192a44ec2aef15def8aed44d5-element-32\" visibility=\"hidden\" gadfly:scale=\"1.0\"/>\n",
        "      <path fill=\"none\" d=\"M25.78,-80.95 L 119.16 -80.95\" id=\"fig-a9b2d61192a44ec2aef15def8aed44d5-element-33\" visibility=\"hidden\" gadfly:scale=\"1.0\"/>\n",
        "      <path fill=\"none\" d=\"M25.78,-100.49 L 119.16 -100.49\" id=\"fig-a9b2d61192a44ec2aef15def8aed44d5-element-34\" visibility=\"hidden\" gadfly:scale=\"1.0\"/>\n",
        "      <path fill=\"none\" d=\"M25.78,153.58 L 119.16 153.58\" id=\"fig-a9b2d61192a44ec2aef15def8aed44d5-element-35\" visibility=\"hidden\" gadfly:scale=\"10.0\"/>\n",
        "      <path fill=\"none\" d=\"M25.78,148.69 L 119.16 148.69\" id=\"fig-a9b2d61192a44ec2aef15def8aed44d5-element-36\" visibility=\"hidden\" gadfly:scale=\"10.0\"/>\n",
        "      <path fill=\"none\" d=\"M25.78,143.81 L 119.16 143.81\" id=\"fig-a9b2d61192a44ec2aef15def8aed44d5-element-37\" visibility=\"hidden\" gadfly:scale=\"10.0\"/>\n",
        "      <path fill=\"none\" d=\"M25.78,138.92 L 119.16 138.92\" id=\"fig-a9b2d61192a44ec2aef15def8aed44d5-element-38\" visibility=\"hidden\" gadfly:scale=\"10.0\"/>\n",
        "      <path fill=\"none\" d=\"M25.78,134.03 L 119.16 134.03\" id=\"fig-a9b2d61192a44ec2aef15def8aed44d5-element-39\" visibility=\"hidden\" gadfly:scale=\"10.0\"/>\n",
        "      <path fill=\"none\" d=\"M25.78,129.15 L 119.16 129.15\" id=\"fig-a9b2d61192a44ec2aef15def8aed44d5-element-40\" visibility=\"hidden\" gadfly:scale=\"10.0\"/>\n",
        "      <path fill=\"none\" d=\"M25.78,124.26 L 119.16 124.26\" id=\"fig-a9b2d61192a44ec2aef15def8aed44d5-element-41\" visibility=\"hidden\" gadfly:scale=\"10.0\"/>\n",
        "      <path fill=\"none\" d=\"M25.78,119.38 L 119.16 119.38\" id=\"fig-a9b2d61192a44ec2aef15def8aed44d5-element-42\" visibility=\"hidden\" gadfly:scale=\"10.0\"/>\n",
        "      <path fill=\"none\" d=\"M25.78,114.49 L 119.16 114.49\" id=\"fig-a9b2d61192a44ec2aef15def8aed44d5-element-43\" visibility=\"hidden\" gadfly:scale=\"10.0\"/>\n",
        "      <path fill=\"none\" d=\"M25.78,109.61 L 119.16 109.61\" id=\"fig-a9b2d61192a44ec2aef15def8aed44d5-element-44\" visibility=\"hidden\" gadfly:scale=\"10.0\"/>\n",
        "      <path fill=\"none\" d=\"M25.78,104.72 L 119.16 104.72\" id=\"fig-a9b2d61192a44ec2aef15def8aed44d5-element-45\" visibility=\"hidden\" gadfly:scale=\"10.0\"/>\n",
        "      <path fill=\"none\" d=\"M25.78,99.83 L 119.16 99.83\" id=\"fig-a9b2d61192a44ec2aef15def8aed44d5-element-46\" visibility=\"hidden\" gadfly:scale=\"10.0\"/>\n",
        "      <path fill=\"none\" d=\"M25.78,94.95 L 119.16 94.95\" id=\"fig-a9b2d61192a44ec2aef15def8aed44d5-element-47\" visibility=\"hidden\" gadfly:scale=\"10.0\"/>\n",
        "      <path fill=\"none\" d=\"M25.78,90.06 L 119.16 90.06\" id=\"fig-a9b2d61192a44ec2aef15def8aed44d5-element-48\" visibility=\"hidden\" gadfly:scale=\"10.0\"/>\n",
        "      <path fill=\"none\" d=\"M25.78,85.18 L 119.16 85.18\" id=\"fig-a9b2d61192a44ec2aef15def8aed44d5-element-49\" visibility=\"hidden\" gadfly:scale=\"10.0\"/>\n",
        "      <path fill=\"none\" d=\"M25.78,80.29 L 119.16 80.29\" id=\"fig-a9b2d61192a44ec2aef15def8aed44d5-element-50\" visibility=\"hidden\" gadfly:scale=\"10.0\"/>\n",
        "      <path fill=\"none\" d=\"M25.78,75.4 L 119.16 75.4\" id=\"fig-a9b2d61192a44ec2aef15def8aed44d5-element-51\" visibility=\"hidden\" gadfly:scale=\"10.0\"/>\n",
        "      <path fill=\"none\" d=\"M25.78,70.52 L 119.16 70.52\" id=\"fig-a9b2d61192a44ec2aef15def8aed44d5-element-52\" visibility=\"hidden\" gadfly:scale=\"10.0\"/>\n",
        "      <path fill=\"none\" d=\"M25.78,65.63 L 119.16 65.63\" id=\"fig-a9b2d61192a44ec2aef15def8aed44d5-element-53\" visibility=\"hidden\" gadfly:scale=\"10.0\"/>\n",
        "      <path fill=\"none\" d=\"M25.78,60.75 L 119.16 60.75\" id=\"fig-a9b2d61192a44ec2aef15def8aed44d5-element-54\" visibility=\"hidden\" gadfly:scale=\"10.0\"/>\n",
        "      <path fill=\"none\" d=\"M25.78,55.86 L 119.16 55.86\" id=\"fig-a9b2d61192a44ec2aef15def8aed44d5-element-55\" visibility=\"hidden\" gadfly:scale=\"10.0\"/>\n",
        "      <path fill=\"none\" d=\"M25.78,50.97 L 119.16 50.97\" id=\"fig-a9b2d61192a44ec2aef15def8aed44d5-element-56\" visibility=\"hidden\" gadfly:scale=\"10.0\"/>\n",
        "      <path fill=\"none\" d=\"M25.78,46.09 L 119.16 46.09\" id=\"fig-a9b2d61192a44ec2aef15def8aed44d5-element-57\" visibility=\"hidden\" gadfly:scale=\"10.0\"/>\n",
        "      <path fill=\"none\" d=\"M25.78,41.2 L 119.16 41.2\" id=\"fig-a9b2d61192a44ec2aef15def8aed44d5-element-58\" visibility=\"hidden\" gadfly:scale=\"10.0\"/>\n",
        "      <path fill=\"none\" d=\"M25.78,36.32 L 119.16 36.32\" id=\"fig-a9b2d61192a44ec2aef15def8aed44d5-element-59\" visibility=\"hidden\" gadfly:scale=\"10.0\"/>\n",
        "      <path fill=\"none\" d=\"M25.78,31.43 L 119.16 31.43\" id=\"fig-a9b2d61192a44ec2aef15def8aed44d5-element-60\" visibility=\"hidden\" gadfly:scale=\"10.0\"/>\n",
        "      <path fill=\"none\" d=\"M25.78,26.54 L 119.16 26.54\" id=\"fig-a9b2d61192a44ec2aef15def8aed44d5-element-61\" visibility=\"hidden\" gadfly:scale=\"10.0\"/>\n",
        "      <path fill=\"none\" d=\"M25.78,21.66 L 119.16 21.66\" id=\"fig-a9b2d61192a44ec2aef15def8aed44d5-element-62\" visibility=\"hidden\" gadfly:scale=\"10.0\"/>\n",
        "      <path fill=\"none\" d=\"M25.78,16.77 L 119.16 16.77\" id=\"fig-a9b2d61192a44ec2aef15def8aed44d5-element-63\" visibility=\"hidden\" gadfly:scale=\"10.0\"/>\n",
        "      <path fill=\"none\" d=\"M25.78,11.89 L 119.16 11.89\" id=\"fig-a9b2d61192a44ec2aef15def8aed44d5-element-64\" visibility=\"hidden\" gadfly:scale=\"10.0\"/>\n",
        "      <path fill=\"none\" d=\"M25.78,7 L 119.16 7\" id=\"fig-a9b2d61192a44ec2aef15def8aed44d5-element-65\" visibility=\"hidden\" gadfly:scale=\"10.0\"/>\n",
        "      <path fill=\"none\" d=\"M25.78,2.11 L 119.16 2.11\" id=\"fig-a9b2d61192a44ec2aef15def8aed44d5-element-66\" visibility=\"hidden\" gadfly:scale=\"10.0\"/>\n",
        "      <path fill=\"none\" d=\"M25.78,-2.77 L 119.16 -2.77\" id=\"fig-a9b2d61192a44ec2aef15def8aed44d5-element-67\" visibility=\"hidden\" gadfly:scale=\"10.0\"/>\n",
        "      <path fill=\"none\" d=\"M25.78,-7.66 L 119.16 -7.66\" id=\"fig-a9b2d61192a44ec2aef15def8aed44d5-element-68\" visibility=\"hidden\" gadfly:scale=\"10.0\"/>\n",
        "      <path fill=\"none\" d=\"M25.78,-12.54 L 119.16 -12.54\" id=\"fig-a9b2d61192a44ec2aef15def8aed44d5-element-69\" visibility=\"hidden\" gadfly:scale=\"10.0\"/>\n",
        "      <path fill=\"none\" d=\"M25.78,-17.43 L 119.16 -17.43\" id=\"fig-a9b2d61192a44ec2aef15def8aed44d5-element-70\" visibility=\"hidden\" gadfly:scale=\"10.0\"/>\n",
        "      <path fill=\"none\" d=\"M25.78,-22.32 L 119.16 -22.32\" id=\"fig-a9b2d61192a44ec2aef15def8aed44d5-element-71\" visibility=\"hidden\" gadfly:scale=\"10.0\"/>\n",
        "      <path fill=\"none\" d=\"M25.78,-27.2 L 119.16 -27.2\" id=\"fig-a9b2d61192a44ec2aef15def8aed44d5-element-72\" visibility=\"hidden\" gadfly:scale=\"10.0\"/>\n",
        "      <path fill=\"none\" d=\"M25.78,-32.09 L 119.16 -32.09\" id=\"fig-a9b2d61192a44ec2aef15def8aed44d5-element-73\" visibility=\"hidden\" gadfly:scale=\"10.0\"/>\n",
        "      <path fill=\"none\" d=\"M25.78,-36.97 L 119.16 -36.97\" id=\"fig-a9b2d61192a44ec2aef15def8aed44d5-element-74\" visibility=\"hidden\" gadfly:scale=\"10.0\"/>\n",
        "      <path fill=\"none\" d=\"M25.78,-41.86 L 119.16 -41.86\" id=\"fig-a9b2d61192a44ec2aef15def8aed44d5-element-75\" visibility=\"hidden\" gadfly:scale=\"10.0\"/>\n",
        "      <path fill=\"none\" d=\"M25.78,-46.75 L 119.16 -46.75\" id=\"fig-a9b2d61192a44ec2aef15def8aed44d5-element-76\" visibility=\"hidden\" gadfly:scale=\"10.0\"/>\n",
        "      <path fill=\"none\" d=\"M25.78,-51.63 L 119.16 -51.63\" id=\"fig-a9b2d61192a44ec2aef15def8aed44d5-element-77\" visibility=\"hidden\" gadfly:scale=\"10.0\"/>\n",
        "      <path fill=\"none\" d=\"M25.78,-56.52 L 119.16 -56.52\" id=\"fig-a9b2d61192a44ec2aef15def8aed44d5-element-78\" visibility=\"hidden\" gadfly:scale=\"10.0\"/>\n",
        "      <path fill=\"none\" d=\"M25.78,-61.4 L 119.16 -61.4\" id=\"fig-a9b2d61192a44ec2aef15def8aed44d5-element-79\" visibility=\"hidden\" gadfly:scale=\"10.0\"/>\n",
        "      <path fill=\"none\" d=\"M25.78,-66.29 L 119.16 -66.29\" id=\"fig-a9b2d61192a44ec2aef15def8aed44d5-element-80\" visibility=\"hidden\" gadfly:scale=\"10.0\"/>\n",
        "      <path fill=\"none\" d=\"M25.78,-71.18 L 119.16 -71.18\" id=\"fig-a9b2d61192a44ec2aef15def8aed44d5-element-81\" visibility=\"hidden\" gadfly:scale=\"10.0\"/>\n",
        "      <path fill=\"none\" d=\"M25.78,-76.06 L 119.16 -76.06\" id=\"fig-a9b2d61192a44ec2aef15def8aed44d5-element-82\" visibility=\"hidden\" gadfly:scale=\"10.0\"/>\n",
        "      <path fill=\"none\" d=\"M25.78,-80.95 L 119.16 -80.95\" id=\"fig-a9b2d61192a44ec2aef15def8aed44d5-element-83\" visibility=\"hidden\" gadfly:scale=\"10.0\"/>\n",
        "      <path fill=\"none\" d=\"M25.78,153.58 L 119.16 153.58\" id=\"fig-a9b2d61192a44ec2aef15def8aed44d5-element-84\" visibility=\"hidden\" gadfly:scale=\"0.5\"/>\n",
        "      <path fill=\"none\" d=\"M25.78,55.86 L 119.16 55.86\" id=\"fig-a9b2d61192a44ec2aef15def8aed44d5-element-85\" visibility=\"hidden\" gadfly:scale=\"0.5\"/>\n",
        "      <path fill=\"none\" d=\"M25.78,-41.86 L 119.16 -41.86\" id=\"fig-a9b2d61192a44ec2aef15def8aed44d5-element-86\" visibility=\"hidden\" gadfly:scale=\"0.5\"/>\n",
        "      <path fill=\"none\" d=\"M25.78,-139.58 L 119.16 -139.58\" id=\"fig-a9b2d61192a44ec2aef15def8aed44d5-element-87\" visibility=\"hidden\" gadfly:scale=\"0.5\"/>\n",
        "      <path fill=\"none\" d=\"M25.78,153.58 L 119.16 153.58\" id=\"fig-a9b2d61192a44ec2aef15def8aed44d5-element-88\" visibility=\"hidden\" gadfly:scale=\"5.0\"/>\n",
        "      <path fill=\"none\" d=\"M25.78,148.69 L 119.16 148.69\" id=\"fig-a9b2d61192a44ec2aef15def8aed44d5-element-89\" visibility=\"hidden\" gadfly:scale=\"5.0\"/>\n",
        "      <path fill=\"none\" d=\"M25.78,143.81 L 119.16 143.81\" id=\"fig-a9b2d61192a44ec2aef15def8aed44d5-element-90\" visibility=\"hidden\" gadfly:scale=\"5.0\"/>\n",
        "      <path fill=\"none\" d=\"M25.78,138.92 L 119.16 138.92\" id=\"fig-a9b2d61192a44ec2aef15def8aed44d5-element-91\" visibility=\"hidden\" gadfly:scale=\"5.0\"/>\n",
        "      <path fill=\"none\" d=\"M25.78,134.03 L 119.16 134.03\" id=\"fig-a9b2d61192a44ec2aef15def8aed44d5-element-92\" visibility=\"hidden\" gadfly:scale=\"5.0\"/>\n",
        "      <path fill=\"none\" d=\"M25.78,129.15 L 119.16 129.15\" id=\"fig-a9b2d61192a44ec2aef15def8aed44d5-element-93\" visibility=\"hidden\" gadfly:scale=\"5.0\"/>\n",
        "      <path fill=\"none\" d=\"M25.78,124.26 L 119.16 124.26\" id=\"fig-a9b2d61192a44ec2aef15def8aed44d5-element-94\" visibility=\"hidden\" gadfly:scale=\"5.0\"/>\n",
        "      <path fill=\"none\" d=\"M25.78,119.38 L 119.16 119.38\" id=\"fig-a9b2d61192a44ec2aef15def8aed44d5-element-95\" visibility=\"hidden\" gadfly:scale=\"5.0\"/>\n",
        "      <path fill=\"none\" d=\"M25.78,114.49 L 119.16 114.49\" id=\"fig-a9b2d61192a44ec2aef15def8aed44d5-element-96\" visibility=\"hidden\" gadfly:scale=\"5.0\"/>\n",
        "      <path fill=\"none\" d=\"M25.78,109.61 L 119.16 109.61\" id=\"fig-a9b2d61192a44ec2aef15def8aed44d5-element-97\" visibility=\"hidden\" gadfly:scale=\"5.0\"/>\n",
        "      <path fill=\"none\" d=\"M25.78,104.72 L 119.16 104.72\" id=\"fig-a9b2d61192a44ec2aef15def8aed44d5-element-98\" visibility=\"hidden\" gadfly:scale=\"5.0\"/>\n",
        "      <path fill=\"none\" d=\"M25.78,99.83 L 119.16 99.83\" id=\"fig-a9b2d61192a44ec2aef15def8aed44d5-element-99\" visibility=\"hidden\" gadfly:scale=\"5.0\"/>\n",
        "      <path fill=\"none\" d=\"M25.78,94.95 L 119.16 94.95\" id=\"fig-a9b2d61192a44ec2aef15def8aed44d5-element-100\" visibility=\"hidden\" gadfly:scale=\"5.0\"/>\n",
        "      <path fill=\"none\" d=\"M25.78,90.06 L 119.16 90.06\" id=\"fig-a9b2d61192a44ec2aef15def8aed44d5-element-101\" visibility=\"hidden\" gadfly:scale=\"5.0\"/>\n",
        "      <path fill=\"none\" d=\"M25.78,85.18 L 119.16 85.18\" id=\"fig-a9b2d61192a44ec2aef15def8aed44d5-element-102\" visibility=\"hidden\" gadfly:scale=\"5.0\"/>\n",
        "      <path fill=\"none\" d=\"M25.78,80.29 L 119.16 80.29\" id=\"fig-a9b2d61192a44ec2aef15def8aed44d5-element-103\" visibility=\"hidden\" gadfly:scale=\"5.0\"/>\n",
        "      <path fill=\"none\" d=\"M25.78,75.4 L 119.16 75.4\" id=\"fig-a9b2d61192a44ec2aef15def8aed44d5-element-104\" visibility=\"hidden\" gadfly:scale=\"5.0\"/>\n",
        "      <path fill=\"none\" d=\"M25.78,70.52 L 119.16 70.52\" id=\"fig-a9b2d61192a44ec2aef15def8aed44d5-element-105\" visibility=\"hidden\" gadfly:scale=\"5.0\"/>\n",
        "      <path fill=\"none\" d=\"M25.78,65.63 L 119.16 65.63\" id=\"fig-a9b2d61192a44ec2aef15def8aed44d5-element-106\" visibility=\"hidden\" gadfly:scale=\"5.0\"/>\n",
        "      <path fill=\"none\" d=\"M25.78,60.75 L 119.16 60.75\" id=\"fig-a9b2d61192a44ec2aef15def8aed44d5-element-107\" visibility=\"hidden\" gadfly:scale=\"5.0\"/>\n",
        "      <path fill=\"none\" d=\"M25.78,55.86 L 119.16 55.86\" id=\"fig-a9b2d61192a44ec2aef15def8aed44d5-element-108\" visibility=\"hidden\" gadfly:scale=\"5.0\"/>\n",
        "      <path fill=\"none\" d=\"M25.78,50.97 L 119.16 50.97\" id=\"fig-a9b2d61192a44ec2aef15def8aed44d5-element-109\" visibility=\"hidden\" gadfly:scale=\"5.0\"/>\n",
        "      <path fill=\"none\" d=\"M25.78,46.09 L 119.16 46.09\" id=\"fig-a9b2d61192a44ec2aef15def8aed44d5-element-110\" visibility=\"hidden\" gadfly:scale=\"5.0\"/>\n",
        "      <path fill=\"none\" d=\"M25.78,41.2 L 119.16 41.2\" id=\"fig-a9b2d61192a44ec2aef15def8aed44d5-element-111\" visibility=\"hidden\" gadfly:scale=\"5.0\"/>\n",
        "      <path fill=\"none\" d=\"M25.78,36.32 L 119.16 36.32\" id=\"fig-a9b2d61192a44ec2aef15def8aed44d5-element-112\" visibility=\"hidden\" gadfly:scale=\"5.0\"/>\n",
        "      <path fill=\"none\" d=\"M25.78,31.43 L 119.16 31.43\" id=\"fig-a9b2d61192a44ec2aef15def8aed44d5-element-113\" visibility=\"hidden\" gadfly:scale=\"5.0\"/>\n",
        "      <path fill=\"none\" d=\"M25.78,26.54 L 119.16 26.54\" id=\"fig-a9b2d61192a44ec2aef15def8aed44d5-element-114\" visibility=\"hidden\" gadfly:scale=\"5.0\"/>\n",
        "      <path fill=\"none\" d=\"M25.78,21.66 L 119.16 21.66\" id=\"fig-a9b2d61192a44ec2aef15def8aed44d5-element-115\" visibility=\"hidden\" gadfly:scale=\"5.0\"/>\n",
        "      <path fill=\"none\" d=\"M25.78,16.77 L 119.16 16.77\" id=\"fig-a9b2d61192a44ec2aef15def8aed44d5-element-116\" visibility=\"hidden\" gadfly:scale=\"5.0\"/>\n",
        "      <path fill=\"none\" d=\"M25.78,11.89 L 119.16 11.89\" id=\"fig-a9b2d61192a44ec2aef15def8aed44d5-element-117\" visibility=\"hidden\" gadfly:scale=\"5.0\"/>\n",
        "      <path fill=\"none\" d=\"M25.78,7 L 119.16 7\" id=\"fig-a9b2d61192a44ec2aef15def8aed44d5-element-118\" visibility=\"hidden\" gadfly:scale=\"5.0\"/>\n",
        "      <path fill=\"none\" d=\"M25.78,2.11 L 119.16 2.11\" id=\"fig-a9b2d61192a44ec2aef15def8aed44d5-element-119\" visibility=\"hidden\" gadfly:scale=\"5.0\"/>\n",
        "      <path fill=\"none\" d=\"M25.78,-2.77 L 119.16 -2.77\" id=\"fig-a9b2d61192a44ec2aef15def8aed44d5-element-120\" visibility=\"hidden\" gadfly:scale=\"5.0\"/>\n",
        "      <path fill=\"none\" d=\"M25.78,-7.66 L 119.16 -7.66\" id=\"fig-a9b2d61192a44ec2aef15def8aed44d5-element-121\" visibility=\"hidden\" gadfly:scale=\"5.0\"/>\n",
        "      <path fill=\"none\" d=\"M25.78,-12.54 L 119.16 -12.54\" id=\"fig-a9b2d61192a44ec2aef15def8aed44d5-element-122\" visibility=\"hidden\" gadfly:scale=\"5.0\"/>\n",
        "      <path fill=\"none\" d=\"M25.78,-17.43 L 119.16 -17.43\" id=\"fig-a9b2d61192a44ec2aef15def8aed44d5-element-123\" visibility=\"hidden\" gadfly:scale=\"5.0\"/>\n",
        "      <path fill=\"none\" d=\"M25.78,-22.32 L 119.16 -22.32\" id=\"fig-a9b2d61192a44ec2aef15def8aed44d5-element-124\" visibility=\"hidden\" gadfly:scale=\"5.0\"/>\n",
        "      <path fill=\"none\" d=\"M25.78,-27.2 L 119.16 -27.2\" id=\"fig-a9b2d61192a44ec2aef15def8aed44d5-element-125\" visibility=\"hidden\" gadfly:scale=\"5.0\"/>\n",
        "      <path fill=\"none\" d=\"M25.78,-32.09 L 119.16 -32.09\" id=\"fig-a9b2d61192a44ec2aef15def8aed44d5-element-126\" visibility=\"hidden\" gadfly:scale=\"5.0\"/>\n",
        "      <path fill=\"none\" d=\"M25.78,-36.97 L 119.16 -36.97\" id=\"fig-a9b2d61192a44ec2aef15def8aed44d5-element-127\" visibility=\"hidden\" gadfly:scale=\"5.0\"/>\n",
        "      <path fill=\"none\" d=\"M25.78,-41.86 L 119.16 -41.86\" id=\"fig-a9b2d61192a44ec2aef15def8aed44d5-element-128\" visibility=\"hidden\" gadfly:scale=\"5.0\"/>\n",
        "      <path fill=\"none\" d=\"M25.78,-46.75 L 119.16 -46.75\" id=\"fig-a9b2d61192a44ec2aef15def8aed44d5-element-129\" visibility=\"hidden\" gadfly:scale=\"5.0\"/>\n",
        "      <path fill=\"none\" d=\"M25.78,-51.63 L 119.16 -51.63\" id=\"fig-a9b2d61192a44ec2aef15def8aed44d5-element-130\" visibility=\"hidden\" gadfly:scale=\"5.0\"/>\n",
        "      <path fill=\"none\" d=\"M25.78,-56.52 L 119.16 -56.52\" id=\"fig-a9b2d61192a44ec2aef15def8aed44d5-element-131\" visibility=\"hidden\" gadfly:scale=\"5.0\"/>\n",
        "      <path fill=\"none\" d=\"M25.78,-61.4 L 119.16 -61.4\" id=\"fig-a9b2d61192a44ec2aef15def8aed44d5-element-132\" visibility=\"hidden\" gadfly:scale=\"5.0\"/>\n",
        "      <path fill=\"none\" d=\"M25.78,-66.29 L 119.16 -66.29\" id=\"fig-a9b2d61192a44ec2aef15def8aed44d5-element-133\" visibility=\"hidden\" gadfly:scale=\"5.0\"/>\n",
        "      <path fill=\"none\" d=\"M25.78,-71.18 L 119.16 -71.18\" id=\"fig-a9b2d61192a44ec2aef15def8aed44d5-element-134\" visibility=\"hidden\" gadfly:scale=\"5.0\"/>\n",
        "      <path fill=\"none\" d=\"M25.78,-76.06 L 119.16 -76.06\" id=\"fig-a9b2d61192a44ec2aef15def8aed44d5-element-135\" visibility=\"hidden\" gadfly:scale=\"5.0\"/>\n",
        "      <path fill=\"none\" d=\"M25.78,-80.95 L 119.16 -80.95\" id=\"fig-a9b2d61192a44ec2aef15def8aed44d5-element-136\" visibility=\"hidden\" gadfly:scale=\"5.0\"/>\n",
        "    </g>\n",
        "    <g class=\"guide xgridlines yfixed\" stroke-dasharray=\"0.5,0.5\" stroke-width=\"0.2\" stroke=\"#D0D0E0\" id=\"fig-a9b2d61192a44ec2aef15def8aed44d5-element-137\">\n",
        "      <path fill=\"none\" d=\"M-79.47,5 L -79.47 77.4\" id=\"fig-a9b2d61192a44ec2aef15def8aed44d5-element-138\" visibility=\"hidden\" gadfly:scale=\"1.0\"/>\n",
        "      <path fill=\"none\" d=\"M-61.6,5 L -61.6 77.4\" id=\"fig-a9b2d61192a44ec2aef15def8aed44d5-element-139\" visibility=\"hidden\" gadfly:scale=\"1.0\"/>\n",
        "      <path fill=\"none\" d=\"M-43.72,5 L -43.72 77.4\" id=\"fig-a9b2d61192a44ec2aef15def8aed44d5-element-140\" visibility=\"hidden\" gadfly:scale=\"1.0\"/>\n",
        "      <path fill=\"none\" d=\"M-25.85,5 L -25.85 77.4\" id=\"fig-a9b2d61192a44ec2aef15def8aed44d5-element-141\" visibility=\"hidden\" gadfly:scale=\"1.0\"/>\n",
        "      <path fill=\"none\" d=\"M-7.97,5 L -7.97 77.4\" id=\"fig-a9b2d61192a44ec2aef15def8aed44d5-element-142\" visibility=\"hidden\" gadfly:scale=\"1.0\"/>\n",
        "      <path fill=\"none\" d=\"M9.91,5 L 9.91 77.4\" id=\"fig-a9b2d61192a44ec2aef15def8aed44d5-element-143\" visibility=\"hidden\" gadfly:scale=\"1.0\"/>\n",
        "      <path fill=\"none\" d=\"M27.78,5 L 27.78 77.4\" id=\"fig-a9b2d61192a44ec2aef15def8aed44d5-element-144\" visibility=\"visible\" gadfly:scale=\"1.0\"/>\n",
        "      <path fill=\"none\" d=\"M45.66,5 L 45.66 77.4\" id=\"fig-a9b2d61192a44ec2aef15def8aed44d5-element-145\" visibility=\"visible\" gadfly:scale=\"1.0\"/>\n",
        "      <path fill=\"none\" d=\"M63.53,5 L 63.53 77.4\" id=\"fig-a9b2d61192a44ec2aef15def8aed44d5-element-146\" visibility=\"visible\" gadfly:scale=\"1.0\"/>\n",
        "      <path fill=\"none\" d=\"M81.41,5 L 81.41 77.4\" id=\"fig-a9b2d61192a44ec2aef15def8aed44d5-element-147\" visibility=\"visible\" gadfly:scale=\"1.0\"/>\n",
        "      <path fill=\"none\" d=\"M99.29,5 L 99.29 77.4\" id=\"fig-a9b2d61192a44ec2aef15def8aed44d5-element-148\" visibility=\"visible\" gadfly:scale=\"1.0\"/>\n",
        "      <path fill=\"none\" d=\"M117.16,5 L 117.16 77.4\" id=\"fig-a9b2d61192a44ec2aef15def8aed44d5-element-149\" visibility=\"visible\" gadfly:scale=\"1.0\"/>\n",
        "      <path fill=\"none\" d=\"M135.04,5 L 135.04 77.4\" id=\"fig-a9b2d61192a44ec2aef15def8aed44d5-element-150\" visibility=\"hidden\" gadfly:scale=\"1.0\"/>\n",
        "      <path fill=\"none\" d=\"M152.91,5 L 152.91 77.4\" id=\"fig-a9b2d61192a44ec2aef15def8aed44d5-element-151\" visibility=\"hidden\" gadfly:scale=\"1.0\"/>\n",
        "      <path fill=\"none\" d=\"M170.79,5 L 170.79 77.4\" id=\"fig-a9b2d61192a44ec2aef15def8aed44d5-element-152\" visibility=\"hidden\" gadfly:scale=\"1.0\"/>\n",
        "      <path fill=\"none\" d=\"M188.67,5 L 188.67 77.4\" id=\"fig-a9b2d61192a44ec2aef15def8aed44d5-element-153\" visibility=\"hidden\" gadfly:scale=\"1.0\"/>\n",
        "      <path fill=\"none\" d=\"M206.54,5 L 206.54 77.4\" id=\"fig-a9b2d61192a44ec2aef15def8aed44d5-element-154\" visibility=\"hidden\" gadfly:scale=\"1.0\"/>\n",
        "      <path fill=\"none\" d=\"M224.42,5 L 224.42 77.4\" id=\"fig-a9b2d61192a44ec2aef15def8aed44d5-element-155\" visibility=\"hidden\" gadfly:scale=\"1.0\"/>\n",
        "      <path fill=\"none\" d=\"M-61.6,5 L -61.6 77.4\" id=\"fig-a9b2d61192a44ec2aef15def8aed44d5-element-156\" visibility=\"hidden\" gadfly:scale=\"10.0\"/>\n",
        "      <path fill=\"none\" d=\"M-58.02,5 L -58.02 77.4\" id=\"fig-a9b2d61192a44ec2aef15def8aed44d5-element-157\" visibility=\"hidden\" gadfly:scale=\"10.0\"/>\n",
        "      <path fill=\"none\" d=\"M-54.45,5 L -54.45 77.4\" id=\"fig-a9b2d61192a44ec2aef15def8aed44d5-element-158\" visibility=\"hidden\" gadfly:scale=\"10.0\"/>\n",
        "      <path fill=\"none\" d=\"M-50.87,5 L -50.87 77.4\" id=\"fig-a9b2d61192a44ec2aef15def8aed44d5-element-159\" visibility=\"hidden\" gadfly:scale=\"10.0\"/>\n",
        "      <path fill=\"none\" d=\"M-47.3,5 L -47.3 77.4\" id=\"fig-a9b2d61192a44ec2aef15def8aed44d5-element-160\" visibility=\"hidden\" gadfly:scale=\"10.0\"/>\n",
        "      <path fill=\"none\" d=\"M-43.72,5 L -43.72 77.4\" id=\"fig-a9b2d61192a44ec2aef15def8aed44d5-element-161\" visibility=\"hidden\" gadfly:scale=\"10.0\"/>\n",
        "      <path fill=\"none\" d=\"M-40.15,5 L -40.15 77.4\" id=\"fig-a9b2d61192a44ec2aef15def8aed44d5-element-162\" visibility=\"hidden\" gadfly:scale=\"10.0\"/>\n",
        "      <path fill=\"none\" d=\"M-36.57,5 L -36.57 77.4\" id=\"fig-a9b2d61192a44ec2aef15def8aed44d5-element-163\" visibility=\"hidden\" gadfly:scale=\"10.0\"/>\n",
        "      <path fill=\"none\" d=\"M-33,5 L -33 77.4\" id=\"fig-a9b2d61192a44ec2aef15def8aed44d5-element-164\" visibility=\"hidden\" gadfly:scale=\"10.0\"/>\n",
        "      <path fill=\"none\" d=\"M-29.42,5 L -29.42 77.4\" id=\"fig-a9b2d61192a44ec2aef15def8aed44d5-element-165\" visibility=\"hidden\" gadfly:scale=\"10.0\"/>\n",
        "      <path fill=\"none\" d=\"M-25.85,5 L -25.85 77.4\" id=\"fig-a9b2d61192a44ec2aef15def8aed44d5-element-166\" visibility=\"hidden\" gadfly:scale=\"10.0\"/>\n",
        "      <path fill=\"none\" d=\"M-22.27,5 L -22.27 77.4\" id=\"fig-a9b2d61192a44ec2aef15def8aed44d5-element-167\" visibility=\"hidden\" gadfly:scale=\"10.0\"/>\n",
        "      <path fill=\"none\" d=\"M-18.7,5 L -18.7 77.4\" id=\"fig-a9b2d61192a44ec2aef15def8aed44d5-element-168\" visibility=\"hidden\" gadfly:scale=\"10.0\"/>\n",
        "      <path fill=\"none\" d=\"M-15.12,5 L -15.12 77.4\" id=\"fig-a9b2d61192a44ec2aef15def8aed44d5-element-169\" visibility=\"hidden\" gadfly:scale=\"10.0\"/>\n",
        "      <path fill=\"none\" d=\"M-11.55,5 L -11.55 77.4\" id=\"fig-a9b2d61192a44ec2aef15def8aed44d5-element-170\" visibility=\"hidden\" gadfly:scale=\"10.0\"/>\n",
        "      <path fill=\"none\" d=\"M-7.97,5 L -7.97 77.4\" id=\"fig-a9b2d61192a44ec2aef15def8aed44d5-element-171\" visibility=\"hidden\" gadfly:scale=\"10.0\"/>\n",
        "      <path fill=\"none\" d=\"M-4.4,5 L -4.4 77.4\" id=\"fig-a9b2d61192a44ec2aef15def8aed44d5-element-172\" visibility=\"hidden\" gadfly:scale=\"10.0\"/>\n",
        "      <path fill=\"none\" d=\"M-0.82,5 L -0.82 77.4\" id=\"fig-a9b2d61192a44ec2aef15def8aed44d5-element-173\" visibility=\"hidden\" gadfly:scale=\"10.0\"/>\n",
        "      <path fill=\"none\" d=\"M2.76,5 L 2.76 77.4\" id=\"fig-a9b2d61192a44ec2aef15def8aed44d5-element-174\" visibility=\"hidden\" gadfly:scale=\"10.0\"/>\n",
        "      <path fill=\"none\" d=\"M6.33,5 L 6.33 77.4\" id=\"fig-a9b2d61192a44ec2aef15def8aed44d5-element-175\" visibility=\"hidden\" gadfly:scale=\"10.0\"/>\n",
        "      <path fill=\"none\" d=\"M9.91,5 L 9.91 77.4\" id=\"fig-a9b2d61192a44ec2aef15def8aed44d5-element-176\" visibility=\"hidden\" gadfly:scale=\"10.0\"/>\n",
        "      <path fill=\"none\" d=\"M13.48,5 L 13.48 77.4\" id=\"fig-a9b2d61192a44ec2aef15def8aed44d5-element-177\" visibility=\"hidden\" gadfly:scale=\"10.0\"/>\n",
        "      <path fill=\"none\" d=\"M17.06,5 L 17.06 77.4\" id=\"fig-a9b2d61192a44ec2aef15def8aed44d5-element-178\" visibility=\"hidden\" gadfly:scale=\"10.0\"/>\n",
        "      <path fill=\"none\" d=\"M20.63,5 L 20.63 77.4\" id=\"fig-a9b2d61192a44ec2aef15def8aed44d5-element-179\" visibility=\"hidden\" gadfly:scale=\"10.0\"/>\n",
        "      <path fill=\"none\" d=\"M24.21,5 L 24.21 77.4\" id=\"fig-a9b2d61192a44ec2aef15def8aed44d5-element-180\" visibility=\"hidden\" gadfly:scale=\"10.0\"/>\n",
        "      <path fill=\"none\" d=\"M27.78,5 L 27.78 77.4\" id=\"fig-a9b2d61192a44ec2aef15def8aed44d5-element-181\" visibility=\"hidden\" gadfly:scale=\"10.0\"/>\n",
        "      <path fill=\"none\" d=\"M31.36,5 L 31.36 77.4\" id=\"fig-a9b2d61192a44ec2aef15def8aed44d5-element-182\" visibility=\"hidden\" gadfly:scale=\"10.0\"/>\n",
        "      <path fill=\"none\" d=\"M34.93,5 L 34.93 77.4\" id=\"fig-a9b2d61192a44ec2aef15def8aed44d5-element-183\" visibility=\"hidden\" gadfly:scale=\"10.0\"/>\n",
        "      <path fill=\"none\" d=\"M38.51,5 L 38.51 77.4\" id=\"fig-a9b2d61192a44ec2aef15def8aed44d5-element-184\" visibility=\"hidden\" gadfly:scale=\"10.0\"/>\n",
        "      <path fill=\"none\" d=\"M42.08,5 L 42.08 77.4\" id=\"fig-a9b2d61192a44ec2aef15def8aed44d5-element-185\" visibility=\"hidden\" gadfly:scale=\"10.0\"/>\n",
        "      <path fill=\"none\" d=\"M45.66,5 L 45.66 77.4\" id=\"fig-a9b2d61192a44ec2aef15def8aed44d5-element-186\" visibility=\"hidden\" gadfly:scale=\"10.0\"/>\n",
        "      <path fill=\"none\" d=\"M49.23,5 L 49.23 77.4\" id=\"fig-a9b2d61192a44ec2aef15def8aed44d5-element-187\" visibility=\"hidden\" gadfly:scale=\"10.0\"/>\n",
        "      <path fill=\"none\" d=\"M52.81,5 L 52.81 77.4\" id=\"fig-a9b2d61192a44ec2aef15def8aed44d5-element-188\" visibility=\"hidden\" gadfly:scale=\"10.0\"/>\n",
        "      <path fill=\"none\" d=\"M56.38,5 L 56.38 77.4\" id=\"fig-a9b2d61192a44ec2aef15def8aed44d5-element-189\" visibility=\"hidden\" gadfly:scale=\"10.0\"/>\n",
        "      <path fill=\"none\" d=\"M59.96,5 L 59.96 77.4\" id=\"fig-a9b2d61192a44ec2aef15def8aed44d5-element-190\" visibility=\"hidden\" gadfly:scale=\"10.0\"/>\n",
        "      <path fill=\"none\" d=\"M63.53,5 L 63.53 77.4\" id=\"fig-a9b2d61192a44ec2aef15def8aed44d5-element-191\" visibility=\"hidden\" gadfly:scale=\"10.0\"/>\n",
        "      <path fill=\"none\" d=\"M67.11,5 L 67.11 77.4\" id=\"fig-a9b2d61192a44ec2aef15def8aed44d5-element-192\" visibility=\"hidden\" gadfly:scale=\"10.0\"/>\n",
        "      <path fill=\"none\" d=\"M70.68,5 L 70.68 77.4\" id=\"fig-a9b2d61192a44ec2aef15def8aed44d5-element-193\" visibility=\"hidden\" gadfly:scale=\"10.0\"/>\n",
        "      <path fill=\"none\" d=\"M74.26,5 L 74.26 77.4\" id=\"fig-a9b2d61192a44ec2aef15def8aed44d5-element-194\" visibility=\"hidden\" gadfly:scale=\"10.0\"/>\n",
        "      <path fill=\"none\" d=\"M77.83,5 L 77.83 77.4\" id=\"fig-a9b2d61192a44ec2aef15def8aed44d5-element-195\" visibility=\"hidden\" gadfly:scale=\"10.0\"/>\n",
        "      <path fill=\"none\" d=\"M81.41,5 L 81.41 77.4\" id=\"fig-a9b2d61192a44ec2aef15def8aed44d5-element-196\" visibility=\"hidden\" gadfly:scale=\"10.0\"/>\n",
        "      <path fill=\"none\" d=\"M84.98,5 L 84.98 77.4\" id=\"fig-a9b2d61192a44ec2aef15def8aed44d5-element-197\" visibility=\"hidden\" gadfly:scale=\"10.0\"/>\n",
        "      <path fill=\"none\" d=\"M88.56,5 L 88.56 77.4\" id=\"fig-a9b2d61192a44ec2aef15def8aed44d5-element-198\" visibility=\"hidden\" gadfly:scale=\"10.0\"/>\n",
        "      <path fill=\"none\" d=\"M92.14,5 L 92.14 77.4\" id=\"fig-a9b2d61192a44ec2aef15def8aed44d5-element-199\" visibility=\"hidden\" gadfly:scale=\"10.0\"/>\n",
        "      <path fill=\"none\" d=\"M95.71,5 L 95.71 77.4\" id=\"fig-a9b2d61192a44ec2aef15def8aed44d5-element-200\" visibility=\"hidden\" gadfly:scale=\"10.0\"/>\n",
        "      <path fill=\"none\" d=\"M99.29,5 L 99.29 77.4\" id=\"fig-a9b2d61192a44ec2aef15def8aed44d5-element-201\" visibility=\"hidden\" gadfly:scale=\"10.0\"/>\n",
        "      <path fill=\"none\" d=\"M102.86,5 L 102.86 77.4\" id=\"fig-a9b2d61192a44ec2aef15def8aed44d5-element-202\" visibility=\"hidden\" gadfly:scale=\"10.0\"/>\n",
        "      <path fill=\"none\" d=\"M106.44,5 L 106.44 77.4\" id=\"fig-a9b2d61192a44ec2aef15def8aed44d5-element-203\" visibility=\"hidden\" gadfly:scale=\"10.0\"/>\n",
        "      <path fill=\"none\" d=\"M110.01,5 L 110.01 77.4\" id=\"fig-a9b2d61192a44ec2aef15def8aed44d5-element-204\" visibility=\"hidden\" gadfly:scale=\"10.0\"/>\n",
        "      <path fill=\"none\" d=\"M113.59,5 L 113.59 77.4\" id=\"fig-a9b2d61192a44ec2aef15def8aed44d5-element-205\" visibility=\"hidden\" gadfly:scale=\"10.0\"/>\n",
        "      <path fill=\"none\" d=\"M117.16,5 L 117.16 77.4\" id=\"fig-a9b2d61192a44ec2aef15def8aed44d5-element-206\" visibility=\"hidden\" gadfly:scale=\"10.0\"/>\n",
        "      <path fill=\"none\" d=\"M120.74,5 L 120.74 77.4\" id=\"fig-a9b2d61192a44ec2aef15def8aed44d5-element-207\" visibility=\"hidden\" gadfly:scale=\"10.0\"/>\n",
        "      <path fill=\"none\" d=\"M124.31,5 L 124.31 77.4\" id=\"fig-a9b2d61192a44ec2aef15def8aed44d5-element-208\" visibility=\"hidden\" gadfly:scale=\"10.0\"/>\n",
        "      <path fill=\"none\" d=\"M127.89,5 L 127.89 77.4\" id=\"fig-a9b2d61192a44ec2aef15def8aed44d5-element-209\" visibility=\"hidden\" gadfly:scale=\"10.0\"/>\n",
        "      <path fill=\"none\" d=\"M131.46,5 L 131.46 77.4\" id=\"fig-a9b2d61192a44ec2aef15def8aed44d5-element-210\" visibility=\"hidden\" gadfly:scale=\"10.0\"/>\n",
        "      <path fill=\"none\" d=\"M135.04,5 L 135.04 77.4\" id=\"fig-a9b2d61192a44ec2aef15def8aed44d5-element-211\" visibility=\"hidden\" gadfly:scale=\"10.0\"/>\n",
        "      <path fill=\"none\" d=\"M138.61,5 L 138.61 77.4\" id=\"fig-a9b2d61192a44ec2aef15def8aed44d5-element-212\" visibility=\"hidden\" gadfly:scale=\"10.0\"/>\n",
        "      <path fill=\"none\" d=\"M142.19,5 L 142.19 77.4\" id=\"fig-a9b2d61192a44ec2aef15def8aed44d5-element-213\" visibility=\"hidden\" gadfly:scale=\"10.0\"/>\n",
        "      <path fill=\"none\" d=\"M145.76,5 L 145.76 77.4\" id=\"fig-a9b2d61192a44ec2aef15def8aed44d5-element-214\" visibility=\"hidden\" gadfly:scale=\"10.0\"/>\n",
        "      <path fill=\"none\" d=\"M149.34,5 L 149.34 77.4\" id=\"fig-a9b2d61192a44ec2aef15def8aed44d5-element-215\" visibility=\"hidden\" gadfly:scale=\"10.0\"/>\n",
        "      <path fill=\"none\" d=\"M152.91,5 L 152.91 77.4\" id=\"fig-a9b2d61192a44ec2aef15def8aed44d5-element-216\" visibility=\"hidden\" gadfly:scale=\"10.0\"/>\n",
        "      <path fill=\"none\" d=\"M156.49,5 L 156.49 77.4\" id=\"fig-a9b2d61192a44ec2aef15def8aed44d5-element-217\" visibility=\"hidden\" gadfly:scale=\"10.0\"/>\n",
        "      <path fill=\"none\" d=\"M160.06,5 L 160.06 77.4\" id=\"fig-a9b2d61192a44ec2aef15def8aed44d5-element-218\" visibility=\"hidden\" gadfly:scale=\"10.0\"/>\n",
        "      <path fill=\"none\" d=\"M163.64,5 L 163.64 77.4\" id=\"fig-a9b2d61192a44ec2aef15def8aed44d5-element-219\" visibility=\"hidden\" gadfly:scale=\"10.0\"/>\n",
        "      <path fill=\"none\" d=\"M167.21,5 L 167.21 77.4\" id=\"fig-a9b2d61192a44ec2aef15def8aed44d5-element-220\" visibility=\"hidden\" gadfly:scale=\"10.0\"/>\n",
        "      <path fill=\"none\" d=\"M170.79,5 L 170.79 77.4\" id=\"fig-a9b2d61192a44ec2aef15def8aed44d5-element-221\" visibility=\"hidden\" gadfly:scale=\"10.0\"/>\n",
        "      <path fill=\"none\" d=\"M174.36,5 L 174.36 77.4\" id=\"fig-a9b2d61192a44ec2aef15def8aed44d5-element-222\" visibility=\"hidden\" gadfly:scale=\"10.0\"/>\n",
        "      <path fill=\"none\" d=\"M177.94,5 L 177.94 77.4\" id=\"fig-a9b2d61192a44ec2aef15def8aed44d5-element-223\" visibility=\"hidden\" gadfly:scale=\"10.0\"/>\n",
        "      <path fill=\"none\" d=\"M181.51,5 L 181.51 77.4\" id=\"fig-a9b2d61192a44ec2aef15def8aed44d5-element-224\" visibility=\"hidden\" gadfly:scale=\"10.0\"/>\n",
        "      <path fill=\"none\" d=\"M185.09,5 L 185.09 77.4\" id=\"fig-a9b2d61192a44ec2aef15def8aed44d5-element-225\" visibility=\"hidden\" gadfly:scale=\"10.0\"/>\n",
        "      <path fill=\"none\" d=\"M188.67,5 L 188.67 77.4\" id=\"fig-a9b2d61192a44ec2aef15def8aed44d5-element-226\" visibility=\"hidden\" gadfly:scale=\"10.0\"/>\n",
        "      <path fill=\"none\" d=\"M192.24,5 L 192.24 77.4\" id=\"fig-a9b2d61192a44ec2aef15def8aed44d5-element-227\" visibility=\"hidden\" gadfly:scale=\"10.0\"/>\n",
        "      <path fill=\"none\" d=\"M195.82,5 L 195.82 77.4\" id=\"fig-a9b2d61192a44ec2aef15def8aed44d5-element-228\" visibility=\"hidden\" gadfly:scale=\"10.0\"/>\n",
        "      <path fill=\"none\" d=\"M199.39,5 L 199.39 77.4\" id=\"fig-a9b2d61192a44ec2aef15def8aed44d5-element-229\" visibility=\"hidden\" gadfly:scale=\"10.0\"/>\n",
        "      <path fill=\"none\" d=\"M202.97,5 L 202.97 77.4\" id=\"fig-a9b2d61192a44ec2aef15def8aed44d5-element-230\" visibility=\"hidden\" gadfly:scale=\"10.0\"/>\n",
        "      <path fill=\"none\" d=\"M206.54,5 L 206.54 77.4\" id=\"fig-a9b2d61192a44ec2aef15def8aed44d5-element-231\" visibility=\"hidden\" gadfly:scale=\"10.0\"/>\n",
        "      <path fill=\"none\" d=\"M-61.6,5 L -61.6 77.4\" id=\"fig-a9b2d61192a44ec2aef15def8aed44d5-element-232\" visibility=\"hidden\" gadfly:scale=\"0.5\"/>\n",
        "      <path fill=\"none\" d=\"M9.91,5 L 9.91 77.4\" id=\"fig-a9b2d61192a44ec2aef15def8aed44d5-element-233\" visibility=\"hidden\" gadfly:scale=\"0.5\"/>\n",
        "      <path fill=\"none\" d=\"M81.41,5 L 81.41 77.4\" id=\"fig-a9b2d61192a44ec2aef15def8aed44d5-element-234\" visibility=\"hidden\" gadfly:scale=\"0.5\"/>\n",
        "      <path fill=\"none\" d=\"M152.91,5 L 152.91 77.4\" id=\"fig-a9b2d61192a44ec2aef15def8aed44d5-element-235\" visibility=\"hidden\" gadfly:scale=\"0.5\"/>\n",
        "      <path fill=\"none\" d=\"M224.42,5 L 224.42 77.4\" id=\"fig-a9b2d61192a44ec2aef15def8aed44d5-element-236\" visibility=\"hidden\" gadfly:scale=\"0.5\"/>\n",
        "      <path fill=\"none\" d=\"M-61.6,5 L -61.6 77.4\" id=\"fig-a9b2d61192a44ec2aef15def8aed44d5-element-237\" visibility=\"hidden\" gadfly:scale=\"5.0\"/>\n",
        "      <path fill=\"none\" d=\"M-54.45,5 L -54.45 77.4\" id=\"fig-a9b2d61192a44ec2aef15def8aed44d5-element-238\" visibility=\"hidden\" gadfly:scale=\"5.0\"/>\n",
        "      <path fill=\"none\" d=\"M-47.3,5 L -47.3 77.4\" id=\"fig-a9b2d61192a44ec2aef15def8aed44d5-element-239\" visibility=\"hidden\" gadfly:scale=\"5.0\"/>\n",
        "      <path fill=\"none\" d=\"M-40.15,5 L -40.15 77.4\" id=\"fig-a9b2d61192a44ec2aef15def8aed44d5-element-240\" visibility=\"hidden\" gadfly:scale=\"5.0\"/>\n",
        "      <path fill=\"none\" d=\"M-33,5 L -33 77.4\" id=\"fig-a9b2d61192a44ec2aef15def8aed44d5-element-241\" visibility=\"hidden\" gadfly:scale=\"5.0\"/>\n",
        "      <path fill=\"none\" d=\"M-25.85,5 L -25.85 77.4\" id=\"fig-a9b2d61192a44ec2aef15def8aed44d5-element-242\" visibility=\"hidden\" gadfly:scale=\"5.0\"/>\n",
        "      <path fill=\"none\" d=\"M-18.7,5 L -18.7 77.4\" id=\"fig-a9b2d61192a44ec2aef15def8aed44d5-element-243\" visibility=\"hidden\" gadfly:scale=\"5.0\"/>\n",
        "      <path fill=\"none\" d=\"M-11.55,5 L -11.55 77.4\" id=\"fig-a9b2d61192a44ec2aef15def8aed44d5-element-244\" visibility=\"hidden\" gadfly:scale=\"5.0\"/>\n",
        "      <path fill=\"none\" d=\"M-4.4,5 L -4.4 77.4\" id=\"fig-a9b2d61192a44ec2aef15def8aed44d5-element-245\" visibility=\"hidden\" gadfly:scale=\"5.0\"/>\n",
        "      <path fill=\"none\" d=\"M2.76,5 L 2.76 77.4\" id=\"fig-a9b2d61192a44ec2aef15def8aed44d5-element-246\" visibility=\"hidden\" gadfly:scale=\"5.0\"/>\n",
        "      <path fill=\"none\" d=\"M9.91,5 L 9.91 77.4\" id=\"fig-a9b2d61192a44ec2aef15def8aed44d5-element-247\" visibility=\"hidden\" gadfly:scale=\"5.0\"/>\n",
        "      <path fill=\"none\" d=\"M17.06,5 L 17.06 77.4\" id=\"fig-a9b2d61192a44ec2aef15def8aed44d5-element-248\" visibility=\"hidden\" gadfly:scale=\"5.0\"/>\n",
        "      <path fill=\"none\" d=\"M24.21,5 L 24.21 77.4\" id=\"fig-a9b2d61192a44ec2aef15def8aed44d5-element-249\" visibility=\"hidden\" gadfly:scale=\"5.0\"/>\n",
        "      <path fill=\"none\" d=\"M31.36,5 L 31.36 77.4\" id=\"fig-a9b2d61192a44ec2aef15def8aed44d5-element-250\" visibility=\"hidden\" gadfly:scale=\"5.0\"/>\n",
        "      <path fill=\"none\" d=\"M38.51,5 L 38.51 77.4\" id=\"fig-a9b2d61192a44ec2aef15def8aed44d5-element-251\" visibility=\"hidden\" gadfly:scale=\"5.0\"/>\n",
        "      <path fill=\"none\" d=\"M45.66,5 L 45.66 77.4\" id=\"fig-a9b2d61192a44ec2aef15def8aed44d5-element-252\" visibility=\"hidden\" gadfly:scale=\"5.0\"/>\n",
        "      <path fill=\"none\" d=\"M52.81,5 L 52.81 77.4\" id=\"fig-a9b2d61192a44ec2aef15def8aed44d5-element-253\" visibility=\"hidden\" gadfly:scale=\"5.0\"/>\n",
        "      <path fill=\"none\" d=\"M59.96,5 L 59.96 77.4\" id=\"fig-a9b2d61192a44ec2aef15def8aed44d5-element-254\" visibility=\"hidden\" gadfly:scale=\"5.0\"/>\n",
        "      <path fill=\"none\" d=\"M67.11,5 L 67.11 77.4\" id=\"fig-a9b2d61192a44ec2aef15def8aed44d5-element-255\" visibility=\"hidden\" gadfly:scale=\"5.0\"/>\n",
        "      <path fill=\"none\" d=\"M74.26,5 L 74.26 77.4\" id=\"fig-a9b2d61192a44ec2aef15def8aed44d5-element-256\" visibility=\"hidden\" gadfly:scale=\"5.0\"/>\n",
        "      <path fill=\"none\" d=\"M81.41,5 L 81.41 77.4\" id=\"fig-a9b2d61192a44ec2aef15def8aed44d5-element-257\" visibility=\"hidden\" gadfly:scale=\"5.0\"/>\n",
        "      <path fill=\"none\" d=\"M88.56,5 L 88.56 77.4\" id=\"fig-a9b2d61192a44ec2aef15def8aed44d5-element-258\" visibility=\"hidden\" gadfly:scale=\"5.0\"/>\n",
        "      <path fill=\"none\" d=\"M95.71,5 L 95.71 77.4\" id=\"fig-a9b2d61192a44ec2aef15def8aed44d5-element-259\" visibility=\"hidden\" gadfly:scale=\"5.0\"/>\n",
        "      <path fill=\"none\" d=\"M102.86,5 L 102.86 77.4\" id=\"fig-a9b2d61192a44ec2aef15def8aed44d5-element-260\" visibility=\"hidden\" gadfly:scale=\"5.0\"/>\n",
        "      <path fill=\"none\" d=\"M110.01,5 L 110.01 77.4\" id=\"fig-a9b2d61192a44ec2aef15def8aed44d5-element-261\" visibility=\"hidden\" gadfly:scale=\"5.0\"/>\n",
        "      <path fill=\"none\" d=\"M117.16,5 L 117.16 77.4\" id=\"fig-a9b2d61192a44ec2aef15def8aed44d5-element-262\" visibility=\"hidden\" gadfly:scale=\"5.0\"/>\n",
        "      <path fill=\"none\" d=\"M124.31,5 L 124.31 77.4\" id=\"fig-a9b2d61192a44ec2aef15def8aed44d5-element-263\" visibility=\"hidden\" gadfly:scale=\"5.0\"/>\n",
        "      <path fill=\"none\" d=\"M131.46,5 L 131.46 77.4\" id=\"fig-a9b2d61192a44ec2aef15def8aed44d5-element-264\" visibility=\"hidden\" gadfly:scale=\"5.0\"/>\n",
        "      <path fill=\"none\" d=\"M138.61,5 L 138.61 77.4\" id=\"fig-a9b2d61192a44ec2aef15def8aed44d5-element-265\" visibility=\"hidden\" gadfly:scale=\"5.0\"/>\n",
        "      <path fill=\"none\" d=\"M145.76,5 L 145.76 77.4\" id=\"fig-a9b2d61192a44ec2aef15def8aed44d5-element-266\" visibility=\"hidden\" gadfly:scale=\"5.0\"/>\n",
        "      <path fill=\"none\" d=\"M152.91,5 L 152.91 77.4\" id=\"fig-a9b2d61192a44ec2aef15def8aed44d5-element-267\" visibility=\"hidden\" gadfly:scale=\"5.0\"/>\n",
        "      <path fill=\"none\" d=\"M160.06,5 L 160.06 77.4\" id=\"fig-a9b2d61192a44ec2aef15def8aed44d5-element-268\" visibility=\"hidden\" gadfly:scale=\"5.0\"/>\n",
        "      <path fill=\"none\" d=\"M167.21,5 L 167.21 77.4\" id=\"fig-a9b2d61192a44ec2aef15def8aed44d5-element-269\" visibility=\"hidden\" gadfly:scale=\"5.0\"/>\n",
        "      <path fill=\"none\" d=\"M174.36,5 L 174.36 77.4\" id=\"fig-a9b2d61192a44ec2aef15def8aed44d5-element-270\" visibility=\"hidden\" gadfly:scale=\"5.0\"/>\n",
        "      <path fill=\"none\" d=\"M181.51,5 L 181.51 77.4\" id=\"fig-a9b2d61192a44ec2aef15def8aed44d5-element-271\" visibility=\"hidden\" gadfly:scale=\"5.0\"/>\n",
        "      <path fill=\"none\" d=\"M188.67,5 L 188.67 77.4\" id=\"fig-a9b2d61192a44ec2aef15def8aed44d5-element-272\" visibility=\"hidden\" gadfly:scale=\"5.0\"/>\n",
        "      <path fill=\"none\" d=\"M195.82,5 L 195.82 77.4\" id=\"fig-a9b2d61192a44ec2aef15def8aed44d5-element-273\" visibility=\"hidden\" gadfly:scale=\"5.0\"/>\n",
        "      <path fill=\"none\" d=\"M202.97,5 L 202.97 77.4\" id=\"fig-a9b2d61192a44ec2aef15def8aed44d5-element-274\" visibility=\"hidden\" gadfly:scale=\"5.0\"/>\n",
        "      <path fill=\"none\" d=\"M210.12,5 L 210.12 77.4\" id=\"fig-a9b2d61192a44ec2aef15def8aed44d5-element-275\" visibility=\"hidden\" gadfly:scale=\"5.0\"/>\n",
        "    </g>\n",
        "    <g class=\"plotpanel\" id=\"fig-a9b2d61192a44ec2aef15def8aed44d5-element-276\">\n",
        "      <g stroke-width=\"1.06\" fill=\"none\" class=\"geometry color_10X_MMSN\" stroke=\"#FF5EA0\" id=\"fig-a9b2d61192a44ec2aef15def8aed44d5-element-277\">\n",
        "        <path fill=\"none\" d=\"M34.9,17.25 L 36.35 17.84 37.81 18.44 39.27 19.04 40.73 19.64 42.19 20.24 43.65 20.84 45.11 21.43 46.57 22.03 48.03 22.63 49.49 23.23 50.95 23.83 52.41 24.42 53.87 25.02 55.32 25.62 56.78 26.22 58.24 26.82 59.7 27.42 61.16 28.01 62.62 28.61 64.08 29.21 65.54 29.81 67 30.41 68.46 31.01 69.92 31.6 71.38 32.2 72.84 32.8 74.3 33.4 75.75 34 77.21 34.6 78.67 35.19 80.13 35.79 81.59 36.39 83.05 36.99 84.51 37.59 85.97 38.19 87.43 38.78 88.89 39.38 90.35 39.98 91.81 40.58 93.27 41.18 94.72 41.77 96.18 42.37 97.64 42.97 99.1 43.57 100.56 44.17 102.02 44.77 103.48 45.36 104.94 45.96\" id=\"fig-a9b2d61192a44ec2aef15def8aed44d5-element-278\"/>\n",
        "      </g>\n",
        "      <g stroke-width=\"1.06\" fill=\"none\" class=\"geometry color_MMSN\" stroke=\"#D4CA3A\" id=\"fig-a9b2d61192a44ec2aef15def8aed44d5-element-279\">\n",
        "        <path fill=\"none\" d=\"M34.9,27.02 L 36.35 27.62 37.81 28.21 39.27 28.81 40.73 29.41 42.19 30.01 43.65 30.61 45.11 31.21 46.57 31.8 48.03 32.4 49.49 33 50.95 33.6 52.41 34.2 53.87 34.79 55.32 35.39 56.78 35.99 58.24 36.59 59.7 37.19 61.16 37.79 62.62 38.38 64.08 38.98 65.54 39.58 67 40.18 68.46 40.78 69.92 41.38 71.38 41.97 72.84 42.57 74.3 43.17 75.75 43.77 77.21 44.37 78.67 44.97 80.13 45.56 81.59 46.16 83.05 46.76 84.51 47.36 85.97 47.96 87.43 48.56 88.89 49.15 90.35 49.75 91.81 50.35 93.27 50.95 94.72 51.55 96.18 52.15 97.64 52.74 99.1 53.34 100.56 53.94 102.02 54.54 103.48 55.14 104.94 55.73\" id=\"fig-a9b2d61192a44ec2aef15def8aed44d5-element-280\"/>\n",
        "      </g>\n",
        "      <g class=\"geometry\" id=\"fig-a9b2d61192a44ec2aef15def8aed44d5-element-281\">\n",
        "        <g class=\"color_Simulation\" stroke=\"#FFFFFF\" stroke-width=\"0.3\" fill=\"#00BFFF\" id=\"fig-a9b2d61192a44ec2aef15def8aed44d5-element-282\">\n",
        "          <circle cx=\"34.9\" cy=\"37.09\" r=\"0.9\" id=\"fig-a9b2d61192a44ec2aef15def8aed44d5-element-283\"/>\n",
        "          <circle cx=\"36.35\" cy=\"37.7\" r=\"0.9\" id=\"fig-a9b2d61192a44ec2aef15def8aed44d5-element-284\"/>\n",
        "          <circle cx=\"37.81\" cy=\"38.29\" r=\"0.9\" id=\"fig-a9b2d61192a44ec2aef15def8aed44d5-element-285\"/>\n",
        "          <circle cx=\"39.27\" cy=\"38.89\" r=\"0.9\" id=\"fig-a9b2d61192a44ec2aef15def8aed44d5-element-286\"/>\n",
        "          <circle cx=\"40.73\" cy=\"39.49\" r=\"0.9\" id=\"fig-a9b2d61192a44ec2aef15def8aed44d5-element-287\"/>\n",
        "          <circle cx=\"42.19\" cy=\"40.09\" r=\"0.9\" id=\"fig-a9b2d61192a44ec2aef15def8aed44d5-element-288\"/>\n",
        "          <circle cx=\"43.65\" cy=\"40.69\" r=\"0.9\" id=\"fig-a9b2d61192a44ec2aef15def8aed44d5-element-289\"/>\n",
        "          <circle cx=\"45.11\" cy=\"41.28\" r=\"0.9\" id=\"fig-a9b2d61192a44ec2aef15def8aed44d5-element-290\"/>\n",
        "          <circle cx=\"46.57\" cy=\"41.88\" r=\"0.9\" id=\"fig-a9b2d61192a44ec2aef15def8aed44d5-element-291\"/>\n",
        "          <circle cx=\"48.03\" cy=\"42.48\" r=\"0.9\" id=\"fig-a9b2d61192a44ec2aef15def8aed44d5-element-292\"/>\n",
        "          <circle cx=\"49.49\" cy=\"43.08\" r=\"0.9\" id=\"fig-a9b2d61192a44ec2aef15def8aed44d5-element-293\"/>\n",
        "          <circle cx=\"50.95\" cy=\"43.67\" r=\"0.9\" id=\"fig-a9b2d61192a44ec2aef15def8aed44d5-element-294\"/>\n",
        "          <circle cx=\"52.41\" cy=\"44.27\" r=\"0.9\" id=\"fig-a9b2d61192a44ec2aef15def8aed44d5-element-295\"/>\n",
        "          <circle cx=\"53.87\" cy=\"44.87\" r=\"0.9\" id=\"fig-a9b2d61192a44ec2aef15def8aed44d5-element-296\"/>\n",
        "          <circle cx=\"55.32\" cy=\"45.47\" r=\"0.9\" id=\"fig-a9b2d61192a44ec2aef15def8aed44d5-element-297\"/>\n",
        "          <circle cx=\"56.78\" cy=\"46.07\" r=\"0.9\" id=\"fig-a9b2d61192a44ec2aef15def8aed44d5-element-298\"/>\n",
        "          <circle cx=\"58.24\" cy=\"46.67\" r=\"0.9\" id=\"fig-a9b2d61192a44ec2aef15def8aed44d5-element-299\"/>\n",
        "          <circle cx=\"59.7\" cy=\"47.27\" r=\"0.9\" id=\"fig-a9b2d61192a44ec2aef15def8aed44d5-element-300\"/>\n",
        "          <circle cx=\"61.16\" cy=\"47.86\" r=\"0.9\" id=\"fig-a9b2d61192a44ec2aef15def8aed44d5-element-301\"/>\n",
        "          <circle cx=\"62.62\" cy=\"48.46\" r=\"0.9\" id=\"fig-a9b2d61192a44ec2aef15def8aed44d5-element-302\"/>\n",
        "          <circle cx=\"64.08\" cy=\"49.06\" r=\"0.9\" id=\"fig-a9b2d61192a44ec2aef15def8aed44d5-element-303\"/>\n",
        "          <circle cx=\"65.54\" cy=\"49.66\" r=\"0.9\" id=\"fig-a9b2d61192a44ec2aef15def8aed44d5-element-304\"/>\n",
        "          <circle cx=\"67\" cy=\"50.26\" r=\"0.9\" id=\"fig-a9b2d61192a44ec2aef15def8aed44d5-element-305\"/>\n",
        "          <circle cx=\"68.46\" cy=\"50.85\" r=\"0.9\" id=\"fig-a9b2d61192a44ec2aef15def8aed44d5-element-306\"/>\n",
        "          <circle cx=\"69.92\" cy=\"51.45\" r=\"0.9\" id=\"fig-a9b2d61192a44ec2aef15def8aed44d5-element-307\"/>\n",
        "          <circle cx=\"71.38\" cy=\"52.05\" r=\"0.9\" id=\"fig-a9b2d61192a44ec2aef15def8aed44d5-element-308\"/>\n",
        "          <circle cx=\"72.84\" cy=\"52.65\" r=\"0.9\" id=\"fig-a9b2d61192a44ec2aef15def8aed44d5-element-309\"/>\n",
        "          <circle cx=\"74.3\" cy=\"53.25\" r=\"0.9\" id=\"fig-a9b2d61192a44ec2aef15def8aed44d5-element-310\"/>\n",
        "          <circle cx=\"75.75\" cy=\"53.85\" r=\"0.9\" id=\"fig-a9b2d61192a44ec2aef15def8aed44d5-element-311\"/>\n",
        "          <circle cx=\"77.21\" cy=\"54.44\" r=\"0.9\" id=\"fig-a9b2d61192a44ec2aef15def8aed44d5-element-312\"/>\n",
        "          <circle cx=\"78.67\" cy=\"55.04\" r=\"0.9\" id=\"fig-a9b2d61192a44ec2aef15def8aed44d5-element-313\"/>\n",
        "          <circle cx=\"80.13\" cy=\"55.64\" r=\"0.9\" id=\"fig-a9b2d61192a44ec2aef15def8aed44d5-element-314\"/>\n",
        "          <circle cx=\"81.59\" cy=\"56.24\" r=\"0.9\" id=\"fig-a9b2d61192a44ec2aef15def8aed44d5-element-315\"/>\n",
        "          <circle cx=\"83.05\" cy=\"56.84\" r=\"0.9\" id=\"fig-a9b2d61192a44ec2aef15def8aed44d5-element-316\"/>\n",
        "          <circle cx=\"84.51\" cy=\"57.44\" r=\"0.9\" id=\"fig-a9b2d61192a44ec2aef15def8aed44d5-element-317\"/>\n",
        "          <circle cx=\"85.97\" cy=\"58.03\" r=\"0.9\" id=\"fig-a9b2d61192a44ec2aef15def8aed44d5-element-318\"/>\n",
        "          <circle cx=\"87.43\" cy=\"58.63\" r=\"0.9\" id=\"fig-a9b2d61192a44ec2aef15def8aed44d5-element-319\"/>\n",
        "          <circle cx=\"88.89\" cy=\"59.23\" r=\"0.9\" id=\"fig-a9b2d61192a44ec2aef15def8aed44d5-element-320\"/>\n",
        "          <circle cx=\"90.35\" cy=\"59.83\" r=\"0.9\" id=\"fig-a9b2d61192a44ec2aef15def8aed44d5-element-321\"/>\n",
        "          <circle cx=\"91.81\" cy=\"60.43\" r=\"0.9\" id=\"fig-a9b2d61192a44ec2aef15def8aed44d5-element-322\"/>\n",
        "          <circle cx=\"93.27\" cy=\"61.03\" r=\"0.9\" id=\"fig-a9b2d61192a44ec2aef15def8aed44d5-element-323\"/>\n",
        "          <circle cx=\"94.72\" cy=\"61.62\" r=\"0.9\" id=\"fig-a9b2d61192a44ec2aef15def8aed44d5-element-324\"/>\n",
        "          <circle cx=\"96.18\" cy=\"62.22\" r=\"0.9\" id=\"fig-a9b2d61192a44ec2aef15def8aed44d5-element-325\"/>\n",
        "          <circle cx=\"97.64\" cy=\"62.82\" r=\"0.9\" id=\"fig-a9b2d61192a44ec2aef15def8aed44d5-element-326\"/>\n",
        "          <circle cx=\"99.1\" cy=\"63.42\" r=\"0.9\" id=\"fig-a9b2d61192a44ec2aef15def8aed44d5-element-327\"/>\n",
        "          <circle cx=\"100.56\" cy=\"64.02\" r=\"0.9\" id=\"fig-a9b2d61192a44ec2aef15def8aed44d5-element-328\"/>\n",
        "          <circle cx=\"102.02\" cy=\"64.61\" r=\"0.9\" id=\"fig-a9b2d61192a44ec2aef15def8aed44d5-element-329\"/>\n",
        "          <circle cx=\"103.48\" cy=\"65.21\" r=\"0.9\" id=\"fig-a9b2d61192a44ec2aef15def8aed44d5-element-330\"/>\n",
        "          <circle cx=\"104.94\" cy=\"65.81\" r=\"0.9\" id=\"fig-a9b2d61192a44ec2aef15def8aed44d5-element-331\"/>\n",
        "        </g>\n",
        "      </g>\n",
        "    </g>\n",
        "    <g opacity=\"0\" class=\"guide zoomslider\" stroke=\"none\" id=\"fig-a9b2d61192a44ec2aef15def8aed44d5-element-332\">\n",
        "      <g fill=\"#EAEAEA\" stroke-width=\"0.3\" stroke-opacity=\"0\" stroke=\"#6A6A6A\" id=\"fig-a9b2d61192a44ec2aef15def8aed44d5-element-333\">\n",
        "        <rect x=\"112.16\" y=\"8\" width=\"4\" height=\"4\" id=\"fig-a9b2d61192a44ec2aef15def8aed44d5-element-334\"/>\n",
        "        <g class=\"button_logo\" fill=\"#6A6A6A\" id=\"fig-a9b2d61192a44ec2aef15def8aed44d5-element-335\">\n",
        "          <path d=\"M112.96,9.6 L 113.76 9.6 113.76 8.8 114.56 8.8 114.56 9.6 115.36 9.6 115.36 10.4 114.56 10.4 114.56 11.2 113.76 11.2 113.76 10.4 112.96 10.4 z\" id=\"fig-a9b2d61192a44ec2aef15def8aed44d5-element-336\"/>\n",
        "        </g>\n",
        "      </g>\n",
        "      <g fill=\"#EAEAEA\" id=\"fig-a9b2d61192a44ec2aef15def8aed44d5-element-337\">\n",
        "        <rect x=\"92.66\" y=\"8\" width=\"19\" height=\"4\" id=\"fig-a9b2d61192a44ec2aef15def8aed44d5-element-338\"/>\n",
        "      </g>\n",
        "      <g class=\"zoomslider_thumb\" fill=\"#6A6A6A\" id=\"fig-a9b2d61192a44ec2aef15def8aed44d5-element-339\">\n",
        "        <rect x=\"101.16\" y=\"8\" width=\"2\" height=\"4\" id=\"fig-a9b2d61192a44ec2aef15def8aed44d5-element-340\"/>\n",
        "      </g>\n",
        "      <g fill=\"#EAEAEA\" stroke-width=\"0.3\" stroke-opacity=\"0\" stroke=\"#6A6A6A\" id=\"fig-a9b2d61192a44ec2aef15def8aed44d5-element-341\">\n",
        "        <rect x=\"88.16\" y=\"8\" width=\"4\" height=\"4\" id=\"fig-a9b2d61192a44ec2aef15def8aed44d5-element-342\"/>\n",
        "        <g class=\"button_logo\" fill=\"#6A6A6A\" id=\"fig-a9b2d61192a44ec2aef15def8aed44d5-element-343\">\n",
        "          <path d=\"M88.96,9.6 L 91.36 9.6 91.36 10.4 88.96 10.4 z\" id=\"fig-a9b2d61192a44ec2aef15def8aed44d5-element-344\"/>\n",
        "        </g>\n",
        "      </g>\n",
        "    </g>\n",
        "  </g>\n",
        "  <g class=\"guide ylabels\" font-size=\"4.23\" font-family=\"'PT Sans Caption','Helvetica Neue','Helvetica',sans-serif\" fill=\"#FFFFFF\" id=\"fig-a9b2d61192a44ec2aef15def8aed44d5-element-345\">\n",
        "    <text x=\"24.78\" y=\"173.12\" text-anchor=\"end\" dy=\"0.35em\" id=\"fig-a9b2d61192a44ec2aef15def8aed44d5-element-346\" visibility=\"hidden\" gadfly:scale=\"1.0\">10<tspan style=\"dominant-baseline:inherit\" dy=\"-0.6em\" font-size=\"83.333333%\">-12</tspan></text>\n",
        "    <text x=\"24.78\" y=\"153.58\" text-anchor=\"end\" dy=\"0.35em\" id=\"fig-a9b2d61192a44ec2aef15def8aed44d5-element-347\" visibility=\"hidden\" gadfly:scale=\"1.0\">10<tspan style=\"dominant-baseline:inherit\" dy=\"-0.6em\" font-size=\"83.333333%\">-10</tspan></text>\n",
        "    <text x=\"24.78\" y=\"134.03\" text-anchor=\"end\" dy=\"0.35em\" id=\"fig-a9b2d61192a44ec2aef15def8aed44d5-element-348\" visibility=\"hidden\" gadfly:scale=\"1.0\">10<tspan style=\"dominant-baseline:inherit\" dy=\"-0.6em\" font-size=\"83.333333%\">-8</tspan></text>\n",
        "    <text x=\"24.78\" y=\"114.49\" text-anchor=\"end\" dy=\"0.35em\" id=\"fig-a9b2d61192a44ec2aef15def8aed44d5-element-349\" visibility=\"hidden\" gadfly:scale=\"1.0\">10<tspan style=\"dominant-baseline:inherit\" dy=\"-0.6em\" font-size=\"83.333333%\">-6</tspan></text>\n",
        "    <text x=\"24.78\" y=\"94.95\" text-anchor=\"end\" dy=\"0.35em\" id=\"fig-a9b2d61192a44ec2aef15def8aed44d5-element-350\" visibility=\"hidden\" gadfly:scale=\"1.0\">10<tspan style=\"dominant-baseline:inherit\" dy=\"-0.6em\" font-size=\"83.333333%\">-4</tspan></text>\n",
        "    <text x=\"24.78\" y=\"75.4\" text-anchor=\"end\" dy=\"0.35em\" id=\"fig-a9b2d61192a44ec2aef15def8aed44d5-element-351\" visibility=\"visible\" gadfly:scale=\"1.0\">10<tspan style=\"dominant-baseline:inherit\" dy=\"-0.6em\" font-size=\"83.333333%\">-2</tspan></text>\n",
        "    <text x=\"24.78\" y=\"55.86\" text-anchor=\"end\" dy=\"0.35em\" id=\"fig-a9b2d61192a44ec2aef15def8aed44d5-element-352\" visibility=\"visible\" gadfly:scale=\"1.0\">10<tspan style=\"dominant-baseline:inherit\" dy=\"-0.6em\" font-size=\"83.333333%\">0</tspan></text>\n",
        "    <text x=\"24.78\" y=\"36.32\" text-anchor=\"end\" dy=\"0.35em\" id=\"fig-a9b2d61192a44ec2aef15def8aed44d5-element-353\" visibility=\"visible\" gadfly:scale=\"1.0\">10<tspan style=\"dominant-baseline:inherit\" dy=\"-0.6em\" font-size=\"83.333333%\">2</tspan></text>\n",
        "    <text x=\"24.78\" y=\"16.77\" text-anchor=\"end\" dy=\"0.35em\" id=\"fig-a9b2d61192a44ec2aef15def8aed44d5-element-354\" visibility=\"visible\" gadfly:scale=\"1.0\">10<tspan style=\"dominant-baseline:inherit\" dy=\"-0.6em\" font-size=\"83.333333%\">4</tspan></text>\n",
        "    <text x=\"24.78\" y=\"-2.77\" text-anchor=\"end\" dy=\"0.35em\" id=\"fig-a9b2d61192a44ec2aef15def8aed44d5-element-355\" visibility=\"visible\" gadfly:scale=\"1.0\">10<tspan style=\"dominant-baseline:inherit\" dy=\"-0.6em\" font-size=\"83.333333%\">6</tspan></text>\n",
        "    <text x=\"24.78\" y=\"-22.32\" text-anchor=\"end\" dy=\"0.35em\" id=\"fig-a9b2d61192a44ec2aef15def8aed44d5-element-356\" visibility=\"hidden\" gadfly:scale=\"1.0\">10<tspan style=\"dominant-baseline:inherit\" dy=\"-0.6em\" font-size=\"83.333333%\">8</tspan></text>\n",
        "    <text x=\"24.78\" y=\"-41.86\" text-anchor=\"end\" dy=\"0.35em\" id=\"fig-a9b2d61192a44ec2aef15def8aed44d5-element-357\" visibility=\"hidden\" gadfly:scale=\"1.0\">10<tspan style=\"dominant-baseline:inherit\" dy=\"-0.6em\" font-size=\"83.333333%\">10</tspan></text>\n",
        "    <text x=\"24.78\" y=\"-61.4\" text-anchor=\"end\" dy=\"0.35em\" id=\"fig-a9b2d61192a44ec2aef15def8aed44d5-element-358\" visibility=\"hidden\" gadfly:scale=\"1.0\">10<tspan style=\"dominant-baseline:inherit\" dy=\"-0.6em\" font-size=\"83.333333%\">12</tspan></text>\n",
        "    <text x=\"24.78\" y=\"-80.95\" text-anchor=\"end\" dy=\"0.35em\" id=\"fig-a9b2d61192a44ec2aef15def8aed44d5-element-359\" visibility=\"hidden\" gadfly:scale=\"1.0\">10<tspan style=\"dominant-baseline:inherit\" dy=\"-0.6em\" font-size=\"83.333333%\">14</tspan></text>\n",
        "    <text x=\"24.78\" y=\"-100.49\" text-anchor=\"end\" dy=\"0.35em\" id=\"fig-a9b2d61192a44ec2aef15def8aed44d5-element-360\" visibility=\"hidden\" gadfly:scale=\"1.0\">10<tspan style=\"dominant-baseline:inherit\" dy=\"-0.6em\" font-size=\"83.333333%\">16</tspan></text>\n",
        "    <text x=\"24.78\" y=\"153.58\" text-anchor=\"end\" dy=\"0.35em\" id=\"fig-a9b2d61192a44ec2aef15def8aed44d5-element-361\" visibility=\"hidden\" gadfly:scale=\"10.0\">10<tspan style=\"dominant-baseline:inherit\" dy=\"-0.6em\" font-size=\"83.333333%\">-10.0</tspan></text>\n",
        "    <text x=\"24.78\" y=\"148.69\" text-anchor=\"end\" dy=\"0.35em\" id=\"fig-a9b2d61192a44ec2aef15def8aed44d5-element-362\" visibility=\"hidden\" gadfly:scale=\"10.0\">10<tspan style=\"dominant-baseline:inherit\" dy=\"-0.6em\" font-size=\"83.333333%\">-9.5</tspan></text>\n",
        "    <text x=\"24.78\" y=\"143.81\" text-anchor=\"end\" dy=\"0.35em\" id=\"fig-a9b2d61192a44ec2aef15def8aed44d5-element-363\" visibility=\"hidden\" gadfly:scale=\"10.0\">10<tspan style=\"dominant-baseline:inherit\" dy=\"-0.6em\" font-size=\"83.333333%\">-9.0</tspan></text>\n",
        "    <text x=\"24.78\" y=\"138.92\" text-anchor=\"end\" dy=\"0.35em\" id=\"fig-a9b2d61192a44ec2aef15def8aed44d5-element-364\" visibility=\"hidden\" gadfly:scale=\"10.0\">10<tspan style=\"dominant-baseline:inherit\" dy=\"-0.6em\" font-size=\"83.333333%\">-8.5</tspan></text>\n",
        "    <text x=\"24.78\" y=\"134.03\" text-anchor=\"end\" dy=\"0.35em\" id=\"fig-a9b2d61192a44ec2aef15def8aed44d5-element-365\" visibility=\"hidden\" gadfly:scale=\"10.0\">10<tspan style=\"dominant-baseline:inherit\" dy=\"-0.6em\" font-size=\"83.333333%\">-8.0</tspan></text>\n",
        "    <text x=\"24.78\" y=\"129.15\" text-anchor=\"end\" dy=\"0.35em\" id=\"fig-a9b2d61192a44ec2aef15def8aed44d5-element-366\" visibility=\"hidden\" gadfly:scale=\"10.0\">10<tspan style=\"dominant-baseline:inherit\" dy=\"-0.6em\" font-size=\"83.333333%\">-7.5</tspan></text>\n",
        "    <text x=\"24.78\" y=\"124.26\" text-anchor=\"end\" dy=\"0.35em\" id=\"fig-a9b2d61192a44ec2aef15def8aed44d5-element-367\" visibility=\"hidden\" gadfly:scale=\"10.0\">10<tspan style=\"dominant-baseline:inherit\" dy=\"-0.6em\" font-size=\"83.333333%\">-7.0</tspan></text>\n",
        "    <text x=\"24.78\" y=\"119.38\" text-anchor=\"end\" dy=\"0.35em\" id=\"fig-a9b2d61192a44ec2aef15def8aed44d5-element-368\" visibility=\"hidden\" gadfly:scale=\"10.0\">10<tspan style=\"dominant-baseline:inherit\" dy=\"-0.6em\" font-size=\"83.333333%\">-6.5</tspan></text>\n",
        "    <text x=\"24.78\" y=\"114.49\" text-anchor=\"end\" dy=\"0.35em\" id=\"fig-a9b2d61192a44ec2aef15def8aed44d5-element-369\" visibility=\"hidden\" gadfly:scale=\"10.0\">10<tspan style=\"dominant-baseline:inherit\" dy=\"-0.6em\" font-size=\"83.333333%\">-6.0</tspan></text>\n",
        "    <text x=\"24.78\" y=\"109.61\" text-anchor=\"end\" dy=\"0.35em\" id=\"fig-a9b2d61192a44ec2aef15def8aed44d5-element-370\" visibility=\"hidden\" gadfly:scale=\"10.0\">10<tspan style=\"dominant-baseline:inherit\" dy=\"-0.6em\" font-size=\"83.333333%\">-5.5</tspan></text>\n",
        "    <text x=\"24.78\" y=\"104.72\" text-anchor=\"end\" dy=\"0.35em\" id=\"fig-a9b2d61192a44ec2aef15def8aed44d5-element-371\" visibility=\"hidden\" gadfly:scale=\"10.0\">10<tspan style=\"dominant-baseline:inherit\" dy=\"-0.6em\" font-size=\"83.333333%\">-5.0</tspan></text>\n",
        "    <text x=\"24.78\" y=\"99.83\" text-anchor=\"end\" dy=\"0.35em\" id=\"fig-a9b2d61192a44ec2aef15def8aed44d5-element-372\" visibility=\"hidden\" gadfly:scale=\"10.0\">10<tspan style=\"dominant-baseline:inherit\" dy=\"-0.6em\" font-size=\"83.333333%\">-4.5</tspan></text>\n",
        "    <text x=\"24.78\" y=\"94.95\" text-anchor=\"end\" dy=\"0.35em\" id=\"fig-a9b2d61192a44ec2aef15def8aed44d5-element-373\" visibility=\"hidden\" gadfly:scale=\"10.0\">10<tspan style=\"dominant-baseline:inherit\" dy=\"-0.6em\" font-size=\"83.333333%\">-4.0</tspan></text>\n",
        "    <text x=\"24.78\" y=\"90.06\" text-anchor=\"end\" dy=\"0.35em\" id=\"fig-a9b2d61192a44ec2aef15def8aed44d5-element-374\" visibility=\"hidden\" gadfly:scale=\"10.0\">10<tspan style=\"dominant-baseline:inherit\" dy=\"-0.6em\" font-size=\"83.333333%\">-3.5</tspan></text>\n",
        "    <text x=\"24.78\" y=\"85.18\" text-anchor=\"end\" dy=\"0.35em\" id=\"fig-a9b2d61192a44ec2aef15def8aed44d5-element-375\" visibility=\"hidden\" gadfly:scale=\"10.0\">10<tspan style=\"dominant-baseline:inherit\" dy=\"-0.6em\" font-size=\"83.333333%\">-3.0</tspan></text>\n",
        "    <text x=\"24.78\" y=\"80.29\" text-anchor=\"end\" dy=\"0.35em\" id=\"fig-a9b2d61192a44ec2aef15def8aed44d5-element-376\" visibility=\"hidden\" gadfly:scale=\"10.0\">10<tspan style=\"dominant-baseline:inherit\" dy=\"-0.6em\" font-size=\"83.333333%\">-2.5</tspan></text>\n",
        "    <text x=\"24.78\" y=\"75.4\" text-anchor=\"end\" dy=\"0.35em\" id=\"fig-a9b2d61192a44ec2aef15def8aed44d5-element-377\" visibility=\"hidden\" gadfly:scale=\"10.0\">10<tspan style=\"dominant-baseline:inherit\" dy=\"-0.6em\" font-size=\"83.333333%\">-2.0</tspan></text>\n",
        "    <text x=\"24.78\" y=\"70.52\" text-anchor=\"end\" dy=\"0.35em\" id=\"fig-a9b2d61192a44ec2aef15def8aed44d5-element-378\" visibility=\"hidden\" gadfly:scale=\"10.0\">10<tspan style=\"dominant-baseline:inherit\" dy=\"-0.6em\" font-size=\"83.333333%\">-1.5</tspan></text>\n",
        "    <text x=\"24.78\" y=\"65.63\" text-anchor=\"end\" dy=\"0.35em\" id=\"fig-a9b2d61192a44ec2aef15def8aed44d5-element-379\" visibility=\"hidden\" gadfly:scale=\"10.0\">10<tspan style=\"dominant-baseline:inherit\" dy=\"-0.6em\" font-size=\"83.333333%\">-1.0</tspan></text>\n",
        "    <text x=\"24.78\" y=\"60.75\" text-anchor=\"end\" dy=\"0.35em\" id=\"fig-a9b2d61192a44ec2aef15def8aed44d5-element-380\" visibility=\"hidden\" gadfly:scale=\"10.0\">10<tspan style=\"dominant-baseline:inherit\" dy=\"-0.6em\" font-size=\"83.333333%\">-0.5</tspan></text>\n",
        "    <text x=\"24.78\" y=\"55.86\" text-anchor=\"end\" dy=\"0.35em\" id=\"fig-a9b2d61192a44ec2aef15def8aed44d5-element-381\" visibility=\"hidden\" gadfly:scale=\"10.0\">10<tspan style=\"dominant-baseline:inherit\" dy=\"-0.6em\" font-size=\"83.333333%\">0.0</tspan></text>\n",
        "    <text x=\"24.78\" y=\"50.97\" text-anchor=\"end\" dy=\"0.35em\" id=\"fig-a9b2d61192a44ec2aef15def8aed44d5-element-382\" visibility=\"hidden\" gadfly:scale=\"10.0\">10<tspan style=\"dominant-baseline:inherit\" dy=\"-0.6em\" font-size=\"83.333333%\">0.5</tspan></text>\n",
        "    <text x=\"24.78\" y=\"46.09\" text-anchor=\"end\" dy=\"0.35em\" id=\"fig-a9b2d61192a44ec2aef15def8aed44d5-element-383\" visibility=\"hidden\" gadfly:scale=\"10.0\">10<tspan style=\"dominant-baseline:inherit\" dy=\"-0.6em\" font-size=\"83.333333%\">1.0</tspan></text>\n",
        "    <text x=\"24.78\" y=\"41.2\" text-anchor=\"end\" dy=\"0.35em\" id=\"fig-a9b2d61192a44ec2aef15def8aed44d5-element-384\" visibility=\"hidden\" gadfly:scale=\"10.0\">10<tspan style=\"dominant-baseline:inherit\" dy=\"-0.6em\" font-size=\"83.333333%\">1.5</tspan></text>\n",
        "    <text x=\"24.78\" y=\"36.32\" text-anchor=\"end\" dy=\"0.35em\" id=\"fig-a9b2d61192a44ec2aef15def8aed44d5-element-385\" visibility=\"hidden\" gadfly:scale=\"10.0\">10<tspan style=\"dominant-baseline:inherit\" dy=\"-0.6em\" font-size=\"83.333333%\">2.0</tspan></text>\n",
        "    <text x=\"24.78\" y=\"31.43\" text-anchor=\"end\" dy=\"0.35em\" id=\"fig-a9b2d61192a44ec2aef15def8aed44d5-element-386\" visibility=\"hidden\" gadfly:scale=\"10.0\">10<tspan style=\"dominant-baseline:inherit\" dy=\"-0.6em\" font-size=\"83.333333%\">2.5</tspan></text>\n",
        "    <text x=\"24.78\" y=\"26.54\" text-anchor=\"end\" dy=\"0.35em\" id=\"fig-a9b2d61192a44ec2aef15def8aed44d5-element-387\" visibility=\"hidden\" gadfly:scale=\"10.0\">10<tspan style=\"dominant-baseline:inherit\" dy=\"-0.6em\" font-size=\"83.333333%\">3.0</tspan></text>\n",
        "    <text x=\"24.78\" y=\"21.66\" text-anchor=\"end\" dy=\"0.35em\" id=\"fig-a9b2d61192a44ec2aef15def8aed44d5-element-388\" visibility=\"hidden\" gadfly:scale=\"10.0\">10<tspan style=\"dominant-baseline:inherit\" dy=\"-0.6em\" font-size=\"83.333333%\">3.5</tspan></text>\n",
        "    <text x=\"24.78\" y=\"16.77\" text-anchor=\"end\" dy=\"0.35em\" id=\"fig-a9b2d61192a44ec2aef15def8aed44d5-element-389\" visibility=\"hidden\" gadfly:scale=\"10.0\">10<tspan style=\"dominant-baseline:inherit\" dy=\"-0.6em\" font-size=\"83.333333%\">4.0</tspan></text>\n",
        "    <text x=\"24.78\" y=\"11.89\" text-anchor=\"end\" dy=\"0.35em\" id=\"fig-a9b2d61192a44ec2aef15def8aed44d5-element-390\" visibility=\"hidden\" gadfly:scale=\"10.0\">10<tspan style=\"dominant-baseline:inherit\" dy=\"-0.6em\" font-size=\"83.333333%\">4.5</tspan></text>\n",
        "    <text x=\"24.78\" y=\"7\" text-anchor=\"end\" dy=\"0.35em\" id=\"fig-a9b2d61192a44ec2aef15def8aed44d5-element-391\" visibility=\"hidden\" gadfly:scale=\"10.0\">10<tspan style=\"dominant-baseline:inherit\" dy=\"-0.6em\" font-size=\"83.333333%\">5.0</tspan></text>\n",
        "    <text x=\"24.78\" y=\"2.11\" text-anchor=\"end\" dy=\"0.35em\" id=\"fig-a9b2d61192a44ec2aef15def8aed44d5-element-392\" visibility=\"hidden\" gadfly:scale=\"10.0\">10<tspan style=\"dominant-baseline:inherit\" dy=\"-0.6em\" font-size=\"83.333333%\">5.5</tspan></text>\n",
        "    <text x=\"24.78\" y=\"-2.77\" text-anchor=\"end\" dy=\"0.35em\" id=\"fig-a9b2d61192a44ec2aef15def8aed44d5-element-393\" visibility=\"hidden\" gadfly:scale=\"10.0\">10<tspan style=\"dominant-baseline:inherit\" dy=\"-0.6em\" font-size=\"83.333333%\">6.0</tspan></text>\n",
        "    <text x=\"24.78\" y=\"-7.66\" text-anchor=\"end\" dy=\"0.35em\" id=\"fig-a9b2d61192a44ec2aef15def8aed44d5-element-394\" visibility=\"hidden\" gadfly:scale=\"10.0\">10<tspan style=\"dominant-baseline:inherit\" dy=\"-0.6em\" font-size=\"83.333333%\">6.5</tspan></text>\n",
        "    <text x=\"24.78\" y=\"-12.54\" text-anchor=\"end\" dy=\"0.35em\" id=\"fig-a9b2d61192a44ec2aef15def8aed44d5-element-395\" visibility=\"hidden\" gadfly:scale=\"10.0\">10<tspan style=\"dominant-baseline:inherit\" dy=\"-0.6em\" font-size=\"83.333333%\">7.0</tspan></text>\n",
        "    <text x=\"24.78\" y=\"-17.43\" text-anchor=\"end\" dy=\"0.35em\" id=\"fig-a9b2d61192a44ec2aef15def8aed44d5-element-396\" visibility=\"hidden\" gadfly:scale=\"10.0\">10<tspan style=\"dominant-baseline:inherit\" dy=\"-0.6em\" font-size=\"83.333333%\">7.5</tspan></text>\n",
        "    <text x=\"24.78\" y=\"-22.32\" text-anchor=\"end\" dy=\"0.35em\" id=\"fig-a9b2d61192a44ec2aef15def8aed44d5-element-397\" visibility=\"hidden\" gadfly:scale=\"10.0\">10<tspan style=\"dominant-baseline:inherit\" dy=\"-0.6em\" font-size=\"83.333333%\">8.0</tspan></text>\n",
        "    <text x=\"24.78\" y=\"-27.2\" text-anchor=\"end\" dy=\"0.35em\" id=\"fig-a9b2d61192a44ec2aef15def8aed44d5-element-398\" visibility=\"hidden\" gadfly:scale=\"10.0\">10<tspan style=\"dominant-baseline:inherit\" dy=\"-0.6em\" font-size=\"83.333333%\">8.5</tspan></text>\n",
        "    <text x=\"24.78\" y=\"-32.09\" text-anchor=\"end\" dy=\"0.35em\" id=\"fig-a9b2d61192a44ec2aef15def8aed44d5-element-399\" visibility=\"hidden\" gadfly:scale=\"10.0\">10<tspan style=\"dominant-baseline:inherit\" dy=\"-0.6em\" font-size=\"83.333333%\">9.0</tspan></text>\n",
        "    <text x=\"24.78\" y=\"-36.97\" text-anchor=\"end\" dy=\"0.35em\" id=\"fig-a9b2d61192a44ec2aef15def8aed44d5-element-400\" visibility=\"hidden\" gadfly:scale=\"10.0\">10<tspan style=\"dominant-baseline:inherit\" dy=\"-0.6em\" font-size=\"83.333333%\">9.5</tspan></text>\n",
        "    <text x=\"24.78\" y=\"-41.86\" text-anchor=\"end\" dy=\"0.35em\" id=\"fig-a9b2d61192a44ec2aef15def8aed44d5-element-401\" visibility=\"hidden\" gadfly:scale=\"10.0\">10<tspan style=\"dominant-baseline:inherit\" dy=\"-0.6em\" font-size=\"83.333333%\">10.0</tspan></text>\n",
        "    <text x=\"24.78\" y=\"-46.75\" text-anchor=\"end\" dy=\"0.35em\" id=\"fig-a9b2d61192a44ec2aef15def8aed44d5-element-402\" visibility=\"hidden\" gadfly:scale=\"10.0\">10<tspan style=\"dominant-baseline:inherit\" dy=\"-0.6em\" font-size=\"83.333333%\">10.5</tspan></text>\n",
        "    <text x=\"24.78\" y=\"-51.63\" text-anchor=\"end\" dy=\"0.35em\" id=\"fig-a9b2d61192a44ec2aef15def8aed44d5-element-403\" visibility=\"hidden\" gadfly:scale=\"10.0\">10<tspan style=\"dominant-baseline:inherit\" dy=\"-0.6em\" font-size=\"83.333333%\">11.0</tspan></text>\n",
        "    <text x=\"24.78\" y=\"-56.52\" text-anchor=\"end\" dy=\"0.35em\" id=\"fig-a9b2d61192a44ec2aef15def8aed44d5-element-404\" visibility=\"hidden\" gadfly:scale=\"10.0\">10<tspan style=\"dominant-baseline:inherit\" dy=\"-0.6em\" font-size=\"83.333333%\">11.5</tspan></text>\n",
        "    <text x=\"24.78\" y=\"-61.4\" text-anchor=\"end\" dy=\"0.35em\" id=\"fig-a9b2d61192a44ec2aef15def8aed44d5-element-405\" visibility=\"hidden\" gadfly:scale=\"10.0\">10<tspan style=\"dominant-baseline:inherit\" dy=\"-0.6em\" font-size=\"83.333333%\">12.0</tspan></text>\n",
        "    <text x=\"24.78\" y=\"-66.29\" text-anchor=\"end\" dy=\"0.35em\" id=\"fig-a9b2d61192a44ec2aef15def8aed44d5-element-406\" visibility=\"hidden\" gadfly:scale=\"10.0\">10<tspan style=\"dominant-baseline:inherit\" dy=\"-0.6em\" font-size=\"83.333333%\">12.5</tspan></text>\n",
        "    <text x=\"24.78\" y=\"-71.18\" text-anchor=\"end\" dy=\"0.35em\" id=\"fig-a9b2d61192a44ec2aef15def8aed44d5-element-407\" visibility=\"hidden\" gadfly:scale=\"10.0\">10<tspan style=\"dominant-baseline:inherit\" dy=\"-0.6em\" font-size=\"83.333333%\">13.0</tspan></text>\n",
        "    <text x=\"24.78\" y=\"-76.06\" text-anchor=\"end\" dy=\"0.35em\" id=\"fig-a9b2d61192a44ec2aef15def8aed44d5-element-408\" visibility=\"hidden\" gadfly:scale=\"10.0\">10<tspan style=\"dominant-baseline:inherit\" dy=\"-0.6em\" font-size=\"83.333333%\">13.5</tspan></text>\n",
        "    <text x=\"24.78\" y=\"-80.95\" text-anchor=\"end\" dy=\"0.35em\" id=\"fig-a9b2d61192a44ec2aef15def8aed44d5-element-409\" visibility=\"hidden\" gadfly:scale=\"10.0\">10<tspan style=\"dominant-baseline:inherit\" dy=\"-0.6em\" font-size=\"83.333333%\">14.0</tspan></text>\n",
        "    <text x=\"24.78\" y=\"153.58\" text-anchor=\"end\" dy=\"0.35em\" id=\"fig-a9b2d61192a44ec2aef15def8aed44d5-element-410\" visibility=\"hidden\" gadfly:scale=\"0.5\">10<tspan style=\"dominant-baseline:inherit\" dy=\"-0.6em\" font-size=\"83.333333%\">-10</tspan></text>\n",
        "    <text x=\"24.78\" y=\"55.86\" text-anchor=\"end\" dy=\"0.35em\" id=\"fig-a9b2d61192a44ec2aef15def8aed44d5-element-411\" visibility=\"hidden\" gadfly:scale=\"0.5\">10<tspan style=\"dominant-baseline:inherit\" dy=\"-0.6em\" font-size=\"83.333333%\">0</tspan></text>\n",
        "    <text x=\"24.78\" y=\"-41.86\" text-anchor=\"end\" dy=\"0.35em\" id=\"fig-a9b2d61192a44ec2aef15def8aed44d5-element-412\" visibility=\"hidden\" gadfly:scale=\"0.5\">10<tspan style=\"dominant-baseline:inherit\" dy=\"-0.6em\" font-size=\"83.333333%\">10</tspan></text>\n",
        "    <text x=\"24.78\" y=\"-139.58\" text-anchor=\"end\" dy=\"0.35em\" id=\"fig-a9b2d61192a44ec2aef15def8aed44d5-element-413\" visibility=\"hidden\" gadfly:scale=\"0.5\">10<tspan style=\"dominant-baseline:inherit\" dy=\"-0.6em\" font-size=\"83.333333%\">20</tspan></text>\n",
        "    <text x=\"24.78\" y=\"153.58\" text-anchor=\"end\" dy=\"0.35em\" id=\"fig-a9b2d61192a44ec2aef15def8aed44d5-element-414\" visibility=\"hidden\" gadfly:scale=\"5.0\">10<tspan style=\"dominant-baseline:inherit\" dy=\"-0.6em\" font-size=\"83.333333%\">-10.0</tspan></text>\n",
        "    <text x=\"24.78\" y=\"148.69\" text-anchor=\"end\" dy=\"0.35em\" id=\"fig-a9b2d61192a44ec2aef15def8aed44d5-element-415\" visibility=\"hidden\" gadfly:scale=\"5.0\">10<tspan style=\"dominant-baseline:inherit\" dy=\"-0.6em\" font-size=\"83.333333%\">-9.5</tspan></text>\n",
        "    <text x=\"24.78\" y=\"143.81\" text-anchor=\"end\" dy=\"0.35em\" id=\"fig-a9b2d61192a44ec2aef15def8aed44d5-element-416\" visibility=\"hidden\" gadfly:scale=\"5.0\">10<tspan style=\"dominant-baseline:inherit\" dy=\"-0.6em\" font-size=\"83.333333%\">-9.0</tspan></text>\n",
        "    <text x=\"24.78\" y=\"138.92\" text-anchor=\"end\" dy=\"0.35em\" id=\"fig-a9b2d61192a44ec2aef15def8aed44d5-element-417\" visibility=\"hidden\" gadfly:scale=\"5.0\">10<tspan style=\"dominant-baseline:inherit\" dy=\"-0.6em\" font-size=\"83.333333%\">-8.5</tspan></text>\n",
        "    <text x=\"24.78\" y=\"134.03\" text-anchor=\"end\" dy=\"0.35em\" id=\"fig-a9b2d61192a44ec2aef15def8aed44d5-element-418\" visibility=\"hidden\" gadfly:scale=\"5.0\">10<tspan style=\"dominant-baseline:inherit\" dy=\"-0.6em\" font-size=\"83.333333%\">-8.0</tspan></text>\n",
        "    <text x=\"24.78\" y=\"129.15\" text-anchor=\"end\" dy=\"0.35em\" id=\"fig-a9b2d61192a44ec2aef15def8aed44d5-element-419\" visibility=\"hidden\" gadfly:scale=\"5.0\">10<tspan style=\"dominant-baseline:inherit\" dy=\"-0.6em\" font-size=\"83.333333%\">-7.5</tspan></text>\n",
        "    <text x=\"24.78\" y=\"124.26\" text-anchor=\"end\" dy=\"0.35em\" id=\"fig-a9b2d61192a44ec2aef15def8aed44d5-element-420\" visibility=\"hidden\" gadfly:scale=\"5.0\">10<tspan style=\"dominant-baseline:inherit\" dy=\"-0.6em\" font-size=\"83.333333%\">-7.0</tspan></text>\n",
        "    <text x=\"24.78\" y=\"119.38\" text-anchor=\"end\" dy=\"0.35em\" id=\"fig-a9b2d61192a44ec2aef15def8aed44d5-element-421\" visibility=\"hidden\" gadfly:scale=\"5.0\">10<tspan style=\"dominant-baseline:inherit\" dy=\"-0.6em\" font-size=\"83.333333%\">-6.5</tspan></text>\n",
        "    <text x=\"24.78\" y=\"114.49\" text-anchor=\"end\" dy=\"0.35em\" id=\"fig-a9b2d61192a44ec2aef15def8aed44d5-element-422\" visibility=\"hidden\" gadfly:scale=\"5.0\">10<tspan style=\"dominant-baseline:inherit\" dy=\"-0.6em\" font-size=\"83.333333%\">-6.0</tspan></text>\n",
        "    <text x=\"24.78\" y=\"109.61\" text-anchor=\"end\" dy=\"0.35em\" id=\"fig-a9b2d61192a44ec2aef15def8aed44d5-element-423\" visibility=\"hidden\" gadfly:scale=\"5.0\">10<tspan style=\"dominant-baseline:inherit\" dy=\"-0.6em\" font-size=\"83.333333%\">-5.5</tspan></text>\n",
        "    <text x=\"24.78\" y=\"104.72\" text-anchor=\"end\" dy=\"0.35em\" id=\"fig-a9b2d61192a44ec2aef15def8aed44d5-element-424\" visibility=\"hidden\" gadfly:scale=\"5.0\">10<tspan style=\"dominant-baseline:inherit\" dy=\"-0.6em\" font-size=\"83.333333%\">-5.0</tspan></text>\n",
        "    <text x=\"24.78\" y=\"99.83\" text-anchor=\"end\" dy=\"0.35em\" id=\"fig-a9b2d61192a44ec2aef15def8aed44d5-element-425\" visibility=\"hidden\" gadfly:scale=\"5.0\">10<tspan style=\"dominant-baseline:inherit\" dy=\"-0.6em\" font-size=\"83.333333%\">-4.5</tspan></text>\n",
        "    <text x=\"24.78\" y=\"94.95\" text-anchor=\"end\" dy=\"0.35em\" id=\"fig-a9b2d61192a44ec2aef15def8aed44d5-element-426\" visibility=\"hidden\" gadfly:scale=\"5.0\">10<tspan style=\"dominant-baseline:inherit\" dy=\"-0.6em\" font-size=\"83.333333%\">-4.0</tspan></text>\n",
        "    <text x=\"24.78\" y=\"90.06\" text-anchor=\"end\" dy=\"0.35em\" id=\"fig-a9b2d61192a44ec2aef15def8aed44d5-element-427\" visibility=\"hidden\" gadfly:scale=\"5.0\">10<tspan style=\"dominant-baseline:inherit\" dy=\"-0.6em\" font-size=\"83.333333%\">-3.5</tspan></text>\n",
        "    <text x=\"24.78\" y=\"85.18\" text-anchor=\"end\" dy=\"0.35em\" id=\"fig-a9b2d61192a44ec2aef15def8aed44d5-element-428\" visibility=\"hidden\" gadfly:scale=\"5.0\">10<tspan style=\"dominant-baseline:inherit\" dy=\"-0.6em\" font-size=\"83.333333%\">-3.0</tspan></text>\n",
        "    <text x=\"24.78\" y=\"80.29\" text-anchor=\"end\" dy=\"0.35em\" id=\"fig-a9b2d61192a44ec2aef15def8aed44d5-element-429\" visibility=\"hidden\" gadfly:scale=\"5.0\">10<tspan style=\"dominant-baseline:inherit\" dy=\"-0.6em\" font-size=\"83.333333%\">-2.5</tspan></text>\n",
        "    <text x=\"24.78\" y=\"75.4\" text-anchor=\"end\" dy=\"0.35em\" id=\"fig-a9b2d61192a44ec2aef15def8aed44d5-element-430\" visibility=\"hidden\" gadfly:scale=\"5.0\">10<tspan style=\"dominant-baseline:inherit\" dy=\"-0.6em\" font-size=\"83.333333%\">-2.0</tspan></text>\n",
        "    <text x=\"24.78\" y=\"70.52\" text-anchor=\"end\" dy=\"0.35em\" id=\"fig-a9b2d61192a44ec2aef15def8aed44d5-element-431\" visibility=\"hidden\" gadfly:scale=\"5.0\">10<tspan style=\"dominant-baseline:inherit\" dy=\"-0.6em\" font-size=\"83.333333%\">-1.5</tspan></text>\n",
        "    <text x=\"24.78\" y=\"65.63\" text-anchor=\"end\" dy=\"0.35em\" id=\"fig-a9b2d61192a44ec2aef15def8aed44d5-element-432\" visibility=\"hidden\" gadfly:scale=\"5.0\">10<tspan style=\"dominant-baseline:inherit\" dy=\"-0.6em\" font-size=\"83.333333%\">-1.0</tspan></text>\n",
        "    <text x=\"24.78\" y=\"60.75\" text-anchor=\"end\" dy=\"0.35em\" id=\"fig-a9b2d61192a44ec2aef15def8aed44d5-element-433\" visibility=\"hidden\" gadfly:scale=\"5.0\">10<tspan style=\"dominant-baseline:inherit\" dy=\"-0.6em\" font-size=\"83.333333%\">-0.5</tspan></text>\n",
        "    <text x=\"24.78\" y=\"55.86\" text-anchor=\"end\" dy=\"0.35em\" id=\"fig-a9b2d61192a44ec2aef15def8aed44d5-element-434\" visibility=\"hidden\" gadfly:scale=\"5.0\">10<tspan style=\"dominant-baseline:inherit\" dy=\"-0.6em\" font-size=\"83.333333%\">0.0</tspan></text>\n",
        "    <text x=\"24.78\" y=\"50.97\" text-anchor=\"end\" dy=\"0.35em\" id=\"fig-a9b2d61192a44ec2aef15def8aed44d5-element-435\" visibility=\"hidden\" gadfly:scale=\"5.0\">10<tspan style=\"dominant-baseline:inherit\" dy=\"-0.6em\" font-size=\"83.333333%\">0.5</tspan></text>\n",
        "    <text x=\"24.78\" y=\"46.09\" text-anchor=\"end\" dy=\"0.35em\" id=\"fig-a9b2d61192a44ec2aef15def8aed44d5-element-436\" visibility=\"hidden\" gadfly:scale=\"5.0\">10<tspan style=\"dominant-baseline:inherit\" dy=\"-0.6em\" font-size=\"83.333333%\">1.0</tspan></text>\n",
        "    <text x=\"24.78\" y=\"41.2\" text-anchor=\"end\" dy=\"0.35em\" id=\"fig-a9b2d61192a44ec2aef15def8aed44d5-element-437\" visibility=\"hidden\" gadfly:scale=\"5.0\">10<tspan style=\"dominant-baseline:inherit\" dy=\"-0.6em\" font-size=\"83.333333%\">1.5</tspan></text>\n",
        "    <text x=\"24.78\" y=\"36.32\" text-anchor=\"end\" dy=\"0.35em\" id=\"fig-a9b2d61192a44ec2aef15def8aed44d5-element-438\" visibility=\"hidden\" gadfly:scale=\"5.0\">10<tspan style=\"dominant-baseline:inherit\" dy=\"-0.6em\" font-size=\"83.333333%\">2.0</tspan></text>\n",
        "    <text x=\"24.78\" y=\"31.43\" text-anchor=\"end\" dy=\"0.35em\" id=\"fig-a9b2d61192a44ec2aef15def8aed44d5-element-439\" visibility=\"hidden\" gadfly:scale=\"5.0\">10<tspan style=\"dominant-baseline:inherit\" dy=\"-0.6em\" font-size=\"83.333333%\">2.5</tspan></text>\n",
        "    <text x=\"24.78\" y=\"26.54\" text-anchor=\"end\" dy=\"0.35em\" id=\"fig-a9b2d61192a44ec2aef15def8aed44d5-element-440\" visibility=\"hidden\" gadfly:scale=\"5.0\">10<tspan style=\"dominant-baseline:inherit\" dy=\"-0.6em\" font-size=\"83.333333%\">3.0</tspan></text>\n",
        "    <text x=\"24.78\" y=\"21.66\" text-anchor=\"end\" dy=\"0.35em\" id=\"fig-a9b2d61192a44ec2aef15def8aed44d5-element-441\" visibility=\"hidden\" gadfly:scale=\"5.0\">10<tspan style=\"dominant-baseline:inherit\" dy=\"-0.6em\" font-size=\"83.333333%\">3.5</tspan></text>\n",
        "    <text x=\"24.78\" y=\"16.77\" text-anchor=\"end\" dy=\"0.35em\" id=\"fig-a9b2d61192a44ec2aef15def8aed44d5-element-442\" visibility=\"hidden\" gadfly:scale=\"5.0\">10<tspan style=\"dominant-baseline:inherit\" dy=\"-0.6em\" font-size=\"83.333333%\">4.0</tspan></text>\n",
        "    <text x=\"24.78\" y=\"11.89\" text-anchor=\"end\" dy=\"0.35em\" id=\"fig-a9b2d61192a44ec2aef15def8aed44d5-element-443\" visibility=\"hidden\" gadfly:scale=\"5.0\">10<tspan style=\"dominant-baseline:inherit\" dy=\"-0.6em\" font-size=\"83.333333%\">4.5</tspan></text>\n",
        "    <text x=\"24.78\" y=\"7\" text-anchor=\"end\" dy=\"0.35em\" id=\"fig-a9b2d61192a44ec2aef15def8aed44d5-element-444\" visibility=\"hidden\" gadfly:scale=\"5.0\">10<tspan style=\"dominant-baseline:inherit\" dy=\"-0.6em\" font-size=\"83.333333%\">5.0</tspan></text>\n",
        "    <text x=\"24.78\" y=\"2.11\" text-anchor=\"end\" dy=\"0.35em\" id=\"fig-a9b2d61192a44ec2aef15def8aed44d5-element-445\" visibility=\"hidden\" gadfly:scale=\"5.0\">10<tspan style=\"dominant-baseline:inherit\" dy=\"-0.6em\" font-size=\"83.333333%\">5.5</tspan></text>\n",
        "    <text x=\"24.78\" y=\"-2.77\" text-anchor=\"end\" dy=\"0.35em\" id=\"fig-a9b2d61192a44ec2aef15def8aed44d5-element-446\" visibility=\"hidden\" gadfly:scale=\"5.0\">10<tspan style=\"dominant-baseline:inherit\" dy=\"-0.6em\" font-size=\"83.333333%\">6.0</tspan></text>\n",
        "    <text x=\"24.78\" y=\"-7.66\" text-anchor=\"end\" dy=\"0.35em\" id=\"fig-a9b2d61192a44ec2aef15def8aed44d5-element-447\" visibility=\"hidden\" gadfly:scale=\"5.0\">10<tspan style=\"dominant-baseline:inherit\" dy=\"-0.6em\" font-size=\"83.333333%\">6.5</tspan></text>\n",
        "    <text x=\"24.78\" y=\"-12.54\" text-anchor=\"end\" dy=\"0.35em\" id=\"fig-a9b2d61192a44ec2aef15def8aed44d5-element-448\" visibility=\"hidden\" gadfly:scale=\"5.0\">10<tspan style=\"dominant-baseline:inherit\" dy=\"-0.6em\" font-size=\"83.333333%\">7.0</tspan></text>\n",
        "    <text x=\"24.78\" y=\"-17.43\" text-anchor=\"end\" dy=\"0.35em\" id=\"fig-a9b2d61192a44ec2aef15def8aed44d5-element-449\" visibility=\"hidden\" gadfly:scale=\"5.0\">10<tspan style=\"dominant-baseline:inherit\" dy=\"-0.6em\" font-size=\"83.333333%\">7.5</tspan></text>\n",
        "    <text x=\"24.78\" y=\"-22.32\" text-anchor=\"end\" dy=\"0.35em\" id=\"fig-a9b2d61192a44ec2aef15def8aed44d5-element-450\" visibility=\"hidden\" gadfly:scale=\"5.0\">10<tspan style=\"dominant-baseline:inherit\" dy=\"-0.6em\" font-size=\"83.333333%\">8.0</tspan></text>\n",
        "    <text x=\"24.78\" y=\"-27.2\" text-anchor=\"end\" dy=\"0.35em\" id=\"fig-a9b2d61192a44ec2aef15def8aed44d5-element-451\" visibility=\"hidden\" gadfly:scale=\"5.0\">10<tspan style=\"dominant-baseline:inherit\" dy=\"-0.6em\" font-size=\"83.333333%\">8.5</tspan></text>\n",
        "    <text x=\"24.78\" y=\"-32.09\" text-anchor=\"end\" dy=\"0.35em\" id=\"fig-a9b2d61192a44ec2aef15def8aed44d5-element-452\" visibility=\"hidden\" gadfly:scale=\"5.0\">10<tspan style=\"dominant-baseline:inherit\" dy=\"-0.6em\" font-size=\"83.333333%\">9.0</tspan></text>\n",
        "    <text x=\"24.78\" y=\"-36.97\" text-anchor=\"end\" dy=\"0.35em\" id=\"fig-a9b2d61192a44ec2aef15def8aed44d5-element-453\" visibility=\"hidden\" gadfly:scale=\"5.0\">10<tspan style=\"dominant-baseline:inherit\" dy=\"-0.6em\" font-size=\"83.333333%\">9.5</tspan></text>\n",
        "    <text x=\"24.78\" y=\"-41.86\" text-anchor=\"end\" dy=\"0.35em\" id=\"fig-a9b2d61192a44ec2aef15def8aed44d5-element-454\" visibility=\"hidden\" gadfly:scale=\"5.0\">10<tspan style=\"dominant-baseline:inherit\" dy=\"-0.6em\" font-size=\"83.333333%\">10.0</tspan></text>\n",
        "    <text x=\"24.78\" y=\"-46.75\" text-anchor=\"end\" dy=\"0.35em\" id=\"fig-a9b2d61192a44ec2aef15def8aed44d5-element-455\" visibility=\"hidden\" gadfly:scale=\"5.0\">10<tspan style=\"dominant-baseline:inherit\" dy=\"-0.6em\" font-size=\"83.333333%\">10.5</tspan></text>\n",
        "    <text x=\"24.78\" y=\"-51.63\" text-anchor=\"end\" dy=\"0.35em\" id=\"fig-a9b2d61192a44ec2aef15def8aed44d5-element-456\" visibility=\"hidden\" gadfly:scale=\"5.0\">10<tspan style=\"dominant-baseline:inherit\" dy=\"-0.6em\" font-size=\"83.333333%\">11.0</tspan></text>\n",
        "    <text x=\"24.78\" y=\"-56.52\" text-anchor=\"end\" dy=\"0.35em\" id=\"fig-a9b2d61192a44ec2aef15def8aed44d5-element-457\" visibility=\"hidden\" gadfly:scale=\"5.0\">10<tspan style=\"dominant-baseline:inherit\" dy=\"-0.6em\" font-size=\"83.333333%\">11.5</tspan></text>\n",
        "    <text x=\"24.78\" y=\"-61.4\" text-anchor=\"end\" dy=\"0.35em\" id=\"fig-a9b2d61192a44ec2aef15def8aed44d5-element-458\" visibility=\"hidden\" gadfly:scale=\"5.0\">10<tspan style=\"dominant-baseline:inherit\" dy=\"-0.6em\" font-size=\"83.333333%\">12.0</tspan></text>\n",
        "    <text x=\"24.78\" y=\"-66.29\" text-anchor=\"end\" dy=\"0.35em\" id=\"fig-a9b2d61192a44ec2aef15def8aed44d5-element-459\" visibility=\"hidden\" gadfly:scale=\"5.0\">10<tspan style=\"dominant-baseline:inherit\" dy=\"-0.6em\" font-size=\"83.333333%\">12.5</tspan></text>\n",
        "    <text x=\"24.78\" y=\"-71.18\" text-anchor=\"end\" dy=\"0.35em\" id=\"fig-a9b2d61192a44ec2aef15def8aed44d5-element-460\" visibility=\"hidden\" gadfly:scale=\"5.0\">10<tspan style=\"dominant-baseline:inherit\" dy=\"-0.6em\" font-size=\"83.333333%\">13.0</tspan></text>\n",
        "    <text x=\"24.78\" y=\"-76.06\" text-anchor=\"end\" dy=\"0.35em\" id=\"fig-a9b2d61192a44ec2aef15def8aed44d5-element-461\" visibility=\"hidden\" gadfly:scale=\"5.0\">10<tspan style=\"dominant-baseline:inherit\" dy=\"-0.6em\" font-size=\"83.333333%\">13.5</tspan></text>\n",
        "    <text x=\"24.78\" y=\"-80.95\" text-anchor=\"end\" dy=\"0.35em\" id=\"fig-a9b2d61192a44ec2aef15def8aed44d5-element-462\" visibility=\"hidden\" gadfly:scale=\"5.0\">10<tspan style=\"dominant-baseline:inherit\" dy=\"-0.6em\" font-size=\"83.333333%\">14.0</tspan></text>\n",
        "  </g>\n",
        "  <g font-size=\"6\" font-family=\"'PT Sans','Helvetica Neue','Helvetica',sans-serif\" fill=\"#FFFFFF\" stroke=\"none\" id=\"fig-a9b2d61192a44ec2aef15def8aed44d5-element-463\">\n",
        "    <text x=\"9.79\" y=\"39.2\" text-anchor=\"middle\" dy=\"0.35em\" transform=\"rotate(-90, 9.79, 41.2)\" id=\"fig-a9b2d61192a44ec2aef15def8aed44d5-element-464\">Surface density [g/cm^2]</text>\n",
        "  </g>\n",
        "</g>\n",
        "<defs>\n",
        "<clipPath id=\"fig-a9b2d61192a44ec2aef15def8aed44d5-element-16\">\n",
        "  <path d=\"M25.78,5 L 119.16 5 119.16 77.4 25.78 77.4\" />\n",
        "</clipPath\n",
        "></defs>\n",
        "<script> <![CDATA[\n",
        "(function(N){var k=/[\\.\\/]/,L=/\\s*,\\s*/,C=function(a,d){return a-d},a,v,y={n:{}},M=function(){for(var a=0,d=this.length;a<d;a++)if(\"undefined\"!=typeof this[a])return this[a]},A=function(){for(var a=this.length;--a;)if(\"undefined\"!=typeof this[a])return this[a]},w=function(k,d){k=String(k);var f=v,n=Array.prototype.slice.call(arguments,2),u=w.listeners(k),p=0,b,q=[],e={},l=[],r=a;l.firstDefined=M;l.lastDefined=A;a=k;for(var s=v=0,x=u.length;s<x;s++)\"zIndex\"in u[s]&&(q.push(u[s].zIndex),0>u[s].zIndex&&\n",
        "(e[u[s].zIndex]=u[s]));for(q.sort(C);0>q[p];)if(b=e[q[p++] ],l.push(b.apply(d,n)),v)return v=f,l;for(s=0;s<x;s++)if(b=u[s],\"zIndex\"in b)if(b.zIndex==q[p]){l.push(b.apply(d,n));if(v)break;do if(p++,(b=e[q[p] ])&&l.push(b.apply(d,n)),v)break;while(b)}else e[b.zIndex]=b;else if(l.push(b.apply(d,n)),v)break;v=f;a=r;return l};w._events=y;w.listeners=function(a){a=a.split(k);var d=y,f,n,u,p,b,q,e,l=[d],r=[];u=0;for(p=a.length;u<p;u++){e=[];b=0;for(q=l.length;b<q;b++)for(d=l[b].n,f=[d[a[u] ],d[\"*\"] ],n=2;n--;)if(d=\n",
        "f[n])e.push(d),r=r.concat(d.f||[]);l=e}return r};w.on=function(a,d){a=String(a);if(\"function\"!=typeof d)return function(){};for(var f=a.split(L),n=0,u=f.length;n<u;n++)(function(a){a=a.split(k);for(var b=y,f,e=0,l=a.length;e<l;e++)b=b.n,b=b.hasOwnProperty(a[e])&&b[a[e] ]||(b[a[e] ]={n:{}});b.f=b.f||[];e=0;for(l=b.f.length;e<l;e++)if(b.f[e]==d){f=!0;break}!f&&b.f.push(d)})(f[n]);return function(a){+a==+a&&(d.zIndex=+a)}};w.f=function(a){var d=[].slice.call(arguments,1);return function(){w.apply(null,\n",
        "[a,null].concat(d).concat([].slice.call(arguments,0)))}};w.stop=function(){v=1};w.nt=function(k){return k?(new RegExp(\"(?:\\\\.|\\\\/|^)\"+k+\"(?:\\\\.|\\\\/|$)\")).test(a):a};w.nts=function(){return a.split(k)};w.off=w.unbind=function(a,d){if(a){var f=a.split(L);if(1<f.length)for(var n=0,u=f.length;n<u;n++)w.off(f[n],d);else{for(var f=a.split(k),p,b,q,e,l=[y],n=0,u=f.length;n<u;n++)for(e=0;e<l.length;e+=q.length-2){q=[e,1];p=l[e].n;if(\"*\"!=f[n])p[f[n] ]&&q.push(p[f[n] ]);else for(b in p)p.hasOwnProperty(b)&&\n",
        "q.push(p[b]);l.splice.apply(l,q)}n=0;for(u=l.length;n<u;n++)for(p=l[n];p.n;){if(d){if(p.f){e=0;for(f=p.f.length;e<f;e++)if(p.f[e]==d){p.f.splice(e,1);break}!p.f.length&&delete p.f}for(b in p.n)if(p.n.hasOwnProperty(b)&&p.n[b].f){q=p.n[b].f;e=0;for(f=q.length;e<f;e++)if(q[e]==d){q.splice(e,1);break}!q.length&&delete p.n[b].f}}else for(b in delete p.f,p.n)p.n.hasOwnProperty(b)&&p.n[b].f&&delete p.n[b].f;p=p.n}}}else w._events=y={n:{}}};w.once=function(a,d){var f=function(){w.unbind(a,f);return d.apply(this,\n",
        "arguments)};return w.on(a,f)};w.version=\"0.4.2\";w.toString=function(){return\"You are running Eve 0.4.2\"};\"undefined\"!=typeof module&&module.exports?module.exports=w:\"function\"===typeof define&&define.amd?define(\"eve\",[],function(){return w}):N.eve=w})(this);\n",
        "(function(N,k){\"function\"===typeof define&&define.amd?define(\"Snap.svg\",[\"eve\"],function(L){return k(N,L)}):k(N,N.eve)})(this,function(N,k){var L=function(a){var k={},y=N.requestAnimationFrame||N.webkitRequestAnimationFrame||N.mozRequestAnimationFrame||N.oRequestAnimationFrame||N.msRequestAnimationFrame||function(a){setTimeout(a,16)},M=Array.isArray||function(a){return a instanceof Array||\"[object Array]\"==Object.prototype.toString.call(a)},A=0,w=\"M\"+(+new Date).toString(36),z=function(a){if(null==\n",
        "a)return this.s;var b=this.s-a;this.b+=this.dur*b;this.B+=this.dur*b;this.s=a},d=function(a){if(null==a)return this.spd;this.spd=a},f=function(a){if(null==a)return this.dur;this.s=this.s*a/this.dur;this.dur=a},n=function(){delete k[this.id];this.update();a(\"mina.stop.\"+this.id,this)},u=function(){this.pdif||(delete k[this.id],this.update(),this.pdif=this.get()-this.b)},p=function(){this.pdif&&(this.b=this.get()-this.pdif,delete this.pdif,k[this.id]=this)},b=function(){var a;if(M(this.start)){a=[];\n",
        "for(var b=0,e=this.start.length;b<e;b++)a[b]=+this.start[b]+(this.end[b]-this.start[b])*this.easing(this.s)}else a=+this.start+(this.end-this.start)*this.easing(this.s);this.set(a)},q=function(){var l=0,b;for(b in k)if(k.hasOwnProperty(b)){var e=k[b],f=e.get();l++;e.s=(f-e.b)/(e.dur/e.spd);1<=e.s&&(delete k[b],e.s=1,l--,function(b){setTimeout(function(){a(\"mina.finish.\"+b.id,b)})}(e));e.update()}l&&y(q)},e=function(a,r,s,x,G,h,J){a={id:w+(A++).toString(36),start:a,end:r,b:s,s:0,dur:x-s,spd:1,get:G,\n",
        "set:h,easing:J||e.linear,status:z,speed:d,duration:f,stop:n,pause:u,resume:p,update:b};k[a.id]=a;r=0;for(var K in k)if(k.hasOwnProperty(K)&&(r++,2==r))break;1==r&&y(q);return a};e.time=Date.now||function(){return+new Date};e.getById=function(a){return k[a]||null};e.linear=function(a){return a};e.easeout=function(a){return Math.pow(a,1.7)};e.easein=function(a){return Math.pow(a,0.48)};e.easeinout=function(a){if(1==a)return 1;if(0==a)return 0;var b=0.48-a/1.04,e=Math.sqrt(0.1734+b*b);a=e-b;a=Math.pow(Math.abs(a),\n",
        "1/3)*(0>a?-1:1);b=-e-b;b=Math.pow(Math.abs(b),1/3)*(0>b?-1:1);a=a+b+0.5;return 3*(1-a)*a*a+a*a*a};e.backin=function(a){return 1==a?1:a*a*(2.70158*a-1.70158)};e.backout=function(a){if(0==a)return 0;a-=1;return a*a*(2.70158*a+1.70158)+1};e.elastic=function(a){return a==!!a?a:Math.pow(2,-10*a)*Math.sin(2*(a-0.075)*Math.PI/0.3)+1};e.bounce=function(a){a<1/2.75?a*=7.5625*a:a<2/2.75?(a-=1.5/2.75,a=7.5625*a*a+0.75):a<2.5/2.75?(a-=2.25/2.75,a=7.5625*a*a+0.9375):(a-=2.625/2.75,a=7.5625*a*a+0.984375);return a};\n",
        "return N.mina=e}(\"undefined\"==typeof k?function(){}:k),C=function(){function a(c,t){if(c){if(c.tagName)return x(c);if(y(c,\"array\")&&a.set)return a.set.apply(a,c);if(c instanceof e)return c;if(null==t)return c=G.doc.querySelector(c),x(c)}return new s(null==c?\"100%\":c,null==t?\"100%\":t)}function v(c,a){if(a){\"#text\"==c&&(c=G.doc.createTextNode(a.text||\"\"));\"string\"==typeof c&&(c=v(c));if(\"string\"==typeof a)return\"xlink:\"==a.substring(0,6)?c.getAttributeNS(m,a.substring(6)):\"xml:\"==a.substring(0,4)?c.getAttributeNS(la,\n",
        "a.substring(4)):c.getAttribute(a);for(var da in a)if(a[h](da)){var b=J(a[da]);b?\"xlink:\"==da.substring(0,6)?c.setAttributeNS(m,da.substring(6),b):\"xml:\"==da.substring(0,4)?c.setAttributeNS(la,da.substring(4),b):c.setAttribute(da,b):c.removeAttribute(da)}}else c=G.doc.createElementNS(la,c);return c}function y(c,a){a=J.prototype.toLowerCase.call(a);return\"finite\"==a?isFinite(c):\"array\"==a&&(c instanceof Array||Array.isArray&&Array.isArray(c))?!0:\"null\"==a&&null===c||a==typeof c&&null!==c||\"object\"==\n",
        "a&&c===Object(c)||$.call(c).slice(8,-1).toLowerCase()==a}function M(c){if(\"function\"==typeof c||Object(c)!==c)return c;var a=new c.constructor,b;for(b in c)c[h](b)&&(a[b]=M(c[b]));return a}function A(c,a,b){function m(){var e=Array.prototype.slice.call(arguments,0),f=e.join(\"\\u2400\"),d=m.cache=m.cache||{},l=m.count=m.count||[];if(d[h](f)){a:for(var e=l,l=f,B=0,H=e.length;B<H;B++)if(e[B]===l){e.push(e.splice(B,1)[0]);break a}return b?b(d[f]):d[f]}1E3<=l.length&&delete d[l.shift()];l.push(f);d[f]=c.apply(a,\n",
        "e);return b?b(d[f]):d[f]}return m}function w(c,a,b,m,e,f){return null==e?(c-=b,a-=m,c||a?(180*I.atan2(-a,-c)/C+540)%360:0):w(c,a,e,f)-w(b,m,e,f)}function z(c){return c%360*C/180}function d(c){var a=[];c=c.replace(/(?:^|\\s)(\\w+)\\(([^)]+)\\)/g,function(c,b,m){m=m.split(/\\s*,\\s*|\\s+/);\"rotate\"==b&&1==m.length&&m.push(0,0);\"scale\"==b&&(2<m.length?m=m.slice(0,2):2==m.length&&m.push(0,0),1==m.length&&m.push(m[0],0,0));\"skewX\"==b?a.push([\"m\",1,0,I.tan(z(m[0])),1,0,0]):\"skewY\"==b?a.push([\"m\",1,I.tan(z(m[0])),\n",
        "0,1,0,0]):a.push([b.charAt(0)].concat(m));return c});return a}function f(c,t){var b=O(c),m=new a.Matrix;if(b)for(var e=0,f=b.length;e<f;e++){var h=b[e],d=h.length,B=J(h[0]).toLowerCase(),H=h[0]!=B,l=H?m.invert():0,E;\"t\"==B&&2==d?m.translate(h[1],0):\"t\"==B&&3==d?H?(d=l.x(0,0),B=l.y(0,0),H=l.x(h[1],h[2]),l=l.y(h[1],h[2]),m.translate(H-d,l-B)):m.translate(h[1],h[2]):\"r\"==B?2==d?(E=E||t,m.rotate(h[1],E.x+E.width/2,E.y+E.height/2)):4==d&&(H?(H=l.x(h[2],h[3]),l=l.y(h[2],h[3]),m.rotate(h[1],H,l)):m.rotate(h[1],\n",
        "h[2],h[3])):\"s\"==B?2==d||3==d?(E=E||t,m.scale(h[1],h[d-1],E.x+E.width/2,E.y+E.height/2)):4==d?H?(H=l.x(h[2],h[3]),l=l.y(h[2],h[3]),m.scale(h[1],h[1],H,l)):m.scale(h[1],h[1],h[2],h[3]):5==d&&(H?(H=l.x(h[3],h[4]),l=l.y(h[3],h[4]),m.scale(h[1],h[2],H,l)):m.scale(h[1],h[2],h[3],h[4])):\"m\"==B&&7==d&&m.add(h[1],h[2],h[3],h[4],h[5],h[6])}return m}function n(c,t){if(null==t){var m=!0;t=\"linearGradient\"==c.type||\"radialGradient\"==c.type?c.node.getAttribute(\"gradientTransform\"):\"pattern\"==c.type?c.node.getAttribute(\"patternTransform\"):\n",
        "c.node.getAttribute(\"transform\");if(!t)return new a.Matrix;t=d(t)}else t=a._.rgTransform.test(t)?J(t).replace(/\\.{3}|\\u2026/g,c._.transform||aa):d(t),y(t,\"array\")&&(t=a.path?a.path.toString.call(t):J(t)),c._.transform=t;var b=f(t,c.getBBox(1));if(m)return b;c.matrix=b}function u(c){c=c.node.ownerSVGElement&&x(c.node.ownerSVGElement)||c.node.parentNode&&x(c.node.parentNode)||a.select(\"svg\")||a(0,0);var t=c.select(\"defs\"),t=null==t?!1:t.node;t||(t=r(\"defs\",c.node).node);return t}function p(c){return c.node.ownerSVGElement&&\n",
        "x(c.node.ownerSVGElement)||a.select(\"svg\")}function b(c,a,m){function b(c){if(null==c)return aa;if(c==+c)return c;v(B,{width:c});try{return B.getBBox().width}catch(a){return 0}}function h(c){if(null==c)return aa;if(c==+c)return c;v(B,{height:c});try{return B.getBBox().height}catch(a){return 0}}function e(b,B){null==a?d[b]=B(c.attr(b)||0):b==a&&(d=B(null==m?c.attr(b)||0:m))}var f=p(c).node,d={},B=f.querySelector(\".svg---mgr\");B||(B=v(\"rect\"),v(B,{x:-9E9,y:-9E9,width:10,height:10,\"class\":\"svg---mgr\",\n",
        "fill:\"none\"}),f.appendChild(B));switch(c.type){case \"rect\":e(\"rx\",b),e(\"ry\",h);case \"image\":e(\"width\",b),e(\"height\",h);case \"text\":e(\"x\",b);e(\"y\",h);break;case \"circle\":e(\"cx\",b);e(\"cy\",h);e(\"r\",b);break;case \"ellipse\":e(\"cx\",b);e(\"cy\",h);e(\"rx\",b);e(\"ry\",h);break;case \"line\":e(\"x1\",b);e(\"x2\",b);e(\"y1\",h);e(\"y2\",h);break;case \"marker\":e(\"refX\",b);e(\"markerWidth\",b);e(\"refY\",h);e(\"markerHeight\",h);break;case \"radialGradient\":e(\"fx\",b);e(\"fy\",h);break;case \"tspan\":e(\"dx\",b);e(\"dy\",h);break;default:e(a,\n",
        "b)}f.removeChild(B);return d}function q(c){y(c,\"array\")||(c=Array.prototype.slice.call(arguments,0));for(var a=0,b=0,m=this.node;this[a];)delete this[a++];for(a=0;a<c.length;a++)\"set\"==c[a].type?c[a].forEach(function(c){m.appendChild(c.node)}):m.appendChild(c[a].node);for(var h=m.childNodes,a=0;a<h.length;a++)this[b++]=x(h[a]);return this}function e(c){if(c.snap in E)return E[c.snap];var a=this.id=V(),b;try{b=c.ownerSVGElement}catch(m){}this.node=c;b&&(this.paper=new s(b));this.type=c.tagName;this.anims=\n",
        "{};this._={transform:[]};c.snap=a;E[a]=this;\"g\"==this.type&&(this.add=q);if(this.type in{g:1,mask:1,pattern:1})for(var e in s.prototype)s.prototype[h](e)&&(this[e]=s.prototype[e])}function l(c){this.node=c}function r(c,a){var b=v(c);a.appendChild(b);return x(b)}function s(c,a){var b,m,f,d=s.prototype;if(c&&\"svg\"==c.tagName){if(c.snap in E)return E[c.snap];var l=c.ownerDocument;b=new e(c);m=c.getElementsByTagName(\"desc\")[0];f=c.getElementsByTagName(\"defs\")[0];m||(m=v(\"desc\"),m.appendChild(l.createTextNode(\"Created with Snap\")),\n",
        "b.node.appendChild(m));f||(f=v(\"defs\"),b.node.appendChild(f));b.defs=f;for(var ca in d)d[h](ca)&&(b[ca]=d[ca]);b.paper=b.root=b}else b=r(\"svg\",G.doc.body),v(b.node,{height:a,version:1.1,width:c,xmlns:la});return b}function x(c){return!c||c instanceof e||c instanceof l?c:c.tagName&&\"svg\"==c.tagName.toLowerCase()?new s(c):c.tagName&&\"object\"==c.tagName.toLowerCase()&&\"image/svg+xml\"==c.type?new s(c.contentDocument.getElementsByTagName(\"svg\")[0]):new e(c)}a.version=\"0.3.0\";a.toString=function(){return\"Snap v\"+\n",
        "this.version};a._={};var G={win:N,doc:N.document};a._.glob=G;var h=\"hasOwnProperty\",J=String,K=parseFloat,U=parseInt,I=Math,P=I.max,Q=I.min,Y=I.abs,C=I.PI,aa=\"\",$=Object.prototype.toString,F=/^\\s*((#[a-f\\d]{6})|(#[a-f\\d]{3})|rgba?\\(\\s*([\\d\\.]+%?\\s*,\\s*[\\d\\.]+%?\\s*,\\s*[\\d\\.]+%?(?:\\s*,\\s*[\\d\\.]+%?)?)\\s*\\)|hsba?\\(\\s*([\\d\\.]+(?:deg|\\xb0|%)?\\s*,\\s*[\\d\\.]+%?\\s*,\\s*[\\d\\.]+(?:%?\\s*,\\s*[\\d\\.]+)?%?)\\s*\\)|hsla?\\(\\s*([\\d\\.]+(?:deg|\\xb0|%)?\\s*,\\s*[\\d\\.]+%?\\s*,\\s*[\\d\\.]+(?:%?\\s*,\\s*[\\d\\.]+)?%?)\\s*\\))\\s*$/i;a._.separator=\n",
        "RegExp(\"[,\\t\\n\\x0B\\f\\r \\u00a0\\u1680\\u180e\\u2000\\u2001\\u2002\\u2003\\u2004\\u2005\\u2006\\u2007\\u2008\\u2009\\u200a\\u202f\\u205f\\u3000\\u2028\\u2029]+\");var S=RegExp(\"[\\t\\n\\x0B\\f\\r \\u00a0\\u1680\\u180e\\u2000\\u2001\\u2002\\u2003\\u2004\\u2005\\u2006\\u2007\\u2008\\u2009\\u200a\\u202f\\u205f\\u3000\\u2028\\u2029]*,[\\t\\n\\x0B\\f\\r \\u00a0\\u1680\\u180e\\u2000\\u2001\\u2002\\u2003\\u2004\\u2005\\u2006\\u2007\\u2008\\u2009\\u200a\\u202f\\u205f\\u3000\\u2028\\u2029]*\"),X={hs:1,rg:1},W=RegExp(\"([a-z])[\\t\\n\\x0B\\f\\r \\u00a0\\u1680\\u180e\\u2000\\u2001\\u2002\\u2003\\u2004\\u2005\\u2006\\u2007\\u2008\\u2009\\u200a\\u202f\\u205f\\u3000\\u2028\\u2029,]*((-?\\\\d*\\\\.?\\\\d*(?:e[\\\\-+]?\\\\d+)?[\\t\\n\\x0B\\f\\r \\u00a0\\u1680\\u180e\\u2000\\u2001\\u2002\\u2003\\u2004\\u2005\\u2006\\u2007\\u2008\\u2009\\u200a\\u202f\\u205f\\u3000\\u2028\\u2029]*,?[\\t\\n\\x0B\\f\\r \\u00a0\\u1680\\u180e\\u2000\\u2001\\u2002\\u2003\\u2004\\u2005\\u2006\\u2007\\u2008\\u2009\\u200a\\u202f\\u205f\\u3000\\u2028\\u2029]*)+)\",\n",
        "\"ig\"),ma=RegExp(\"([rstm])[\\t\\n\\x0B\\f\\r \\u00a0\\u1680\\u180e\\u2000\\u2001\\u2002\\u2003\\u2004\\u2005\\u2006\\u2007\\u2008\\u2009\\u200a\\u202f\\u205f\\u3000\\u2028\\u2029,]*((-?\\\\d*\\\\.?\\\\d*(?:e[\\\\-+]?\\\\d+)?[\\t\\n\\x0B\\f\\r \\u00a0\\u1680\\u180e\\u2000\\u2001\\u2002\\u2003\\u2004\\u2005\\u2006\\u2007\\u2008\\u2009\\u200a\\u202f\\u205f\\u3000\\u2028\\u2029]*,?[\\t\\n\\x0B\\f\\r \\u00a0\\u1680\\u180e\\u2000\\u2001\\u2002\\u2003\\u2004\\u2005\\u2006\\u2007\\u2008\\u2009\\u200a\\u202f\\u205f\\u3000\\u2028\\u2029]*)+)\",\"ig\"),Z=RegExp(\"(-?\\\\d*\\\\.?\\\\d*(?:e[\\\\-+]?\\\\d+)?)[\\t\\n\\x0B\\f\\r \\u00a0\\u1680\\u180e\\u2000\\u2001\\u2002\\u2003\\u2004\\u2005\\u2006\\u2007\\u2008\\u2009\\u200a\\u202f\\u205f\\u3000\\u2028\\u2029]*,?[\\t\\n\\x0B\\f\\r \\u00a0\\u1680\\u180e\\u2000\\u2001\\u2002\\u2003\\u2004\\u2005\\u2006\\u2007\\u2008\\u2009\\u200a\\u202f\\u205f\\u3000\\u2028\\u2029]*\",\n",
        "\"ig\"),na=0,ba=\"S\"+(+new Date).toString(36),V=function(){return ba+(na++).toString(36)},m=\"http://www.w3.org/1999/xlink\",la=\"http://www.w3.org/2000/svg\",E={},ca=a.url=function(c){return\"url('#\"+c+\"')\"};a._.$=v;a._.id=V;a.format=function(){var c=/\\{([^\\}]+)\\}/g,a=/(?:(?:^|\\.)(.+?)(?=\\[|\\.|$|\\()|\\[('|\")(.+?)\\2\\])(\\(\\))?/g,b=function(c,b,m){var h=m;b.replace(a,function(c,a,b,m,t){a=a||m;h&&(a in h&&(h=h[a]),\"function\"==typeof h&&t&&(h=h()))});return h=(null==h||h==m?c:h)+\"\"};return function(a,m){return J(a).replace(c,\n",
        "function(c,a){return b(c,a,m)})}}();a._.clone=M;a._.cacher=A;a.rad=z;a.deg=function(c){return 180*c/C%360};a.angle=w;a.is=y;a.snapTo=function(c,a,b){b=y(b,\"finite\")?b:10;if(y(c,\"array\"))for(var m=c.length;m--;){if(Y(c[m]-a)<=b)return c[m]}else{c=+c;m=a%c;if(m<b)return a-m;if(m>c-b)return a-m+c}return a};a.getRGB=A(function(c){if(!c||(c=J(c)).indexOf(\"-\")+1)return{r:-1,g:-1,b:-1,hex:\"none\",error:1,toString:ka};if(\"none\"==c)return{r:-1,g:-1,b:-1,hex:\"none\",toString:ka};!X[h](c.toLowerCase().substring(0,\n",
        "2))&&\"#\"!=c.charAt()&&(c=T(c));if(!c)return{r:-1,g:-1,b:-1,hex:\"none\",error:1,toString:ka};var b,m,e,f,d;if(c=c.match(F)){c[2]&&(e=U(c[2].substring(5),16),m=U(c[2].substring(3,5),16),b=U(c[2].substring(1,3),16));c[3]&&(e=U((d=c[3].charAt(3))+d,16),m=U((d=c[3].charAt(2))+d,16),b=U((d=c[3].charAt(1))+d,16));c[4]&&(d=c[4].split(S),b=K(d[0]),\"%\"==d[0].slice(-1)&&(b*=2.55),m=K(d[1]),\"%\"==d[1].slice(-1)&&(m*=2.55),e=K(d[2]),\"%\"==d[2].slice(-1)&&(e*=2.55),\"rgba\"==c[1].toLowerCase().slice(0,4)&&(f=K(d[3])),\n",
        "d[3]&&\"%\"==d[3].slice(-1)&&(f/=100));if(c[5])return d=c[5].split(S),b=K(d[0]),\"%\"==d[0].slice(-1)&&(b/=100),m=K(d[1]),\"%\"==d[1].slice(-1)&&(m/=100),e=K(d[2]),\"%\"==d[2].slice(-1)&&(e/=100),\"deg\"!=d[0].slice(-3)&&\"\\u00b0\"!=d[0].slice(-1)||(b/=360),\"hsba\"==c[1].toLowerCase().slice(0,4)&&(f=K(d[3])),d[3]&&\"%\"==d[3].slice(-1)&&(f/=100),a.hsb2rgb(b,m,e,f);if(c[6])return d=c[6].split(S),b=K(d[0]),\"%\"==d[0].slice(-1)&&(b/=100),m=K(d[1]),\"%\"==d[1].slice(-1)&&(m/=100),e=K(d[2]),\"%\"==d[2].slice(-1)&&(e/=100),\n",
        "\"deg\"!=d[0].slice(-3)&&\"\\u00b0\"!=d[0].slice(-1)||(b/=360),\"hsla\"==c[1].toLowerCase().slice(0,4)&&(f=K(d[3])),d[3]&&\"%\"==d[3].slice(-1)&&(f/=100),a.hsl2rgb(b,m,e,f);b=Q(I.round(b),255);m=Q(I.round(m),255);e=Q(I.round(e),255);f=Q(P(f,0),1);c={r:b,g:m,b:e,toString:ka};c.hex=\"#\"+(16777216|e|m<<8|b<<16).toString(16).slice(1);c.opacity=y(f,\"finite\")?f:1;return c}return{r:-1,g:-1,b:-1,hex:\"none\",error:1,toString:ka}},a);a.hsb=A(function(c,b,m){return a.hsb2rgb(c,b,m).hex});a.hsl=A(function(c,b,m){return a.hsl2rgb(c,\n",
        "b,m).hex});a.rgb=A(function(c,a,b,m){if(y(m,\"finite\")){var e=I.round;return\"rgba(\"+[e(c),e(a),e(b),+m.toFixed(2)]+\")\"}return\"#\"+(16777216|b|a<<8|c<<16).toString(16).slice(1)});var T=function(c){var a=G.doc.getElementsByTagName(\"head\")[0]||G.doc.getElementsByTagName(\"svg\")[0];T=A(function(c){if(\"red\"==c.toLowerCase())return\"rgb(255, 0, 0)\";a.style.color=\"rgb(255, 0, 0)\";a.style.color=c;c=G.doc.defaultView.getComputedStyle(a,aa).getPropertyValue(\"color\");return\"rgb(255, 0, 0)\"==c?null:c});return T(c)},\n",
        "qa=function(){return\"hsb(\"+[this.h,this.s,this.b]+\")\"},ra=function(){return\"hsl(\"+[this.h,this.s,this.l]+\")\"},ka=function(){return 1==this.opacity||null==this.opacity?this.hex:\"rgba(\"+[this.r,this.g,this.b,this.opacity]+\")\"},D=function(c,b,m){null==b&&y(c,\"object\")&&\"r\"in c&&\"g\"in c&&\"b\"in c&&(m=c.b,b=c.g,c=c.r);null==b&&y(c,string)&&(m=a.getRGB(c),c=m.r,b=m.g,m=m.b);if(1<c||1<b||1<m)c/=255,b/=255,m/=255;return[c,b,m]},oa=function(c,b,m,e){c=I.round(255*c);b=I.round(255*b);m=I.round(255*m);c={r:c,\n",
        "g:b,b:m,opacity:y(e,\"finite\")?e:1,hex:a.rgb(c,b,m),toString:ka};y(e,\"finite\")&&(c.opacity=e);return c};a.color=function(c){var b;y(c,\"object\")&&\"h\"in c&&\"s\"in c&&\"b\"in c?(b=a.hsb2rgb(c),c.r=b.r,c.g=b.g,c.b=b.b,c.opacity=1,c.hex=b.hex):y(c,\"object\")&&\"h\"in c&&\"s\"in c&&\"l\"in c?(b=a.hsl2rgb(c),c.r=b.r,c.g=b.g,c.b=b.b,c.opacity=1,c.hex=b.hex):(y(c,\"string\")&&(c=a.getRGB(c)),y(c,\"object\")&&\"r\"in c&&\"g\"in c&&\"b\"in c&&!(\"error\"in c)?(b=a.rgb2hsl(c),c.h=b.h,c.s=b.s,c.l=b.l,b=a.rgb2hsb(c),c.v=b.b):(c={hex:\"none\"},\n",
        "c.r=c.g=c.b=c.h=c.s=c.v=c.l=-1,c.error=1));c.toString=ka;return c};a.hsb2rgb=function(c,a,b,m){y(c,\"object\")&&\"h\"in c&&\"s\"in c&&\"b\"in c&&(b=c.b,a=c.s,c=c.h,m=c.o);var e,h,d;c=360*c%360/60;d=b*a;a=d*(1-Y(c%2-1));b=e=h=b-d;c=~~c;b+=[d,a,0,0,a,d][c];e+=[a,d,d,a,0,0][c];h+=[0,0,a,d,d,a][c];return oa(b,e,h,m)};a.hsl2rgb=function(c,a,b,m){y(c,\"object\")&&\"h\"in c&&\"s\"in c&&\"l\"in c&&(b=c.l,a=c.s,c=c.h);if(1<c||1<a||1<b)c/=360,a/=100,b/=100;var e,h,d;c=360*c%360/60;d=2*a*(0.5>b?b:1-b);a=d*(1-Y(c%2-1));b=e=\n",
        "h=b-d/2;c=~~c;b+=[d,a,0,0,a,d][c];e+=[a,d,d,a,0,0][c];h+=[0,0,a,d,d,a][c];return oa(b,e,h,m)};a.rgb2hsb=function(c,a,b){b=D(c,a,b);c=b[0];a=b[1];b=b[2];var m,e;m=P(c,a,b);e=m-Q(c,a,b);c=((0==e?0:m==c?(a-b)/e:m==a?(b-c)/e+2:(c-a)/e+4)+360)%6*60/360;return{h:c,s:0==e?0:e/m,b:m,toString:qa}};a.rgb2hsl=function(c,a,b){b=D(c,a,b);c=b[0];a=b[1];b=b[2];var m,e,h;m=P(c,a,b);e=Q(c,a,b);h=m-e;c=((0==h?0:m==c?(a-b)/h:m==a?(b-c)/h+2:(c-a)/h+4)+360)%6*60/360;m=(m+e)/2;return{h:c,s:0==h?0:0.5>m?h/(2*m):h/(2-2*\n",
        "m),l:m,toString:ra}};a.parsePathString=function(c){if(!c)return null;var b=a.path(c);if(b.arr)return a.path.clone(b.arr);var m={a:7,c:6,o:2,h:1,l:2,m:2,r:4,q:4,s:4,t:2,v:1,u:3,z:0},e=[];y(c,\"array\")&&y(c[0],\"array\")&&(e=a.path.clone(c));e.length||J(c).replace(W,function(c,a,b){var h=[];c=a.toLowerCase();b.replace(Z,function(c,a){a&&h.push(+a)});\"m\"==c&&2<h.length&&(e.push([a].concat(h.splice(0,2))),c=\"l\",a=\"m\"==a?\"l\":\"L\");\"o\"==c&&1==h.length&&e.push([a,h[0] ]);if(\"r\"==c)e.push([a].concat(h));else for(;h.length>=\n",
        "m[c]&&(e.push([a].concat(h.splice(0,m[c]))),m[c]););});e.toString=a.path.toString;b.arr=a.path.clone(e);return e};var O=a.parseTransformString=function(c){if(!c)return null;var b=[];y(c,\"array\")&&y(c[0],\"array\")&&(b=a.path.clone(c));b.length||J(c).replace(ma,function(c,a,m){var e=[];a.toLowerCase();m.replace(Z,function(c,a){a&&e.push(+a)});b.push([a].concat(e))});b.toString=a.path.toString;return b};a._.svgTransform2string=d;a._.rgTransform=RegExp(\"^[a-z][\\t\\n\\x0B\\f\\r \\u00a0\\u1680\\u180e\\u2000\\u2001\\u2002\\u2003\\u2004\\u2005\\u2006\\u2007\\u2008\\u2009\\u200a\\u202f\\u205f\\u3000\\u2028\\u2029]*-?\\\\.?\\\\d\",\n",
        "\"i\");a._.transform2matrix=f;a._unit2px=b;a._.getSomeDefs=u;a._.getSomeSVG=p;a.select=function(c){return x(G.doc.querySelector(c))};a.selectAll=function(c){c=G.doc.querySelectorAll(c);for(var b=(a.set||Array)(),m=0;m<c.length;m++)b.push(x(c[m]));return b};setInterval(function(){for(var c in E)if(E[h](c)){var a=E[c],b=a.node;(\"svg\"!=a.type&&!b.ownerSVGElement||\"svg\"==a.type&&(!b.parentNode||\"ownerSVGElement\"in b.parentNode&&!b.ownerSVGElement))&&delete E[c]}},1E4);(function(c){function m(c){function a(c,\n",
        "b){var m=v(c.node,b);(m=(m=m&&m.match(d))&&m[2])&&\"#\"==m.charAt()&&(m=m.substring(1))&&(f[m]=(f[m]||[]).concat(function(a){var m={};m[b]=ca(a);v(c.node,m)}))}function b(c){var a=v(c.node,\"xlink:href\");a&&\"#\"==a.charAt()&&(a=a.substring(1))&&(f[a]=(f[a]||[]).concat(function(a){c.attr(\"xlink:href\",\"#\"+a)}))}var e=c.selectAll(\"*\"),h,d=/^\\s*url\\((\"|'|)(.*)\\1\\)\\s*$/;c=[];for(var f={},l=0,E=e.length;l<E;l++){h=e[l];a(h,\"fill\");a(h,\"stroke\");a(h,\"filter\");a(h,\"mask\");a(h,\"clip-path\");b(h);var t=v(h.node,\n",
        "\"id\");t&&(v(h.node,{id:h.id}),c.push({old:t,id:h.id}))}l=0;for(E=c.length;l<E;l++)if(e=f[c[l].old])for(h=0,t=e.length;h<t;h++)e[h](c[l].id)}function e(c,a,b){return function(m){m=m.slice(c,a);1==m.length&&(m=m[0]);return b?b(m):m}}function d(c){return function(){var a=c?\"<\"+this.type:\"\",b=this.node.attributes,m=this.node.childNodes;if(c)for(var e=0,h=b.length;e<h;e++)a+=\" \"+b[e].name+'=\"'+b[e].value.replace(/\"/g,'\\\\\"')+'\"';if(m.length){c&&(a+=\">\");e=0;for(h=m.length;e<h;e++)3==m[e].nodeType?a+=m[e].nodeValue:\n",
        "1==m[e].nodeType&&(a+=x(m[e]).toString());c&&(a+=\"</\"+this.type+\">\")}else c&&(a+=\"/>\");return a}}c.attr=function(c,a){if(!c)return this;if(y(c,\"string\"))if(1<arguments.length){var b={};b[c]=a;c=b}else return k(\"snap.util.getattr.\"+c,this).firstDefined();for(var m in c)c[h](m)&&k(\"snap.util.attr.\"+m,this,c[m]);return this};c.getBBox=function(c){if(!a.Matrix||!a.path)return this.node.getBBox();var b=this,m=new a.Matrix;if(b.removed)return a._.box();for(;\"use\"==b.type;)if(c||(m=m.add(b.transform().localMatrix.translate(b.attr(\"x\")||\n",
        "0,b.attr(\"y\")||0))),b.original)b=b.original;else var e=b.attr(\"xlink:href\"),b=b.original=b.node.ownerDocument.getElementById(e.substring(e.indexOf(\"#\")+1));var e=b._,h=a.path.get[b.type]||a.path.get.deflt;try{if(c)return e.bboxwt=h?a.path.getBBox(b.realPath=h(b)):a._.box(b.node.getBBox()),a._.box(e.bboxwt);b.realPath=h(b);b.matrix=b.transform().localMatrix;e.bbox=a.path.getBBox(a.path.map(b.realPath,m.add(b.matrix)));return a._.box(e.bbox)}catch(d){return a._.box()}};var f=function(){return this.string};\n",
        "c.transform=function(c){var b=this._;if(null==c){var m=this;c=new a.Matrix(this.node.getCTM());for(var e=n(this),h=[e],d=new a.Matrix,l=e.toTransformString(),b=J(e)==J(this.matrix)?J(b.transform):l;\"svg\"!=m.type&&(m=m.parent());)h.push(n(m));for(m=h.length;m--;)d.add(h[m]);return{string:b,globalMatrix:c,totalMatrix:d,localMatrix:e,diffMatrix:c.clone().add(e.invert()),global:c.toTransformString(),total:d.toTransformString(),local:l,toString:f}}c instanceof a.Matrix?this.matrix=c:n(this,c);this.node&&\n",
        "(\"linearGradient\"==this.type||\"radialGradient\"==this.type?v(this.node,{gradientTransform:this.matrix}):\"pattern\"==this.type?v(this.node,{patternTransform:this.matrix}):v(this.node,{transform:this.matrix}));return this};c.parent=function(){return x(this.node.parentNode)};c.append=c.add=function(c){if(c){if(\"set\"==c.type){var a=this;c.forEach(function(c){a.add(c)});return this}c=x(c);this.node.appendChild(c.node);c.paper=this.paper}return this};c.appendTo=function(c){c&&(c=x(c),c.append(this));return this};\n",
        "c.prepend=function(c){if(c){if(\"set\"==c.type){var a=this,b;c.forEach(function(c){b?b.after(c):a.prepend(c);b=c});return this}c=x(c);var m=c.parent();this.node.insertBefore(c.node,this.node.firstChild);this.add&&this.add();c.paper=this.paper;this.parent()&&this.parent().add();m&&m.add()}return this};c.prependTo=function(c){c=x(c);c.prepend(this);return this};c.before=function(c){if(\"set\"==c.type){var a=this;c.forEach(function(c){var b=c.parent();a.node.parentNode.insertBefore(c.node,a.node);b&&b.add()});\n",
        "this.parent().add();return this}c=x(c);var b=c.parent();this.node.parentNode.insertBefore(c.node,this.node);this.parent()&&this.parent().add();b&&b.add();c.paper=this.paper;return this};c.after=function(c){c=x(c);var a=c.parent();this.node.nextSibling?this.node.parentNode.insertBefore(c.node,this.node.nextSibling):this.node.parentNode.appendChild(c.node);this.parent()&&this.parent().add();a&&a.add();c.paper=this.paper;return this};c.insertBefore=function(c){c=x(c);var a=this.parent();c.node.parentNode.insertBefore(this.node,\n",
        "c.node);this.paper=c.paper;a&&a.add();c.parent()&&c.parent().add();return this};c.insertAfter=function(c){c=x(c);var a=this.parent();c.node.parentNode.insertBefore(this.node,c.node.nextSibling);this.paper=c.paper;a&&a.add();c.parent()&&c.parent().add();return this};c.remove=function(){var c=this.parent();this.node.parentNode&&this.node.parentNode.removeChild(this.node);delete this.paper;this.removed=!0;c&&c.add();return this};c.select=function(c){return x(this.node.querySelector(c))};c.selectAll=\n",
        "function(c){c=this.node.querySelectorAll(c);for(var b=(a.set||Array)(),m=0;m<c.length;m++)b.push(x(c[m]));return b};c.asPX=function(c,a){null==a&&(a=this.attr(c));return+b(this,c,a)};c.use=function(){var c,a=this.node.id;a||(a=this.id,v(this.node,{id:a}));c=\"linearGradient\"==this.type||\"radialGradient\"==this.type||\"pattern\"==this.type?r(this.type,this.node.parentNode):r(\"use\",this.node.parentNode);v(c.node,{\"xlink:href\":\"#\"+a});c.original=this;return c};var l=/\\S+/g;c.addClass=function(c){var a=(c||\n",
        "\"\").match(l)||[];c=this.node;var b=c.className.baseVal,m=b.match(l)||[],e,h,d;if(a.length){for(e=0;d=a[e++];)h=m.indexOf(d),~h||m.push(d);a=m.join(\" \");b!=a&&(c.className.baseVal=a)}return this};c.removeClass=function(c){var a=(c||\"\").match(l)||[];c=this.node;var b=c.className.baseVal,m=b.match(l)||[],e,h;if(m.length){for(e=0;h=a[e++];)h=m.indexOf(h),~h&&m.splice(h,1);a=m.join(\" \");b!=a&&(c.className.baseVal=a)}return this};c.hasClass=function(c){return!!~(this.node.className.baseVal.match(l)||[]).indexOf(c)};\n",
        "c.toggleClass=function(c,a){if(null!=a)return a?this.addClass(c):this.removeClass(c);var b=(c||\"\").match(l)||[],m=this.node,e=m.className.baseVal,h=e.match(l)||[],d,f,E;for(d=0;E=b[d++];)f=h.indexOf(E),~f?h.splice(f,1):h.push(E);b=h.join(\" \");e!=b&&(m.className.baseVal=b);return this};c.clone=function(){var c=x(this.node.cloneNode(!0));v(c.node,\"id\")&&v(c.node,{id:c.id});m(c);c.insertAfter(this);return c};c.toDefs=function(){u(this).appendChild(this.node);return this};c.pattern=c.toPattern=function(c,\n",
        "a,b,m){var e=r(\"pattern\",u(this));null==c&&(c=this.getBBox());y(c,\"object\")&&\"x\"in c&&(a=c.y,b=c.width,m=c.height,c=c.x);v(e.node,{x:c,y:a,width:b,height:m,patternUnits:\"userSpaceOnUse\",id:e.id,viewBox:[c,a,b,m].join(\" \")});e.node.appendChild(this.node);return e};c.marker=function(c,a,b,m,e,h){var d=r(\"marker\",u(this));null==c&&(c=this.getBBox());y(c,\"object\")&&\"x\"in c&&(a=c.y,b=c.width,m=c.height,e=c.refX||c.cx,h=c.refY||c.cy,c=c.x);v(d.node,{viewBox:[c,a,b,m].join(\" \"),markerWidth:b,markerHeight:m,\n",
        "orient:\"auto\",refX:e||0,refY:h||0,id:d.id});d.node.appendChild(this.node);return d};var E=function(c,a,b,m){\"function\"!=typeof b||b.length||(m=b,b=L.linear);this.attr=c;this.dur=a;b&&(this.easing=b);m&&(this.callback=m)};a._.Animation=E;a.animation=function(c,a,b,m){return new E(c,a,b,m)};c.inAnim=function(){var c=[],a;for(a in this.anims)this.anims[h](a)&&function(a){c.push({anim:new E(a._attrs,a.dur,a.easing,a._callback),mina:a,curStatus:a.status(),status:function(c){return a.status(c)},stop:function(){a.stop()}})}(this.anims[a]);\n",
        "return c};a.animate=function(c,a,b,m,e,h){\"function\"!=typeof e||e.length||(h=e,e=L.linear);var d=L.time();c=L(c,a,d,d+m,L.time,b,e);h&&k.once(\"mina.finish.\"+c.id,h);return c};c.stop=function(){for(var c=this.inAnim(),a=0,b=c.length;a<b;a++)c[a].stop();return this};c.animate=function(c,a,b,m){\"function\"!=typeof b||b.length||(m=b,b=L.linear);c instanceof E&&(m=c.callback,b=c.easing,a=b.dur,c=c.attr);var d=[],f=[],l={},t,ca,n,T=this,q;for(q in c)if(c[h](q)){T.equal?(n=T.equal(q,J(c[q])),t=n.from,ca=\n",
        "n.to,n=n.f):(t=+T.attr(q),ca=+c[q]);var la=y(t,\"array\")?t.length:1;l[q]=e(d.length,d.length+la,n);d=d.concat(t);f=f.concat(ca)}t=L.time();var p=L(d,f,t,t+a,L.time,function(c){var a={},b;for(b in l)l[h](b)&&(a[b]=l[b](c));T.attr(a)},b);T.anims[p.id]=p;p._attrs=c;p._callback=m;k(\"snap.animcreated.\"+T.id,p);k.once(\"mina.finish.\"+p.id,function(){delete T.anims[p.id];m&&m.call(T)});k.once(\"mina.stop.\"+p.id,function(){delete T.anims[p.id]});return T};var T={};c.data=function(c,b){var m=T[this.id]=T[this.id]||\n",
        "{};if(0==arguments.length)return k(\"snap.data.get.\"+this.id,this,m,null),m;if(1==arguments.length){if(a.is(c,\"object\")){for(var e in c)c[h](e)&&this.data(e,c[e]);return this}k(\"snap.data.get.\"+this.id,this,m[c],c);return m[c]}m[c]=b;k(\"snap.data.set.\"+this.id,this,b,c);return this};c.removeData=function(c){null==c?T[this.id]={}:T[this.id]&&delete T[this.id][c];return this};c.outerSVG=c.toString=d(1);c.innerSVG=d()})(e.prototype);a.parse=function(c){var a=G.doc.createDocumentFragment(),b=!0,m=G.doc.createElement(\"div\");\n",
        "c=J(c);c.match(/^\\s*<\\s*svg(?:\\s|>)/)||(c=\"<svg>\"+c+\"</svg>\",b=!1);m.innerHTML=c;if(c=m.getElementsByTagName(\"svg\")[0])if(b)a=c;else for(;c.firstChild;)a.appendChild(c.firstChild);m.innerHTML=aa;return new l(a)};l.prototype.select=e.prototype.select;l.prototype.selectAll=e.prototype.selectAll;a.fragment=function(){for(var c=Array.prototype.slice.call(arguments,0),b=G.doc.createDocumentFragment(),m=0,e=c.length;m<e;m++){var h=c[m];h.node&&h.node.nodeType&&b.appendChild(h.node);h.nodeType&&b.appendChild(h);\n",
        "\"string\"==typeof h&&b.appendChild(a.parse(h).node)}return new l(b)};a._.make=r;a._.wrap=x;s.prototype.el=function(c,a){var b=r(c,this.node);a&&b.attr(a);return b};k.on(\"snap.util.getattr\",function(){var c=k.nt(),c=c.substring(c.lastIndexOf(\".\")+1),a=c.replace(/[A-Z]/g,function(c){return\"-\"+c.toLowerCase()});return pa[h](a)?this.node.ownerDocument.defaultView.getComputedStyle(this.node,null).getPropertyValue(a):v(this.node,c)});var pa={\"alignment-baseline\":0,\"baseline-shift\":0,clip:0,\"clip-path\":0,\n",
        "\"clip-rule\":0,color:0,\"color-interpolation\":0,\"color-interpolation-filters\":0,\"color-profile\":0,\"color-rendering\":0,cursor:0,direction:0,display:0,\"dominant-baseline\":0,\"enable-background\":0,fill:0,\"fill-opacity\":0,\"fill-rule\":0,filter:0,\"flood-color\":0,\"flood-opacity\":0,font:0,\"font-family\":0,\"font-size\":0,\"font-size-adjust\":0,\"font-stretch\":0,\"font-style\":0,\"font-variant\":0,\"font-weight\":0,\"glyph-orientation-horizontal\":0,\"glyph-orientation-vertical\":0,\"image-rendering\":0,kerning:0,\"letter-spacing\":0,\n",
        "\"lighting-color\":0,marker:0,\"marker-end\":0,\"marker-mid\":0,\"marker-start\":0,mask:0,opacity:0,overflow:0,\"pointer-events\":0,\"shape-rendering\":0,\"stop-color\":0,\"stop-opacity\":0,stroke:0,\"stroke-dasharray\":0,\"stroke-dashoffset\":0,\"stroke-linecap\":0,\"stroke-linejoin\":0,\"stroke-miterlimit\":0,\"stroke-opacity\":0,\"stroke-width\":0,\"text-anchor\":0,\"text-decoration\":0,\"text-rendering\":0,\"unicode-bidi\":0,visibility:0,\"word-spacing\":0,\"writing-mode\":0};k.on(\"snap.util.attr\",function(c){var a=k.nt(),b={},a=a.substring(a.lastIndexOf(\".\")+\n",
        "1);b[a]=c;var m=a.replace(/-(\\w)/gi,function(c,a){return a.toUpperCase()}),a=a.replace(/[A-Z]/g,function(c){return\"-\"+c.toLowerCase()});pa[h](a)?this.node.style[m]=null==c?aa:c:v(this.node,b)});a.ajax=function(c,a,b,m){var e=new XMLHttpRequest,h=V();if(e){if(y(a,\"function\"))m=b,b=a,a=null;else if(y(a,\"object\")){var d=[],f;for(f in a)a.hasOwnProperty(f)&&d.push(encodeURIComponent(f)+\"=\"+encodeURIComponent(a[f]));a=d.join(\"&\")}e.open(a?\"POST\":\"GET\",c,!0);a&&(e.setRequestHeader(\"X-Requested-With\",\"XMLHttpRequest\"),\n",
        "e.setRequestHeader(\"Content-type\",\"application/x-www-form-urlencoded\"));b&&(k.once(\"snap.ajax.\"+h+\".0\",b),k.once(\"snap.ajax.\"+h+\".200\",b),k.once(\"snap.ajax.\"+h+\".304\",b));e.onreadystatechange=function(){4==e.readyState&&k(\"snap.ajax.\"+h+\".\"+e.status,m,e)};if(4==e.readyState)return e;e.send(a);return e}};a.load=function(c,b,m){a.ajax(c,function(c){c=a.parse(c.responseText);m?b.call(m,c):b(c)})};a.getElementByPoint=function(c,a){var b,m,e=G.doc.elementFromPoint(c,a);if(G.win.opera&&\"svg\"==e.tagName){b=\n",
        "e;m=b.getBoundingClientRect();b=b.ownerDocument;var h=b.body,d=b.documentElement;b=m.top+(g.win.pageYOffset||d.scrollTop||h.scrollTop)-(d.clientTop||h.clientTop||0);m=m.left+(g.win.pageXOffset||d.scrollLeft||h.scrollLeft)-(d.clientLeft||h.clientLeft||0);h=e.createSVGRect();h.x=c-m;h.y=a-b;h.width=h.height=1;b=e.getIntersectionList(h,null);b.length&&(e=b[b.length-1])}return e?x(e):null};a.plugin=function(c){c(a,e,s,G,l)};return G.win.Snap=a}();C.plugin(function(a,k,y,M,A){function w(a,d,f,b,q,e){null==\n",
        "d&&\"[object SVGMatrix]\"==z.call(a)?(this.a=a.a,this.b=a.b,this.c=a.c,this.d=a.d,this.e=a.e,this.f=a.f):null!=a?(this.a=+a,this.b=+d,this.c=+f,this.d=+b,this.e=+q,this.f=+e):(this.a=1,this.c=this.b=0,this.d=1,this.f=this.e=0)}var z=Object.prototype.toString,d=String,f=Math;(function(n){function k(a){return a[0]*a[0]+a[1]*a[1]}function p(a){var d=f.sqrt(k(a));a[0]&&(a[0]/=d);a[1]&&(a[1]/=d)}n.add=function(a,d,e,f,n,p){var k=[[],[],[] ],u=[[this.a,this.c,this.e],[this.b,this.d,this.f],[0,0,1] ];d=[[a,\n",
        "e,n],[d,f,p],[0,0,1] ];a&&a instanceof w&&(d=[[a.a,a.c,a.e],[a.b,a.d,a.f],[0,0,1] ]);for(a=0;3>a;a++)for(e=0;3>e;e++){for(f=n=0;3>f;f++)n+=u[a][f]*d[f][e];k[a][e]=n}this.a=k[0][0];this.b=k[1][0];this.c=k[0][1];this.d=k[1][1];this.e=k[0][2];this.f=k[1][2];return this};n.invert=function(){var a=this.a*this.d-this.b*this.c;return new w(this.d/a,-this.b/a,-this.c/a,this.a/a,(this.c*this.f-this.d*this.e)/a,(this.b*this.e-this.a*this.f)/a)};n.clone=function(){return new w(this.a,this.b,this.c,this.d,this.e,\n",
        "this.f)};n.translate=function(a,d){return this.add(1,0,0,1,a,d)};n.scale=function(a,d,e,f){null==d&&(d=a);(e||f)&&this.add(1,0,0,1,e,f);this.add(a,0,0,d,0,0);(e||f)&&this.add(1,0,0,1,-e,-f);return this};n.rotate=function(b,d,e){b=a.rad(b);d=d||0;e=e||0;var l=+f.cos(b).toFixed(9);b=+f.sin(b).toFixed(9);this.add(l,b,-b,l,d,e);return this.add(1,0,0,1,-d,-e)};n.x=function(a,d){return a*this.a+d*this.c+this.e};n.y=function(a,d){return a*this.b+d*this.d+this.f};n.get=function(a){return+this[d.fromCharCode(97+\n",
        "a)].toFixed(4)};n.toString=function(){return\"matrix(\"+[this.get(0),this.get(1),this.get(2),this.get(3),this.get(4),this.get(5)].join()+\")\"};n.offset=function(){return[this.e.toFixed(4),this.f.toFixed(4)]};n.determinant=function(){return this.a*this.d-this.b*this.c};n.split=function(){var b={};b.dx=this.e;b.dy=this.f;var d=[[this.a,this.c],[this.b,this.d] ];b.scalex=f.sqrt(k(d[0]));p(d[0]);b.shear=d[0][0]*d[1][0]+d[0][1]*d[1][1];d[1]=[d[1][0]-d[0][0]*b.shear,d[1][1]-d[0][1]*b.shear];b.scaley=f.sqrt(k(d[1]));\n",
        "p(d[1]);b.shear/=b.scaley;0>this.determinant()&&(b.scalex=-b.scalex);var e=-d[0][1],d=d[1][1];0>d?(b.rotate=a.deg(f.acos(d)),0>e&&(b.rotate=360-b.rotate)):b.rotate=a.deg(f.asin(e));b.isSimple=!+b.shear.toFixed(9)&&(b.scalex.toFixed(9)==b.scaley.toFixed(9)||!b.rotate);b.isSuperSimple=!+b.shear.toFixed(9)&&b.scalex.toFixed(9)==b.scaley.toFixed(9)&&!b.rotate;b.noRotation=!+b.shear.toFixed(9)&&!b.rotate;return b};n.toTransformString=function(a){a=a||this.split();if(+a.shear.toFixed(9))return\"m\"+[this.get(0),\n",
        "this.get(1),this.get(2),this.get(3),this.get(4),this.get(5)];a.scalex=+a.scalex.toFixed(4);a.scaley=+a.scaley.toFixed(4);a.rotate=+a.rotate.toFixed(4);return(a.dx||a.dy?\"t\"+[+a.dx.toFixed(4),+a.dy.toFixed(4)]:\"\")+(1!=a.scalex||1!=a.scaley?\"s\"+[a.scalex,a.scaley,0,0]:\"\")+(a.rotate?\"r\"+[+a.rotate.toFixed(4),0,0]:\"\")}})(w.prototype);a.Matrix=w;a.matrix=function(a,d,f,b,k,e){return new w(a,d,f,b,k,e)}});C.plugin(function(a,v,y,M,A){function w(h){return function(d){k.stop();d instanceof A&&1==d.node.childNodes.length&&\n",
        "(\"radialGradient\"==d.node.firstChild.tagName||\"linearGradient\"==d.node.firstChild.tagName||\"pattern\"==d.node.firstChild.tagName)&&(d=d.node.firstChild,b(this).appendChild(d),d=u(d));if(d instanceof v)if(\"radialGradient\"==d.type||\"linearGradient\"==d.type||\"pattern\"==d.type){d.node.id||e(d.node,{id:d.id});var f=l(d.node.id)}else f=d.attr(h);else f=a.color(d),f.error?(f=a(b(this).ownerSVGElement).gradient(d))?(f.node.id||e(f.node,{id:f.id}),f=l(f.node.id)):f=d:f=r(f);d={};d[h]=f;e(this.node,d);this.node.style[h]=\n",
        "x}}function z(a){k.stop();a==+a&&(a+=\"px\");this.node.style.fontSize=a}function d(a){var b=[];a=a.childNodes;for(var e=0,f=a.length;e<f;e++){var l=a[e];3==l.nodeType&&b.push(l.nodeValue);\"tspan\"==l.tagName&&(1==l.childNodes.length&&3==l.firstChild.nodeType?b.push(l.firstChild.nodeValue):b.push(d(l)))}return b}function f(){k.stop();return this.node.style.fontSize}var n=a._.make,u=a._.wrap,p=a.is,b=a._.getSomeDefs,q=/^url\\(#?([^)]+)\\)$/,e=a._.$,l=a.url,r=String,s=a._.separator,x=\"\";k.on(\"snap.util.attr.mask\",\n",
        "function(a){if(a instanceof v||a instanceof A){k.stop();a instanceof A&&1==a.node.childNodes.length&&(a=a.node.firstChild,b(this).appendChild(a),a=u(a));if(\"mask\"==a.type)var d=a;else d=n(\"mask\",b(this)),d.node.appendChild(a.node);!d.node.id&&e(d.node,{id:d.id});e(this.node,{mask:l(d.id)})}});(function(a){k.on(\"snap.util.attr.clip\",a);k.on(\"snap.util.attr.clip-path\",a);k.on(\"snap.util.attr.clipPath\",a)})(function(a){if(a instanceof v||a instanceof A){k.stop();if(\"clipPath\"==a.type)var d=a;else d=\n",
        "n(\"clipPath\",b(this)),d.node.appendChild(a.node),!d.node.id&&e(d.node,{id:d.id});e(this.node,{\"clip-path\":l(d.id)})}});k.on(\"snap.util.attr.fill\",w(\"fill\"));k.on(\"snap.util.attr.stroke\",w(\"stroke\"));var G=/^([lr])(?:\\(([^)]*)\\))?(.*)$/i;k.on(\"snap.util.grad.parse\",function(a){a=r(a);var b=a.match(G);if(!b)return null;a=b[1];var e=b[2],b=b[3],e=e.split(/\\s*,\\s*/).map(function(a){return+a==a?+a:a});1==e.length&&0==e[0]&&(e=[]);b=b.split(\"-\");b=b.map(function(a){a=a.split(\":\");var b={color:a[0]};a[1]&&\n",
        "(b.offset=parseFloat(a[1]));return b});return{type:a,params:e,stops:b}});k.on(\"snap.util.attr.d\",function(b){k.stop();p(b,\"array\")&&p(b[0],\"array\")&&(b=a.path.toString.call(b));b=r(b);b.match(/[ruo]/i)&&(b=a.path.toAbsolute(b));e(this.node,{d:b})})(-1);k.on(\"snap.util.attr.#text\",function(a){k.stop();a=r(a);for(a=M.doc.createTextNode(a);this.node.firstChild;)this.node.removeChild(this.node.firstChild);this.node.appendChild(a)})(-1);k.on(\"snap.util.attr.path\",function(a){k.stop();this.attr({d:a})})(-1);\n",
        "k.on(\"snap.util.attr.class\",function(a){k.stop();this.node.className.baseVal=a})(-1);k.on(\"snap.util.attr.viewBox\",function(a){a=p(a,\"object\")&&\"x\"in a?[a.x,a.y,a.width,a.height].join(\" \"):p(a,\"array\")?a.join(\" \"):a;e(this.node,{viewBox:a});k.stop()})(-1);k.on(\"snap.util.attr.transform\",function(a){this.transform(a);k.stop()})(-1);k.on(\"snap.util.attr.r\",function(a){\"rect\"==this.type&&(k.stop(),e(this.node,{rx:a,ry:a}))})(-1);k.on(\"snap.util.attr.textpath\",function(a){k.stop();if(\"text\"==this.type){var d,\n",
        "f;if(!a&&this.textPath){for(a=this.textPath;a.node.firstChild;)this.node.appendChild(a.node.firstChild);a.remove();delete this.textPath}else if(p(a,\"string\")?(d=b(this),a=u(d.parentNode).path(a),d.appendChild(a.node),d=a.id,a.attr({id:d})):(a=u(a),a instanceof v&&(d=a.attr(\"id\"),d||(d=a.id,a.attr({id:d})))),d)if(a=this.textPath,f=this.node,a)a.attr({\"xlink:href\":\"#\"+d});else{for(a=e(\"textPath\",{\"xlink:href\":\"#\"+d});f.firstChild;)a.appendChild(f.firstChild);f.appendChild(a);this.textPath=u(a)}}})(-1);\n",
        "k.on(\"snap.util.attr.text\",function(a){if(\"text\"==this.type){for(var b=this.node,d=function(a){var b=e(\"tspan\");if(p(a,\"array\"))for(var f=0;f<a.length;f++)b.appendChild(d(a[f]));else b.appendChild(M.doc.createTextNode(a));b.normalize&&b.normalize();return b};b.firstChild;)b.removeChild(b.firstChild);for(a=d(a);a.firstChild;)b.appendChild(a.firstChild)}k.stop()})(-1);k.on(\"snap.util.attr.fontSize\",z)(-1);k.on(\"snap.util.attr.font-size\",z)(-1);k.on(\"snap.util.getattr.transform\",function(){k.stop();\n",
        "return this.transform()})(-1);k.on(\"snap.util.getattr.textpath\",function(){k.stop();return this.textPath})(-1);(function(){function b(d){return function(){k.stop();var b=M.doc.defaultView.getComputedStyle(this.node,null).getPropertyValue(\"marker-\"+d);return\"none\"==b?b:a(M.doc.getElementById(b.match(q)[1]))}}function d(a){return function(b){k.stop();var d=\"marker\"+a.charAt(0).toUpperCase()+a.substring(1);if(\"\"==b||!b)this.node.style[d]=\"none\";else if(\"marker\"==b.type){var f=b.node.id;f||e(b.node,{id:b.id});\n",
        "this.node.style[d]=l(f)}}}k.on(\"snap.util.getattr.marker-end\",b(\"end\"))(-1);k.on(\"snap.util.getattr.markerEnd\",b(\"end\"))(-1);k.on(\"snap.util.getattr.marker-start\",b(\"start\"))(-1);k.on(\"snap.util.getattr.markerStart\",b(\"start\"))(-1);k.on(\"snap.util.getattr.marker-mid\",b(\"mid\"))(-1);k.on(\"snap.util.getattr.markerMid\",b(\"mid\"))(-1);k.on(\"snap.util.attr.marker-end\",d(\"end\"))(-1);k.on(\"snap.util.attr.markerEnd\",d(\"end\"))(-1);k.on(\"snap.util.attr.marker-start\",d(\"start\"))(-1);k.on(\"snap.util.attr.markerStart\",\n",
        "d(\"start\"))(-1);k.on(\"snap.util.attr.marker-mid\",d(\"mid\"))(-1);k.on(\"snap.util.attr.markerMid\",d(\"mid\"))(-1)})();k.on(\"snap.util.getattr.r\",function(){if(\"rect\"==this.type&&e(this.node,\"rx\")==e(this.node,\"ry\"))return k.stop(),e(this.node,\"rx\")})(-1);k.on(\"snap.util.getattr.text\",function(){if(\"text\"==this.type||\"tspan\"==this.type){k.stop();var a=d(this.node);return 1==a.length?a[0]:a}})(-1);k.on(\"snap.util.getattr.#text\",function(){return this.node.textContent})(-1);k.on(\"snap.util.getattr.viewBox\",\n",
        "function(){k.stop();var b=e(this.node,\"viewBox\");if(b)return b=b.split(s),a._.box(+b[0],+b[1],+b[2],+b[3])})(-1);k.on(\"snap.util.getattr.points\",function(){var a=e(this.node,\"points\");k.stop();if(a)return a.split(s)})(-1);k.on(\"snap.util.getattr.path\",function(){var a=e(this.node,\"d\");k.stop();return a})(-1);k.on(\"snap.util.getattr.class\",function(){return this.node.className.baseVal})(-1);k.on(\"snap.util.getattr.fontSize\",f)(-1);k.on(\"snap.util.getattr.font-size\",f)(-1)});C.plugin(function(a,v,y,\n",
        "M,A){function w(a){return a}function z(a){return function(b){return+b.toFixed(3)+a}}var d={\"+\":function(a,b){return a+b},\"-\":function(a,b){return a-b},\"/\":function(a,b){return a/b},\"*\":function(a,b){return a*b}},f=String,n=/[a-z]+$/i,u=/^\\s*([+\\-\\/*])\\s*=\\s*([\\d.eE+\\-]+)\\s*([^\\d\\s]+)?\\s*$/;k.on(\"snap.util.attr\",function(a){if(a=f(a).match(u)){var b=k.nt(),b=b.substring(b.lastIndexOf(\".\")+1),q=this.attr(b),e={};k.stop();var l=a[3]||\"\",r=q.match(n),s=d[a[1] ];r&&r==l?a=s(parseFloat(q),+a[2]):(q=this.asPX(b),\n",
        "a=s(this.asPX(b),this.asPX(b,a[2]+l)));isNaN(q)||isNaN(a)||(e[b]=a,this.attr(e))}})(-10);k.on(\"snap.util.equal\",function(a,b){var q=f(this.attr(a)||\"\"),e=f(b).match(u);if(e){k.stop();var l=e[3]||\"\",r=q.match(n),s=d[e[1] ];if(r&&r==l)return{from:parseFloat(q),to:s(parseFloat(q),+e[2]),f:z(r)};q=this.asPX(a);return{from:q,to:s(q,this.asPX(a,e[2]+l)),f:w}}})(-10)});C.plugin(function(a,v,y,M,A){var w=y.prototype,z=a.is;w.rect=function(a,d,k,p,b,q){var e;null==q&&(q=b);z(a,\"object\")&&\"[object Object]\"==\n",
        "a?e=a:null!=a&&(e={x:a,y:d,width:k,height:p},null!=b&&(e.rx=b,e.ry=q));return this.el(\"rect\",e)};w.circle=function(a,d,k){var p;z(a,\"object\")&&\"[object Object]\"==a?p=a:null!=a&&(p={cx:a,cy:d,r:k});return this.el(\"circle\",p)};var d=function(){function a(){this.parentNode.removeChild(this)}return function(d,k){var p=M.doc.createElement(\"img\"),b=M.doc.body;p.style.cssText=\"position:absolute;left:-9999em;top:-9999em\";p.onload=function(){k.call(p);p.onload=p.onerror=null;b.removeChild(p)};p.onerror=a;\n",
        "b.appendChild(p);p.src=d}}();w.image=function(f,n,k,p,b){var q=this.el(\"image\");if(z(f,\"object\")&&\"src\"in f)q.attr(f);else if(null!=f){var e={\"xlink:href\":f,preserveAspectRatio:\"none\"};null!=n&&null!=k&&(e.x=n,e.y=k);null!=p&&null!=b?(e.width=p,e.height=b):d(f,function(){a._.$(q.node,{width:this.offsetWidth,height:this.offsetHeight})});a._.$(q.node,e)}return q};w.ellipse=function(a,d,k,p){var b;z(a,\"object\")&&\"[object Object]\"==a?b=a:null!=a&&(b={cx:a,cy:d,rx:k,ry:p});return this.el(\"ellipse\",b)};\n",
        "w.path=function(a){var d;z(a,\"object\")&&!z(a,\"array\")?d=a:a&&(d={d:a});return this.el(\"path\",d)};w.group=w.g=function(a){var d=this.el(\"g\");1==arguments.length&&a&&!a.type?d.attr(a):arguments.length&&d.add(Array.prototype.slice.call(arguments,0));return d};w.svg=function(a,d,k,p,b,q,e,l){var r={};z(a,\"object\")&&null==d?r=a:(null!=a&&(r.x=a),null!=d&&(r.y=d),null!=k&&(r.width=k),null!=p&&(r.height=p),null!=b&&null!=q&&null!=e&&null!=l&&(r.viewBox=[b,q,e,l]));return this.el(\"svg\",r)};w.mask=function(a){var d=\n",
        "this.el(\"mask\");1==arguments.length&&a&&!a.type?d.attr(a):arguments.length&&d.add(Array.prototype.slice.call(arguments,0));return d};w.ptrn=function(a,d,k,p,b,q,e,l){if(z(a,\"object\"))var r=a;else arguments.length?(r={},null!=a&&(r.x=a),null!=d&&(r.y=d),null!=k&&(r.width=k),null!=p&&(r.height=p),null!=b&&null!=q&&null!=e&&null!=l&&(r.viewBox=[b,q,e,l])):r={patternUnits:\"userSpaceOnUse\"};return this.el(\"pattern\",r)};w.use=function(a){return null!=a?(make(\"use\",this.node),a instanceof v&&(a.attr(\"id\")||\n",
        "a.attr({id:ID()}),a=a.attr(\"id\")),this.el(\"use\",{\"xlink:href\":a})):v.prototype.use.call(this)};w.text=function(a,d,k){var p={};z(a,\"object\")?p=a:null!=a&&(p={x:a,y:d,text:k||\"\"});return this.el(\"text\",p)};w.line=function(a,d,k,p){var b={};z(a,\"object\")?b=a:null!=a&&(b={x1:a,x2:k,y1:d,y2:p});return this.el(\"line\",b)};w.polyline=function(a){1<arguments.length&&(a=Array.prototype.slice.call(arguments,0));var d={};z(a,\"object\")&&!z(a,\"array\")?d=a:null!=a&&(d={points:a});return this.el(\"polyline\",d)};\n",
        "w.polygon=function(a){1<arguments.length&&(a=Array.prototype.slice.call(arguments,0));var d={};z(a,\"object\")&&!z(a,\"array\")?d=a:null!=a&&(d={points:a});return this.el(\"polygon\",d)};(function(){function d(){return this.selectAll(\"stop\")}function n(b,d){var f=e(\"stop\"),k={offset:+d+\"%\"};b=a.color(b);k[\"stop-color\"]=b.hex;1>b.opacity&&(k[\"stop-opacity\"]=b.opacity);e(f,k);this.node.appendChild(f);return this}function u(){if(\"linearGradient\"==this.type){var b=e(this.node,\"x1\")||0,d=e(this.node,\"x2\")||\n",
        "1,f=e(this.node,\"y1\")||0,k=e(this.node,\"y2\")||0;return a._.box(b,f,math.abs(d-b),math.abs(k-f))}b=this.node.r||0;return a._.box((this.node.cx||0.5)-b,(this.node.cy||0.5)-b,2*b,2*b)}function p(a,d){function f(a,b){for(var d=(b-u)/(a-w),e=w;e<a;e++)h[e].offset=+(+u+d*(e-w)).toFixed(2);w=a;u=b}var n=k(\"snap.util.grad.parse\",null,d).firstDefined(),p;if(!n)return null;n.params.unshift(a);p=\"l\"==n.type.toLowerCase()?b.apply(0,n.params):q.apply(0,n.params);n.type!=n.type.toLowerCase()&&e(p.node,{gradientUnits:\"userSpaceOnUse\"});\n",
        "var h=n.stops,n=h.length,u=0,w=0;n--;for(var v=0;v<n;v++)\"offset\"in h[v]&&f(v,h[v].offset);h[n].offset=h[n].offset||100;f(n,h[n].offset);for(v=0;v<=n;v++){var y=h[v];p.addStop(y.color,y.offset)}return p}function b(b,k,p,q,w){b=a._.make(\"linearGradient\",b);b.stops=d;b.addStop=n;b.getBBox=u;null!=k&&e(b.node,{x1:k,y1:p,x2:q,y2:w});return b}function q(b,k,p,q,w,h){b=a._.make(\"radialGradient\",b);b.stops=d;b.addStop=n;b.getBBox=u;null!=k&&e(b.node,{cx:k,cy:p,r:q});null!=w&&null!=h&&e(b.node,{fx:w,fy:h});\n",
        "return b}var e=a._.$;w.gradient=function(a){return p(this.defs,a)};w.gradientLinear=function(a,d,e,f){return b(this.defs,a,d,e,f)};w.gradientRadial=function(a,b,d,e,f){return q(this.defs,a,b,d,e,f)};w.toString=function(){var b=this.node.ownerDocument,d=b.createDocumentFragment(),b=b.createElement(\"div\"),e=this.node.cloneNode(!0);d.appendChild(b);b.appendChild(e);a._.$(e,{xmlns:\"http://www.w3.org/2000/svg\"});b=b.innerHTML;d.removeChild(d.firstChild);return b};w.clear=function(){for(var a=this.node.firstChild,\n",
        "b;a;)b=a.nextSibling,\"defs\"!=a.tagName?a.parentNode.removeChild(a):w.clear.call({node:a}),a=b}})()});C.plugin(function(a,k,y,M){function A(a){var b=A.ps=A.ps||{};b[a]?b[a].sleep=100:b[a]={sleep:100};setTimeout(function(){for(var d in b)b[L](d)&&d!=a&&(b[d].sleep--,!b[d].sleep&&delete b[d])});return b[a]}function w(a,b,d,e){null==a&&(a=b=d=e=0);null==b&&(b=a.y,d=a.width,e=a.height,a=a.x);return{x:a,y:b,width:d,w:d,height:e,h:e,x2:a+d,y2:b+e,cx:a+d/2,cy:b+e/2,r1:F.min(d,e)/2,r2:F.max(d,e)/2,r0:F.sqrt(d*\n",
        "d+e*e)/2,path:s(a,b,d,e),vb:[a,b,d,e].join(\" \")}}function z(){return this.join(\",\").replace(N,\"$1\")}function d(a){a=C(a);a.toString=z;return a}function f(a,b,d,h,f,k,l,n,p){if(null==p)return e(a,b,d,h,f,k,l,n);if(0>p||e(a,b,d,h,f,k,l,n)<p)p=void 0;else{var q=0.5,O=1-q,s;for(s=e(a,b,d,h,f,k,l,n,O);0.01<Z(s-p);)q/=2,O+=(s<p?1:-1)*q,s=e(a,b,d,h,f,k,l,n,O);p=O}return u(a,b,d,h,f,k,l,n,p)}function n(b,d){function e(a){return+(+a).toFixed(3)}return a._.cacher(function(a,h,l){a instanceof k&&(a=a.attr(\"d\"));\n",
        "a=I(a);for(var n,p,D,q,O=\"\",s={},c=0,t=0,r=a.length;t<r;t++){D=a[t];if(\"M\"==D[0])n=+D[1],p=+D[2];else{q=f(n,p,D[1],D[2],D[3],D[4],D[5],D[6]);if(c+q>h){if(d&&!s.start){n=f(n,p,D[1],D[2],D[3],D[4],D[5],D[6],h-c);O+=[\"C\"+e(n.start.x),e(n.start.y),e(n.m.x),e(n.m.y),e(n.x),e(n.y)];if(l)return O;s.start=O;O=[\"M\"+e(n.x),e(n.y)+\"C\"+e(n.n.x),e(n.n.y),e(n.end.x),e(n.end.y),e(D[5]),e(D[6])].join();c+=q;n=+D[5];p=+D[6];continue}if(!b&&!d)return n=f(n,p,D[1],D[2],D[3],D[4],D[5],D[6],h-c)}c+=q;n=+D[5];p=+D[6]}O+=\n",
        "D.shift()+D}s.end=O;return n=b?c:d?s:u(n,p,D[0],D[1],D[2],D[3],D[4],D[5],1)},null,a._.clone)}function u(a,b,d,e,h,f,k,l,n){var p=1-n,q=ma(p,3),s=ma(p,2),c=n*n,t=c*n,r=q*a+3*s*n*d+3*p*n*n*h+t*k,q=q*b+3*s*n*e+3*p*n*n*f+t*l,s=a+2*n*(d-a)+c*(h-2*d+a),t=b+2*n*(e-b)+c*(f-2*e+b),x=d+2*n*(h-d)+c*(k-2*h+d),c=e+2*n*(f-e)+c*(l-2*f+e);a=p*a+n*d;b=p*b+n*e;h=p*h+n*k;f=p*f+n*l;l=90-180*F.atan2(s-x,t-c)/S;return{x:r,y:q,m:{x:s,y:t},n:{x:x,y:c},start:{x:a,y:b},end:{x:h,y:f},alpha:l}}function p(b,d,e,h,f,n,k,l){a.is(b,\n",
        "\"array\")||(b=[b,d,e,h,f,n,k,l]);b=U.apply(null,b);return w(b.min.x,b.min.y,b.max.x-b.min.x,b.max.y-b.min.y)}function b(a,b,d){return b>=a.x&&b<=a.x+a.width&&d>=a.y&&d<=a.y+a.height}function q(a,d){a=w(a);d=w(d);return b(d,a.x,a.y)||b(d,a.x2,a.y)||b(d,a.x,a.y2)||b(d,a.x2,a.y2)||b(a,d.x,d.y)||b(a,d.x2,d.y)||b(a,d.x,d.y2)||b(a,d.x2,d.y2)||(a.x<d.x2&&a.x>d.x||d.x<a.x2&&d.x>a.x)&&(a.y<d.y2&&a.y>d.y||d.y<a.y2&&d.y>a.y)}function e(a,b,d,e,h,f,n,k,l){null==l&&(l=1);l=(1<l?1:0>l?0:l)/2;for(var p=[-0.1252,\n",
        "0.1252,-0.3678,0.3678,-0.5873,0.5873,-0.7699,0.7699,-0.9041,0.9041,-0.9816,0.9816],q=[0.2491,0.2491,0.2335,0.2335,0.2032,0.2032,0.1601,0.1601,0.1069,0.1069,0.0472,0.0472],s=0,c=0;12>c;c++)var t=l*p[c]+l,r=t*(t*(-3*a+9*d-9*h+3*n)+6*a-12*d+6*h)-3*a+3*d,t=t*(t*(-3*b+9*e-9*f+3*k)+6*b-12*e+6*f)-3*b+3*e,s=s+q[c]*F.sqrt(r*r+t*t);return l*s}function l(a,b,d){a=I(a);b=I(b);for(var h,f,l,n,k,s,r,O,x,c,t=d?0:[],w=0,v=a.length;w<v;w++)if(x=a[w],\"M\"==x[0])h=k=x[1],f=s=x[2];else{\"C\"==x[0]?(x=[h,f].concat(x.slice(1)),\n",
        "h=x[6],f=x[7]):(x=[h,f,h,f,k,s,k,s],h=k,f=s);for(var G=0,y=b.length;G<y;G++)if(c=b[G],\"M\"==c[0])l=r=c[1],n=O=c[2];else{\"C\"==c[0]?(c=[l,n].concat(c.slice(1)),l=c[6],n=c[7]):(c=[l,n,l,n,r,O,r,O],l=r,n=O);var z;var K=x,B=c;z=d;var H=p(K),J=p(B);if(q(H,J)){for(var H=e.apply(0,K),J=e.apply(0,B),H=~~(H/8),J=~~(J/8),U=[],A=[],F={},M=z?0:[],P=0;P<H+1;P++){var C=u.apply(0,K.concat(P/H));U.push({x:C.x,y:C.y,t:P/H})}for(P=0;P<J+1;P++)C=u.apply(0,B.concat(P/J)),A.push({x:C.x,y:C.y,t:P/J});for(P=0;P<H;P++)for(K=\n",
        "0;K<J;K++){var Q=U[P],L=U[P+1],B=A[K],C=A[K+1],N=0.001>Z(L.x-Q.x)?\"y\":\"x\",S=0.001>Z(C.x-B.x)?\"y\":\"x\",R;R=Q.x;var Y=Q.y,V=L.x,ea=L.y,fa=B.x,ga=B.y,ha=C.x,ia=C.y;if(W(R,V)<X(fa,ha)||X(R,V)>W(fa,ha)||W(Y,ea)<X(ga,ia)||X(Y,ea)>W(ga,ia))R=void 0;else{var $=(R*ea-Y*V)*(fa-ha)-(R-V)*(fa*ia-ga*ha),aa=(R*ea-Y*V)*(ga-ia)-(Y-ea)*(fa*ia-ga*ha),ja=(R-V)*(ga-ia)-(Y-ea)*(fa-ha);if(ja){var $=$/ja,aa=aa/ja,ja=+$.toFixed(2),ba=+aa.toFixed(2);R=ja<+X(R,V).toFixed(2)||ja>+W(R,V).toFixed(2)||ja<+X(fa,ha).toFixed(2)||\n",
        "ja>+W(fa,ha).toFixed(2)||ba<+X(Y,ea).toFixed(2)||ba>+W(Y,ea).toFixed(2)||ba<+X(ga,ia).toFixed(2)||ba>+W(ga,ia).toFixed(2)?void 0:{x:$,y:aa}}else R=void 0}R&&F[R.x.toFixed(4)]!=R.y.toFixed(4)&&(F[R.x.toFixed(4)]=R.y.toFixed(4),Q=Q.t+Z((R[N]-Q[N])/(L[N]-Q[N]))*(L.t-Q.t),B=B.t+Z((R[S]-B[S])/(C[S]-B[S]))*(C.t-B.t),0<=Q&&1>=Q&&0<=B&&1>=B&&(z?M++:M.push({x:R.x,y:R.y,t1:Q,t2:B})))}z=M}else z=z?0:[];if(d)t+=z;else{H=0;for(J=z.length;H<J;H++)z[H].segment1=w,z[H].segment2=G,z[H].bez1=x,z[H].bez2=c;t=t.concat(z)}}}return t}\n",
        "function r(a){var b=A(a);if(b.bbox)return C(b.bbox);if(!a)return w();a=I(a);for(var d=0,e=0,h=[],f=[],l,n=0,k=a.length;n<k;n++)l=a[n],\"M\"==l[0]?(d=l[1],e=l[2],h.push(d),f.push(e)):(d=U(d,e,l[1],l[2],l[3],l[4],l[5],l[6]),h=h.concat(d.min.x,d.max.x),f=f.concat(d.min.y,d.max.y),d=l[5],e=l[6]);a=X.apply(0,h);l=X.apply(0,f);h=W.apply(0,h);f=W.apply(0,f);f=w(a,l,h-a,f-l);b.bbox=C(f);return f}function s(a,b,d,e,h){if(h)return[[\"M\",+a+ +h,b],[\"l\",d-2*h,0],[\"a\",h,h,0,0,1,h,h],[\"l\",0,e-2*h],[\"a\",h,h,0,0,1,\n",
        "-h,h],[\"l\",2*h-d,0],[\"a\",h,h,0,0,1,-h,-h],[\"l\",0,2*h-e],[\"a\",h,h,0,0,1,h,-h],[\"z\"] ];a=[[\"M\",a,b],[\"l\",d,0],[\"l\",0,e],[\"l\",-d,0],[\"z\"] ];a.toString=z;return a}function x(a,b,d,e,h){null==h&&null==e&&(e=d);a=+a;b=+b;d=+d;e=+e;if(null!=h){var f=Math.PI/180,l=a+d*Math.cos(-e*f);a+=d*Math.cos(-h*f);var n=b+d*Math.sin(-e*f);b+=d*Math.sin(-h*f);d=[[\"M\",l,n],[\"A\",d,d,0,+(180<h-e),0,a,b] ]}else d=[[\"M\",a,b],[\"m\",0,-e],[\"a\",d,e,0,1,1,0,2*e],[\"a\",d,e,0,1,1,0,-2*e],[\"z\"] ];d.toString=z;return d}function G(b){var e=\n",
        "A(b);if(e.abs)return d(e.abs);Q(b,\"array\")&&Q(b&&b[0],\"array\")||(b=a.parsePathString(b));if(!b||!b.length)return[[\"M\",0,0] ];var h=[],f=0,l=0,n=0,k=0,p=0;\"M\"==b[0][0]&&(f=+b[0][1],l=+b[0][2],n=f,k=l,p++,h[0]=[\"M\",f,l]);for(var q=3==b.length&&\"M\"==b[0][0]&&\"R\"==b[1][0].toUpperCase()&&\"Z\"==b[2][0].toUpperCase(),s,r,w=p,c=b.length;w<c;w++){h.push(s=[]);r=b[w];p=r[0];if(p!=p.toUpperCase())switch(s[0]=p.toUpperCase(),s[0]){case \"A\":s[1]=r[1];s[2]=r[2];s[3]=r[3];s[4]=r[4];s[5]=r[5];s[6]=+r[6]+f;s[7]=+r[7]+\n",
        "l;break;case \"V\":s[1]=+r[1]+l;break;case \"H\":s[1]=+r[1]+f;break;case \"R\":for(var t=[f,l].concat(r.slice(1)),u=2,v=t.length;u<v;u++)t[u]=+t[u]+f,t[++u]=+t[u]+l;h.pop();h=h.concat(P(t,q));break;case \"O\":h.pop();t=x(f,l,r[1],r[2]);t.push(t[0]);h=h.concat(t);break;case \"U\":h.pop();h=h.concat(x(f,l,r[1],r[2],r[3]));s=[\"U\"].concat(h[h.length-1].slice(-2));break;case \"M\":n=+r[1]+f,k=+r[2]+l;default:for(u=1,v=r.length;u<v;u++)s[u]=+r[u]+(u%2?f:l)}else if(\"R\"==p)t=[f,l].concat(r.slice(1)),h.pop(),h=h.concat(P(t,\n",
        "q)),s=[\"R\"].concat(r.slice(-2));else if(\"O\"==p)h.pop(),t=x(f,l,r[1],r[2]),t.push(t[0]),h=h.concat(t);else if(\"U\"==p)h.pop(),h=h.concat(x(f,l,r[1],r[2],r[3])),s=[\"U\"].concat(h[h.length-1].slice(-2));else for(t=0,u=r.length;t<u;t++)s[t]=r[t];p=p.toUpperCase();if(\"O\"!=p)switch(s[0]){case \"Z\":f=+n;l=+k;break;case \"H\":f=s[1];break;case \"V\":l=s[1];break;case \"M\":n=s[s.length-2],k=s[s.length-1];default:f=s[s.length-2],l=s[s.length-1]}}h.toString=z;e.abs=d(h);return h}function h(a,b,d,e){return[a,b,d,e,d,\n",
        "e]}function J(a,b,d,e,h,f){var l=1/3,n=2/3;return[l*a+n*d,l*b+n*e,l*h+n*d,l*f+n*e,h,f]}function K(b,d,e,h,f,l,n,k,p,s){var r=120*S/180,q=S/180*(+f||0),c=[],t,x=a._.cacher(function(a,b,c){var d=a*F.cos(c)-b*F.sin(c);a=a*F.sin(c)+b*F.cos(c);return{x:d,y:a}});if(s)v=s[0],t=s[1],l=s[2],u=s[3];else{t=x(b,d,-q);b=t.x;d=t.y;t=x(k,p,-q);k=t.x;p=t.y;F.cos(S/180*f);F.sin(S/180*f);t=(b-k)/2;v=(d-p)/2;u=t*t/(e*e)+v*v/(h*h);1<u&&(u=F.sqrt(u),e*=u,h*=u);var u=e*e,w=h*h,u=(l==n?-1:1)*F.sqrt(Z((u*w-u*v*v-w*t*t)/\n",
        "(u*v*v+w*t*t)));l=u*e*v/h+(b+k)/2;var u=u*-h*t/e+(d+p)/2,v=F.asin(((d-u)/h).toFixed(9));t=F.asin(((p-u)/h).toFixed(9));v=b<l?S-v:v;t=k<l?S-t:t;0>v&&(v=2*S+v);0>t&&(t=2*S+t);n&&v>t&&(v-=2*S);!n&&t>v&&(t-=2*S)}if(Z(t-v)>r){var c=t,w=k,G=p;t=v+r*(n&&t>v?1:-1);k=l+e*F.cos(t);p=u+h*F.sin(t);c=K(k,p,e,h,f,0,n,w,G,[t,c,l,u])}l=t-v;f=F.cos(v);r=F.sin(v);n=F.cos(t);t=F.sin(t);l=F.tan(l/4);e=4/3*e*l;l*=4/3*h;h=[b,d];b=[b+e*r,d-l*f];d=[k+e*t,p-l*n];k=[k,p];b[0]=2*h[0]-b[0];b[1]=2*h[1]-b[1];if(s)return[b,d,k].concat(c);\n",
        "c=[b,d,k].concat(c).join().split(\",\");s=[];k=0;for(p=c.length;k<p;k++)s[k]=k%2?x(c[k-1],c[k],q).y:x(c[k],c[k+1],q).x;return s}function U(a,b,d,e,h,f,l,k){for(var n=[],p=[[],[] ],s,r,c,t,q=0;2>q;++q)0==q?(r=6*a-12*d+6*h,s=-3*a+9*d-9*h+3*l,c=3*d-3*a):(r=6*b-12*e+6*f,s=-3*b+9*e-9*f+3*k,c=3*e-3*b),1E-12>Z(s)?1E-12>Z(r)||(s=-c/r,0<s&&1>s&&n.push(s)):(t=r*r-4*c*s,c=F.sqrt(t),0>t||(t=(-r+c)/(2*s),0<t&&1>t&&n.push(t),s=(-r-c)/(2*s),0<s&&1>s&&n.push(s)));for(r=q=n.length;q--;)s=n[q],c=1-s,p[0][q]=c*c*c*a+3*\n",
        "c*c*s*d+3*c*s*s*h+s*s*s*l,p[1][q]=c*c*c*b+3*c*c*s*e+3*c*s*s*f+s*s*s*k;p[0][r]=a;p[1][r]=b;p[0][r+1]=l;p[1][r+1]=k;p[0].length=p[1].length=r+2;return{min:{x:X.apply(0,p[0]),y:X.apply(0,p[1])},max:{x:W.apply(0,p[0]),y:W.apply(0,p[1])}}}function I(a,b){var e=!b&&A(a);if(!b&&e.curve)return d(e.curve);var f=G(a),l=b&&G(b),n={x:0,y:0,bx:0,by:0,X:0,Y:0,qx:null,qy:null},k={x:0,y:0,bx:0,by:0,X:0,Y:0,qx:null,qy:null},p=function(a,b,c){if(!a)return[\"C\",b.x,b.y,b.x,b.y,b.x,b.y];a[0]in{T:1,Q:1}||(b.qx=b.qy=null);\n",
        "switch(a[0]){case \"M\":b.X=a[1];b.Y=a[2];break;case \"A\":a=[\"C\"].concat(K.apply(0,[b.x,b.y].concat(a.slice(1))));break;case \"S\":\"C\"==c||\"S\"==c?(c=2*b.x-b.bx,b=2*b.y-b.by):(c=b.x,b=b.y);a=[\"C\",c,b].concat(a.slice(1));break;case \"T\":\"Q\"==c||\"T\"==c?(b.qx=2*b.x-b.qx,b.qy=2*b.y-b.qy):(b.qx=b.x,b.qy=b.y);a=[\"C\"].concat(J(b.x,b.y,b.qx,b.qy,a[1],a[2]));break;case \"Q\":b.qx=a[1];b.qy=a[2];a=[\"C\"].concat(J(b.x,b.y,a[1],a[2],a[3],a[4]));break;case \"L\":a=[\"C\"].concat(h(b.x,b.y,a[1],a[2]));break;case \"H\":a=[\"C\"].concat(h(b.x,\n",
        "b.y,a[1],b.y));break;case \"V\":a=[\"C\"].concat(h(b.x,b.y,b.x,a[1]));break;case \"Z\":a=[\"C\"].concat(h(b.x,b.y,b.X,b.Y))}return a},s=function(a,b){if(7<a[b].length){a[b].shift();for(var c=a[b];c.length;)q[b]=\"A\",l&&(u[b]=\"A\"),a.splice(b++,0,[\"C\"].concat(c.splice(0,6)));a.splice(b,1);v=W(f.length,l&&l.length||0)}},r=function(a,b,c,d,e){a&&b&&\"M\"==a[e][0]&&\"M\"!=b[e][0]&&(b.splice(e,0,[\"M\",d.x,d.y]),c.bx=0,c.by=0,c.x=a[e][1],c.y=a[e][2],v=W(f.length,l&&l.length||0))},q=[],u=[],c=\"\",t=\"\",x=0,v=W(f.length,\n",
        "l&&l.length||0);for(;x<v;x++){f[x]&&(c=f[x][0]);\"C\"!=c&&(q[x]=c,x&&(t=q[x-1]));f[x]=p(f[x],n,t);\"A\"!=q[x]&&\"C\"==c&&(q[x]=\"C\");s(f,x);l&&(l[x]&&(c=l[x][0]),\"C\"!=c&&(u[x]=c,x&&(t=u[x-1])),l[x]=p(l[x],k,t),\"A\"!=u[x]&&\"C\"==c&&(u[x]=\"C\"),s(l,x));r(f,l,n,k,x);r(l,f,k,n,x);var w=f[x],z=l&&l[x],y=w.length,U=l&&z.length;n.x=w[y-2];n.y=w[y-1];n.bx=$(w[y-4])||n.x;n.by=$(w[y-3])||n.y;k.bx=l&&($(z[U-4])||k.x);k.by=l&&($(z[U-3])||k.y);k.x=l&&z[U-2];k.y=l&&z[U-1]}l||(e.curve=d(f));return l?[f,l]:f}function P(a,\n",
        "b){for(var d=[],e=0,h=a.length;h-2*!b>e;e+=2){var f=[{x:+a[e-2],y:+a[e-1]},{x:+a[e],y:+a[e+1]},{x:+a[e+2],y:+a[e+3]},{x:+a[e+4],y:+a[e+5]}];b?e?h-4==e?f[3]={x:+a[0],y:+a[1]}:h-2==e&&(f[2]={x:+a[0],y:+a[1]},f[3]={x:+a[2],y:+a[3]}):f[0]={x:+a[h-2],y:+a[h-1]}:h-4==e?f[3]=f[2]:e||(f[0]={x:+a[e],y:+a[e+1]});d.push([\"C\",(-f[0].x+6*f[1].x+f[2].x)/6,(-f[0].y+6*f[1].y+f[2].y)/6,(f[1].x+6*f[2].x-f[3].x)/6,(f[1].y+6*f[2].y-f[3].y)/6,f[2].x,f[2].y])}return d}y=k.prototype;var Q=a.is,C=a._.clone,L=\"hasOwnProperty\",\n",
        "N=/,?([a-z]),?/gi,$=parseFloat,F=Math,S=F.PI,X=F.min,W=F.max,ma=F.pow,Z=F.abs;M=n(1);var na=n(),ba=n(0,1),V=a._unit2px;a.path=A;a.path.getTotalLength=M;a.path.getPointAtLength=na;a.path.getSubpath=function(a,b,d){if(1E-6>this.getTotalLength(a)-d)return ba(a,b).end;a=ba(a,d,1);return b?ba(a,b).end:a};y.getTotalLength=function(){if(this.node.getTotalLength)return this.node.getTotalLength()};y.getPointAtLength=function(a){return na(this.attr(\"d\"),a)};y.getSubpath=function(b,d){return a.path.getSubpath(this.attr(\"d\"),\n",
        "b,d)};a._.box=w;a.path.findDotsAtSegment=u;a.path.bezierBBox=p;a.path.isPointInsideBBox=b;a.path.isBBoxIntersect=q;a.path.intersection=function(a,b){return l(a,b)};a.path.intersectionNumber=function(a,b){return l(a,b,1)};a.path.isPointInside=function(a,d,e){var h=r(a);return b(h,d,e)&&1==l(a,[[\"M\",d,e],[\"H\",h.x2+10] ],1)%2};a.path.getBBox=r;a.path.get={path:function(a){return a.attr(\"path\")},circle:function(a){a=V(a);return x(a.cx,a.cy,a.r)},ellipse:function(a){a=V(a);return x(a.cx||0,a.cy||0,a.rx,\n",
        "a.ry)},rect:function(a){a=V(a);return s(a.x||0,a.y||0,a.width,a.height,a.rx,a.ry)},image:function(a){a=V(a);return s(a.x||0,a.y||0,a.width,a.height)},line:function(a){return\"M\"+[a.attr(\"x1\")||0,a.attr(\"y1\")||0,a.attr(\"x2\"),a.attr(\"y2\")]},polyline:function(a){return\"M\"+a.attr(\"points\")},polygon:function(a){return\"M\"+a.attr(\"points\")+\"z\"},deflt:function(a){a=a.node.getBBox();return s(a.x,a.y,a.width,a.height)}};a.path.toRelative=function(b){var e=A(b),h=String.prototype.toLowerCase;if(e.rel)return d(e.rel);\n",
        "a.is(b,\"array\")&&a.is(b&&b[0],\"array\")||(b=a.parsePathString(b));var f=[],l=0,n=0,k=0,p=0,s=0;\"M\"==b[0][0]&&(l=b[0][1],n=b[0][2],k=l,p=n,s++,f.push([\"M\",l,n]));for(var r=b.length;s<r;s++){var q=f[s]=[],x=b[s];if(x[0]!=h.call(x[0]))switch(q[0]=h.call(x[0]),q[0]){case \"a\":q[1]=x[1];q[2]=x[2];q[3]=x[3];q[4]=x[4];q[5]=x[5];q[6]=+(x[6]-l).toFixed(3);q[7]=+(x[7]-n).toFixed(3);break;case \"v\":q[1]=+(x[1]-n).toFixed(3);break;case \"m\":k=x[1],p=x[2];default:for(var c=1,t=x.length;c<t;c++)q[c]=+(x[c]-(c%2?l:\n",
        "n)).toFixed(3)}else for(f[s]=[],\"m\"==x[0]&&(k=x[1]+l,p=x[2]+n),q=0,c=x.length;q<c;q++)f[s][q]=x[q];x=f[s].length;switch(f[s][0]){case \"z\":l=k;n=p;break;case \"h\":l+=+f[s][x-1];break;case \"v\":n+=+f[s][x-1];break;default:l+=+f[s][x-2],n+=+f[s][x-1]}}f.toString=z;e.rel=d(f);return f};a.path.toAbsolute=G;a.path.toCubic=I;a.path.map=function(a,b){if(!b)return a;var d,e,h,f,l,n,k;a=I(a);h=0;for(l=a.length;h<l;h++)for(k=a[h],f=1,n=k.length;f<n;f+=2)d=b.x(k[f],k[f+1]),e=b.y(k[f],k[f+1]),k[f]=d,k[f+1]=e;return a};\n",
        "a.path.toString=z;a.path.clone=d});C.plugin(function(a,v,y,C){var A=Math.max,w=Math.min,z=function(a){this.items=[];this.bindings={};this.length=0;this.type=\"set\";if(a)for(var f=0,n=a.length;f<n;f++)a[f]&&(this[this.items.length]=this.items[this.items.length]=a[f],this.length++)};v=z.prototype;v.push=function(){for(var a,f,n=0,k=arguments.length;n<k;n++)if(a=arguments[n])f=this.items.length,this[f]=this.items[f]=a,this.length++;return this};v.pop=function(){this.length&&delete this[this.length--];\n",
        "return this.items.pop()};v.forEach=function(a,f){for(var n=0,k=this.items.length;n<k&&!1!==a.call(f,this.items[n],n);n++);return this};v.animate=function(d,f,n,u){\"function\"!=typeof n||n.length||(u=n,n=L.linear);d instanceof a._.Animation&&(u=d.callback,n=d.easing,f=n.dur,d=d.attr);var p=arguments;if(a.is(d,\"array\")&&a.is(p[p.length-1],\"array\"))var b=!0;var q,e=function(){q?this.b=q:q=this.b},l=0,r=u&&function(){l++==this.length&&u.call(this)};return this.forEach(function(a,l){k.once(\"snap.animcreated.\"+\n",
        "a.id,e);b?p[l]&&a.animate.apply(a,p[l]):a.animate(d,f,n,r)})};v.remove=function(){for(;this.length;)this.pop().remove();return this};v.bind=function(a,f,k){var u={};if(\"function\"==typeof f)this.bindings[a]=f;else{var p=k||a;this.bindings[a]=function(a){u[p]=a;f.attr(u)}}return this};v.attr=function(a){var f={},k;for(k in a)if(this.bindings[k])this.bindings[k](a[k]);else f[k]=a[k];a=0;for(k=this.items.length;a<k;a++)this.items[a].attr(f);return this};v.clear=function(){for(;this.length;)this.pop()};\n",
        "v.splice=function(a,f,k){a=0>a?A(this.length+a,0):a;f=A(0,w(this.length-a,f));var u=[],p=[],b=[],q;for(q=2;q<arguments.length;q++)b.push(arguments[q]);for(q=0;q<f;q++)p.push(this[a+q]);for(;q<this.length-a;q++)u.push(this[a+q]);var e=b.length;for(q=0;q<e+u.length;q++)this.items[a+q]=this[a+q]=q<e?b[q]:u[q-e];for(q=this.items.length=this.length-=f-e;this[q];)delete this[q++];return new z(p)};v.exclude=function(a){for(var f=0,k=this.length;f<k;f++)if(this[f]==a)return this.splice(f,1),!0;return!1};\n",
        "v.insertAfter=function(a){for(var f=this.items.length;f--;)this.items[f].insertAfter(a);return this};v.getBBox=function(){for(var a=[],f=[],k=[],u=[],p=this.items.length;p--;)if(!this.items[p].removed){var b=this.items[p].getBBox();a.push(b.x);f.push(b.y);k.push(b.x+b.width);u.push(b.y+b.height)}a=w.apply(0,a);f=w.apply(0,f);k=A.apply(0,k);u=A.apply(0,u);return{x:a,y:f,x2:k,y2:u,width:k-a,height:u-f,cx:a+(k-a)/2,cy:f+(u-f)/2}};v.clone=function(a){a=new z;for(var f=0,k=this.items.length;f<k;f++)a.push(this.items[f].clone());\n",
        "return a};v.toString=function(){return\"Snap\\u2018s set\"};v.type=\"set\";a.set=function(){var a=new z;arguments.length&&a.push.apply(a,Array.prototype.slice.call(arguments,0));return a}});C.plugin(function(a,v,y,C){function A(a){var b=a[0];switch(b.toLowerCase()){case \"t\":return[b,0,0];case \"m\":return[b,1,0,0,1,0,0];case \"r\":return 4==a.length?[b,0,a[2],a[3] ]:[b,0];case \"s\":return 5==a.length?[b,1,1,a[3],a[4] ]:3==a.length?[b,1,1]:[b,1]}}function w(b,d,f){d=q(d).replace(/\\.{3}|\\u2026/g,b);b=a.parseTransformString(b)||\n",
        "[];d=a.parseTransformString(d)||[];for(var k=Math.max(b.length,d.length),p=[],v=[],h=0,w,z,y,I;h<k;h++){y=b[h]||A(d[h]);I=d[h]||A(y);if(y[0]!=I[0]||\"r\"==y[0].toLowerCase()&&(y[2]!=I[2]||y[3]!=I[3])||\"s\"==y[0].toLowerCase()&&(y[3]!=I[3]||y[4]!=I[4])){b=a._.transform2matrix(b,f());d=a._.transform2matrix(d,f());p=[[\"m\",b.a,b.b,b.c,b.d,b.e,b.f] ];v=[[\"m\",d.a,d.b,d.c,d.d,d.e,d.f] ];break}p[h]=[];v[h]=[];w=0;for(z=Math.max(y.length,I.length);w<z;w++)w in y&&(p[h][w]=y[w]),w in I&&(v[h][w]=I[w])}return{from:u(p),\n",
        "to:u(v),f:n(p)}}function z(a){return a}function d(a){return function(b){return+b.toFixed(3)+a}}function f(b){return a.rgb(b[0],b[1],b[2])}function n(a){var b=0,d,f,k,n,h,p,q=[];d=0;for(f=a.length;d<f;d++){h=\"[\";p=['\"'+a[d][0]+'\"'];k=1;for(n=a[d].length;k<n;k++)p[k]=\"val[\"+b++ +\"]\";h+=p+\"]\";q[d]=h}return Function(\"val\",\"return Snap.path.toString.call([\"+q+\"])\")}function u(a){for(var b=[],d=0,f=a.length;d<f;d++)for(var k=1,n=a[d].length;k<n;k++)b.push(a[d][k]);return b}var p={},b=/[a-z]+$/i,q=String;\n",
        "p.stroke=p.fill=\"colour\";v.prototype.equal=function(a,b){return k(\"snap.util.equal\",this,a,b).firstDefined()};k.on(\"snap.util.equal\",function(e,k){var r,s;r=q(this.attr(e)||\"\");var x=this;if(r==+r&&k==+k)return{from:+r,to:+k,f:z};if(\"colour\"==p[e])return r=a.color(r),s=a.color(k),{from:[r.r,r.g,r.b,r.opacity],to:[s.r,s.g,s.b,s.opacity],f:f};if(\"transform\"==e||\"gradientTransform\"==e||\"patternTransform\"==e)return k instanceof a.Matrix&&(k=k.toTransformString()),a._.rgTransform.test(k)||(k=a._.svgTransform2string(k)),\n",
        "w(r,k,function(){return x.getBBox(1)});if(\"d\"==e||\"path\"==e)return r=a.path.toCubic(r,k),{from:u(r[0]),to:u(r[1]),f:n(r[0])};if(\"points\"==e)return r=q(r).split(a._.separator),s=q(k).split(a._.separator),{from:r,to:s,f:function(a){return a}};aUnit=r.match(b);s=q(k).match(b);return aUnit&&aUnit==s?{from:parseFloat(r),to:parseFloat(k),f:d(aUnit)}:{from:this.asPX(e),to:this.asPX(e,k),f:z}})});C.plugin(function(a,v,y,C){var A=v.prototype,w=\"createTouch\"in C.doc;v=\"click dblclick mousedown mousemove mouseout mouseover mouseup touchstart touchmove touchend touchcancel\".split(\" \");\n",
        "var z={mousedown:\"touchstart\",mousemove:\"touchmove\",mouseup:\"touchend\"},d=function(a,b){var d=\"y\"==a?\"scrollTop\":\"scrollLeft\",e=b&&b.node?b.node.ownerDocument:C.doc;return e[d in e.documentElement?\"documentElement\":\"body\"][d]},f=function(){this.returnValue=!1},n=function(){return this.originalEvent.preventDefault()},u=function(){this.cancelBubble=!0},p=function(){return this.originalEvent.stopPropagation()},b=function(){if(C.doc.addEventListener)return function(a,b,e,f){var k=w&&z[b]?z[b]:b,l=function(k){var l=\n",
        "d(\"y\",f),q=d(\"x\",f);if(w&&z.hasOwnProperty(b))for(var r=0,u=k.targetTouches&&k.targetTouches.length;r<u;r++)if(k.targetTouches[r].target==a||a.contains(k.targetTouches[r].target)){u=k;k=k.targetTouches[r];k.originalEvent=u;k.preventDefault=n;k.stopPropagation=p;break}return e.call(f,k,k.clientX+q,k.clientY+l)};b!==k&&a.addEventListener(b,l,!1);a.addEventListener(k,l,!1);return function(){b!==k&&a.removeEventListener(b,l,!1);a.removeEventListener(k,l,!1);return!0}};if(C.doc.attachEvent)return function(a,\n",
        "b,e,h){var k=function(a){a=a||h.node.ownerDocument.window.event;var b=d(\"y\",h),k=d(\"x\",h),k=a.clientX+k,b=a.clientY+b;a.preventDefault=a.preventDefault||f;a.stopPropagation=a.stopPropagation||u;return e.call(h,a,k,b)};a.attachEvent(\"on\"+b,k);return function(){a.detachEvent(\"on\"+b,k);return!0}}}(),q=[],e=function(a){for(var b=a.clientX,e=a.clientY,f=d(\"y\"),l=d(\"x\"),n,p=q.length;p--;){n=q[p];if(w)for(var r=a.touches&&a.touches.length,u;r--;){if(u=a.touches[r],u.identifier==n.el._drag.id||n.el.node.contains(u.target)){b=\n",
        "u.clientX;e=u.clientY;(a.originalEvent?a.originalEvent:a).preventDefault();break}}else a.preventDefault();b+=l;e+=f;k(\"snap.drag.move.\"+n.el.id,n.move_scope||n.el,b-n.el._drag.x,e-n.el._drag.y,b,e,a)}},l=function(b){a.unmousemove(e).unmouseup(l);for(var d=q.length,f;d--;)f=q[d],f.el._drag={},k(\"snap.drag.end.\"+f.el.id,f.end_scope||f.start_scope||f.move_scope||f.el,b);q=[]};for(y=v.length;y--;)(function(d){a[d]=A[d]=function(e,f){a.is(e,\"function\")&&(this.events=this.events||[],this.events.push({name:d,\n",
        "f:e,unbind:b(this.node||document,d,e,f||this)}));return this};a[\"un\"+d]=A[\"un\"+d]=function(a){for(var b=this.events||[],e=b.length;e--;)if(b[e].name==d&&(b[e].f==a||!a)){b[e].unbind();b.splice(e,1);!b.length&&delete this.events;break}return this}})(v[y]);A.hover=function(a,b,d,e){return this.mouseover(a,d).mouseout(b,e||d)};A.unhover=function(a,b){return this.unmouseover(a).unmouseout(b)};var r=[];A.drag=function(b,d,f,h,n,p){function u(r,v,w){(r.originalEvent||r).preventDefault();this._drag.x=v;\n",
        "this._drag.y=w;this._drag.id=r.identifier;!q.length&&a.mousemove(e).mouseup(l);q.push({el:this,move_scope:h,start_scope:n,end_scope:p});d&&k.on(\"snap.drag.start.\"+this.id,d);b&&k.on(\"snap.drag.move.\"+this.id,b);f&&k.on(\"snap.drag.end.\"+this.id,f);k(\"snap.drag.start.\"+this.id,n||h||this,v,w,r)}if(!arguments.length){var v;return this.drag(function(a,b){this.attr({transform:v+(v?\"T\":\"t\")+[a,b]})},function(){v=this.transform().local})}this._drag={};r.push({el:this,start:u});this.mousedown(u);return this};\n",
        "A.undrag=function(){for(var b=r.length;b--;)r[b].el==this&&(this.unmousedown(r[b].start),r.splice(b,1),k.unbind(\"snap.drag.*.\"+this.id));!r.length&&a.unmousemove(e).unmouseup(l);return this}});C.plugin(function(a,v,y,C){y=y.prototype;var A=/^\\s*url\\((.+)\\)/,w=String,z=a._.$;a.filter={};y.filter=function(d){var f=this;\"svg\"!=f.type&&(f=f.paper);d=a.parse(w(d));var k=a._.id(),u=z(\"filter\");z(u,{id:k,filterUnits:\"userSpaceOnUse\"});u.appendChild(d.node);f.defs.appendChild(u);return new v(u)};k.on(\"snap.util.getattr.filter\",\n",
        "function(){k.stop();var d=z(this.node,\"filter\");if(d)return(d=w(d).match(A))&&a.select(d[1])});k.on(\"snap.util.attr.filter\",function(d){if(d instanceof v&&\"filter\"==d.type){k.stop();var f=d.node.id;f||(z(d.node,{id:d.id}),f=d.id);z(this.node,{filter:a.url(f)})}d&&\"none\"!=d||(k.stop(),this.node.removeAttribute(\"filter\"))});a.filter.blur=function(d,f){null==d&&(d=2);return a.format('<feGaussianBlur stdDeviation=\"{def}\"/>',{def:null==f?d:[d,f]})};a.filter.blur.toString=function(){return this()};a.filter.shadow=\n",
        "function(d,f,k,u,p){\"string\"==typeof k&&(p=u=k,k=4);\"string\"!=typeof u&&(p=u,u=\"#000\");null==k&&(k=4);null==p&&(p=1);null==d&&(d=0,f=2);null==f&&(f=d);u=a.color(u||\"#000\");return a.format('<feGaussianBlur in=\"SourceAlpha\" stdDeviation=\"{blur}\"/><feOffset dx=\"{dx}\" dy=\"{dy}\" result=\"offsetblur\"/><feFlood flood-color=\"{color}\"/><feComposite in2=\"offsetblur\" operator=\"in\"/><feComponentTransfer><feFuncA type=\"linear\" slope=\"{opacity}\"/></feComponentTransfer><feMerge><feMergeNode/><feMergeNode in=\"SourceGraphic\"/></feMerge>',\n",
        "{color:u,dx:d,dy:f,blur:k,opacity:p})};a.filter.shadow.toString=function(){return this()};a.filter.grayscale=function(d){null==d&&(d=1);return a.format('<feColorMatrix type=\"matrix\" values=\"{a} {b} {c} 0 0 {d} {e} {f} 0 0 {g} {b} {h} 0 0 0 0 0 1 0\"/>',{a:0.2126+0.7874*(1-d),b:0.7152-0.7152*(1-d),c:0.0722-0.0722*(1-d),d:0.2126-0.2126*(1-d),e:0.7152+0.2848*(1-d),f:0.0722-0.0722*(1-d),g:0.2126-0.2126*(1-d),h:0.0722+0.9278*(1-d)})};a.filter.grayscale.toString=function(){return this()};a.filter.sepia=\n",
        "function(d){null==d&&(d=1);return a.format('<feColorMatrix type=\"matrix\" values=\"{a} {b} {c} 0 0 {d} {e} {f} 0 0 {g} {h} {i} 0 0 0 0 0 1 0\"/>',{a:0.393+0.607*(1-d),b:0.769-0.769*(1-d),c:0.189-0.189*(1-d),d:0.349-0.349*(1-d),e:0.686+0.314*(1-d),f:0.168-0.168*(1-d),g:0.272-0.272*(1-d),h:0.534-0.534*(1-d),i:0.131+0.869*(1-d)})};a.filter.sepia.toString=function(){return this()};a.filter.saturate=function(d){null==d&&(d=1);return a.format('<feColorMatrix type=\"saturate\" values=\"{amount}\"/>',{amount:1-\n",
        "d})};a.filter.saturate.toString=function(){return this()};a.filter.hueRotate=function(d){return a.format('<feColorMatrix type=\"hueRotate\" values=\"{angle}\"/>',{angle:d||0})};a.filter.hueRotate.toString=function(){return this()};a.filter.invert=function(d){null==d&&(d=1);return a.format('<feComponentTransfer><feFuncR type=\"table\" tableValues=\"{amount} {amount2}\"/><feFuncG type=\"table\" tableValues=\"{amount} {amount2}\"/><feFuncB type=\"table\" tableValues=\"{amount} {amount2}\"/></feComponentTransfer>',{amount:d,\n",
        "amount2:1-d})};a.filter.invert.toString=function(){return this()};a.filter.brightness=function(d){null==d&&(d=1);return a.format('<feComponentTransfer><feFuncR type=\"linear\" slope=\"{amount}\"/><feFuncG type=\"linear\" slope=\"{amount}\"/><feFuncB type=\"linear\" slope=\"{amount}\"/></feComponentTransfer>',{amount:d})};a.filter.brightness.toString=function(){return this()};a.filter.contrast=function(d){null==d&&(d=1);return a.format('<feComponentTransfer><feFuncR type=\"linear\" slope=\"{amount}\" intercept=\"{amount2}\"/><feFuncG type=\"linear\" slope=\"{amount}\" intercept=\"{amount2}\"/><feFuncB type=\"linear\" slope=\"{amount}\" intercept=\"{amount2}\"/></feComponentTransfer>',\n",
        "{amount:d,amount2:0.5-d/2})};a.filter.contrast.toString=function(){return this()}});return C});\n",
        "\n",
        "]]> </script>\n",
        "<script> <![CDATA[\n",
        "\n",
        "(function (glob, factory) {\n",
        "    // AMD support\n",
        "    if (typeof define === \"function\" && define.amd) {\n",
        "        // Define as an anonymous module\n",
        "        define(\"Gadfly\", [\"Snap.svg\"], function (Snap) {\n",
        "            return factory(Snap);\n",
        "        });\n",
        "    } else {\n",
        "        // Browser globals (glob is window)\n",
        "        // Snap adds itself to window\n",
        "        glob.Gadfly = factory(glob.Snap);\n",
        "    }\n",
        "}(this, function (Snap) {\n",
        "\n",
        "var Gadfly = {};\n",
        "\n",
        "// Get an x/y coordinate value in pixels\n",
        "var xPX = function(fig, x) {\n",
        "    var client_box = fig.node.getBoundingClientRect();\n",
        "    return x * fig.node.viewBox.baseVal.width / client_box.width;\n",
        "};\n",
        "\n",
        "var yPX = function(fig, y) {\n",
        "    var client_box = fig.node.getBoundingClientRect();\n",
        "    return y * fig.node.viewBox.baseVal.height / client_box.height;\n",
        "};\n",
        "\n",
        "\n",
        "Snap.plugin(function (Snap, Element, Paper, global) {\n",
        "    // Traverse upwards from a snap element to find and return the first\n",
        "    // note with the \"plotroot\" class.\n",
        "    Element.prototype.plotroot = function () {\n",
        "        var element = this;\n",
        "        while (!element.hasClass(\"plotroot\") && element.parent() != null) {\n",
        "            element = element.parent();\n",
        "        }\n",
        "        return element;\n",
        "    };\n",
        "\n",
        "    Element.prototype.svgroot = function () {\n",
        "        var element = this;\n",
        "        while (element.node.nodeName != \"svg\" && element.parent() != null) {\n",
        "            element = element.parent();\n",
        "        }\n",
        "        return element;\n",
        "    };\n",
        "\n",
        "    Element.prototype.plotbounds = function () {\n",
        "        var root = this.plotroot()\n",
        "        var bbox = root.select(\".guide.background\").node.getBBox();\n",
        "        return {\n",
        "            x0: bbox.x,\n",
        "            x1: bbox.x + bbox.width,\n",
        "            y0: bbox.y,\n",
        "            y1: bbox.y + bbox.height\n",
        "        };\n",
        "    };\n",
        "\n",
        "    Element.prototype.plotcenter = function () {\n",
        "        var root = this.plotroot()\n",
        "        var bbox = root.select(\".guide.background\").node.getBBox();\n",
        "        return {\n",
        "            x: bbox.x + bbox.width / 2,\n",
        "            y: bbox.y + bbox.height / 2\n",
        "        };\n",
        "    };\n",
        "\n",
        "    // Emulate IE style mouseenter/mouseleave events, since Microsoft always\n",
        "    // does everything right.\n",
        "    // See: http://www.dynamic-tools.net/toolbox/isMouseLeaveOrEnter/\n",
        "    var events = [\"mouseenter\", \"mouseleave\"];\n",
        "\n",
        "    for (i in events) {\n",
        "        (function (event_name) {\n",
        "            var event_name = events[i];\n",
        "            Element.prototype[event_name] = function (fn, scope) {\n",
        "                if (Snap.is(fn, \"function\")) {\n",
        "                    var fn2 = function (event) {\n",
        "                        if (event.type != \"mouseover\" && event.type != \"mouseout\") {\n",
        "                            return;\n",
        "                        }\n",
        "\n",
        "                        var reltg = event.relatedTarget ? event.relatedTarget :\n",
        "                            event.type == \"mouseout\" ? event.toElement : event.fromElement;\n",
        "                        while (reltg && reltg != this.node) reltg = reltg.parentNode;\n",
        "\n",
        "                        if (reltg != this.node) {\n",
        "                            return fn.apply(this, event);\n",
        "                        }\n",
        "                    };\n",
        "\n",
        "                    if (event_name == \"mouseenter\") {\n",
        "                        this.mouseover(fn2, scope);\n",
        "                    } else {\n",
        "                        this.mouseout(fn2, scope);\n",
        "                    }\n",
        "                }\n",
        "                return this;\n",
        "            };\n",
        "        })(events[i]);\n",
        "    }\n",
        "\n",
        "\n",
        "    Element.prototype.mousewheel = function (fn, scope) {\n",
        "        if (Snap.is(fn, \"function\")) {\n",
        "            var el = this;\n",
        "            var fn2 = function (event) {\n",
        "                fn.apply(el, [event]);\n",
        "            };\n",
        "        }\n",
        "\n",
        "        this.node.addEventListener(\n",
        "            /Firefox/i.test(navigator.userAgent) ? \"DOMMouseScroll\" : \"mousewheel\",\n",
        "            fn2);\n",
        "\n",
        "        return this;\n",
        "    };\n",
        "\n",
        "\n",
        "    // Snap's attr function can be too slow for things like panning/zooming.\n",
        "    // This is a function to directly update element attributes without going\n",
        "    // through eve.\n",
        "    Element.prototype.attribute = function(key, val) {\n",
        "        if (val === undefined) {\n",
        "            return this.node.getAttribute(key, val);\n",
        "        } else {\n",
        "            return this.node.setAttribute(key, val);\n",
        "        }\n",
        "    };\n",
        "});\n",
        "\n",
        "\n",
        "// When the plot is moused over, emphasize the grid lines.\n",
        "Gadfly.plot_mouseover = function(event) {\n",
        "    var root = this.plotroot();\n",
        "    init_pan_zoom(root);\n",
        "\n",
        "    var xgridlines = root.select(\".xgridlines\"),\n",
        "        ygridlines = root.select(\".ygridlines\");\n",
        "\n",
        "    xgridlines.data(\"unfocused_strokedash\",\n",
        "                    xgridlines.attr(\"stroke-dasharray\").replace(/px/g, \"mm\"))\n",
        "    ygridlines.data(\"unfocused_strokedash\",\n",
        "                    ygridlines.attr(\"stroke-dasharray\").replace(/px/g, \"mm\"))\n",
        "\n",
        "    // emphasize grid lines\n",
        "    var destcolor = root.data(\"focused_xgrid_color\");\n",
        "    xgridlines.attr(\"stroke-dasharray\", \"none\")\n",
        "              .selectAll(\"path\")\n",
        "              .animate({stroke: destcolor}, 250);\n",
        "\n",
        "    destcolor = root.data(\"focused_ygrid_color\");\n",
        "    ygridlines.attr(\"stroke-dasharray\", \"none\")\n",
        "              .selectAll(\"path\")\n",
        "              .animate({stroke: destcolor}, 250);\n",
        "\n",
        "    // reveal zoom slider\n",
        "    root.select(\".zoomslider\")\n",
        "        .animate({opacity: 1.0}, 250);\n",
        "};\n",
        "\n",
        "\n",
        "// Unemphasize grid lines on mouse out.\n",
        "Gadfly.plot_mouseout = function(event) {\n",
        "    var root = this.plotroot();\n",
        "    var xgridlines = root.select(\".xgridlines\"),\n",
        "        ygridlines = root.select(\".ygridlines\");\n",
        "\n",
        "    var destcolor = root.data(\"unfocused_xgrid_color\");\n",
        "\n",
        "    xgridlines.attr(\"stroke-dasharray\", xgridlines.data(\"unfocused_strokedash\"))\n",
        "              .selectAll(\"path\")\n",
        "              .animate({stroke: destcolor}, 250);\n",
        "\n",
        "    destcolor = root.data(\"unfocused_ygrid_color\");\n",
        "    ygridlines.attr(\"stroke-dasharray\", ygridlines.data(\"unfocused_strokedash\"))\n",
        "              .selectAll(\"path\")\n",
        "              .animate({stroke: destcolor}, 250);\n",
        "\n",
        "    // hide zoom slider\n",
        "    root.select(\".zoomslider\")\n",
        "        .animate({opacity: 0.0}, 250);\n",
        "};\n",
        "\n",
        "\n",
        "var set_geometry_transform = function(root, tx, ty, scale) {\n",
        "    var xscalable = root.hasClass(\"xscalable\"),\n",
        "        yscalable = root.hasClass(\"yscalable\");\n",
        "\n",
        "    var old_scale = root.data(\"scale\");\n",
        "\n",
        "    var xscale = xscalable ? scale : 1.0,\n",
        "        yscale = yscalable ? scale : 1.0;\n",
        "\n",
        "    tx = xscalable ? tx : 0.0;\n",
        "    ty = yscalable ? ty : 0.0;\n",
        "\n",
        "    var t = new Snap.Matrix().translate(tx, ty).scale(xscale, yscale);\n",
        "\n",
        "    root.selectAll(\".geometry, image\")\n",
        "        .forEach(function (element, i) {\n",
        "            element.transform(t);\n",
        "        });\n",
        "\n",
        "    bounds = root.plotbounds();\n",
        "\n",
        "    if (yscalable) {\n",
        "        var xfixed_t = new Snap.Matrix().translate(0, ty).scale(1.0, yscale);\n",
        "        root.selectAll(\".xfixed\")\n",
        "            .forEach(function (element, i) {\n",
        "                element.transform(xfixed_t);\n",
        "            });\n",
        "\n",
        "        root.select(\".ylabels\")\n",
        "            .transform(xfixed_t)\n",
        "            .selectAll(\"text\")\n",
        "            .forEach(function (element, i) {\n",
        "                if (element.attribute(\"gadfly:inscale\") == \"true\") {\n",
        "                    var cx = element.asPX(\"x\"),\n",
        "                        cy = element.asPX(\"y\");\n",
        "                    var st = element.data(\"static_transform\");\n",
        "                    unscale_t = new Snap.Matrix();\n",
        "                    unscale_t.scale(1, 1/scale, cx, cy).add(st);\n",
        "                    element.transform(unscale_t);\n",
        "\n",
        "                    var y = cy * scale + ty;\n",
        "                    element.attr(\"visibility\",\n",
        "                        bounds.y0 <= y && y <= bounds.y1 ? \"visible\" : \"hidden\");\n",
        "                }\n",
        "            });\n",
        "    }\n",
        "\n",
        "    if (xscalable) {\n",
        "        var yfixed_t = new Snap.Matrix().translate(tx, 0).scale(xscale, 1.0);\n",
        "        var xtrans = new Snap.Matrix().translate(tx, 0);\n",
        "        root.selectAll(\".yfixed\")\n",
        "            .forEach(function (element, i) {\n",
        "                element.transform(yfixed_t);\n",
        "            });\n",
        "\n",
        "        root.select(\".xlabels\")\n",
        "            .transform(yfixed_t)\n",
        "            .selectAll(\"text\")\n",
        "            .forEach(function (element, i) {\n",
        "                if (element.attribute(\"gadfly:inscale\") == \"true\") {\n",
        "                    var cx = element.asPX(\"x\"),\n",
        "                        cy = element.asPX(\"y\");\n",
        "                    var st = element.data(\"static_transform\");\n",
        "                    unscale_t = new Snap.Matrix();\n",
        "                    unscale_t.scale(1/scale, 1, cx, cy).add(st);\n",
        "\n",
        "                    element.transform(unscale_t);\n",
        "\n",
        "                    var x = cx * scale + tx;\n",
        "                    element.attr(\"visibility\",\n",
        "                        bounds.x0 <= x && x <= bounds.x1 ? \"visible\" : \"hidden\");\n",
        "                    }\n",
        "            });\n",
        "    }\n",
        "\n",
        "    // we must unscale anything that is scale invariance: widths, raiduses, etc.\n",
        "    var size_attribs = [\"font-size\"];\n",
        "    var unscaled_selection = \".geometry, .geometry *\";\n",
        "    if (xscalable) {\n",
        "        size_attribs.push(\"rx\");\n",
        "        unscaled_selection += \", .xgridlines\";\n",
        "    }\n",
        "    if (yscalable) {\n",
        "        size_attribs.push(\"ry\");\n",
        "        unscaled_selection += \", .ygridlines\";\n",
        "    }\n",
        "\n",
        "    root.selectAll(unscaled_selection)\n",
        "        .forEach(function (element, i) {\n",
        "            // circle need special help\n",
        "            if (element.node.nodeName == \"circle\") {\n",
        "                var cx = element.attribute(\"cx\"),\n",
        "                    cy = element.attribute(\"cy\");\n",
        "                unscale_t = new Snap.Matrix().scale(1/xscale, 1/yscale,\n",
        "                                                        cx, cy);\n",
        "                element.transform(unscale_t);\n",
        "                return;\n",
        "            }\n",
        "\n",
        "            for (i in size_attribs) {\n",
        "                var key = size_attribs[i];\n",
        "                var val = parseFloat(element.attribute(key));\n",
        "                if (val !== undefined && val != 0 && !isNaN(val)) {\n",
        "                    element.attribute(key, val * old_scale / scale);\n",
        "                }\n",
        "            }\n",
        "        });\n",
        "};\n",
        "\n",
        "\n",
        "// Find the most appropriate tick scale and update label visibility.\n",
        "var update_tickscale = function(root, scale, axis) {\n",
        "    if (!root.hasClass(axis + \"scalable\")) return;\n",
        "\n",
        "    var tickscales = root.data(axis + \"tickscales\");\n",
        "    var best_tickscale = 1.0;\n",
        "    var best_tickscale_dist = Infinity;\n",
        "    for (tickscale in tickscales) {\n",
        "        var dist = Math.abs(Math.log(tickscale) - Math.log(scale));\n",
        "        if (dist < best_tickscale_dist) {\n",
        "            best_tickscale_dist = dist;\n",
        "            best_tickscale = tickscale;\n",
        "        }\n",
        "    }\n",
        "\n",
        "    if (best_tickscale != root.data(axis + \"tickscale\")) {\n",
        "        root.data(axis + \"tickscale\", best_tickscale);\n",
        "        var mark_inscale_gridlines = function (element, i) {\n",
        "            var inscale = element.attr(\"gadfly:scale\") == best_tickscale;\n",
        "            element.attribute(\"gadfly:inscale\", inscale);\n",
        "            element.attr(\"visibility\", inscale ? \"visible\" : \"hidden\");\n",
        "        };\n",
        "\n",
        "        var mark_inscale_labels = function (element, i) {\n",
        "            var inscale = element.attr(\"gadfly:scale\") == best_tickscale;\n",
        "            element.attribute(\"gadfly:inscale\", inscale);\n",
        "            element.attr(\"visibility\", inscale ? \"visible\" : \"hidden\");\n",
        "        };\n",
        "\n",
        "        root.select(\".\" + axis + \"gridlines\").selectAll(\"path\").forEach(mark_inscale_gridlines);\n",
        "        root.select(\".\" + axis + \"labels\").selectAll(\"text\").forEach(mark_inscale_labels);\n",
        "    }\n",
        "};\n",
        "\n",
        "\n",
        "var set_plot_pan_zoom = function(root, tx, ty, scale) {\n",
        "    var old_scale = root.data(\"scale\");\n",
        "    var bounds = root.plotbounds();\n",
        "\n",
        "    var width = bounds.x1 - bounds.x0,\n",
        "        height = bounds.y1 - bounds.y0;\n",
        "\n",
        "    // compute the viewport derived from tx, ty, and scale\n",
        "    var x_min = -width * scale - (scale * width - width),\n",
        "        x_max = width * scale,\n",
        "        y_min = -height * scale - (scale * height - height),\n",
        "        y_max = height * scale;\n",
        "\n",
        "    var x0 = bounds.x0 - scale * bounds.x0,\n",
        "        y0 = bounds.y0 - scale * bounds.y0;\n",
        "\n",
        "    var tx = Math.max(Math.min(tx - x0, x_max), x_min),\n",
        "        ty = Math.max(Math.min(ty - y0, y_max), y_min);\n",
        "\n",
        "    tx += x0;\n",
        "    ty += y0;\n",
        "\n",
        "    // when the scale change, we may need to alter which set of\n",
        "    // ticks is being displayed\n",
        "    if (scale != old_scale) {\n",
        "        update_tickscale(root, scale, \"x\");\n",
        "        update_tickscale(root, scale, \"y\");\n",
        "    }\n",
        "\n",
        "    set_geometry_transform(root, tx, ty, scale);\n",
        "\n",
        "    root.data(\"scale\", scale);\n",
        "    root.data(\"tx\", tx);\n",
        "    root.data(\"ty\", ty);\n",
        "};\n",
        "\n",
        "\n",
        "var scale_centered_translation = function(root, scale) {\n",
        "    var bounds = root.plotbounds();\n",
        "\n",
        "    var width = bounds.x1 - bounds.x0,\n",
        "        height = bounds.y1 - bounds.y0;\n",
        "\n",
        "    var tx0 = root.data(\"tx\"),\n",
        "        ty0 = root.data(\"ty\");\n",
        "\n",
        "    var scale0 = root.data(\"scale\");\n",
        "\n",
        "    // how off from center the current view is\n",
        "    var xoff = tx0 - (bounds.x0 * (1 - scale0) + (width * (1 - scale0)) / 2),\n",
        "        yoff = ty0 - (bounds.y0 * (1 - scale0) + (height * (1 - scale0)) / 2);\n",
        "\n",
        "    // rescale offsets\n",
        "    xoff = xoff * scale / scale0;\n",
        "    yoff = yoff * scale / scale0;\n",
        "\n",
        "    // adjust for the panel position being scaled\n",
        "    var x_edge_adjust = bounds.x0 * (1 - scale),\n",
        "        y_edge_adjust = bounds.y0 * (1 - scale);\n",
        "\n",
        "    return {\n",
        "        x: xoff + x_edge_adjust + (width - width * scale) / 2,\n",
        "        y: yoff + y_edge_adjust + (height - height * scale) / 2\n",
        "    };\n",
        "};\n",
        "\n",
        "\n",
        "// Initialize data for panning zooming if it isn't already.\n",
        "var init_pan_zoom = function(root) {\n",
        "    if (root.data(\"zoompan-ready\")) {\n",
        "        return;\n",
        "    }\n",
        "\n",
        "    // The non-scaling-stroke trick. Rather than try to correct for the\n",
        "    // stroke-width when zooming, we force it to a fixed value.\n",
        "    var px_per_mm = root.node.getCTM().a;\n",
        "\n",
        "    // Drag events report deltas in pixels, which we'd like to convert to\n",
        "    // millimeters.\n",
        "    root.data(\"px_per_mm\", px_per_mm);\n",
        "\n",
        "    root.selectAll(\"path\")\n",
        "        .forEach(function (element, i) {\n",
        "        sw = element.asPX(\"stroke-width\") * px_per_mm;\n",
        "        if (sw > 0) {\n",
        "            element.attribute(\"stroke-width\", sw);\n",
        "            element.attribute(\"vector-effect\", \"non-scaling-stroke\");\n",
        "        }\n",
        "    });\n",
        "\n",
        "    // Store ticks labels original tranformation\n",
        "    root.selectAll(\".xlabels > text, .ylabels > text\")\n",
        "        .forEach(function (element, i) {\n",
        "            var lm = element.transform().localMatrix;\n",
        "            element.data(\"static_transform\",\n",
        "                new Snap.Matrix(lm.a, lm.b, lm.c, lm.d, lm.e, lm.f));\n",
        "        });\n",
        "\n",
        "    if (root.data(\"tx\") === undefined) root.data(\"tx\", 0);\n",
        "    if (root.data(\"ty\") === undefined) root.data(\"ty\", 0);\n",
        "    if (root.data(\"scale\") === undefined) root.data(\"scale\", 1.0);\n",
        "    if (root.data(\"xtickscales\") === undefined) {\n",
        "\n",
        "        // index all the tick scales that are listed\n",
        "        var xtickscales = {};\n",
        "        var ytickscales = {};\n",
        "        var add_x_tick_scales = function (element, i) {\n",
        "            xtickscales[element.attribute(\"gadfly:scale\")] = true;\n",
        "        };\n",
        "        var add_y_tick_scales = function (element, i) {\n",
        "            ytickscales[element.attribute(\"gadfly:scale\")] = true;\n",
        "        };\n",
        "\n",
        "        root.select(\".xgridlines\").selectAll(\"path\").forEach(add_x_tick_scales);\n",
        "        root.select(\".ygridlines\").selectAll(\"path\").forEach(add_y_tick_scales);\n",
        "        root.select(\".xlabels\").selectAll(\"text\").forEach(add_x_tick_scales);\n",
        "        root.select(\".ylabels\").selectAll(\"text\").forEach(add_y_tick_scales);\n",
        "\n",
        "        root.data(\"xtickscales\", xtickscales);\n",
        "        root.data(\"ytickscales\", ytickscales);\n",
        "        root.data(\"xtickscale\", 1.0);\n",
        "    }\n",
        "\n",
        "    var min_scale = 1.0, max_scale = 1.0;\n",
        "    for (scale in xtickscales) {\n",
        "        min_scale = Math.min(min_scale, scale);\n",
        "        max_scale = Math.max(max_scale, scale);\n",
        "    }\n",
        "    for (scale in ytickscales) {\n",
        "        min_scale = Math.min(min_scale, scale);\n",
        "        max_scale = Math.max(max_scale, scale);\n",
        "    }\n",
        "    root.data(\"min_scale\", min_scale);\n",
        "    root.data(\"max_scale\", max_scale);\n",
        "\n",
        "    // store the original positions of labels\n",
        "    root.select(\".xlabels\")\n",
        "        .selectAll(\"text\")\n",
        "        .forEach(function (element, i) {\n",
        "            element.data(\"x\", element.asPX(\"x\"));\n",
        "        });\n",
        "\n",
        "    root.select(\".ylabels\")\n",
        "        .selectAll(\"text\")\n",
        "        .forEach(function (element, i) {\n",
        "            element.data(\"y\", element.asPX(\"y\"));\n",
        "        });\n",
        "\n",
        "    // mark grid lines and ticks as in or out of scale.\n",
        "    var mark_inscale = function (element, i) {\n",
        "        element.attribute(\"gadfly:inscale\", element.attribute(\"gadfly:scale\") == 1.0);\n",
        "    };\n",
        "\n",
        "    root.select(\".xgridlines\").selectAll(\"path\").forEach(mark_inscale);\n",
        "    root.select(\".ygridlines\").selectAll(\"path\").forEach(mark_inscale);\n",
        "    root.select(\".xlabels\").selectAll(\"text\").forEach(mark_inscale);\n",
        "    root.select(\".ylabels\").selectAll(\"text\").forEach(mark_inscale);\n",
        "\n",
        "    // figure out the upper ond lower bounds on panning using the maximum\n",
        "    // and minum grid lines\n",
        "    var bounds = root.plotbounds();\n",
        "    var pan_bounds = {\n",
        "        x0: 0.0,\n",
        "        y0: 0.0,\n",
        "        x1: 0.0,\n",
        "        y1: 0.0\n",
        "    };\n",
        "\n",
        "    root.select(\".xgridlines\")\n",
        "        .selectAll(\"path\")\n",
        "        .forEach(function (element, i) {\n",
        "            if (element.attribute(\"gadfly:inscale\") == \"true\") {\n",
        "                var bbox = element.node.getBBox();\n",
        "                if (bounds.x1 - bbox.x < pan_bounds.x0) {\n",
        "                    pan_bounds.x0 = bounds.x1 - bbox.x;\n",
        "                }\n",
        "                if (bounds.x0 - bbox.x > pan_bounds.x1) {\n",
        "                    pan_bounds.x1 = bounds.x0 - bbox.x;\n",
        "                }\n",
        "            }\n",
        "        });\n",
        "\n",
        "    root.select(\".ygridlines\")\n",
        "        .selectAll(\"path\")\n",
        "        .forEach(function (element, i) {\n",
        "            if (element.attribute(\"gadfly:inscale\") == \"true\") {\n",
        "                var bbox = element.node.getBBox();\n",
        "                if (bounds.y1 - bbox.y < pan_bounds.y0) {\n",
        "                    pan_bounds.y0 = bounds.y1 - bbox.y;\n",
        "                }\n",
        "                if (bounds.y0 - bbox.y > pan_bounds.y1) {\n",
        "                    pan_bounds.y1 = bounds.y0 - bbox.y;\n",
        "                }\n",
        "            }\n",
        "        });\n",
        "\n",
        "    // nudge these values a little\n",
        "    pan_bounds.x0 -= 5;\n",
        "    pan_bounds.x1 += 5;\n",
        "    pan_bounds.y0 -= 5;\n",
        "    pan_bounds.y1 += 5;\n",
        "    root.data(\"pan_bounds\", pan_bounds);\n",
        "\n",
        "    // Set all grid lines at scale 1.0 to visible. Out of bounds lines\n",
        "    // will be clipped.\n",
        "    root.select(\".xgridlines\")\n",
        "        .selectAll(\"path\")\n",
        "        .forEach(function (element, i) {\n",
        "            if (element.attribute(\"gadfly:inscale\") == \"true\") {\n",
        "                element.attr(\"visibility\", \"visible\");\n",
        "            }\n",
        "        });\n",
        "\n",
        "    root.select(\".ygridlines\")\n",
        "        .selectAll(\"path\")\n",
        "        .forEach(function (element, i) {\n",
        "            if (element.attribute(\"gadfly:inscale\") == \"true\") {\n",
        "                element.attr(\"visibility\", \"visible\");\n",
        "            }\n",
        "        });\n",
        "\n",
        "    root.data(\"zoompan-ready\", true)\n",
        "};\n",
        "\n",
        "\n",
        "// Panning\n",
        "Gadfly.guide_background_drag_onmove = function(dx, dy, x, y, event) {\n",
        "    var root = this.plotroot();\n",
        "    var px_per_mm = root.data(\"px_per_mm\");\n",
        "    dx /= px_per_mm;\n",
        "    dy /= px_per_mm;\n",
        "\n",
        "    var tx0 = root.data(\"tx\"),\n",
        "        ty0 = root.data(\"ty\");\n",
        "\n",
        "    var dx0 = root.data(\"dx\"),\n",
        "        dy0 = root.data(\"dy\");\n",
        "\n",
        "    root.data(\"dx\", dx);\n",
        "    root.data(\"dy\", dy);\n",
        "\n",
        "    dx = dx - dx0;\n",
        "    dy = dy - dy0;\n",
        "\n",
        "    var tx = tx0 + dx,\n",
        "        ty = ty0 + dy;\n",
        "\n",
        "    set_plot_pan_zoom(root, tx, ty, root.data(\"scale\"));\n",
        "};\n",
        "\n",
        "\n",
        "Gadfly.guide_background_drag_onstart = function(x, y, event) {\n",
        "    var root = this.plotroot();\n",
        "    root.data(\"dx\", 0);\n",
        "    root.data(\"dy\", 0);\n",
        "    init_pan_zoom(root);\n",
        "};\n",
        "\n",
        "\n",
        "Gadfly.guide_background_drag_onend = function(event) {\n",
        "    var root = this.plotroot();\n",
        "};\n",
        "\n",
        "\n",
        "Gadfly.guide_background_scroll = function(event) {\n",
        "    if (event.shiftKey) {\n",
        "        var root = this.plotroot();\n",
        "        init_pan_zoom(root);\n",
        "        var new_scale = root.data(\"scale\") * Math.pow(2, 0.002 * event.wheelDelta);\n",
        "        new_scale = Math.max(\n",
        "            root.data(\"min_scale\"),\n",
        "            Math.min(root.data(\"max_scale\"), new_scale))\n",
        "        update_plot_scale(root, new_scale);\n",
        "        event.stopPropagation();\n",
        "    }\n",
        "};\n",
        "\n",
        "\n",
        "Gadfly.zoomslider_button_mouseover = function(event) {\n",
        "    this.select(\".button_logo\")\n",
        "         .animate({fill: this.data(\"mouseover_color\")}, 100);\n",
        "};\n",
        "\n",
        "\n",
        "Gadfly.zoomslider_button_mouseout = function(event) {\n",
        "     this.select(\".button_logo\")\n",
        "         .animate({fill: this.data(\"mouseout_color\")}, 100);\n",
        "};\n",
        "\n",
        "\n",
        "Gadfly.zoomslider_zoomout_click = function(event) {\n",
        "    var root = this.plotroot();\n",
        "    init_pan_zoom(root);\n",
        "    var min_scale = root.data(\"min_scale\"),\n",
        "        scale = root.data(\"scale\");\n",
        "    Snap.animate(\n",
        "        scale,\n",
        "        Math.max(min_scale, scale / 1.5),\n",
        "        function (new_scale) {\n",
        "            update_plot_scale(root, new_scale);\n",
        "        },\n",
        "        200);\n",
        "};\n",
        "\n",
        "\n",
        "Gadfly.zoomslider_zoomin_click = function(event) {\n",
        "    var root = this.plotroot();\n",
        "    init_pan_zoom(root);\n",
        "    var max_scale = root.data(\"max_scale\"),\n",
        "        scale = root.data(\"scale\");\n",
        "\n",
        "    Snap.animate(\n",
        "        scale,\n",
        "        Math.min(max_scale, scale * 1.5),\n",
        "        function (new_scale) {\n",
        "            update_plot_scale(root, new_scale);\n",
        "        },\n",
        "        200);\n",
        "};\n",
        "\n",
        "\n",
        "Gadfly.zoomslider_track_click = function(event) {\n",
        "    // TODO\n",
        "};\n",
        "\n",
        "\n",
        "Gadfly.zoomslider_thumb_mousedown = function(event) {\n",
        "    this.animate({fill: this.data(\"mouseover_color\")}, 100);\n",
        "};\n",
        "\n",
        "\n",
        "Gadfly.zoomslider_thumb_mouseup = function(event) {\n",
        "    this.animate({fill: this.data(\"mouseout_color\")}, 100);\n",
        "};\n",
        "\n",
        "\n",
        "// compute the position in [0, 1] of the zoom slider thumb from the current scale\n",
        "var slider_position_from_scale = function(scale, min_scale, max_scale) {\n",
        "    if (scale >= 1.0) {\n",
        "        return 0.5 + 0.5 * (Math.log(scale) / Math.log(max_scale));\n",
        "    }\n",
        "    else {\n",
        "        return 0.5 * (Math.log(scale) - Math.log(min_scale)) / (0 - Math.log(min_scale));\n",
        "    }\n",
        "}\n",
        "\n",
        "\n",
        "var update_plot_scale = function(root, new_scale) {\n",
        "    var trans = scale_centered_translation(root, new_scale);\n",
        "    set_plot_pan_zoom(root, trans.x, trans.y, new_scale);\n",
        "\n",
        "    root.selectAll(\".zoomslider_thumb\")\n",
        "        .forEach(function (element, i) {\n",
        "            var min_pos = element.data(\"min_pos\"),\n",
        "                max_pos = element.data(\"max_pos\"),\n",
        "                min_scale = root.data(\"min_scale\"),\n",
        "                max_scale = root.data(\"max_scale\");\n",
        "            var xmid = (min_pos + max_pos) / 2;\n",
        "            var xpos = slider_position_from_scale(new_scale, min_scale, max_scale);\n",
        "            element.transform(new Snap.Matrix().translate(\n",
        "                Math.max(min_pos, Math.min(\n",
        "                         max_pos, min_pos + (max_pos - min_pos) * xpos)) - xmid, 0));\n",
        "    });\n",
        "};\n",
        "\n",
        "\n",
        "Gadfly.zoomslider_thumb_dragmove = function(dx, dy, x, y) {\n",
        "    var root = this.plotroot();\n",
        "    var min_pos = this.data(\"min_pos\"),\n",
        "        max_pos = this.data(\"max_pos\"),\n",
        "        min_scale = root.data(\"min_scale\"),\n",
        "        max_scale = root.data(\"max_scale\"),\n",
        "        old_scale = root.data(\"old_scale\");\n",
        "\n",
        "    var px_per_mm = root.data(\"px_per_mm\");\n",
        "    dx /= px_per_mm;\n",
        "    dy /= px_per_mm;\n",
        "\n",
        "    var xmid = (min_pos + max_pos) / 2;\n",
        "    var xpos = slider_position_from_scale(old_scale, min_scale, max_scale) +\n",
        "                   dx / (max_pos - min_pos);\n",
        "\n",
        "    // compute the new scale\n",
        "    var new_scale;\n",
        "    if (xpos >= 0.5) {\n",
        "        new_scale = Math.exp(2.0 * (xpos - 0.5) * Math.log(max_scale));\n",
        "    }\n",
        "    else {\n",
        "        new_scale = Math.exp(2.0 * xpos * (0 - Math.log(min_scale)) +\n",
        "                        Math.log(min_scale));\n",
        "    }\n",
        "    new_scale = Math.min(max_scale, Math.max(min_scale, new_scale));\n",
        "\n",
        "    update_plot_scale(root, new_scale);\n",
        "};\n",
        "\n",
        "\n",
        "Gadfly.zoomslider_thumb_dragstart = function(event) {\n",
        "    var root = this.plotroot();\n",
        "    init_pan_zoom(root);\n",
        "\n",
        "    // keep track of what the scale was when we started dragging\n",
        "    root.data(\"old_scale\", root.data(\"scale\"));\n",
        "};\n",
        "\n",
        "\n",
        "Gadfly.zoomslider_thumb_dragend = function(event) {\n",
        "};\n",
        "\n",
        "\n",
        "var toggle_color_class = function(root, color_class, ison) {\n",
        "    var guides = root.selectAll(\".guide.\" + color_class + \",.guide .\" + color_class);\n",
        "    var geoms = root.selectAll(\".geometry.\" + color_class + \",.geometry .\" + color_class);\n",
        "    if (ison) {\n",
        "        guides.animate({opacity: 0.5}, 250);\n",
        "        geoms.animate({opacity: 0.0}, 250);\n",
        "    } else {\n",
        "        guides.animate({opacity: 1.0}, 250);\n",
        "        geoms.animate({opacity: 1.0}, 250);\n",
        "    }\n",
        "};\n",
        "\n",
        "\n",
        "Gadfly.colorkey_swatch_click = function(event) {\n",
        "    var root = this.plotroot();\n",
        "    var color_class = this.data(\"color_class\");\n",
        "\n",
        "    if (event.shiftKey) {\n",
        "        root.selectAll(\".colorkey text\")\n",
        "            .forEach(function (element) {\n",
        "                var other_color_class = element.data(\"color_class\");\n",
        "                if (other_color_class != color_class) {\n",
        "                    toggle_color_class(root, other_color_class,\n",
        "                                       element.attr(\"opacity\") == 1.0);\n",
        "                }\n",
        "            });\n",
        "    } else {\n",
        "        toggle_color_class(root, color_class, this.attr(\"opacity\") == 1.0);\n",
        "    }\n",
        "};\n",
        "\n",
        "\n",
        "return Gadfly;\n",
        "\n",
        "}));\n",
        "\n",
        "\n",
        "//@ sourceURL=gadfly.js\n",
        "\n",
        "(function (glob, factory) {\n",
        "    // AMD support\n",
        "      if (typeof require === \"function\" && typeof define === \"function\" && define.amd) {\n",
        "        require([\"Snap.svg\", \"Gadfly\"], function (Snap, Gadfly) {\n",
        "            factory(Snap, Gadfly);\n",
        "        });\n",
        "      } else {\n",
        "          factory(glob.Snap, glob.Gadfly);\n",
        "      }\n",
        "})(window, function (Snap, Gadfly) {\n",
        "    var fig = Snap(\"#fig-a9b2d61192a44ec2aef15def8aed44d5\");\n",
        "fig.select(\"#fig-a9b2d61192a44ec2aef15def8aed44d5-element-4\")\n",
        "   .drag(function() {}, function() {}, function() {});\n",
        "fig.select(\"#fig-a9b2d61192a44ec2aef15def8aed44d5-element-6\")\n",
        "   .data(\"color_class\", \"color_Simulation\")\n",
        ".click(Gadfly.colorkey_swatch_click)\n",
        ";\n",
        "fig.select(\"#fig-a9b2d61192a44ec2aef15def8aed44d5-element-7\")\n",
        "   .data(\"color_class\", \"color_MMSN\")\n",
        ".click(Gadfly.colorkey_swatch_click)\n",
        ";\n",
        "fig.select(\"#fig-a9b2d61192a44ec2aef15def8aed44d5-element-8\")\n",
        "   .data(\"color_class\", \"color_10X_MMSN\")\n",
        ".click(Gadfly.colorkey_swatch_click)\n",
        ";\n",
        "fig.select(\"#fig-a9b2d61192a44ec2aef15def8aed44d5-element-10\")\n",
        "   .data(\"color_class\", \"color_Simulation\")\n",
        ".click(Gadfly.colorkey_swatch_click)\n",
        ";\n",
        "fig.select(\"#fig-a9b2d61192a44ec2aef15def8aed44d5-element-11\")\n",
        "   .data(\"color_class\", \"color_MMSN\")\n",
        ".click(Gadfly.colorkey_swatch_click)\n",
        ";\n",
        "fig.select(\"#fig-a9b2d61192a44ec2aef15def8aed44d5-element-12\")\n",
        "   .data(\"color_class\", \"color_10X_MMSN\")\n",
        ".click(Gadfly.colorkey_swatch_click)\n",
        ";\n",
        "fig.select(\"#fig-a9b2d61192a44ec2aef15def8aed44d5-element-15\")\n",
        "   .mouseenter(Gadfly.plot_mouseover)\n",
        ".mouseleave(Gadfly.plot_mouseout)\n",
        ".mousewheel(Gadfly.guide_background_scroll)\n",
        ".drag(Gadfly.guide_background_drag_onmove,\n",
        "      Gadfly.guide_background_drag_onstart,\n",
        "      Gadfly.guide_background_drag_onend)\n",
        ";\n",
        "fig.select(\"#fig-a9b2d61192a44ec2aef15def8aed44d5-element-19\")\n",
        "   .plotroot().data(\"unfocused_ygrid_color\", \"#D0D0E0\")\n",
        ";\n",
        "fig.select(\"#fig-a9b2d61192a44ec2aef15def8aed44d5-element-19\")\n",
        "   .plotroot().data(\"focused_ygrid_color\", \"#A0A0A0\")\n",
        ";\n",
        "fig.select(\"#fig-a9b2d61192a44ec2aef15def8aed44d5-element-137\")\n",
        "   .plotroot().data(\"unfocused_xgrid_color\", \"#D0D0E0\")\n",
        ";\n",
        "fig.select(\"#fig-a9b2d61192a44ec2aef15def8aed44d5-element-137\")\n",
        "   .plotroot().data(\"focused_xgrid_color\", \"#A0A0A0\")\n",
        ";\n",
        "fig.select(\"#fig-a9b2d61192a44ec2aef15def8aed44d5-element-333\")\n",
        "   .data(\"mouseover_color\", \"#cd5c5c\")\n",
        ";\n",
        "fig.select(\"#fig-a9b2d61192a44ec2aef15def8aed44d5-element-333\")\n",
        "   .data(\"mouseout_color\", \"#6a6a6a\")\n",
        ";\n",
        "fig.select(\"#fig-a9b2d61192a44ec2aef15def8aed44d5-element-333\")\n",
        "   .click(Gadfly.zoomslider_zoomin_click)\n",
        ".mouseenter(Gadfly.zoomslider_button_mouseover)\n",
        ".mouseleave(Gadfly.zoomslider_button_mouseout)\n",
        ";\n",
        "fig.select(\"#fig-a9b2d61192a44ec2aef15def8aed44d5-element-337\")\n",
        "   .data(\"max_pos\", 103.16)\n",
        ";\n",
        "fig.select(\"#fig-a9b2d61192a44ec2aef15def8aed44d5-element-337\")\n",
        "   .data(\"min_pos\", 86.16)\n",
        ";\n",
        "fig.select(\"#fig-a9b2d61192a44ec2aef15def8aed44d5-element-337\")\n",
        "   .click(Gadfly.zoomslider_track_click);\n",
        "fig.select(\"#fig-a9b2d61192a44ec2aef15def8aed44d5-element-339\")\n",
        "   .data(\"max_pos\", 103.16)\n",
        ";\n",
        "fig.select(\"#fig-a9b2d61192a44ec2aef15def8aed44d5-element-339\")\n",
        "   .data(\"min_pos\", 86.16)\n",
        ";\n",
        "fig.select(\"#fig-a9b2d61192a44ec2aef15def8aed44d5-element-339\")\n",
        "   .data(\"mouseover_color\", \"#cd5c5c\")\n",
        ";\n",
        "fig.select(\"#fig-a9b2d61192a44ec2aef15def8aed44d5-element-339\")\n",
        "   .data(\"mouseout_color\", \"#6a6a6a\")\n",
        ";\n",
        "fig.select(\"#fig-a9b2d61192a44ec2aef15def8aed44d5-element-339\")\n",
        "   .drag(Gadfly.zoomslider_thumb_dragmove,\n",
        "     Gadfly.zoomslider_thumb_dragstart,\n",
        "     Gadfly.zoomslider_thumb_dragend)\n",
        ".mousedown(Gadfly.zoomslider_thumb_mousedown)\n",
        ".mouseup(Gadfly.zoomslider_thumb_mouseup)\n",
        ";\n",
        "fig.select(\"#fig-a9b2d61192a44ec2aef15def8aed44d5-element-341\")\n",
        "   .data(\"mouseover_color\", \"#cd5c5c\")\n",
        ";\n",
        "fig.select(\"#fig-a9b2d61192a44ec2aef15def8aed44d5-element-341\")\n",
        "   .data(\"mouseout_color\", \"#6a6a6a\")\n",
        ";\n",
        "fig.select(\"#fig-a9b2d61192a44ec2aef15def8aed44d5-element-341\")\n",
        "   .click(Gadfly.zoomslider_zoomout_click)\n",
        ".mouseenter(Gadfly.zoomslider_button_mouseover)\n",
        ".mouseleave(Gadfly.zoomslider_button_mouseout)\n",
        ";\n",
        "    });\n",
        "]]> </script>\n",
        "</svg>\n"
       ],
       "metadata": {},
       "output_type": "pyout",
       "png": "[encoded data removed]",
       "prompt_number": 1,
       "svg": [
        "<?xml version=\"1.0\" encoding=\"UTF-8\"?>\n",
        "<svg xmlns=\"http://www.w3.org/2000/svg\"\n",
        "     xmlns:xlink=\"http://www.w3.org/1999/xlink\"\n",
        "     xmlns:gadfly=\"http://www.gadflyjl.org/ns\"\n",
        "     version=\"1.2\"\n",
        "     width=\"141.42mm\" height=\"100mm\" viewBox=\"0 0 141.42 100\"\n",
        "     stroke=\"none\"\n",
        "     fill=\"#000000\"\n",
        "     stroke-width=\"0.3\"\n",
        "     font-size=\"3.88\"\n",
        ">\n",
        "<g class=\"plotroot xscalable yscalable\" id=\"fig-a51fddcaeb334b8f976f0497e83d52fd-element-1\">\n",
        "  <g font-size=\"6\" font-family=\"'PT Sans','Helvetica Neue','Helvetica',sans-serif\" fill=\"#FFFFFF\" stroke=\"none\" id=\"fig-a51fddcaeb334b8f976f0497e83d52fd-element-2\">\n",
        "    <text x=\"72.47\" y=\"92\" text-anchor=\"middle\">Semi-major axis [AU]</text>\n",
        "  </g>\n",
        "  <g class=\"guide xlabels\" font-size=\"4.23\" font-family=\"'PT Sans Caption','Helvetica Neue','Helvetica',sans-serif\" fill=\"#FFFFFF\" id=\"fig-a51fddcaeb334b8f976f0497e83d52fd-element-3\">\n",
        "    <text x=\"27.78\" y=\"84.42\" text-anchor=\"middle\">10<tspan style=\"dominant-baseline:inherit\" dy=\"-0.6em\" font-size=\"83.333333%\">-1.5</tspan></text>\n",
        "    <text x=\"45.66\" y=\"84.42\" text-anchor=\"middle\">10<tspan style=\"dominant-baseline:inherit\" dy=\"-0.6em\" font-size=\"83.333333%\">-1.0</tspan></text>\n",
        "    <text x=\"63.53\" y=\"84.42\" text-anchor=\"middle\">10<tspan style=\"dominant-baseline:inherit\" dy=\"-0.6em\" font-size=\"83.333333%\">-0.5</tspan></text>\n",
        "    <text x=\"81.41\" y=\"84.42\" text-anchor=\"middle\">10<tspan style=\"dominant-baseline:inherit\" dy=\"-0.6em\" font-size=\"83.333333%\">0.0</tspan></text>\n",
        "    <text x=\"99.29\" y=\"84.42\" text-anchor=\"middle\">10<tspan style=\"dominant-baseline:inherit\" dy=\"-0.6em\" font-size=\"83.333333%\">0.5</tspan></text>\n",
        "    <text x=\"117.16\" y=\"84.42\" text-anchor=\"middle\">10<tspan style=\"dominant-baseline:inherit\" dy=\"-0.6em\" font-size=\"83.333333%\">1.0</tspan></text>\n",
        "  </g>\n",
        "  <g class=\"guide colorkey\" id=\"fig-a51fddcaeb334b8f976f0497e83d52fd-element-4\">\n",
        "    <g fill=\"#FFFFFF\" font-size=\"2.82\" font-family=\"'PT Sans','Helvetica Neue','Helvetica',sans-serif\" id=\"fig-a51fddcaeb334b8f976f0497e83d52fd-element-5\">\n",
        "      <text x=\"122.97\" y=\"39.39\" dy=\"0.35em\" id=\"fig-a51fddcaeb334b8f976f0497e83d52fd-element-6\" class=\"color_Simulation\">Simulation</text>\n",
        "      <text x=\"122.97\" y=\"43.02\" dy=\"0.35em\" id=\"fig-a51fddcaeb334b8f976f0497e83d52fd-element-7\" class=\"color_MMSN\">MMSN</text>\n",
        "      <text x=\"122.97\" y=\"46.64\" dy=\"0.35em\" id=\"fig-a51fddcaeb334b8f976f0497e83d52fd-element-8\" class=\"color_10X_MMSN\">10X MMSN</text>\n",
        "    </g>\n",
        "    <g stroke=\"none\" id=\"fig-a51fddcaeb334b8f976f0497e83d52fd-element-9\">\n",
        "      <rect x=\"120.16\" y=\"38.48\" width=\"1.81\" height=\"1.81\" id=\"fig-a51fddcaeb334b8f976f0497e83d52fd-element-10\" class=\"color_Simulation\" fill=\"#00BFFF\"/>\n",
        "      <rect x=\"120.16\" y=\"42.11\" width=\"1.81\" height=\"1.81\" id=\"fig-a51fddcaeb334b8f976f0497e83d52fd-element-11\" class=\"color_MMSN\" fill=\"#D4CA3A\"/>\n",
        "      <rect x=\"120.16\" y=\"45.74\" width=\"1.81\" height=\"1.81\" id=\"fig-a51fddcaeb334b8f976f0497e83d52fd-element-12\" class=\"color_10X_MMSN\" fill=\"#FF5EA0\"/>\n",
        "    </g>\n",
        "    <g fill=\"#FFFFFF\" font-size=\"4.94\" font-family=\"'PT Sans','Helvetica Neue','Helvetica',sans-serif\" stroke=\"none\" id=\"fig-a51fddcaeb334b8f976f0497e83d52fd-element-13\">\n",
        "      <text x=\"120.16\" y=\"36.06\" id=\"fig-a51fddcaeb334b8f976f0497e83d52fd-element-14\"></text>\n",
        "    </g>\n",
        "  </g>\n",
        "  <g clip-path=\"url(#fig-a51fddcaeb334b8f976f0497e83d52fd-element-16)\" id=\"fig-a51fddcaeb334b8f976f0497e83d52fd-element-15\">\n",
        "    <g pointer-events=\"visible\" opacity=\"1\" fill=\"none\" stroke=\"#000000\" class=\"guide background\" id=\"fig-a51fddcaeb334b8f976f0497e83d52fd-element-17\">\n",
        "      <rect x=\"25.78\" y=\"5\" width=\"93.38\" height=\"72.4\" id=\"fig-a51fddcaeb334b8f976f0497e83d52fd-element-18\"/>\n",
        "    </g>\n",
        "    <g class=\"guide ygridlines xfixed\" stroke-dasharray=\"0.5,0.5\" stroke-width=\"0.2\" stroke=\"#D0D0E0\" id=\"fig-a51fddcaeb334b8f976f0497e83d52fd-element-19\">\n",
        "      <path fill=\"none\" d=\"M25.78,75.4 L 119.16 75.4\" id=\"fig-a51fddcaeb334b8f976f0497e83d52fd-element-20\"/>\n",
        "      <path fill=\"none\" d=\"M25.78,55.86 L 119.16 55.86\" id=\"fig-a51fddcaeb334b8f976f0497e83d52fd-element-21\"/>\n",
        "      <path fill=\"none\" d=\"M25.78,36.32 L 119.16 36.32\" id=\"fig-a51fddcaeb334b8f976f0497e83d52fd-element-22\"/>\n",
        "      <path fill=\"none\" d=\"M25.78,16.77 L 119.16 16.77\" id=\"fig-a51fddcaeb334b8f976f0497e83d52fd-element-23\"/>\n",
        "      <path fill=\"none\" d=\"M25.78,-2.77 L 119.16 -2.77\" id=\"fig-a51fddcaeb334b8f976f0497e83d52fd-element-24\"/>\n",
        "    </g>\n",
        "    <g class=\"guide xgridlines yfixed\" stroke-dasharray=\"0.5,0.5\" stroke-width=\"0.2\" stroke=\"#D0D0E0\" id=\"fig-a51fddcaeb334b8f976f0497e83d52fd-element-25\">\n",
        "      <path fill=\"none\" d=\"M27.78,5 L 27.78 77.4\" id=\"fig-a51fddcaeb334b8f976f0497e83d52fd-element-26\"/>\n",
        "      <path fill=\"none\" d=\"M45.66,5 L 45.66 77.4\" id=\"fig-a51fddcaeb334b8f976f0497e83d52fd-element-27\"/>\n",
        "      <path fill=\"none\" d=\"M63.53,5 L 63.53 77.4\" id=\"fig-a51fddcaeb334b8f976f0497e83d52fd-element-28\"/>\n",
        "      <path fill=\"none\" d=\"M81.41,5 L 81.41 77.4\" id=\"fig-a51fddcaeb334b8f976f0497e83d52fd-element-29\"/>\n",
        "      <path fill=\"none\" d=\"M99.29,5 L 99.29 77.4\" id=\"fig-a51fddcaeb334b8f976f0497e83d52fd-element-30\"/>\n",
        "      <path fill=\"none\" d=\"M117.16,5 L 117.16 77.4\" id=\"fig-a51fddcaeb334b8f976f0497e83d52fd-element-31\"/>\n",
        "    </g>\n",
        "    <g class=\"plotpanel\" id=\"fig-a51fddcaeb334b8f976f0497e83d52fd-element-32\">\n",
        "      <g stroke-width=\"1.06\" fill=\"none\" class=\"geometry color_10X_MMSN\" stroke=\"#FF5EA0\" id=\"fig-a51fddcaeb334b8f976f0497e83d52fd-element-33\">\n",
        "        <path fill=\"none\" d=\"M34.9,17.25 L 36.35 17.84 37.81 18.44 39.27 19.04 40.73 19.64 42.19 20.24 43.65 20.84 45.11 21.43 46.57 22.03 48.03 22.63 49.49 23.23 50.95 23.83 52.41 24.42 53.87 25.02 55.32 25.62 56.78 26.22 58.24 26.82 59.7 27.42 61.16 28.01 62.62 28.61 64.08 29.21 65.54 29.81 67 30.41 68.46 31.01 69.92 31.6 71.38 32.2 72.84 32.8 74.3 33.4 75.75 34 77.21 34.6 78.67 35.19 80.13 35.79 81.59 36.39 83.05 36.99 84.51 37.59 85.97 38.19 87.43 38.78 88.89 39.38 90.35 39.98 91.81 40.58 93.27 41.18 94.72 41.77 96.18 42.37 97.64 42.97 99.1 43.57 100.56 44.17 102.02 44.77 103.48 45.36 104.94 45.96\" id=\"fig-a51fddcaeb334b8f976f0497e83d52fd-element-34\"/>\n",
        "      </g>\n",
        "      <g stroke-width=\"1.06\" fill=\"none\" class=\"geometry color_MMSN\" stroke=\"#D4CA3A\" id=\"fig-a51fddcaeb334b8f976f0497e83d52fd-element-35\">\n",
        "        <path fill=\"none\" d=\"M34.9,27.02 L 36.35 27.62 37.81 28.21 39.27 28.81 40.73 29.41 42.19 30.01 43.65 30.61 45.11 31.21 46.57 31.8 48.03 32.4 49.49 33 50.95 33.6 52.41 34.2 53.87 34.79 55.32 35.39 56.78 35.99 58.24 36.59 59.7 37.19 61.16 37.79 62.62 38.38 64.08 38.98 65.54 39.58 67 40.18 68.46 40.78 69.92 41.38 71.38 41.97 72.84 42.57 74.3 43.17 75.75 43.77 77.21 44.37 78.67 44.97 80.13 45.56 81.59 46.16 83.05 46.76 84.51 47.36 85.97 47.96 87.43 48.56 88.89 49.15 90.35 49.75 91.81 50.35 93.27 50.95 94.72 51.55 96.18 52.15 97.64 52.74 99.1 53.34 100.56 53.94 102.02 54.54 103.48 55.14 104.94 55.73\" id=\"fig-a51fddcaeb334b8f976f0497e83d52fd-element-36\"/>\n",
        "      </g>\n",
        "      <g class=\"geometry\" id=\"fig-a51fddcaeb334b8f976f0497e83d52fd-element-37\">\n",
        "        <g class=\"color_Simulation\" stroke=\"#FFFFFF\" stroke-width=\"0.3\" fill=\"#00BFFF\" id=\"fig-a51fddcaeb334b8f976f0497e83d52fd-element-38\">\n",
        "          <circle cx=\"34.9\" cy=\"37.09\" r=\"0.9\" id=\"fig-a51fddcaeb334b8f976f0497e83d52fd-element-39\"/>\n",
        "          <circle cx=\"36.35\" cy=\"37.7\" r=\"0.9\" id=\"fig-a51fddcaeb334b8f976f0497e83d52fd-element-40\"/>\n",
        "          <circle cx=\"37.81\" cy=\"38.29\" r=\"0.9\" id=\"fig-a51fddcaeb334b8f976f0497e83d52fd-element-41\"/>\n",
        "          <circle cx=\"39.27\" cy=\"38.89\" r=\"0.9\" id=\"fig-a51fddcaeb334b8f976f0497e83d52fd-element-42\"/>\n",
        "          <circle cx=\"40.73\" cy=\"39.49\" r=\"0.9\" id=\"fig-a51fddcaeb334b8f976f0497e83d52fd-element-43\"/>\n",
        "          <circle cx=\"42.19\" cy=\"40.09\" r=\"0.9\" id=\"fig-a51fddcaeb334b8f976f0497e83d52fd-element-44\"/>\n",
        "          <circle cx=\"43.65\" cy=\"40.69\" r=\"0.9\" id=\"fig-a51fddcaeb334b8f976f0497e83d52fd-element-45\"/>\n",
        "          <circle cx=\"45.11\" cy=\"41.28\" r=\"0.9\" id=\"fig-a51fddcaeb334b8f976f0497e83d52fd-element-46\"/>\n",
        "          <circle cx=\"46.57\" cy=\"41.88\" r=\"0.9\" id=\"fig-a51fddcaeb334b8f976f0497e83d52fd-element-47\"/>\n",
        "          <circle cx=\"48.03\" cy=\"42.48\" r=\"0.9\" id=\"fig-a51fddcaeb334b8f976f0497e83d52fd-element-48\"/>\n",
        "          <circle cx=\"49.49\" cy=\"43.08\" r=\"0.9\" id=\"fig-a51fddcaeb334b8f976f0497e83d52fd-element-49\"/>\n",
        "          <circle cx=\"50.95\" cy=\"43.67\" r=\"0.9\" id=\"fig-a51fddcaeb334b8f976f0497e83d52fd-element-50\"/>\n",
        "          <circle cx=\"52.41\" cy=\"44.27\" r=\"0.9\" id=\"fig-a51fddcaeb334b8f976f0497e83d52fd-element-51\"/>\n",
        "          <circle cx=\"53.87\" cy=\"44.87\" r=\"0.9\" id=\"fig-a51fddcaeb334b8f976f0497e83d52fd-element-52\"/>\n",
        "          <circle cx=\"55.32\" cy=\"45.47\" r=\"0.9\" id=\"fig-a51fddcaeb334b8f976f0497e83d52fd-element-53\"/>\n",
        "          <circle cx=\"56.78\" cy=\"46.07\" r=\"0.9\" id=\"fig-a51fddcaeb334b8f976f0497e83d52fd-element-54\"/>\n",
        "          <circle cx=\"58.24\" cy=\"46.67\" r=\"0.9\" id=\"fig-a51fddcaeb334b8f976f0497e83d52fd-element-55\"/>\n",
        "          <circle cx=\"59.7\" cy=\"47.27\" r=\"0.9\" id=\"fig-a51fddcaeb334b8f976f0497e83d52fd-element-56\"/>\n",
        "          <circle cx=\"61.16\" cy=\"47.86\" r=\"0.9\" id=\"fig-a51fddcaeb334b8f976f0497e83d52fd-element-57\"/>\n",
        "          <circle cx=\"62.62\" cy=\"48.46\" r=\"0.9\" id=\"fig-a51fddcaeb334b8f976f0497e83d52fd-element-58\"/>\n",
        "          <circle cx=\"64.08\" cy=\"49.06\" r=\"0.9\" id=\"fig-a51fddcaeb334b8f976f0497e83d52fd-element-59\"/>\n",
        "          <circle cx=\"65.54\" cy=\"49.66\" r=\"0.9\" id=\"fig-a51fddcaeb334b8f976f0497e83d52fd-element-60\"/>\n",
        "          <circle cx=\"67\" cy=\"50.26\" r=\"0.9\" id=\"fig-a51fddcaeb334b8f976f0497e83d52fd-element-61\"/>\n",
        "          <circle cx=\"68.46\" cy=\"50.85\" r=\"0.9\" id=\"fig-a51fddcaeb334b8f976f0497e83d52fd-element-62\"/>\n",
        "          <circle cx=\"69.92\" cy=\"51.45\" r=\"0.9\" id=\"fig-a51fddcaeb334b8f976f0497e83d52fd-element-63\"/>\n",
        "          <circle cx=\"71.38\" cy=\"52.05\" r=\"0.9\" id=\"fig-a51fddcaeb334b8f976f0497e83d52fd-element-64\"/>\n",
        "          <circle cx=\"72.84\" cy=\"52.65\" r=\"0.9\" id=\"fig-a51fddcaeb334b8f976f0497e83d52fd-element-65\"/>\n",
        "          <circle cx=\"74.3\" cy=\"53.25\" r=\"0.9\" id=\"fig-a51fddcaeb334b8f976f0497e83d52fd-element-66\"/>\n",
        "          <circle cx=\"75.75\" cy=\"53.85\" r=\"0.9\" id=\"fig-a51fddcaeb334b8f976f0497e83d52fd-element-67\"/>\n",
        "          <circle cx=\"77.21\" cy=\"54.44\" r=\"0.9\" id=\"fig-a51fddcaeb334b8f976f0497e83d52fd-element-68\"/>\n",
        "          <circle cx=\"78.67\" cy=\"55.04\" r=\"0.9\" id=\"fig-a51fddcaeb334b8f976f0497e83d52fd-element-69\"/>\n",
        "          <circle cx=\"80.13\" cy=\"55.64\" r=\"0.9\" id=\"fig-a51fddcaeb334b8f976f0497e83d52fd-element-70\"/>\n",
        "          <circle cx=\"81.59\" cy=\"56.24\" r=\"0.9\" id=\"fig-a51fddcaeb334b8f976f0497e83d52fd-element-71\"/>\n",
        "          <circle cx=\"83.05\" cy=\"56.84\" r=\"0.9\" id=\"fig-a51fddcaeb334b8f976f0497e83d52fd-element-72\"/>\n",
        "          <circle cx=\"84.51\" cy=\"57.44\" r=\"0.9\" id=\"fig-a51fddcaeb334b8f976f0497e83d52fd-element-73\"/>\n",
        "          <circle cx=\"85.97\" cy=\"58.03\" r=\"0.9\" id=\"fig-a51fddcaeb334b8f976f0497e83d52fd-element-74\"/>\n",
        "          <circle cx=\"87.43\" cy=\"58.63\" r=\"0.9\" id=\"fig-a51fddcaeb334b8f976f0497e83d52fd-element-75\"/>\n",
        "          <circle cx=\"88.89\" cy=\"59.23\" r=\"0.9\" id=\"fig-a51fddcaeb334b8f976f0497e83d52fd-element-76\"/>\n",
        "          <circle cx=\"90.35\" cy=\"59.83\" r=\"0.9\" id=\"fig-a51fddcaeb334b8f976f0497e83d52fd-element-77\"/>\n",
        "          <circle cx=\"91.81\" cy=\"60.43\" r=\"0.9\" id=\"fig-a51fddcaeb334b8f976f0497e83d52fd-element-78\"/>\n",
        "          <circle cx=\"93.27\" cy=\"61.03\" r=\"0.9\" id=\"fig-a51fddcaeb334b8f976f0497e83d52fd-element-79\"/>\n",
        "          <circle cx=\"94.72\" cy=\"61.62\" r=\"0.9\" id=\"fig-a51fddcaeb334b8f976f0497e83d52fd-element-80\"/>\n",
        "          <circle cx=\"96.18\" cy=\"62.22\" r=\"0.9\" id=\"fig-a51fddcaeb334b8f976f0497e83d52fd-element-81\"/>\n",
        "          <circle cx=\"97.64\" cy=\"62.82\" r=\"0.9\" id=\"fig-a51fddcaeb334b8f976f0497e83d52fd-element-82\"/>\n",
        "          <circle cx=\"99.1\" cy=\"63.42\" r=\"0.9\" id=\"fig-a51fddcaeb334b8f976f0497e83d52fd-element-83\"/>\n",
        "          <circle cx=\"100.56\" cy=\"64.02\" r=\"0.9\" id=\"fig-a51fddcaeb334b8f976f0497e83d52fd-element-84\"/>\n",
        "          <circle cx=\"102.02\" cy=\"64.61\" r=\"0.9\" id=\"fig-a51fddcaeb334b8f976f0497e83d52fd-element-85\"/>\n",
        "          <circle cx=\"103.48\" cy=\"65.21\" r=\"0.9\" id=\"fig-a51fddcaeb334b8f976f0497e83d52fd-element-86\"/>\n",
        "          <circle cx=\"104.94\" cy=\"65.81\" r=\"0.9\" id=\"fig-a51fddcaeb334b8f976f0497e83d52fd-element-87\"/>\n",
        "        </g>\n",
        "      </g>\n",
        "    </g>\n",
        "  </g>\n",
        "  <g class=\"guide ylabels\" font-size=\"4.23\" font-family=\"'PT Sans Caption','Helvetica Neue','Helvetica',sans-serif\" fill=\"#FFFFFF\" id=\"fig-a51fddcaeb334b8f976f0497e83d52fd-element-88\">\n",
        "    <text x=\"24.78\" y=\"75.4\" text-anchor=\"end\" dy=\"0.35em\" id=\"fig-a51fddcaeb334b8f976f0497e83d52fd-element-89\">10<tspan style=\"dominant-baseline:inherit\" dy=\"-0.6em\" font-size=\"83.333333%\">-2</tspan></text>\n",
        "    <text x=\"24.78\" y=\"55.86\" text-anchor=\"end\" dy=\"0.35em\" id=\"fig-a51fddcaeb334b8f976f0497e83d52fd-element-90\">10<tspan style=\"dominant-baseline:inherit\" dy=\"-0.6em\" font-size=\"83.333333%\">0</tspan></text>\n",
        "    <text x=\"24.78\" y=\"36.32\" text-anchor=\"end\" dy=\"0.35em\" id=\"fig-a51fddcaeb334b8f976f0497e83d52fd-element-91\">10<tspan style=\"dominant-baseline:inherit\" dy=\"-0.6em\" font-size=\"83.333333%\">2</tspan></text>\n",
        "    <text x=\"24.78\" y=\"16.77\" text-anchor=\"end\" dy=\"0.35em\" id=\"fig-a51fddcaeb334b8f976f0497e83d52fd-element-92\">10<tspan style=\"dominant-baseline:inherit\" dy=\"-0.6em\" font-size=\"83.333333%\">4</tspan></text>\n",
        "    <text x=\"24.78\" y=\"-2.77\" text-anchor=\"end\" dy=\"0.35em\" id=\"fig-a51fddcaeb334b8f976f0497e83d52fd-element-93\">10<tspan style=\"dominant-baseline:inherit\" dy=\"-0.6em\" font-size=\"83.333333%\">6</tspan></text>\n",
        "  </g>\n",
        "  <g font-size=\"6\" font-family=\"'PT Sans','Helvetica Neue','Helvetica',sans-serif\" fill=\"#FFFFFF\" stroke=\"none\" id=\"fig-a51fddcaeb334b8f976f0497e83d52fd-element-94\">\n",
        "    <text x=\"9.79\" y=\"39.2\" text-anchor=\"middle\" dy=\"0.35em\" transform=\"rotate(-90, 9.79, 41.2)\" id=\"fig-a51fddcaeb334b8f976f0497e83d52fd-element-95\">Surface density [g/cm^2]</text>\n",
        "  </g>\n",
        "</g>\n",
        "<defs>\n",
        "<clipPath id=\"fig-a51fddcaeb334b8f976f0497e83d52fd-element-16\">\n",
        "  <path d=\"M25.78,5 L 119.16 5 119.16 77.4 25.78 77.4\" />\n",
        "</clipPath\n",
        "></defs>\n",
        "</svg>\n"
       ],
       "text": [
        "Plot(...)"
       ]
      }
     ],
     "prompt_number": 1
    },
    {
     "cell_type": "markdown",
     "metadata": {},
     "source": [
      "####Make sure adding planetesimals obeys surface density distribution"
     ]
    },
    {
     "cell_type": "code",
     "collapsed": false,
     "input": [
      "include(\"../src/pebble_accretion.jl\")\n",
      "using MKS\n",
      "d = PA.EmptyDisk(0.05,5.)\n",
      "total_mass = PA.surfacedensity2mass(1, 0.05, 5., \u03b1=-1.5)\n",
      "println(total_mass)\n",
      "PA.form_planetesimals(d, total_mass)\n",
      "PA.plot(d)"
     ],
     "language": "python",
     "metadata": {},
     "outputs": [
      {
       "output_type": "stream",
       "stream": "stderr",
       "text": [
        "Warning: replacing module PA\n"
       ]
      },
      {
       "output_type": "stream",
       "stream": "stdout",
       "text": [
        "0.9473472373004677"
       ]
      },
      {
       "output_type": "stream",
       "stream": "stdout",
       "text": [
        "\n"
       ]
      },
      {
       "html": [
        "<?xml version=\"1.0\" encoding=\"UTF-8\"?>\n",
        "<svg xmlns=\"http://www.w3.org/2000/svg\"\n",
        "     xmlns:xlink=\"http://www.w3.org/1999/xlink\"\n",
        "     xmlns:gadfly=\"http://www.gadflyjl.org/ns\"\n",
        "     version=\"1.2\"\n",
        "     width=\"141.42mm\" height=\"100mm\" viewBox=\"0 0 141.42 100\"\n",
        "     stroke=\"none\"\n",
        "     fill=\"#000000\"\n",
        "     stroke-width=\"0.3\"\n",
        "     font-size=\"3.88\"\n",
        "\n",
        "     id=\"fig-e05f28ba83fb42898912fc4379ddc9b6\">\n",
        "<g class=\"plotroot xscalable yscalable\" id=\"fig-e05f28ba83fb42898912fc4379ddc9b6-element-1\">\n",
        "  <g font-size=\"6\" font-family=\"'PT Sans','Helvetica Neue','Helvetica',sans-serif\" fill=\"#FFFFFF\" stroke=\"none\" id=\"fig-e05f28ba83fb42898912fc4379ddc9b6-element-2\">\n",
        "    <text x=\"72.47\" y=\"92\" text-anchor=\"middle\">Semi-major axis [AU]</text>\n",
        "  </g>\n",
        "  <g class=\"guide xlabels\" font-size=\"4.23\" font-family=\"'PT Sans Caption','Helvetica Neue','Helvetica',sans-serif\" fill=\"#FFFFFF\" id=\"fig-e05f28ba83fb42898912fc4379ddc9b6-element-3\">\n",
        "    <text x=\"-79.47\" y=\"84.42\" text-anchor=\"middle\" visibility=\"hidden\" gadfly:scale=\"1.0\">10<tspan style=\"dominant-baseline:inherit\" dy=\"-0.6em\" font-size=\"83.333333%\">-4.5</tspan></text>\n",
        "    <text x=\"-61.6\" y=\"84.42\" text-anchor=\"middle\" visibility=\"hidden\" gadfly:scale=\"1.0\">10<tspan style=\"dominant-baseline:inherit\" dy=\"-0.6em\" font-size=\"83.333333%\">-4.0</tspan></text>\n",
        "    <text x=\"-43.72\" y=\"84.42\" text-anchor=\"middle\" visibility=\"hidden\" gadfly:scale=\"1.0\">10<tspan style=\"dominant-baseline:inherit\" dy=\"-0.6em\" font-size=\"83.333333%\">-3.5</tspan></text>\n",
        "    <text x=\"-25.85\" y=\"84.42\" text-anchor=\"middle\" visibility=\"hidden\" gadfly:scale=\"1.0\">10<tspan style=\"dominant-baseline:inherit\" dy=\"-0.6em\" font-size=\"83.333333%\">-3.0</tspan></text>\n",
        "    <text x=\"-7.97\" y=\"84.42\" text-anchor=\"middle\" visibility=\"hidden\" gadfly:scale=\"1.0\">10<tspan style=\"dominant-baseline:inherit\" dy=\"-0.6em\" font-size=\"83.333333%\">-2.5</tspan></text>\n",
        "    <text x=\"9.91\" y=\"84.42\" text-anchor=\"middle\" visibility=\"hidden\" gadfly:scale=\"1.0\">10<tspan style=\"dominant-baseline:inherit\" dy=\"-0.6em\" font-size=\"83.333333%\">-2.0</tspan></text>\n",
        "    <text x=\"27.78\" y=\"84.42\" text-anchor=\"middle\" visibility=\"visible\" gadfly:scale=\"1.0\">10<tspan style=\"dominant-baseline:inherit\" dy=\"-0.6em\" font-size=\"83.333333%\">-1.5</tspan></text>\n",
        "    <text x=\"45.66\" y=\"84.42\" text-anchor=\"middle\" visibility=\"visible\" gadfly:scale=\"1.0\">10<tspan style=\"dominant-baseline:inherit\" dy=\"-0.6em\" font-size=\"83.333333%\">-1.0</tspan></text>\n",
        "    <text x=\"63.53\" y=\"84.42\" text-anchor=\"middle\" visibility=\"visible\" gadfly:scale=\"1.0\">10<tspan style=\"dominant-baseline:inherit\" dy=\"-0.6em\" font-size=\"83.333333%\">-0.5</tspan></text>\n",
        "    <text x=\"81.41\" y=\"84.42\" text-anchor=\"middle\" visibility=\"visible\" gadfly:scale=\"1.0\">10<tspan style=\"dominant-baseline:inherit\" dy=\"-0.6em\" font-size=\"83.333333%\">0.0</tspan></text>\n",
        "    <text x=\"99.29\" y=\"84.42\" text-anchor=\"middle\" visibility=\"visible\" gadfly:scale=\"1.0\">10<tspan style=\"dominant-baseline:inherit\" dy=\"-0.6em\" font-size=\"83.333333%\">0.5</tspan></text>\n",
        "    <text x=\"117.16\" y=\"84.42\" text-anchor=\"middle\" visibility=\"visible\" gadfly:scale=\"1.0\">10<tspan style=\"dominant-baseline:inherit\" dy=\"-0.6em\" font-size=\"83.333333%\">1.0</tspan></text>\n",
        "    <text x=\"135.04\" y=\"84.42\" text-anchor=\"middle\" visibility=\"hidden\" gadfly:scale=\"1.0\">10<tspan style=\"dominant-baseline:inherit\" dy=\"-0.6em\" font-size=\"83.333333%\">1.5</tspan></text>\n",
        "    <text x=\"152.91\" y=\"84.42\" text-anchor=\"middle\" visibility=\"hidden\" gadfly:scale=\"1.0\">10<tspan style=\"dominant-baseline:inherit\" dy=\"-0.6em\" font-size=\"83.333333%\">2.0</tspan></text>\n",
        "    <text x=\"170.79\" y=\"84.42\" text-anchor=\"middle\" visibility=\"hidden\" gadfly:scale=\"1.0\">10<tspan style=\"dominant-baseline:inherit\" dy=\"-0.6em\" font-size=\"83.333333%\">2.5</tspan></text>\n",
        "    <text x=\"188.67\" y=\"84.42\" text-anchor=\"middle\" visibility=\"hidden\" gadfly:scale=\"1.0\">10<tspan style=\"dominant-baseline:inherit\" dy=\"-0.6em\" font-size=\"83.333333%\">3.0</tspan></text>\n",
        "    <text x=\"206.54\" y=\"84.42\" text-anchor=\"middle\" visibility=\"hidden\" gadfly:scale=\"1.0\">10<tspan style=\"dominant-baseline:inherit\" dy=\"-0.6em\" font-size=\"83.333333%\">3.5</tspan></text>\n",
        "    <text x=\"224.42\" y=\"84.42\" text-anchor=\"middle\" visibility=\"hidden\" gadfly:scale=\"1.0\">10<tspan style=\"dominant-baseline:inherit\" dy=\"-0.6em\" font-size=\"83.333333%\">4.0</tspan></text>\n",
        "    <text x=\"-61.6\" y=\"84.42\" text-anchor=\"middle\" visibility=\"hidden\" gadfly:scale=\"10.0\">10<tspan style=\"dominant-baseline:inherit\" dy=\"-0.6em\" font-size=\"83.333333%\">-4.0</tspan></text>\n",
        "    <text x=\"-58.02\" y=\"84.42\" text-anchor=\"middle\" visibility=\"hidden\" gadfly:scale=\"10.0\">10<tspan style=\"dominant-baseline:inherit\" dy=\"-0.6em\" font-size=\"83.333333%\">-3.9</tspan></text>\n",
        "    <text x=\"-54.45\" y=\"84.42\" text-anchor=\"middle\" visibility=\"hidden\" gadfly:scale=\"10.0\">10<tspan style=\"dominant-baseline:inherit\" dy=\"-0.6em\" font-size=\"83.333333%\">-3.8</tspan></text>\n",
        "    <text x=\"-50.87\" y=\"84.42\" text-anchor=\"middle\" visibility=\"hidden\" gadfly:scale=\"10.0\">10<tspan style=\"dominant-baseline:inherit\" dy=\"-0.6em\" font-size=\"83.333333%\">-3.7</tspan></text>\n",
        "    <text x=\"-47.3\" y=\"84.42\" text-anchor=\"middle\" visibility=\"hidden\" gadfly:scale=\"10.0\">10<tspan style=\"dominant-baseline:inherit\" dy=\"-0.6em\" font-size=\"83.333333%\">-3.6</tspan></text>\n",
        "    <text x=\"-43.72\" y=\"84.42\" text-anchor=\"middle\" visibility=\"hidden\" gadfly:scale=\"10.0\">10<tspan style=\"dominant-baseline:inherit\" dy=\"-0.6em\" font-size=\"83.333333%\">-3.5</tspan></text>\n",
        "    <text x=\"-40.15\" y=\"84.42\" text-anchor=\"middle\" visibility=\"hidden\" gadfly:scale=\"10.0\">10<tspan style=\"dominant-baseline:inherit\" dy=\"-0.6em\" font-size=\"83.333333%\">-3.4</tspan></text>\n",
        "    <text x=\"-36.57\" y=\"84.42\" text-anchor=\"middle\" visibility=\"hidden\" gadfly:scale=\"10.0\">10<tspan style=\"dominant-baseline:inherit\" dy=\"-0.6em\" font-size=\"83.333333%\">-3.3</tspan></text>\n",
        "    <text x=\"-33\" y=\"84.42\" text-anchor=\"middle\" visibility=\"hidden\" gadfly:scale=\"10.0\">10<tspan style=\"dominant-baseline:inherit\" dy=\"-0.6em\" font-size=\"83.333333%\">-3.2</tspan></text>\n",
        "    <text x=\"-29.42\" y=\"84.42\" text-anchor=\"middle\" visibility=\"hidden\" gadfly:scale=\"10.0\">10<tspan style=\"dominant-baseline:inherit\" dy=\"-0.6em\" font-size=\"83.333333%\">-3.1</tspan></text>\n",
        "    <text x=\"-25.85\" y=\"84.42\" text-anchor=\"middle\" visibility=\"hidden\" gadfly:scale=\"10.0\">10<tspan style=\"dominant-baseline:inherit\" dy=\"-0.6em\" font-size=\"83.333333%\">-3.0</tspan></text>\n",
        "    <text x=\"-22.27\" y=\"84.42\" text-anchor=\"middle\" visibility=\"hidden\" gadfly:scale=\"10.0\">10<tspan style=\"dominant-baseline:inherit\" dy=\"-0.6em\" font-size=\"83.333333%\">-2.9</tspan></text>\n",
        "    <text x=\"-18.7\" y=\"84.42\" text-anchor=\"middle\" visibility=\"hidden\" gadfly:scale=\"10.0\">10<tspan style=\"dominant-baseline:inherit\" dy=\"-0.6em\" font-size=\"83.333333%\">-2.8</tspan></text>\n",
        "    <text x=\"-15.12\" y=\"84.42\" text-anchor=\"middle\" visibility=\"hidden\" gadfly:scale=\"10.0\">10<tspan style=\"dominant-baseline:inherit\" dy=\"-0.6em\" font-size=\"83.333333%\">-2.7</tspan></text>\n",
        "    <text x=\"-11.55\" y=\"84.42\" text-anchor=\"middle\" visibility=\"hidden\" gadfly:scale=\"10.0\">10<tspan style=\"dominant-baseline:inherit\" dy=\"-0.6em\" font-size=\"83.333333%\">-2.6</tspan></text>\n",
        "    <text x=\"-7.97\" y=\"84.42\" text-anchor=\"middle\" visibility=\"hidden\" gadfly:scale=\"10.0\">10<tspan style=\"dominant-baseline:inherit\" dy=\"-0.6em\" font-size=\"83.333333%\">-2.5</tspan></text>\n",
        "    <text x=\"-4.4\" y=\"84.42\" text-anchor=\"middle\" visibility=\"hidden\" gadfly:scale=\"10.0\">10<tspan style=\"dominant-baseline:inherit\" dy=\"-0.6em\" font-size=\"83.333333%\">-2.4</tspan></text>\n",
        "    <text x=\"-0.82\" y=\"84.42\" text-anchor=\"middle\" visibility=\"hidden\" gadfly:scale=\"10.0\">10<tspan style=\"dominant-baseline:inherit\" dy=\"-0.6em\" font-size=\"83.333333%\">-2.3</tspan></text>\n",
        "    <text x=\"2.76\" y=\"84.42\" text-anchor=\"middle\" visibility=\"hidden\" gadfly:scale=\"10.0\">10<tspan style=\"dominant-baseline:inherit\" dy=\"-0.6em\" font-size=\"83.333333%\">-2.2</tspan></text>\n",
        "    <text x=\"6.33\" y=\"84.42\" text-anchor=\"middle\" visibility=\"hidden\" gadfly:scale=\"10.0\">10<tspan style=\"dominant-baseline:inherit\" dy=\"-0.6em\" font-size=\"83.333333%\">-2.1</tspan></text>\n",
        "    <text x=\"9.91\" y=\"84.42\" text-anchor=\"middle\" visibility=\"hidden\" gadfly:scale=\"10.0\">10<tspan style=\"dominant-baseline:inherit\" dy=\"-0.6em\" font-size=\"83.333333%\">-2.0</tspan></text>\n",
        "    <text x=\"13.48\" y=\"84.42\" text-anchor=\"middle\" visibility=\"hidden\" gadfly:scale=\"10.0\">10<tspan style=\"dominant-baseline:inherit\" dy=\"-0.6em\" font-size=\"83.333333%\">-1.9</tspan></text>\n",
        "    <text x=\"17.06\" y=\"84.42\" text-anchor=\"middle\" visibility=\"hidden\" gadfly:scale=\"10.0\">10<tspan style=\"dominant-baseline:inherit\" dy=\"-0.6em\" font-size=\"83.333333%\">-1.8</tspan></text>\n",
        "    <text x=\"20.63\" y=\"84.42\" text-anchor=\"middle\" visibility=\"hidden\" gadfly:scale=\"10.0\">10<tspan style=\"dominant-baseline:inherit\" dy=\"-0.6em\" font-size=\"83.333333%\">-1.7</tspan></text>\n",
        "    <text x=\"24.21\" y=\"84.42\" text-anchor=\"middle\" visibility=\"hidden\" gadfly:scale=\"10.0\">10<tspan style=\"dominant-baseline:inherit\" dy=\"-0.6em\" font-size=\"83.333333%\">-1.6</tspan></text>\n",
        "    <text x=\"27.78\" y=\"84.42\" text-anchor=\"middle\" visibility=\"hidden\" gadfly:scale=\"10.0\">10<tspan style=\"dominant-baseline:inherit\" dy=\"-0.6em\" font-size=\"83.333333%\">-1.5</tspan></text>\n",
        "    <text x=\"31.36\" y=\"84.42\" text-anchor=\"middle\" visibility=\"hidden\" gadfly:scale=\"10.0\">10<tspan style=\"dominant-baseline:inherit\" dy=\"-0.6em\" font-size=\"83.333333%\">-1.4</tspan></text>\n",
        "    <text x=\"34.93\" y=\"84.42\" text-anchor=\"middle\" visibility=\"hidden\" gadfly:scale=\"10.0\">10<tspan style=\"dominant-baseline:inherit\" dy=\"-0.6em\" font-size=\"83.333333%\">-1.3</tspan></text>\n",
        "    <text x=\"38.51\" y=\"84.42\" text-anchor=\"middle\" visibility=\"hidden\" gadfly:scale=\"10.0\">10<tspan style=\"dominant-baseline:inherit\" dy=\"-0.6em\" font-size=\"83.333333%\">-1.2</tspan></text>\n",
        "    <text x=\"42.08\" y=\"84.42\" text-anchor=\"middle\" visibility=\"hidden\" gadfly:scale=\"10.0\">10<tspan style=\"dominant-baseline:inherit\" dy=\"-0.6em\" font-size=\"83.333333%\">-1.1</tspan></text>\n",
        "    <text x=\"45.66\" y=\"84.42\" text-anchor=\"middle\" visibility=\"hidden\" gadfly:scale=\"10.0\">10<tspan style=\"dominant-baseline:inherit\" dy=\"-0.6em\" font-size=\"83.333333%\">-1.0</tspan></text>\n",
        "    <text x=\"49.23\" y=\"84.42\" text-anchor=\"middle\" visibility=\"hidden\" gadfly:scale=\"10.0\">10<tspan style=\"dominant-baseline:inherit\" dy=\"-0.6em\" font-size=\"83.333333%\">-0.9</tspan></text>\n",
        "    <text x=\"52.81\" y=\"84.42\" text-anchor=\"middle\" visibility=\"hidden\" gadfly:scale=\"10.0\">10<tspan style=\"dominant-baseline:inherit\" dy=\"-0.6em\" font-size=\"83.333333%\">-0.8</tspan></text>\n",
        "    <text x=\"56.38\" y=\"84.42\" text-anchor=\"middle\" visibility=\"hidden\" gadfly:scale=\"10.0\">10<tspan style=\"dominant-baseline:inherit\" dy=\"-0.6em\" font-size=\"83.333333%\">-0.7</tspan></text>\n",
        "    <text x=\"59.96\" y=\"84.42\" text-anchor=\"middle\" visibility=\"hidden\" gadfly:scale=\"10.0\">10<tspan style=\"dominant-baseline:inherit\" dy=\"-0.6em\" font-size=\"83.333333%\">-0.6</tspan></text>\n",
        "    <text x=\"63.53\" y=\"84.42\" text-anchor=\"middle\" visibility=\"hidden\" gadfly:scale=\"10.0\">10<tspan style=\"dominant-baseline:inherit\" dy=\"-0.6em\" font-size=\"83.333333%\">-0.5</tspan></text>\n",
        "    <text x=\"67.11\" y=\"84.42\" text-anchor=\"middle\" visibility=\"hidden\" gadfly:scale=\"10.0\">10<tspan style=\"dominant-baseline:inherit\" dy=\"-0.6em\" font-size=\"83.333333%\">-0.4</tspan></text>\n",
        "    <text x=\"70.68\" y=\"84.42\" text-anchor=\"middle\" visibility=\"hidden\" gadfly:scale=\"10.0\">10<tspan style=\"dominant-baseline:inherit\" dy=\"-0.6em\" font-size=\"83.333333%\">-0.3</tspan></text>\n",
        "    <text x=\"74.26\" y=\"84.42\" text-anchor=\"middle\" visibility=\"hidden\" gadfly:scale=\"10.0\">10<tspan style=\"dominant-baseline:inherit\" dy=\"-0.6em\" font-size=\"83.333333%\">-0.2</tspan></text>\n",
        "    <text x=\"77.83\" y=\"84.42\" text-anchor=\"middle\" visibility=\"hidden\" gadfly:scale=\"10.0\">10<tspan style=\"dominant-baseline:inherit\" dy=\"-0.6em\" font-size=\"83.333333%\">-0.1</tspan></text>\n",
        "    <text x=\"81.41\" y=\"84.42\" text-anchor=\"middle\" visibility=\"hidden\" gadfly:scale=\"10.0\">10<tspan style=\"dominant-baseline:inherit\" dy=\"-0.6em\" font-size=\"83.333333%\">0.0</tspan></text>\n",
        "    <text x=\"84.98\" y=\"84.42\" text-anchor=\"middle\" visibility=\"hidden\" gadfly:scale=\"10.0\">10<tspan style=\"dominant-baseline:inherit\" dy=\"-0.6em\" font-size=\"83.333333%\">0.1</tspan></text>\n",
        "    <text x=\"88.56\" y=\"84.42\" text-anchor=\"middle\" visibility=\"hidden\" gadfly:scale=\"10.0\">10<tspan style=\"dominant-baseline:inherit\" dy=\"-0.6em\" font-size=\"83.333333%\">0.2</tspan></text>\n",
        "    <text x=\"92.14\" y=\"84.42\" text-anchor=\"middle\" visibility=\"hidden\" gadfly:scale=\"10.0\">10<tspan style=\"dominant-baseline:inherit\" dy=\"-0.6em\" font-size=\"83.333333%\">0.3</tspan></text>\n",
        "    <text x=\"95.71\" y=\"84.42\" text-anchor=\"middle\" visibility=\"hidden\" gadfly:scale=\"10.0\">10<tspan style=\"dominant-baseline:inherit\" dy=\"-0.6em\" font-size=\"83.333333%\">0.4</tspan></text>\n",
        "    <text x=\"99.29\" y=\"84.42\" text-anchor=\"middle\" visibility=\"hidden\" gadfly:scale=\"10.0\">10<tspan style=\"dominant-baseline:inherit\" dy=\"-0.6em\" font-size=\"83.333333%\">0.5</tspan></text>\n",
        "    <text x=\"102.86\" y=\"84.42\" text-anchor=\"middle\" visibility=\"hidden\" gadfly:scale=\"10.0\">10<tspan style=\"dominant-baseline:inherit\" dy=\"-0.6em\" font-size=\"83.333333%\">0.6</tspan></text>\n",
        "    <text x=\"106.44\" y=\"84.42\" text-anchor=\"middle\" visibility=\"hidden\" gadfly:scale=\"10.0\">10<tspan style=\"dominant-baseline:inherit\" dy=\"-0.6em\" font-size=\"83.333333%\">0.7</tspan></text>\n",
        "    <text x=\"110.01\" y=\"84.42\" text-anchor=\"middle\" visibility=\"hidden\" gadfly:scale=\"10.0\">10<tspan style=\"dominant-baseline:inherit\" dy=\"-0.6em\" font-size=\"83.333333%\">0.8</tspan></text>\n",
        "    <text x=\"113.59\" y=\"84.42\" text-anchor=\"middle\" visibility=\"hidden\" gadfly:scale=\"10.0\">10<tspan style=\"dominant-baseline:inherit\" dy=\"-0.6em\" font-size=\"83.333333%\">0.9</tspan></text>\n",
        "    <text x=\"117.16\" y=\"84.42\" text-anchor=\"middle\" visibility=\"hidden\" gadfly:scale=\"10.0\">10<tspan style=\"dominant-baseline:inherit\" dy=\"-0.6em\" font-size=\"83.333333%\">1.0</tspan></text>\n",
        "    <text x=\"120.74\" y=\"84.42\" text-anchor=\"middle\" visibility=\"hidden\" gadfly:scale=\"10.0\">10<tspan style=\"dominant-baseline:inherit\" dy=\"-0.6em\" font-size=\"83.333333%\">1.1</tspan></text>\n",
        "    <text x=\"124.31\" y=\"84.42\" text-anchor=\"middle\" visibility=\"hidden\" gadfly:scale=\"10.0\">10<tspan style=\"dominant-baseline:inherit\" dy=\"-0.6em\" font-size=\"83.333333%\">1.2</tspan></text>\n",
        "    <text x=\"127.89\" y=\"84.42\" text-anchor=\"middle\" visibility=\"hidden\" gadfly:scale=\"10.0\">10<tspan style=\"dominant-baseline:inherit\" dy=\"-0.6em\" font-size=\"83.333333%\">1.3</tspan></text>\n",
        "    <text x=\"131.46\" y=\"84.42\" text-anchor=\"middle\" visibility=\"hidden\" gadfly:scale=\"10.0\">10<tspan style=\"dominant-baseline:inherit\" dy=\"-0.6em\" font-size=\"83.333333%\">1.4</tspan></text>\n",
        "    <text x=\"135.04\" y=\"84.42\" text-anchor=\"middle\" visibility=\"hidden\" gadfly:scale=\"10.0\">10<tspan style=\"dominant-baseline:inherit\" dy=\"-0.6em\" font-size=\"83.333333%\">1.5</tspan></text>\n",
        "    <text x=\"138.61\" y=\"84.42\" text-anchor=\"middle\" visibility=\"hidden\" gadfly:scale=\"10.0\">10<tspan style=\"dominant-baseline:inherit\" dy=\"-0.6em\" font-size=\"83.333333%\">1.6</tspan></text>\n",
        "    <text x=\"142.19\" y=\"84.42\" text-anchor=\"middle\" visibility=\"hidden\" gadfly:scale=\"10.0\">10<tspan style=\"dominant-baseline:inherit\" dy=\"-0.6em\" font-size=\"83.333333%\">1.7</tspan></text>\n",
        "    <text x=\"145.76\" y=\"84.42\" text-anchor=\"middle\" visibility=\"hidden\" gadfly:scale=\"10.0\">10<tspan style=\"dominant-baseline:inherit\" dy=\"-0.6em\" font-size=\"83.333333%\">1.8</tspan></text>\n",
        "    <text x=\"149.34\" y=\"84.42\" text-anchor=\"middle\" visibility=\"hidden\" gadfly:scale=\"10.0\">10<tspan style=\"dominant-baseline:inherit\" dy=\"-0.6em\" font-size=\"83.333333%\">1.9</tspan></text>\n",
        "    <text x=\"152.91\" y=\"84.42\" text-anchor=\"middle\" visibility=\"hidden\" gadfly:scale=\"10.0\">10<tspan style=\"dominant-baseline:inherit\" dy=\"-0.6em\" font-size=\"83.333333%\">2.0</tspan></text>\n",
        "    <text x=\"156.49\" y=\"84.42\" text-anchor=\"middle\" visibility=\"hidden\" gadfly:scale=\"10.0\">10<tspan style=\"dominant-baseline:inherit\" dy=\"-0.6em\" font-size=\"83.333333%\">2.1</tspan></text>\n",
        "    <text x=\"160.06\" y=\"84.42\" text-anchor=\"middle\" visibility=\"hidden\" gadfly:scale=\"10.0\">10<tspan style=\"dominant-baseline:inherit\" dy=\"-0.6em\" font-size=\"83.333333%\">2.2</tspan></text>\n",
        "    <text x=\"163.64\" y=\"84.42\" text-anchor=\"middle\" visibility=\"hidden\" gadfly:scale=\"10.0\">10<tspan style=\"dominant-baseline:inherit\" dy=\"-0.6em\" font-size=\"83.333333%\">2.3</tspan></text>\n",
        "    <text x=\"167.21\" y=\"84.42\" text-anchor=\"middle\" visibility=\"hidden\" gadfly:scale=\"10.0\">10<tspan style=\"dominant-baseline:inherit\" dy=\"-0.6em\" font-size=\"83.333333%\">2.4</tspan></text>\n",
        "    <text x=\"170.79\" y=\"84.42\" text-anchor=\"middle\" visibility=\"hidden\" gadfly:scale=\"10.0\">10<tspan style=\"dominant-baseline:inherit\" dy=\"-0.6em\" font-size=\"83.333333%\">2.5</tspan></text>\n",
        "    <text x=\"174.36\" y=\"84.42\" text-anchor=\"middle\" visibility=\"hidden\" gadfly:scale=\"10.0\">10<tspan style=\"dominant-baseline:inherit\" dy=\"-0.6em\" font-size=\"83.333333%\">2.6</tspan></text>\n",
        "    <text x=\"177.94\" y=\"84.42\" text-anchor=\"middle\" visibility=\"hidden\" gadfly:scale=\"10.0\">10<tspan style=\"dominant-baseline:inherit\" dy=\"-0.6em\" font-size=\"83.333333%\">2.7</tspan></text>\n",
        "    <text x=\"181.51\" y=\"84.42\" text-anchor=\"middle\" visibility=\"hidden\" gadfly:scale=\"10.0\">10<tspan style=\"dominant-baseline:inherit\" dy=\"-0.6em\" font-size=\"83.333333%\">2.8</tspan></text>\n",
        "    <text x=\"185.09\" y=\"84.42\" text-anchor=\"middle\" visibility=\"hidden\" gadfly:scale=\"10.0\">10<tspan style=\"dominant-baseline:inherit\" dy=\"-0.6em\" font-size=\"83.333333%\">2.9</tspan></text>\n",
        "    <text x=\"188.67\" y=\"84.42\" text-anchor=\"middle\" visibility=\"hidden\" gadfly:scale=\"10.0\">10<tspan style=\"dominant-baseline:inherit\" dy=\"-0.6em\" font-size=\"83.333333%\">3.0</tspan></text>\n",
        "    <text x=\"192.24\" y=\"84.42\" text-anchor=\"middle\" visibility=\"hidden\" gadfly:scale=\"10.0\">10<tspan style=\"dominant-baseline:inherit\" dy=\"-0.6em\" font-size=\"83.333333%\">3.1</tspan></text>\n",
        "    <text x=\"195.82\" y=\"84.42\" text-anchor=\"middle\" visibility=\"hidden\" gadfly:scale=\"10.0\">10<tspan style=\"dominant-baseline:inherit\" dy=\"-0.6em\" font-size=\"83.333333%\">3.2</tspan></text>\n",
        "    <text x=\"199.39\" y=\"84.42\" text-anchor=\"middle\" visibility=\"hidden\" gadfly:scale=\"10.0\">10<tspan style=\"dominant-baseline:inherit\" dy=\"-0.6em\" font-size=\"83.333333%\">3.3</tspan></text>\n",
        "    <text x=\"202.97\" y=\"84.42\" text-anchor=\"middle\" visibility=\"hidden\" gadfly:scale=\"10.0\">10<tspan style=\"dominant-baseline:inherit\" dy=\"-0.6em\" font-size=\"83.333333%\">3.4</tspan></text>\n",
        "    <text x=\"206.54\" y=\"84.42\" text-anchor=\"middle\" visibility=\"hidden\" gadfly:scale=\"10.0\">10<tspan style=\"dominant-baseline:inherit\" dy=\"-0.6em\" font-size=\"83.333333%\">3.5</tspan></text>\n",
        "    <text x=\"-61.6\" y=\"84.42\" text-anchor=\"middle\" visibility=\"hidden\" gadfly:scale=\"0.5\">10<tspan style=\"dominant-baseline:inherit\" dy=\"-0.6em\" font-size=\"83.333333%\">-4</tspan></text>\n",
        "    <text x=\"9.91\" y=\"84.42\" text-anchor=\"middle\" visibility=\"hidden\" gadfly:scale=\"0.5\">10<tspan style=\"dominant-baseline:inherit\" dy=\"-0.6em\" font-size=\"83.333333%\">-2</tspan></text>\n",
        "    <text x=\"81.41\" y=\"84.42\" text-anchor=\"middle\" visibility=\"hidden\" gadfly:scale=\"0.5\">10<tspan style=\"dominant-baseline:inherit\" dy=\"-0.6em\" font-size=\"83.333333%\">0</tspan></text>\n",
        "    <text x=\"152.91\" y=\"84.42\" text-anchor=\"middle\" visibility=\"hidden\" gadfly:scale=\"0.5\">10<tspan style=\"dominant-baseline:inherit\" dy=\"-0.6em\" font-size=\"83.333333%\">2</tspan></text>\n",
        "    <text x=\"224.42\" y=\"84.42\" text-anchor=\"middle\" visibility=\"hidden\" gadfly:scale=\"0.5\">10<tspan style=\"dominant-baseline:inherit\" dy=\"-0.6em\" font-size=\"83.333333%\">4</tspan></text>\n",
        "    <text x=\"-61.6\" y=\"84.42\" text-anchor=\"middle\" visibility=\"hidden\" gadfly:scale=\"5.0\">10<tspan style=\"dominant-baseline:inherit\" dy=\"-0.6em\" font-size=\"83.333333%\">-4.0</tspan></text>\n",
        "    <text x=\"-54.45\" y=\"84.42\" text-anchor=\"middle\" visibility=\"hidden\" gadfly:scale=\"5.0\">10<tspan style=\"dominant-baseline:inherit\" dy=\"-0.6em\" font-size=\"83.333333%\">-3.8</tspan></text>\n",
        "    <text x=\"-47.3\" y=\"84.42\" text-anchor=\"middle\" visibility=\"hidden\" gadfly:scale=\"5.0\">10<tspan style=\"dominant-baseline:inherit\" dy=\"-0.6em\" font-size=\"83.333333%\">-3.6</tspan></text>\n",
        "    <text x=\"-40.15\" y=\"84.42\" text-anchor=\"middle\" visibility=\"hidden\" gadfly:scale=\"5.0\">10<tspan style=\"dominant-baseline:inherit\" dy=\"-0.6em\" font-size=\"83.333333%\">-3.4</tspan></text>\n",
        "    <text x=\"-33\" y=\"84.42\" text-anchor=\"middle\" visibility=\"hidden\" gadfly:scale=\"5.0\">10<tspan style=\"dominant-baseline:inherit\" dy=\"-0.6em\" font-size=\"83.333333%\">-3.2</tspan></text>\n",
        "    <text x=\"-25.85\" y=\"84.42\" text-anchor=\"middle\" visibility=\"hidden\" gadfly:scale=\"5.0\">10<tspan style=\"dominant-baseline:inherit\" dy=\"-0.6em\" font-size=\"83.333333%\">-3.0</tspan></text>\n",
        "    <text x=\"-18.7\" y=\"84.42\" text-anchor=\"middle\" visibility=\"hidden\" gadfly:scale=\"5.0\">10<tspan style=\"dominant-baseline:inherit\" dy=\"-0.6em\" font-size=\"83.333333%\">-2.8</tspan></text>\n",
        "    <text x=\"-11.55\" y=\"84.42\" text-anchor=\"middle\" visibility=\"hidden\" gadfly:scale=\"5.0\">10<tspan style=\"dominant-baseline:inherit\" dy=\"-0.6em\" font-size=\"83.333333%\">-2.6</tspan></text>\n",
        "    <text x=\"-4.4\" y=\"84.42\" text-anchor=\"middle\" visibility=\"hidden\" gadfly:scale=\"5.0\">10<tspan style=\"dominant-baseline:inherit\" dy=\"-0.6em\" font-size=\"83.333333%\">-2.4</tspan></text>\n",
        "    <text x=\"2.76\" y=\"84.42\" text-anchor=\"middle\" visibility=\"hidden\" gadfly:scale=\"5.0\">10<tspan style=\"dominant-baseline:inherit\" dy=\"-0.6em\" font-size=\"83.333333%\">-2.2</tspan></text>\n",
        "    <text x=\"9.91\" y=\"84.42\" text-anchor=\"middle\" visibility=\"hidden\" gadfly:scale=\"5.0\">10<tspan style=\"dominant-baseline:inherit\" dy=\"-0.6em\" font-size=\"83.333333%\">-2.0</tspan></text>\n",
        "    <text x=\"17.06\" y=\"84.42\" text-anchor=\"middle\" visibility=\"hidden\" gadfly:scale=\"5.0\">10<tspan style=\"dominant-baseline:inherit\" dy=\"-0.6em\" font-size=\"83.333333%\">-1.8</tspan></text>\n",
        "    <text x=\"24.21\" y=\"84.42\" text-anchor=\"middle\" visibility=\"hidden\" gadfly:scale=\"5.0\">10<tspan style=\"dominant-baseline:inherit\" dy=\"-0.6em\" font-size=\"83.333333%\">-1.6</tspan></text>\n",
        "    <text x=\"31.36\" y=\"84.42\" text-anchor=\"middle\" visibility=\"hidden\" gadfly:scale=\"5.0\">10<tspan style=\"dominant-baseline:inherit\" dy=\"-0.6em\" font-size=\"83.333333%\">-1.4</tspan></text>\n",
        "    <text x=\"38.51\" y=\"84.42\" text-anchor=\"middle\" visibility=\"hidden\" gadfly:scale=\"5.0\">10<tspan style=\"dominant-baseline:inherit\" dy=\"-0.6em\" font-size=\"83.333333%\">-1.2</tspan></text>\n",
        "    <text x=\"45.66\" y=\"84.42\" text-anchor=\"middle\" visibility=\"hidden\" gadfly:scale=\"5.0\">10<tspan style=\"dominant-baseline:inherit\" dy=\"-0.6em\" font-size=\"83.333333%\">-1.0</tspan></text>\n",
        "    <text x=\"52.81\" y=\"84.42\" text-anchor=\"middle\" visibility=\"hidden\" gadfly:scale=\"5.0\">10<tspan style=\"dominant-baseline:inherit\" dy=\"-0.6em\" font-size=\"83.333333%\">-0.8</tspan></text>\n",
        "    <text x=\"59.96\" y=\"84.42\" text-anchor=\"middle\" visibility=\"hidden\" gadfly:scale=\"5.0\">10<tspan style=\"dominant-baseline:inherit\" dy=\"-0.6em\" font-size=\"83.333333%\">-0.6</tspan></text>\n",
        "    <text x=\"67.11\" y=\"84.42\" text-anchor=\"middle\" visibility=\"hidden\" gadfly:scale=\"5.0\">10<tspan style=\"dominant-baseline:inherit\" dy=\"-0.6em\" font-size=\"83.333333%\">-0.4</tspan></text>\n",
        "    <text x=\"74.26\" y=\"84.42\" text-anchor=\"middle\" visibility=\"hidden\" gadfly:scale=\"5.0\">10<tspan style=\"dominant-baseline:inherit\" dy=\"-0.6em\" font-size=\"83.333333%\">-0.2</tspan></text>\n",
        "    <text x=\"81.41\" y=\"84.42\" text-anchor=\"middle\" visibility=\"hidden\" gadfly:scale=\"5.0\">10<tspan style=\"dominant-baseline:inherit\" dy=\"-0.6em\" font-size=\"83.333333%\">0.0</tspan></text>\n",
        "    <text x=\"88.56\" y=\"84.42\" text-anchor=\"middle\" visibility=\"hidden\" gadfly:scale=\"5.0\">10<tspan style=\"dominant-baseline:inherit\" dy=\"-0.6em\" font-size=\"83.333333%\">0.2</tspan></text>\n",
        "    <text x=\"95.71\" y=\"84.42\" text-anchor=\"middle\" visibility=\"hidden\" gadfly:scale=\"5.0\">10<tspan style=\"dominant-baseline:inherit\" dy=\"-0.6em\" font-size=\"83.333333%\">0.4</tspan></text>\n",
        "    <text x=\"102.86\" y=\"84.42\" text-anchor=\"middle\" visibility=\"hidden\" gadfly:scale=\"5.0\">10<tspan style=\"dominant-baseline:inherit\" dy=\"-0.6em\" font-size=\"83.333333%\">0.6</tspan></text>\n",
        "    <text x=\"110.01\" y=\"84.42\" text-anchor=\"middle\" visibility=\"hidden\" gadfly:scale=\"5.0\">10<tspan style=\"dominant-baseline:inherit\" dy=\"-0.6em\" font-size=\"83.333333%\">0.8</tspan></text>\n",
        "    <text x=\"117.16\" y=\"84.42\" text-anchor=\"middle\" visibility=\"hidden\" gadfly:scale=\"5.0\">10<tspan style=\"dominant-baseline:inherit\" dy=\"-0.6em\" font-size=\"83.333333%\">1.0</tspan></text>\n",
        "    <text x=\"124.31\" y=\"84.42\" text-anchor=\"middle\" visibility=\"hidden\" gadfly:scale=\"5.0\">10<tspan style=\"dominant-baseline:inherit\" dy=\"-0.6em\" font-size=\"83.333333%\">1.2</tspan></text>\n",
        "    <text x=\"131.46\" y=\"84.42\" text-anchor=\"middle\" visibility=\"hidden\" gadfly:scale=\"5.0\">10<tspan style=\"dominant-baseline:inherit\" dy=\"-0.6em\" font-size=\"83.333333%\">1.4</tspan></text>\n",
        "    <text x=\"138.61\" y=\"84.42\" text-anchor=\"middle\" visibility=\"hidden\" gadfly:scale=\"5.0\">10<tspan style=\"dominant-baseline:inherit\" dy=\"-0.6em\" font-size=\"83.333333%\">1.6</tspan></text>\n",
        "    <text x=\"145.76\" y=\"84.42\" text-anchor=\"middle\" visibility=\"hidden\" gadfly:scale=\"5.0\">10<tspan style=\"dominant-baseline:inherit\" dy=\"-0.6em\" font-size=\"83.333333%\">1.8</tspan></text>\n",
        "    <text x=\"152.91\" y=\"84.42\" text-anchor=\"middle\" visibility=\"hidden\" gadfly:scale=\"5.0\">10<tspan style=\"dominant-baseline:inherit\" dy=\"-0.6em\" font-size=\"83.333333%\">2.0</tspan></text>\n",
        "    <text x=\"160.06\" y=\"84.42\" text-anchor=\"middle\" visibility=\"hidden\" gadfly:scale=\"5.0\">10<tspan style=\"dominant-baseline:inherit\" dy=\"-0.6em\" font-size=\"83.333333%\">2.2</tspan></text>\n",
        "    <text x=\"167.21\" y=\"84.42\" text-anchor=\"middle\" visibility=\"hidden\" gadfly:scale=\"5.0\">10<tspan style=\"dominant-baseline:inherit\" dy=\"-0.6em\" font-size=\"83.333333%\">2.4</tspan></text>\n",
        "    <text x=\"174.36\" y=\"84.42\" text-anchor=\"middle\" visibility=\"hidden\" gadfly:scale=\"5.0\">10<tspan style=\"dominant-baseline:inherit\" dy=\"-0.6em\" font-size=\"83.333333%\">2.6</tspan></text>\n",
        "    <text x=\"181.51\" y=\"84.42\" text-anchor=\"middle\" visibility=\"hidden\" gadfly:scale=\"5.0\">10<tspan style=\"dominant-baseline:inherit\" dy=\"-0.6em\" font-size=\"83.333333%\">2.8</tspan></text>\n",
        "    <text x=\"188.67\" y=\"84.42\" text-anchor=\"middle\" visibility=\"hidden\" gadfly:scale=\"5.0\">10<tspan style=\"dominant-baseline:inherit\" dy=\"-0.6em\" font-size=\"83.333333%\">3.0</tspan></text>\n",
        "    <text x=\"195.82\" y=\"84.42\" text-anchor=\"middle\" visibility=\"hidden\" gadfly:scale=\"5.0\">10<tspan style=\"dominant-baseline:inherit\" dy=\"-0.6em\" font-size=\"83.333333%\">3.2</tspan></text>\n",
        "    <text x=\"202.97\" y=\"84.42\" text-anchor=\"middle\" visibility=\"hidden\" gadfly:scale=\"5.0\">10<tspan style=\"dominant-baseline:inherit\" dy=\"-0.6em\" font-size=\"83.333333%\">3.4</tspan></text>\n",
        "    <text x=\"210.12\" y=\"84.42\" text-anchor=\"middle\" visibility=\"hidden\" gadfly:scale=\"5.0\">10<tspan style=\"dominant-baseline:inherit\" dy=\"-0.6em\" font-size=\"83.333333%\">3.6</tspan></text>\n",
        "  </g>\n",
        "  <g class=\"guide colorkey\" id=\"fig-e05f28ba83fb42898912fc4379ddc9b6-element-4\">\n",
        "    <g fill=\"#FFFFFF\" font-size=\"2.82\" font-family=\"'PT Sans','Helvetica Neue','Helvetica',sans-serif\" id=\"fig-e05f28ba83fb42898912fc4379ddc9b6-element-5\">\n",
        "      <text x=\"122.97\" y=\"39.39\" dy=\"0.35em\" id=\"fig-e05f28ba83fb42898912fc4379ddc9b6-element-6\" class=\"color_Simulation\">Simulation</text>\n",
        "      <text x=\"122.97\" y=\"43.02\" dy=\"0.35em\" id=\"fig-e05f28ba83fb42898912fc4379ddc9b6-element-7\" class=\"color_MMSN\">MMSN</text>\n",
        "      <text x=\"122.97\" y=\"46.64\" dy=\"0.35em\" id=\"fig-e05f28ba83fb42898912fc4379ddc9b6-element-8\" class=\"color_10X_MMSN\">10X MMSN</text>\n",
        "    </g>\n",
        "    <g stroke=\"none\" id=\"fig-e05f28ba83fb42898912fc4379ddc9b6-element-9\">\n",
        "      <rect x=\"120.16\" y=\"38.48\" width=\"1.81\" height=\"1.81\" id=\"fig-e05f28ba83fb42898912fc4379ddc9b6-element-10\" fill=\"#00BFFF\" class=\"color_Simulation\"/>\n",
        "      <rect x=\"120.16\" y=\"42.11\" width=\"1.81\" height=\"1.81\" id=\"fig-e05f28ba83fb42898912fc4379ddc9b6-element-11\" fill=\"#D4CA3A\" class=\"color_MMSN\"/>\n",
        "      <rect x=\"120.16\" y=\"45.74\" width=\"1.81\" height=\"1.81\" id=\"fig-e05f28ba83fb42898912fc4379ddc9b6-element-12\" fill=\"#FF5EA0\" class=\"color_10X_MMSN\"/>\n",
        "    </g>\n",
        "    <g fill=\"#FFFFFF\" font-size=\"4.94\" font-family=\"'PT Sans','Helvetica Neue','Helvetica',sans-serif\" stroke=\"none\" id=\"fig-e05f28ba83fb42898912fc4379ddc9b6-element-13\">\n",
        "      <text x=\"120.16\" y=\"36.06\" id=\"fig-e05f28ba83fb42898912fc4379ddc9b6-element-14\"></text>\n",
        "    </g>\n",
        "  </g>\n",
        "  <g clip-path=\"url(#fig-e05f28ba83fb42898912fc4379ddc9b6-element-16)\" id=\"fig-e05f28ba83fb42898912fc4379ddc9b6-element-15\">\n",
        "    <g pointer-events=\"visible\" opacity=\"1\" fill=\"none\" stroke=\"#000000\" class=\"guide background\" id=\"fig-e05f28ba83fb42898912fc4379ddc9b6-element-17\">\n",
        "      <rect x=\"25.78\" y=\"5\" width=\"93.38\" height=\"72.4\" id=\"fig-e05f28ba83fb42898912fc4379ddc9b6-element-18\"/>\n",
        "    </g>\n",
        "    <g class=\"guide ygridlines xfixed\" stroke-dasharray=\"0.5,0.5\" stroke-width=\"0.2\" stroke=\"#D0D0E0\" id=\"fig-e05f28ba83fb42898912fc4379ddc9b6-element-19\">\n",
        "      <path fill=\"none\" d=\"M25.78,173.12 L 119.16 173.12\" id=\"fig-e05f28ba83fb42898912fc4379ddc9b6-element-20\" visibility=\"hidden\" gadfly:scale=\"1.0\"/>\n",
        "      <path fill=\"none\" d=\"M25.78,153.58 L 119.16 153.58\" id=\"fig-e05f28ba83fb42898912fc4379ddc9b6-element-21\" visibility=\"hidden\" gadfly:scale=\"1.0\"/>\n",
        "      <path fill=\"none\" d=\"M25.78,134.03 L 119.16 134.03\" id=\"fig-e05f28ba83fb42898912fc4379ddc9b6-element-22\" visibility=\"hidden\" gadfly:scale=\"1.0\"/>\n",
        "      <path fill=\"none\" d=\"M25.78,114.49 L 119.16 114.49\" id=\"fig-e05f28ba83fb42898912fc4379ddc9b6-element-23\" visibility=\"hidden\" gadfly:scale=\"1.0\"/>\n",
        "      <path fill=\"none\" d=\"M25.78,94.95 L 119.16 94.95\" id=\"fig-e05f28ba83fb42898912fc4379ddc9b6-element-24\" visibility=\"hidden\" gadfly:scale=\"1.0\"/>\n",
        "      <path fill=\"none\" d=\"M25.78,75.4 L 119.16 75.4\" id=\"fig-e05f28ba83fb42898912fc4379ddc9b6-element-25\" visibility=\"visible\" gadfly:scale=\"1.0\"/>\n",
        "      <path fill=\"none\" d=\"M25.78,55.86 L 119.16 55.86\" id=\"fig-e05f28ba83fb42898912fc4379ddc9b6-element-26\" visibility=\"visible\" gadfly:scale=\"1.0\"/>\n",
        "      <path fill=\"none\" d=\"M25.78,36.32 L 119.16 36.32\" id=\"fig-e05f28ba83fb42898912fc4379ddc9b6-element-27\" visibility=\"visible\" gadfly:scale=\"1.0\"/>\n",
        "      <path fill=\"none\" d=\"M25.78,16.77 L 119.16 16.77\" id=\"fig-e05f28ba83fb42898912fc4379ddc9b6-element-28\" visibility=\"visible\" gadfly:scale=\"1.0\"/>\n",
        "      <path fill=\"none\" d=\"M25.78,-2.77 L 119.16 -2.77\" id=\"fig-e05f28ba83fb42898912fc4379ddc9b6-element-29\" visibility=\"visible\" gadfly:scale=\"1.0\"/>\n",
        "      <path fill=\"none\" d=\"M25.78,-22.32 L 119.16 -22.32\" id=\"fig-e05f28ba83fb42898912fc4379ddc9b6-element-30\" visibility=\"hidden\" gadfly:scale=\"1.0\"/>\n",
        "      <path fill=\"none\" d=\"M25.78,-41.86 L 119.16 -41.86\" id=\"fig-e05f28ba83fb42898912fc4379ddc9b6-element-31\" visibility=\"hidden\" gadfly:scale=\"1.0\"/>\n",
        "      <path fill=\"none\" d=\"M25.78,-61.4 L 119.16 -61.4\" id=\"fig-e05f28ba83fb42898912fc4379ddc9b6-element-32\" visibility=\"hidden\" gadfly:scale=\"1.0\"/>\n",
        "      <path fill=\"none\" d=\"M25.78,-80.95 L 119.16 -80.95\" id=\"fig-e05f28ba83fb42898912fc4379ddc9b6-element-33\" visibility=\"hidden\" gadfly:scale=\"1.0\"/>\n",
        "      <path fill=\"none\" d=\"M25.78,-100.49 L 119.16 -100.49\" id=\"fig-e05f28ba83fb42898912fc4379ddc9b6-element-34\" visibility=\"hidden\" gadfly:scale=\"1.0\"/>\n",
        "      <path fill=\"none\" d=\"M25.78,153.58 L 119.16 153.58\" id=\"fig-e05f28ba83fb42898912fc4379ddc9b6-element-35\" visibility=\"hidden\" gadfly:scale=\"10.0\"/>\n",
        "      <path fill=\"none\" d=\"M25.78,148.69 L 119.16 148.69\" id=\"fig-e05f28ba83fb42898912fc4379ddc9b6-element-36\" visibility=\"hidden\" gadfly:scale=\"10.0\"/>\n",
        "      <path fill=\"none\" d=\"M25.78,143.81 L 119.16 143.81\" id=\"fig-e05f28ba83fb42898912fc4379ddc9b6-element-37\" visibility=\"hidden\" gadfly:scale=\"10.0\"/>\n",
        "      <path fill=\"none\" d=\"M25.78,138.92 L 119.16 138.92\" id=\"fig-e05f28ba83fb42898912fc4379ddc9b6-element-38\" visibility=\"hidden\" gadfly:scale=\"10.0\"/>\n",
        "      <path fill=\"none\" d=\"M25.78,134.03 L 119.16 134.03\" id=\"fig-e05f28ba83fb42898912fc4379ddc9b6-element-39\" visibility=\"hidden\" gadfly:scale=\"10.0\"/>\n",
        "      <path fill=\"none\" d=\"M25.78,129.15 L 119.16 129.15\" id=\"fig-e05f28ba83fb42898912fc4379ddc9b6-element-40\" visibility=\"hidden\" gadfly:scale=\"10.0\"/>\n",
        "      <path fill=\"none\" d=\"M25.78,124.26 L 119.16 124.26\" id=\"fig-e05f28ba83fb42898912fc4379ddc9b6-element-41\" visibility=\"hidden\" gadfly:scale=\"10.0\"/>\n",
        "      <path fill=\"none\" d=\"M25.78,119.38 L 119.16 119.38\" id=\"fig-e05f28ba83fb42898912fc4379ddc9b6-element-42\" visibility=\"hidden\" gadfly:scale=\"10.0\"/>\n",
        "      <path fill=\"none\" d=\"M25.78,114.49 L 119.16 114.49\" id=\"fig-e05f28ba83fb42898912fc4379ddc9b6-element-43\" visibility=\"hidden\" gadfly:scale=\"10.0\"/>\n",
        "      <path fill=\"none\" d=\"M25.78,109.61 L 119.16 109.61\" id=\"fig-e05f28ba83fb42898912fc4379ddc9b6-element-44\" visibility=\"hidden\" gadfly:scale=\"10.0\"/>\n",
        "      <path fill=\"none\" d=\"M25.78,104.72 L 119.16 104.72\" id=\"fig-e05f28ba83fb42898912fc4379ddc9b6-element-45\" visibility=\"hidden\" gadfly:scale=\"10.0\"/>\n",
        "      <path fill=\"none\" d=\"M25.78,99.83 L 119.16 99.83\" id=\"fig-e05f28ba83fb42898912fc4379ddc9b6-element-46\" visibility=\"hidden\" gadfly:scale=\"10.0\"/>\n",
        "      <path fill=\"none\" d=\"M25.78,94.95 L 119.16 94.95\" id=\"fig-e05f28ba83fb42898912fc4379ddc9b6-element-47\" visibility=\"hidden\" gadfly:scale=\"10.0\"/>\n",
        "      <path fill=\"none\" d=\"M25.78,90.06 L 119.16 90.06\" id=\"fig-e05f28ba83fb42898912fc4379ddc9b6-element-48\" visibility=\"hidden\" gadfly:scale=\"10.0\"/>\n",
        "      <path fill=\"none\" d=\"M25.78,85.18 L 119.16 85.18\" id=\"fig-e05f28ba83fb42898912fc4379ddc9b6-element-49\" visibility=\"hidden\" gadfly:scale=\"10.0\"/>\n",
        "      <path fill=\"none\" d=\"M25.78,80.29 L 119.16 80.29\" id=\"fig-e05f28ba83fb42898912fc4379ddc9b6-element-50\" visibility=\"hidden\" gadfly:scale=\"10.0\"/>\n",
        "      <path fill=\"none\" d=\"M25.78,75.4 L 119.16 75.4\" id=\"fig-e05f28ba83fb42898912fc4379ddc9b6-element-51\" visibility=\"hidden\" gadfly:scale=\"10.0\"/>\n",
        "      <path fill=\"none\" d=\"M25.78,70.52 L 119.16 70.52\" id=\"fig-e05f28ba83fb42898912fc4379ddc9b6-element-52\" visibility=\"hidden\" gadfly:scale=\"10.0\"/>\n",
        "      <path fill=\"none\" d=\"M25.78,65.63 L 119.16 65.63\" id=\"fig-e05f28ba83fb42898912fc4379ddc9b6-element-53\" visibility=\"hidden\" gadfly:scale=\"10.0\"/>\n",
        "      <path fill=\"none\" d=\"M25.78,60.75 L 119.16 60.75\" id=\"fig-e05f28ba83fb42898912fc4379ddc9b6-element-54\" visibility=\"hidden\" gadfly:scale=\"10.0\"/>\n",
        "      <path fill=\"none\" d=\"M25.78,55.86 L 119.16 55.86\" id=\"fig-e05f28ba83fb42898912fc4379ddc9b6-element-55\" visibility=\"hidden\" gadfly:scale=\"10.0\"/>\n",
        "      <path fill=\"none\" d=\"M25.78,50.97 L 119.16 50.97\" id=\"fig-e05f28ba83fb42898912fc4379ddc9b6-element-56\" visibility=\"hidden\" gadfly:scale=\"10.0\"/>\n",
        "      <path fill=\"none\" d=\"M25.78,46.09 L 119.16 46.09\" id=\"fig-e05f28ba83fb42898912fc4379ddc9b6-element-57\" visibility=\"hidden\" gadfly:scale=\"10.0\"/>\n",
        "      <path fill=\"none\" d=\"M25.78,41.2 L 119.16 41.2\" id=\"fig-e05f28ba83fb42898912fc4379ddc9b6-element-58\" visibility=\"hidden\" gadfly:scale=\"10.0\"/>\n",
        "      <path fill=\"none\" d=\"M25.78,36.32 L 119.16 36.32\" id=\"fig-e05f28ba83fb42898912fc4379ddc9b6-element-59\" visibility=\"hidden\" gadfly:scale=\"10.0\"/>\n",
        "      <path fill=\"none\" d=\"M25.78,31.43 L 119.16 31.43\" id=\"fig-e05f28ba83fb42898912fc4379ddc9b6-element-60\" visibility=\"hidden\" gadfly:scale=\"10.0\"/>\n",
        "      <path fill=\"none\" d=\"M25.78,26.54 L 119.16 26.54\" id=\"fig-e05f28ba83fb42898912fc4379ddc9b6-element-61\" visibility=\"hidden\" gadfly:scale=\"10.0\"/>\n",
        "      <path fill=\"none\" d=\"M25.78,21.66 L 119.16 21.66\" id=\"fig-e05f28ba83fb42898912fc4379ddc9b6-element-62\" visibility=\"hidden\" gadfly:scale=\"10.0\"/>\n",
        "      <path fill=\"none\" d=\"M25.78,16.77 L 119.16 16.77\" id=\"fig-e05f28ba83fb42898912fc4379ddc9b6-element-63\" visibility=\"hidden\" gadfly:scale=\"10.0\"/>\n",
        "      <path fill=\"none\" d=\"M25.78,11.89 L 119.16 11.89\" id=\"fig-e05f28ba83fb42898912fc4379ddc9b6-element-64\" visibility=\"hidden\" gadfly:scale=\"10.0\"/>\n",
        "      <path fill=\"none\" d=\"M25.78,7 L 119.16 7\" id=\"fig-e05f28ba83fb42898912fc4379ddc9b6-element-65\" visibility=\"hidden\" gadfly:scale=\"10.0\"/>\n",
        "      <path fill=\"none\" d=\"M25.78,2.11 L 119.16 2.11\" id=\"fig-e05f28ba83fb42898912fc4379ddc9b6-element-66\" visibility=\"hidden\" gadfly:scale=\"10.0\"/>\n",
        "      <path fill=\"none\" d=\"M25.78,-2.77 L 119.16 -2.77\" id=\"fig-e05f28ba83fb42898912fc4379ddc9b6-element-67\" visibility=\"hidden\" gadfly:scale=\"10.0\"/>\n",
        "      <path fill=\"none\" d=\"M25.78,-7.66 L 119.16 -7.66\" id=\"fig-e05f28ba83fb42898912fc4379ddc9b6-element-68\" visibility=\"hidden\" gadfly:scale=\"10.0\"/>\n",
        "      <path fill=\"none\" d=\"M25.78,-12.54 L 119.16 -12.54\" id=\"fig-e05f28ba83fb42898912fc4379ddc9b6-element-69\" visibility=\"hidden\" gadfly:scale=\"10.0\"/>\n",
        "      <path fill=\"none\" d=\"M25.78,-17.43 L 119.16 -17.43\" id=\"fig-e05f28ba83fb42898912fc4379ddc9b6-element-70\" visibility=\"hidden\" gadfly:scale=\"10.0\"/>\n",
        "      <path fill=\"none\" d=\"M25.78,-22.32 L 119.16 -22.32\" id=\"fig-e05f28ba83fb42898912fc4379ddc9b6-element-71\" visibility=\"hidden\" gadfly:scale=\"10.0\"/>\n",
        "      <path fill=\"none\" d=\"M25.78,-27.2 L 119.16 -27.2\" id=\"fig-e05f28ba83fb42898912fc4379ddc9b6-element-72\" visibility=\"hidden\" gadfly:scale=\"10.0\"/>\n",
        "      <path fill=\"none\" d=\"M25.78,-32.09 L 119.16 -32.09\" id=\"fig-e05f28ba83fb42898912fc4379ddc9b6-element-73\" visibility=\"hidden\" gadfly:scale=\"10.0\"/>\n",
        "      <path fill=\"none\" d=\"M25.78,-36.97 L 119.16 -36.97\" id=\"fig-e05f28ba83fb42898912fc4379ddc9b6-element-74\" visibility=\"hidden\" gadfly:scale=\"10.0\"/>\n",
        "      <path fill=\"none\" d=\"M25.78,-41.86 L 119.16 -41.86\" id=\"fig-e05f28ba83fb42898912fc4379ddc9b6-element-75\" visibility=\"hidden\" gadfly:scale=\"10.0\"/>\n",
        "      <path fill=\"none\" d=\"M25.78,-46.75 L 119.16 -46.75\" id=\"fig-e05f28ba83fb42898912fc4379ddc9b6-element-76\" visibility=\"hidden\" gadfly:scale=\"10.0\"/>\n",
        "      <path fill=\"none\" d=\"M25.78,-51.63 L 119.16 -51.63\" id=\"fig-e05f28ba83fb42898912fc4379ddc9b6-element-77\" visibility=\"hidden\" gadfly:scale=\"10.0\"/>\n",
        "      <path fill=\"none\" d=\"M25.78,-56.52 L 119.16 -56.52\" id=\"fig-e05f28ba83fb42898912fc4379ddc9b6-element-78\" visibility=\"hidden\" gadfly:scale=\"10.0\"/>\n",
        "      <path fill=\"none\" d=\"M25.78,-61.4 L 119.16 -61.4\" id=\"fig-e05f28ba83fb42898912fc4379ddc9b6-element-79\" visibility=\"hidden\" gadfly:scale=\"10.0\"/>\n",
        "      <path fill=\"none\" d=\"M25.78,-66.29 L 119.16 -66.29\" id=\"fig-e05f28ba83fb42898912fc4379ddc9b6-element-80\" visibility=\"hidden\" gadfly:scale=\"10.0\"/>\n",
        "      <path fill=\"none\" d=\"M25.78,-71.18 L 119.16 -71.18\" id=\"fig-e05f28ba83fb42898912fc4379ddc9b6-element-81\" visibility=\"hidden\" gadfly:scale=\"10.0\"/>\n",
        "      <path fill=\"none\" d=\"M25.78,-76.06 L 119.16 -76.06\" id=\"fig-e05f28ba83fb42898912fc4379ddc9b6-element-82\" visibility=\"hidden\" gadfly:scale=\"10.0\"/>\n",
        "      <path fill=\"none\" d=\"M25.78,-80.95 L 119.16 -80.95\" id=\"fig-e05f28ba83fb42898912fc4379ddc9b6-element-83\" visibility=\"hidden\" gadfly:scale=\"10.0\"/>\n",
        "      <path fill=\"none\" d=\"M25.78,153.58 L 119.16 153.58\" id=\"fig-e05f28ba83fb42898912fc4379ddc9b6-element-84\" visibility=\"hidden\" gadfly:scale=\"0.5\"/>\n",
        "      <path fill=\"none\" d=\"M25.78,55.86 L 119.16 55.86\" id=\"fig-e05f28ba83fb42898912fc4379ddc9b6-element-85\" visibility=\"hidden\" gadfly:scale=\"0.5\"/>\n",
        "      <path fill=\"none\" d=\"M25.78,-41.86 L 119.16 -41.86\" id=\"fig-e05f28ba83fb42898912fc4379ddc9b6-element-86\" visibility=\"hidden\" gadfly:scale=\"0.5\"/>\n",
        "      <path fill=\"none\" d=\"M25.78,-139.58 L 119.16 -139.58\" id=\"fig-e05f28ba83fb42898912fc4379ddc9b6-element-87\" visibility=\"hidden\" gadfly:scale=\"0.5\"/>\n",
        "      <path fill=\"none\" d=\"M25.78,153.58 L 119.16 153.58\" id=\"fig-e05f28ba83fb42898912fc4379ddc9b6-element-88\" visibility=\"hidden\" gadfly:scale=\"5.0\"/>\n",
        "      <path fill=\"none\" d=\"M25.78,148.69 L 119.16 148.69\" id=\"fig-e05f28ba83fb42898912fc4379ddc9b6-element-89\" visibility=\"hidden\" gadfly:scale=\"5.0\"/>\n",
        "      <path fill=\"none\" d=\"M25.78,143.81 L 119.16 143.81\" id=\"fig-e05f28ba83fb42898912fc4379ddc9b6-element-90\" visibility=\"hidden\" gadfly:scale=\"5.0\"/>\n",
        "      <path fill=\"none\" d=\"M25.78,138.92 L 119.16 138.92\" id=\"fig-e05f28ba83fb42898912fc4379ddc9b6-element-91\" visibility=\"hidden\" gadfly:scale=\"5.0\"/>\n",
        "      <path fill=\"none\" d=\"M25.78,134.03 L 119.16 134.03\" id=\"fig-e05f28ba83fb42898912fc4379ddc9b6-element-92\" visibility=\"hidden\" gadfly:scale=\"5.0\"/>\n",
        "      <path fill=\"none\" d=\"M25.78,129.15 L 119.16 129.15\" id=\"fig-e05f28ba83fb42898912fc4379ddc9b6-element-93\" visibility=\"hidden\" gadfly:scale=\"5.0\"/>\n",
        "      <path fill=\"none\" d=\"M25.78,124.26 L 119.16 124.26\" id=\"fig-e05f28ba83fb42898912fc4379ddc9b6-element-94\" visibility=\"hidden\" gadfly:scale=\"5.0\"/>\n",
        "      <path fill=\"none\" d=\"M25.78,119.38 L 119.16 119.38\" id=\"fig-e05f28ba83fb42898912fc4379ddc9b6-element-95\" visibility=\"hidden\" gadfly:scale=\"5.0\"/>\n",
        "      <path fill=\"none\" d=\"M25.78,114.49 L 119.16 114.49\" id=\"fig-e05f28ba83fb42898912fc4379ddc9b6-element-96\" visibility=\"hidden\" gadfly:scale=\"5.0\"/>\n",
        "      <path fill=\"none\" d=\"M25.78,109.61 L 119.16 109.61\" id=\"fig-e05f28ba83fb42898912fc4379ddc9b6-element-97\" visibility=\"hidden\" gadfly:scale=\"5.0\"/>\n",
        "      <path fill=\"none\" d=\"M25.78,104.72 L 119.16 104.72\" id=\"fig-e05f28ba83fb42898912fc4379ddc9b6-element-98\" visibility=\"hidden\" gadfly:scale=\"5.0\"/>\n",
        "      <path fill=\"none\" d=\"M25.78,99.83 L 119.16 99.83\" id=\"fig-e05f28ba83fb42898912fc4379ddc9b6-element-99\" visibility=\"hidden\" gadfly:scale=\"5.0\"/>\n",
        "      <path fill=\"none\" d=\"M25.78,94.95 L 119.16 94.95\" id=\"fig-e05f28ba83fb42898912fc4379ddc9b6-element-100\" visibility=\"hidden\" gadfly:scale=\"5.0\"/>\n",
        "      <path fill=\"none\" d=\"M25.78,90.06 L 119.16 90.06\" id=\"fig-e05f28ba83fb42898912fc4379ddc9b6-element-101\" visibility=\"hidden\" gadfly:scale=\"5.0\"/>\n",
        "      <path fill=\"none\" d=\"M25.78,85.18 L 119.16 85.18\" id=\"fig-e05f28ba83fb42898912fc4379ddc9b6-element-102\" visibility=\"hidden\" gadfly:scale=\"5.0\"/>\n",
        "      <path fill=\"none\" d=\"M25.78,80.29 L 119.16 80.29\" id=\"fig-e05f28ba83fb42898912fc4379ddc9b6-element-103\" visibility=\"hidden\" gadfly:scale=\"5.0\"/>\n",
        "      <path fill=\"none\" d=\"M25.78,75.4 L 119.16 75.4\" id=\"fig-e05f28ba83fb42898912fc4379ddc9b6-element-104\" visibility=\"hidden\" gadfly:scale=\"5.0\"/>\n",
        "      <path fill=\"none\" d=\"M25.78,70.52 L 119.16 70.52\" id=\"fig-e05f28ba83fb42898912fc4379ddc9b6-element-105\" visibility=\"hidden\" gadfly:scale=\"5.0\"/>\n",
        "      <path fill=\"none\" d=\"M25.78,65.63 L 119.16 65.63\" id=\"fig-e05f28ba83fb42898912fc4379ddc9b6-element-106\" visibility=\"hidden\" gadfly:scale=\"5.0\"/>\n",
        "      <path fill=\"none\" d=\"M25.78,60.75 L 119.16 60.75\" id=\"fig-e05f28ba83fb42898912fc4379ddc9b6-element-107\" visibility=\"hidden\" gadfly:scale=\"5.0\"/>\n",
        "      <path fill=\"none\" d=\"M25.78,55.86 L 119.16 55.86\" id=\"fig-e05f28ba83fb42898912fc4379ddc9b6-element-108\" visibility=\"hidden\" gadfly:scale=\"5.0\"/>\n",
        "      <path fill=\"none\" d=\"M25.78,50.97 L 119.16 50.97\" id=\"fig-e05f28ba83fb42898912fc4379ddc9b6-element-109\" visibility=\"hidden\" gadfly:scale=\"5.0\"/>\n",
        "      <path fill=\"none\" d=\"M25.78,46.09 L 119.16 46.09\" id=\"fig-e05f28ba83fb42898912fc4379ddc9b6-element-110\" visibility=\"hidden\" gadfly:scale=\"5.0\"/>\n",
        "      <path fill=\"none\" d=\"M25.78,41.2 L 119.16 41.2\" id=\"fig-e05f28ba83fb42898912fc4379ddc9b6-element-111\" visibility=\"hidden\" gadfly:scale=\"5.0\"/>\n",
        "      <path fill=\"none\" d=\"M25.78,36.32 L 119.16 36.32\" id=\"fig-e05f28ba83fb42898912fc4379ddc9b6-element-112\" visibility=\"hidden\" gadfly:scale=\"5.0\"/>\n",
        "      <path fill=\"none\" d=\"M25.78,31.43 L 119.16 31.43\" id=\"fig-e05f28ba83fb42898912fc4379ddc9b6-element-113\" visibility=\"hidden\" gadfly:scale=\"5.0\"/>\n",
        "      <path fill=\"none\" d=\"M25.78,26.54 L 119.16 26.54\" id=\"fig-e05f28ba83fb42898912fc4379ddc9b6-element-114\" visibility=\"hidden\" gadfly:scale=\"5.0\"/>\n",
        "      <path fill=\"none\" d=\"M25.78,21.66 L 119.16 21.66\" id=\"fig-e05f28ba83fb42898912fc4379ddc9b6-element-115\" visibility=\"hidden\" gadfly:scale=\"5.0\"/>\n",
        "      <path fill=\"none\" d=\"M25.78,16.77 L 119.16 16.77\" id=\"fig-e05f28ba83fb42898912fc4379ddc9b6-element-116\" visibility=\"hidden\" gadfly:scale=\"5.0\"/>\n",
        "      <path fill=\"none\" d=\"M25.78,11.89 L 119.16 11.89\" id=\"fig-e05f28ba83fb42898912fc4379ddc9b6-element-117\" visibility=\"hidden\" gadfly:scale=\"5.0\"/>\n",
        "      <path fill=\"none\" d=\"M25.78,7 L 119.16 7\" id=\"fig-e05f28ba83fb42898912fc4379ddc9b6-element-118\" visibility=\"hidden\" gadfly:scale=\"5.0\"/>\n",
        "      <path fill=\"none\" d=\"M25.78,2.11 L 119.16 2.11\" id=\"fig-e05f28ba83fb42898912fc4379ddc9b6-element-119\" visibility=\"hidden\" gadfly:scale=\"5.0\"/>\n",
        "      <path fill=\"none\" d=\"M25.78,-2.77 L 119.16 -2.77\" id=\"fig-e05f28ba83fb42898912fc4379ddc9b6-element-120\" visibility=\"hidden\" gadfly:scale=\"5.0\"/>\n",
        "      <path fill=\"none\" d=\"M25.78,-7.66 L 119.16 -7.66\" id=\"fig-e05f28ba83fb42898912fc4379ddc9b6-element-121\" visibility=\"hidden\" gadfly:scale=\"5.0\"/>\n",
        "      <path fill=\"none\" d=\"M25.78,-12.54 L 119.16 -12.54\" id=\"fig-e05f28ba83fb42898912fc4379ddc9b6-element-122\" visibility=\"hidden\" gadfly:scale=\"5.0\"/>\n",
        "      <path fill=\"none\" d=\"M25.78,-17.43 L 119.16 -17.43\" id=\"fig-e05f28ba83fb42898912fc4379ddc9b6-element-123\" visibility=\"hidden\" gadfly:scale=\"5.0\"/>\n",
        "      <path fill=\"none\" d=\"M25.78,-22.32 L 119.16 -22.32\" id=\"fig-e05f28ba83fb42898912fc4379ddc9b6-element-124\" visibility=\"hidden\" gadfly:scale=\"5.0\"/>\n",
        "      <path fill=\"none\" d=\"M25.78,-27.2 L 119.16 -27.2\" id=\"fig-e05f28ba83fb42898912fc4379ddc9b6-element-125\" visibility=\"hidden\" gadfly:scale=\"5.0\"/>\n",
        "      <path fill=\"none\" d=\"M25.78,-32.09 L 119.16 -32.09\" id=\"fig-e05f28ba83fb42898912fc4379ddc9b6-element-126\" visibility=\"hidden\" gadfly:scale=\"5.0\"/>\n",
        "      <path fill=\"none\" d=\"M25.78,-36.97 L 119.16 -36.97\" id=\"fig-e05f28ba83fb42898912fc4379ddc9b6-element-127\" visibility=\"hidden\" gadfly:scale=\"5.0\"/>\n",
        "      <path fill=\"none\" d=\"M25.78,-41.86 L 119.16 -41.86\" id=\"fig-e05f28ba83fb42898912fc4379ddc9b6-element-128\" visibility=\"hidden\" gadfly:scale=\"5.0\"/>\n",
        "      <path fill=\"none\" d=\"M25.78,-46.75 L 119.16 -46.75\" id=\"fig-e05f28ba83fb42898912fc4379ddc9b6-element-129\" visibility=\"hidden\" gadfly:scale=\"5.0\"/>\n",
        "      <path fill=\"none\" d=\"M25.78,-51.63 L 119.16 -51.63\" id=\"fig-e05f28ba83fb42898912fc4379ddc9b6-element-130\" visibility=\"hidden\" gadfly:scale=\"5.0\"/>\n",
        "      <path fill=\"none\" d=\"M25.78,-56.52 L 119.16 -56.52\" id=\"fig-e05f28ba83fb42898912fc4379ddc9b6-element-131\" visibility=\"hidden\" gadfly:scale=\"5.0\"/>\n",
        "      <path fill=\"none\" d=\"M25.78,-61.4 L 119.16 -61.4\" id=\"fig-e05f28ba83fb42898912fc4379ddc9b6-element-132\" visibility=\"hidden\" gadfly:scale=\"5.0\"/>\n",
        "      <path fill=\"none\" d=\"M25.78,-66.29 L 119.16 -66.29\" id=\"fig-e05f28ba83fb42898912fc4379ddc9b6-element-133\" visibility=\"hidden\" gadfly:scale=\"5.0\"/>\n",
        "      <path fill=\"none\" d=\"M25.78,-71.18 L 119.16 -71.18\" id=\"fig-e05f28ba83fb42898912fc4379ddc9b6-element-134\" visibility=\"hidden\" gadfly:scale=\"5.0\"/>\n",
        "      <path fill=\"none\" d=\"M25.78,-76.06 L 119.16 -76.06\" id=\"fig-e05f28ba83fb42898912fc4379ddc9b6-element-135\" visibility=\"hidden\" gadfly:scale=\"5.0\"/>\n",
        "      <path fill=\"none\" d=\"M25.78,-80.95 L 119.16 -80.95\" id=\"fig-e05f28ba83fb42898912fc4379ddc9b6-element-136\" visibility=\"hidden\" gadfly:scale=\"5.0\"/>\n",
        "    </g>\n",
        "    <g class=\"guide xgridlines yfixed\" stroke-dasharray=\"0.5,0.5\" stroke-width=\"0.2\" stroke=\"#D0D0E0\" id=\"fig-e05f28ba83fb42898912fc4379ddc9b6-element-137\">\n",
        "      <path fill=\"none\" d=\"M-79.47,5 L -79.47 77.4\" id=\"fig-e05f28ba83fb42898912fc4379ddc9b6-element-138\" visibility=\"hidden\" gadfly:scale=\"1.0\"/>\n",
        "      <path fill=\"none\" d=\"M-61.6,5 L -61.6 77.4\" id=\"fig-e05f28ba83fb42898912fc4379ddc9b6-element-139\" visibility=\"hidden\" gadfly:scale=\"1.0\"/>\n",
        "      <path fill=\"none\" d=\"M-43.72,5 L -43.72 77.4\" id=\"fig-e05f28ba83fb42898912fc4379ddc9b6-element-140\" visibility=\"hidden\" gadfly:scale=\"1.0\"/>\n",
        "      <path fill=\"none\" d=\"M-25.85,5 L -25.85 77.4\" id=\"fig-e05f28ba83fb42898912fc4379ddc9b6-element-141\" visibility=\"hidden\" gadfly:scale=\"1.0\"/>\n",
        "      <path fill=\"none\" d=\"M-7.97,5 L -7.97 77.4\" id=\"fig-e05f28ba83fb42898912fc4379ddc9b6-element-142\" visibility=\"hidden\" gadfly:scale=\"1.0\"/>\n",
        "      <path fill=\"none\" d=\"M9.91,5 L 9.91 77.4\" id=\"fig-e05f28ba83fb42898912fc4379ddc9b6-element-143\" visibility=\"hidden\" gadfly:scale=\"1.0\"/>\n",
        "      <path fill=\"none\" d=\"M27.78,5 L 27.78 77.4\" id=\"fig-e05f28ba83fb42898912fc4379ddc9b6-element-144\" visibility=\"visible\" gadfly:scale=\"1.0\"/>\n",
        "      <path fill=\"none\" d=\"M45.66,5 L 45.66 77.4\" id=\"fig-e05f28ba83fb42898912fc4379ddc9b6-element-145\" visibility=\"visible\" gadfly:scale=\"1.0\"/>\n",
        "      <path fill=\"none\" d=\"M63.53,5 L 63.53 77.4\" id=\"fig-e05f28ba83fb42898912fc4379ddc9b6-element-146\" visibility=\"visible\" gadfly:scale=\"1.0\"/>\n",
        "      <path fill=\"none\" d=\"M81.41,5 L 81.41 77.4\" id=\"fig-e05f28ba83fb42898912fc4379ddc9b6-element-147\" visibility=\"visible\" gadfly:scale=\"1.0\"/>\n",
        "      <path fill=\"none\" d=\"M99.29,5 L 99.29 77.4\" id=\"fig-e05f28ba83fb42898912fc4379ddc9b6-element-148\" visibility=\"visible\" gadfly:scale=\"1.0\"/>\n",
        "      <path fill=\"none\" d=\"M117.16,5 L 117.16 77.4\" id=\"fig-e05f28ba83fb42898912fc4379ddc9b6-element-149\" visibility=\"visible\" gadfly:scale=\"1.0\"/>\n",
        "      <path fill=\"none\" d=\"M135.04,5 L 135.04 77.4\" id=\"fig-e05f28ba83fb42898912fc4379ddc9b6-element-150\" visibility=\"hidden\" gadfly:scale=\"1.0\"/>\n",
        "      <path fill=\"none\" d=\"M152.91,5 L 152.91 77.4\" id=\"fig-e05f28ba83fb42898912fc4379ddc9b6-element-151\" visibility=\"hidden\" gadfly:scale=\"1.0\"/>\n",
        "      <path fill=\"none\" d=\"M170.79,5 L 170.79 77.4\" id=\"fig-e05f28ba83fb42898912fc4379ddc9b6-element-152\" visibility=\"hidden\" gadfly:scale=\"1.0\"/>\n",
        "      <path fill=\"none\" d=\"M188.67,5 L 188.67 77.4\" id=\"fig-e05f28ba83fb42898912fc4379ddc9b6-element-153\" visibility=\"hidden\" gadfly:scale=\"1.0\"/>\n",
        "      <path fill=\"none\" d=\"M206.54,5 L 206.54 77.4\" id=\"fig-e05f28ba83fb42898912fc4379ddc9b6-element-154\" visibility=\"hidden\" gadfly:scale=\"1.0\"/>\n",
        "      <path fill=\"none\" d=\"M224.42,5 L 224.42 77.4\" id=\"fig-e05f28ba83fb42898912fc4379ddc9b6-element-155\" visibility=\"hidden\" gadfly:scale=\"1.0\"/>\n",
        "      <path fill=\"none\" d=\"M-61.6,5 L -61.6 77.4\" id=\"fig-e05f28ba83fb42898912fc4379ddc9b6-element-156\" visibility=\"hidden\" gadfly:scale=\"10.0\"/>\n",
        "      <path fill=\"none\" d=\"M-58.02,5 L -58.02 77.4\" id=\"fig-e05f28ba83fb42898912fc4379ddc9b6-element-157\" visibility=\"hidden\" gadfly:scale=\"10.0\"/>\n",
        "      <path fill=\"none\" d=\"M-54.45,5 L -54.45 77.4\" id=\"fig-e05f28ba83fb42898912fc4379ddc9b6-element-158\" visibility=\"hidden\" gadfly:scale=\"10.0\"/>\n",
        "      <path fill=\"none\" d=\"M-50.87,5 L -50.87 77.4\" id=\"fig-e05f28ba83fb42898912fc4379ddc9b6-element-159\" visibility=\"hidden\" gadfly:scale=\"10.0\"/>\n",
        "      <path fill=\"none\" d=\"M-47.3,5 L -47.3 77.4\" id=\"fig-e05f28ba83fb42898912fc4379ddc9b6-element-160\" visibility=\"hidden\" gadfly:scale=\"10.0\"/>\n",
        "      <path fill=\"none\" d=\"M-43.72,5 L -43.72 77.4\" id=\"fig-e05f28ba83fb42898912fc4379ddc9b6-element-161\" visibility=\"hidden\" gadfly:scale=\"10.0\"/>\n",
        "      <path fill=\"none\" d=\"M-40.15,5 L -40.15 77.4\" id=\"fig-e05f28ba83fb42898912fc4379ddc9b6-element-162\" visibility=\"hidden\" gadfly:scale=\"10.0\"/>\n",
        "      <path fill=\"none\" d=\"M-36.57,5 L -36.57 77.4\" id=\"fig-e05f28ba83fb42898912fc4379ddc9b6-element-163\" visibility=\"hidden\" gadfly:scale=\"10.0\"/>\n",
        "      <path fill=\"none\" d=\"M-33,5 L -33 77.4\" id=\"fig-e05f28ba83fb42898912fc4379ddc9b6-element-164\" visibility=\"hidden\" gadfly:scale=\"10.0\"/>\n",
        "      <path fill=\"none\" d=\"M-29.42,5 L -29.42 77.4\" id=\"fig-e05f28ba83fb42898912fc4379ddc9b6-element-165\" visibility=\"hidden\" gadfly:scale=\"10.0\"/>\n",
        "      <path fill=\"none\" d=\"M-25.85,5 L -25.85 77.4\" id=\"fig-e05f28ba83fb42898912fc4379ddc9b6-element-166\" visibility=\"hidden\" gadfly:scale=\"10.0\"/>\n",
        "      <path fill=\"none\" d=\"M-22.27,5 L -22.27 77.4\" id=\"fig-e05f28ba83fb42898912fc4379ddc9b6-element-167\" visibility=\"hidden\" gadfly:scale=\"10.0\"/>\n",
        "      <path fill=\"none\" d=\"M-18.7,5 L -18.7 77.4\" id=\"fig-e05f28ba83fb42898912fc4379ddc9b6-element-168\" visibility=\"hidden\" gadfly:scale=\"10.0\"/>\n",
        "      <path fill=\"none\" d=\"M-15.12,5 L -15.12 77.4\" id=\"fig-e05f28ba83fb42898912fc4379ddc9b6-element-169\" visibility=\"hidden\" gadfly:scale=\"10.0\"/>\n",
        "      <path fill=\"none\" d=\"M-11.55,5 L -11.55 77.4\" id=\"fig-e05f28ba83fb42898912fc4379ddc9b6-element-170\" visibility=\"hidden\" gadfly:scale=\"10.0\"/>\n",
        "      <path fill=\"none\" d=\"M-7.97,5 L -7.97 77.4\" id=\"fig-e05f28ba83fb42898912fc4379ddc9b6-element-171\" visibility=\"hidden\" gadfly:scale=\"10.0\"/>\n",
        "      <path fill=\"none\" d=\"M-4.4,5 L -4.4 77.4\" id=\"fig-e05f28ba83fb42898912fc4379ddc9b6-element-172\" visibility=\"hidden\" gadfly:scale=\"10.0\"/>\n",
        "      <path fill=\"none\" d=\"M-0.82,5 L -0.82 77.4\" id=\"fig-e05f28ba83fb42898912fc4379ddc9b6-element-173\" visibility=\"hidden\" gadfly:scale=\"10.0\"/>\n",
        "      <path fill=\"none\" d=\"M2.76,5 L 2.76 77.4\" id=\"fig-e05f28ba83fb42898912fc4379ddc9b6-element-174\" visibility=\"hidden\" gadfly:scale=\"10.0\"/>\n",
        "      <path fill=\"none\" d=\"M6.33,5 L 6.33 77.4\" id=\"fig-e05f28ba83fb42898912fc4379ddc9b6-element-175\" visibility=\"hidden\" gadfly:scale=\"10.0\"/>\n",
        "      <path fill=\"none\" d=\"M9.91,5 L 9.91 77.4\" id=\"fig-e05f28ba83fb42898912fc4379ddc9b6-element-176\" visibility=\"hidden\" gadfly:scale=\"10.0\"/>\n",
        "      <path fill=\"none\" d=\"M13.48,5 L 13.48 77.4\" id=\"fig-e05f28ba83fb42898912fc4379ddc9b6-element-177\" visibility=\"hidden\" gadfly:scale=\"10.0\"/>\n",
        "      <path fill=\"none\" d=\"M17.06,5 L 17.06 77.4\" id=\"fig-e05f28ba83fb42898912fc4379ddc9b6-element-178\" visibility=\"hidden\" gadfly:scale=\"10.0\"/>\n",
        "      <path fill=\"none\" d=\"M20.63,5 L 20.63 77.4\" id=\"fig-e05f28ba83fb42898912fc4379ddc9b6-element-179\" visibility=\"hidden\" gadfly:scale=\"10.0\"/>\n",
        "      <path fill=\"none\" d=\"M24.21,5 L 24.21 77.4\" id=\"fig-e05f28ba83fb42898912fc4379ddc9b6-element-180\" visibility=\"hidden\" gadfly:scale=\"10.0\"/>\n",
        "      <path fill=\"none\" d=\"M27.78,5 L 27.78 77.4\" id=\"fig-e05f28ba83fb42898912fc4379ddc9b6-element-181\" visibility=\"hidden\" gadfly:scale=\"10.0\"/>\n",
        "      <path fill=\"none\" d=\"M31.36,5 L 31.36 77.4\" id=\"fig-e05f28ba83fb42898912fc4379ddc9b6-element-182\" visibility=\"hidden\" gadfly:scale=\"10.0\"/>\n",
        "      <path fill=\"none\" d=\"M34.93,5 L 34.93 77.4\" id=\"fig-e05f28ba83fb42898912fc4379ddc9b6-element-183\" visibility=\"hidden\" gadfly:scale=\"10.0\"/>\n",
        "      <path fill=\"none\" d=\"M38.51,5 L 38.51 77.4\" id=\"fig-e05f28ba83fb42898912fc4379ddc9b6-element-184\" visibility=\"hidden\" gadfly:scale=\"10.0\"/>\n",
        "      <path fill=\"none\" d=\"M42.08,5 L 42.08 77.4\" id=\"fig-e05f28ba83fb42898912fc4379ddc9b6-element-185\" visibility=\"hidden\" gadfly:scale=\"10.0\"/>\n",
        "      <path fill=\"none\" d=\"M45.66,5 L 45.66 77.4\" id=\"fig-e05f28ba83fb42898912fc4379ddc9b6-element-186\" visibility=\"hidden\" gadfly:scale=\"10.0\"/>\n",
        "      <path fill=\"none\" d=\"M49.23,5 L 49.23 77.4\" id=\"fig-e05f28ba83fb42898912fc4379ddc9b6-element-187\" visibility=\"hidden\" gadfly:scale=\"10.0\"/>\n",
        "      <path fill=\"none\" d=\"M52.81,5 L 52.81 77.4\" id=\"fig-e05f28ba83fb42898912fc4379ddc9b6-element-188\" visibility=\"hidden\" gadfly:scale=\"10.0\"/>\n",
        "      <path fill=\"none\" d=\"M56.38,5 L 56.38 77.4\" id=\"fig-e05f28ba83fb42898912fc4379ddc9b6-element-189\" visibility=\"hidden\" gadfly:scale=\"10.0\"/>\n",
        "      <path fill=\"none\" d=\"M59.96,5 L 59.96 77.4\" id=\"fig-e05f28ba83fb42898912fc4379ddc9b6-element-190\" visibility=\"hidden\" gadfly:scale=\"10.0\"/>\n",
        "      <path fill=\"none\" d=\"M63.53,5 L 63.53 77.4\" id=\"fig-e05f28ba83fb42898912fc4379ddc9b6-element-191\" visibility=\"hidden\" gadfly:scale=\"10.0\"/>\n",
        "      <path fill=\"none\" d=\"M67.11,5 L 67.11 77.4\" id=\"fig-e05f28ba83fb42898912fc4379ddc9b6-element-192\" visibility=\"hidden\" gadfly:scale=\"10.0\"/>\n",
        "      <path fill=\"none\" d=\"M70.68,5 L 70.68 77.4\" id=\"fig-e05f28ba83fb42898912fc4379ddc9b6-element-193\" visibility=\"hidden\" gadfly:scale=\"10.0\"/>\n",
        "      <path fill=\"none\" d=\"M74.26,5 L 74.26 77.4\" id=\"fig-e05f28ba83fb42898912fc4379ddc9b6-element-194\" visibility=\"hidden\" gadfly:scale=\"10.0\"/>\n",
        "      <path fill=\"none\" d=\"M77.83,5 L 77.83 77.4\" id=\"fig-e05f28ba83fb42898912fc4379ddc9b6-element-195\" visibility=\"hidden\" gadfly:scale=\"10.0\"/>\n",
        "      <path fill=\"none\" d=\"M81.41,5 L 81.41 77.4\" id=\"fig-e05f28ba83fb42898912fc4379ddc9b6-element-196\" visibility=\"hidden\" gadfly:scale=\"10.0\"/>\n",
        "      <path fill=\"none\" d=\"M84.98,5 L 84.98 77.4\" id=\"fig-e05f28ba83fb42898912fc4379ddc9b6-element-197\" visibility=\"hidden\" gadfly:scale=\"10.0\"/>\n",
        "      <path fill=\"none\" d=\"M88.56,5 L 88.56 77.4\" id=\"fig-e05f28ba83fb42898912fc4379ddc9b6-element-198\" visibility=\"hidden\" gadfly:scale=\"10.0\"/>\n",
        "      <path fill=\"none\" d=\"M92.14,5 L 92.14 77.4\" id=\"fig-e05f28ba83fb42898912fc4379ddc9b6-element-199\" visibility=\"hidden\" gadfly:scale=\"10.0\"/>\n",
        "      <path fill=\"none\" d=\"M95.71,5 L 95.71 77.4\" id=\"fig-e05f28ba83fb42898912fc4379ddc9b6-element-200\" visibility=\"hidden\" gadfly:scale=\"10.0\"/>\n",
        "      <path fill=\"none\" d=\"M99.29,5 L 99.29 77.4\" id=\"fig-e05f28ba83fb42898912fc4379ddc9b6-element-201\" visibility=\"hidden\" gadfly:scale=\"10.0\"/>\n",
        "      <path fill=\"none\" d=\"M102.86,5 L 102.86 77.4\" id=\"fig-e05f28ba83fb42898912fc4379ddc9b6-element-202\" visibility=\"hidden\" gadfly:scale=\"10.0\"/>\n",
        "      <path fill=\"none\" d=\"M106.44,5 L 106.44 77.4\" id=\"fig-e05f28ba83fb42898912fc4379ddc9b6-element-203\" visibility=\"hidden\" gadfly:scale=\"10.0\"/>\n",
        "      <path fill=\"none\" d=\"M110.01,5 L 110.01 77.4\" id=\"fig-e05f28ba83fb42898912fc4379ddc9b6-element-204\" visibility=\"hidden\" gadfly:scale=\"10.0\"/>\n",
        "      <path fill=\"none\" d=\"M113.59,5 L 113.59 77.4\" id=\"fig-e05f28ba83fb42898912fc4379ddc9b6-element-205\" visibility=\"hidden\" gadfly:scale=\"10.0\"/>\n",
        "      <path fill=\"none\" d=\"M117.16,5 L 117.16 77.4\" id=\"fig-e05f28ba83fb42898912fc4379ddc9b6-element-206\" visibility=\"hidden\" gadfly:scale=\"10.0\"/>\n",
        "      <path fill=\"none\" d=\"M120.74,5 L 120.74 77.4\" id=\"fig-e05f28ba83fb42898912fc4379ddc9b6-element-207\" visibility=\"hidden\" gadfly:scale=\"10.0\"/>\n",
        "      <path fill=\"none\" d=\"M124.31,5 L 124.31 77.4\" id=\"fig-e05f28ba83fb42898912fc4379ddc9b6-element-208\" visibility=\"hidden\" gadfly:scale=\"10.0\"/>\n",
        "      <path fill=\"none\" d=\"M127.89,5 L 127.89 77.4\" id=\"fig-e05f28ba83fb42898912fc4379ddc9b6-element-209\" visibility=\"hidden\" gadfly:scale=\"10.0\"/>\n",
        "      <path fill=\"none\" d=\"M131.46,5 L 131.46 77.4\" id=\"fig-e05f28ba83fb42898912fc4379ddc9b6-element-210\" visibility=\"hidden\" gadfly:scale=\"10.0\"/>\n",
        "      <path fill=\"none\" d=\"M135.04,5 L 135.04 77.4\" id=\"fig-e05f28ba83fb42898912fc4379ddc9b6-element-211\" visibility=\"hidden\" gadfly:scale=\"10.0\"/>\n",
        "      <path fill=\"none\" d=\"M138.61,5 L 138.61 77.4\" id=\"fig-e05f28ba83fb42898912fc4379ddc9b6-element-212\" visibility=\"hidden\" gadfly:scale=\"10.0\"/>\n",
        "      <path fill=\"none\" d=\"M142.19,5 L 142.19 77.4\" id=\"fig-e05f28ba83fb42898912fc4379ddc9b6-element-213\" visibility=\"hidden\" gadfly:scale=\"10.0\"/>\n",
        "      <path fill=\"none\" d=\"M145.76,5 L 145.76 77.4\" id=\"fig-e05f28ba83fb42898912fc4379ddc9b6-element-214\" visibility=\"hidden\" gadfly:scale=\"10.0\"/>\n",
        "      <path fill=\"none\" d=\"M149.34,5 L 149.34 77.4\" id=\"fig-e05f28ba83fb42898912fc4379ddc9b6-element-215\" visibility=\"hidden\" gadfly:scale=\"10.0\"/>\n",
        "      <path fill=\"none\" d=\"M152.91,5 L 152.91 77.4\" id=\"fig-e05f28ba83fb42898912fc4379ddc9b6-element-216\" visibility=\"hidden\" gadfly:scale=\"10.0\"/>\n",
        "      <path fill=\"none\" d=\"M156.49,5 L 156.49 77.4\" id=\"fig-e05f28ba83fb42898912fc4379ddc9b6-element-217\" visibility=\"hidden\" gadfly:scale=\"10.0\"/>\n",
        "      <path fill=\"none\" d=\"M160.06,5 L 160.06 77.4\" id=\"fig-e05f28ba83fb42898912fc4379ddc9b6-element-218\" visibility=\"hidden\" gadfly:scale=\"10.0\"/>\n",
        "      <path fill=\"none\" d=\"M163.64,5 L 163.64 77.4\" id=\"fig-e05f28ba83fb42898912fc4379ddc9b6-element-219\" visibility=\"hidden\" gadfly:scale=\"10.0\"/>\n",
        "      <path fill=\"none\" d=\"M167.21,5 L 167.21 77.4\" id=\"fig-e05f28ba83fb42898912fc4379ddc9b6-element-220\" visibility=\"hidden\" gadfly:scale=\"10.0\"/>\n",
        "      <path fill=\"none\" d=\"M170.79,5 L 170.79 77.4\" id=\"fig-e05f28ba83fb42898912fc4379ddc9b6-element-221\" visibility=\"hidden\" gadfly:scale=\"10.0\"/>\n",
        "      <path fill=\"none\" d=\"M174.36,5 L 174.36 77.4\" id=\"fig-e05f28ba83fb42898912fc4379ddc9b6-element-222\" visibility=\"hidden\" gadfly:scale=\"10.0\"/>\n",
        "      <path fill=\"none\" d=\"M177.94,5 L 177.94 77.4\" id=\"fig-e05f28ba83fb42898912fc4379ddc9b6-element-223\" visibility=\"hidden\" gadfly:scale=\"10.0\"/>\n",
        "      <path fill=\"none\" d=\"M181.51,5 L 181.51 77.4\" id=\"fig-e05f28ba83fb42898912fc4379ddc9b6-element-224\" visibility=\"hidden\" gadfly:scale=\"10.0\"/>\n",
        "      <path fill=\"none\" d=\"M185.09,5 L 185.09 77.4\" id=\"fig-e05f28ba83fb42898912fc4379ddc9b6-element-225\" visibility=\"hidden\" gadfly:scale=\"10.0\"/>\n",
        "      <path fill=\"none\" d=\"M188.67,5 L 188.67 77.4\" id=\"fig-e05f28ba83fb42898912fc4379ddc9b6-element-226\" visibility=\"hidden\" gadfly:scale=\"10.0\"/>\n",
        "      <path fill=\"none\" d=\"M192.24,5 L 192.24 77.4\" id=\"fig-e05f28ba83fb42898912fc4379ddc9b6-element-227\" visibility=\"hidden\" gadfly:scale=\"10.0\"/>\n",
        "      <path fill=\"none\" d=\"M195.82,5 L 195.82 77.4\" id=\"fig-e05f28ba83fb42898912fc4379ddc9b6-element-228\" visibility=\"hidden\" gadfly:scale=\"10.0\"/>\n",
        "      <path fill=\"none\" d=\"M199.39,5 L 199.39 77.4\" id=\"fig-e05f28ba83fb42898912fc4379ddc9b6-element-229\" visibility=\"hidden\" gadfly:scale=\"10.0\"/>\n",
        "      <path fill=\"none\" d=\"M202.97,5 L 202.97 77.4\" id=\"fig-e05f28ba83fb42898912fc4379ddc9b6-element-230\" visibility=\"hidden\" gadfly:scale=\"10.0\"/>\n",
        "      <path fill=\"none\" d=\"M206.54,5 L 206.54 77.4\" id=\"fig-e05f28ba83fb42898912fc4379ddc9b6-element-231\" visibility=\"hidden\" gadfly:scale=\"10.0\"/>\n",
        "      <path fill=\"none\" d=\"M-61.6,5 L -61.6 77.4\" id=\"fig-e05f28ba83fb42898912fc4379ddc9b6-element-232\" visibility=\"hidden\" gadfly:scale=\"0.5\"/>\n",
        "      <path fill=\"none\" d=\"M9.91,5 L 9.91 77.4\" id=\"fig-e05f28ba83fb42898912fc4379ddc9b6-element-233\" visibility=\"hidden\" gadfly:scale=\"0.5\"/>\n",
        "      <path fill=\"none\" d=\"M81.41,5 L 81.41 77.4\" id=\"fig-e05f28ba83fb42898912fc4379ddc9b6-element-234\" visibility=\"hidden\" gadfly:scale=\"0.5\"/>\n",
        "      <path fill=\"none\" d=\"M152.91,5 L 152.91 77.4\" id=\"fig-e05f28ba83fb42898912fc4379ddc9b6-element-235\" visibility=\"hidden\" gadfly:scale=\"0.5\"/>\n",
        "      <path fill=\"none\" d=\"M224.42,5 L 224.42 77.4\" id=\"fig-e05f28ba83fb42898912fc4379ddc9b6-element-236\" visibility=\"hidden\" gadfly:scale=\"0.5\"/>\n",
        "      <path fill=\"none\" d=\"M-61.6,5 L -61.6 77.4\" id=\"fig-e05f28ba83fb42898912fc4379ddc9b6-element-237\" visibility=\"hidden\" gadfly:scale=\"5.0\"/>\n",
        "      <path fill=\"none\" d=\"M-54.45,5 L -54.45 77.4\" id=\"fig-e05f28ba83fb42898912fc4379ddc9b6-element-238\" visibility=\"hidden\" gadfly:scale=\"5.0\"/>\n",
        "      <path fill=\"none\" d=\"M-47.3,5 L -47.3 77.4\" id=\"fig-e05f28ba83fb42898912fc4379ddc9b6-element-239\" visibility=\"hidden\" gadfly:scale=\"5.0\"/>\n",
        "      <path fill=\"none\" d=\"M-40.15,5 L -40.15 77.4\" id=\"fig-e05f28ba83fb42898912fc4379ddc9b6-element-240\" visibility=\"hidden\" gadfly:scale=\"5.0\"/>\n",
        "      <path fill=\"none\" d=\"M-33,5 L -33 77.4\" id=\"fig-e05f28ba83fb42898912fc4379ddc9b6-element-241\" visibility=\"hidden\" gadfly:scale=\"5.0\"/>\n",
        "      <path fill=\"none\" d=\"M-25.85,5 L -25.85 77.4\" id=\"fig-e05f28ba83fb42898912fc4379ddc9b6-element-242\" visibility=\"hidden\" gadfly:scale=\"5.0\"/>\n",
        "      <path fill=\"none\" d=\"M-18.7,5 L -18.7 77.4\" id=\"fig-e05f28ba83fb42898912fc4379ddc9b6-element-243\" visibility=\"hidden\" gadfly:scale=\"5.0\"/>\n",
        "      <path fill=\"none\" d=\"M-11.55,5 L -11.55 77.4\" id=\"fig-e05f28ba83fb42898912fc4379ddc9b6-element-244\" visibility=\"hidden\" gadfly:scale=\"5.0\"/>\n",
        "      <path fill=\"none\" d=\"M-4.4,5 L -4.4 77.4\" id=\"fig-e05f28ba83fb42898912fc4379ddc9b6-element-245\" visibility=\"hidden\" gadfly:scale=\"5.0\"/>\n",
        "      <path fill=\"none\" d=\"M2.76,5 L 2.76 77.4\" id=\"fig-e05f28ba83fb42898912fc4379ddc9b6-element-246\" visibility=\"hidden\" gadfly:scale=\"5.0\"/>\n",
        "      <path fill=\"none\" d=\"M9.91,5 L 9.91 77.4\" id=\"fig-e05f28ba83fb42898912fc4379ddc9b6-element-247\" visibility=\"hidden\" gadfly:scale=\"5.0\"/>\n",
        "      <path fill=\"none\" d=\"M17.06,5 L 17.06 77.4\" id=\"fig-e05f28ba83fb42898912fc4379ddc9b6-element-248\" visibility=\"hidden\" gadfly:scale=\"5.0\"/>\n",
        "      <path fill=\"none\" d=\"M24.21,5 L 24.21 77.4\" id=\"fig-e05f28ba83fb42898912fc4379ddc9b6-element-249\" visibility=\"hidden\" gadfly:scale=\"5.0\"/>\n",
        "      <path fill=\"none\" d=\"M31.36,5 L 31.36 77.4\" id=\"fig-e05f28ba83fb42898912fc4379ddc9b6-element-250\" visibility=\"hidden\" gadfly:scale=\"5.0\"/>\n",
        "      <path fill=\"none\" d=\"M38.51,5 L 38.51 77.4\" id=\"fig-e05f28ba83fb42898912fc4379ddc9b6-element-251\" visibility=\"hidden\" gadfly:scale=\"5.0\"/>\n",
        "      <path fill=\"none\" d=\"M45.66,5 L 45.66 77.4\" id=\"fig-e05f28ba83fb42898912fc4379ddc9b6-element-252\" visibility=\"hidden\" gadfly:scale=\"5.0\"/>\n",
        "      <path fill=\"none\" d=\"M52.81,5 L 52.81 77.4\" id=\"fig-e05f28ba83fb42898912fc4379ddc9b6-element-253\" visibility=\"hidden\" gadfly:scale=\"5.0\"/>\n",
        "      <path fill=\"none\" d=\"M59.96,5 L 59.96 77.4\" id=\"fig-e05f28ba83fb42898912fc4379ddc9b6-element-254\" visibility=\"hidden\" gadfly:scale=\"5.0\"/>\n",
        "      <path fill=\"none\" d=\"M67.11,5 L 67.11 77.4\" id=\"fig-e05f28ba83fb42898912fc4379ddc9b6-element-255\" visibility=\"hidden\" gadfly:scale=\"5.0\"/>\n",
        "      <path fill=\"none\" d=\"M74.26,5 L 74.26 77.4\" id=\"fig-e05f28ba83fb42898912fc4379ddc9b6-element-256\" visibility=\"hidden\" gadfly:scale=\"5.0\"/>\n",
        "      <path fill=\"none\" d=\"M81.41,5 L 81.41 77.4\" id=\"fig-e05f28ba83fb42898912fc4379ddc9b6-element-257\" visibility=\"hidden\" gadfly:scale=\"5.0\"/>\n",
        "      <path fill=\"none\" d=\"M88.56,5 L 88.56 77.4\" id=\"fig-e05f28ba83fb42898912fc4379ddc9b6-element-258\" visibility=\"hidden\" gadfly:scale=\"5.0\"/>\n",
        "      <path fill=\"none\" d=\"M95.71,5 L 95.71 77.4\" id=\"fig-e05f28ba83fb42898912fc4379ddc9b6-element-259\" visibility=\"hidden\" gadfly:scale=\"5.0\"/>\n",
        "      <path fill=\"none\" d=\"M102.86,5 L 102.86 77.4\" id=\"fig-e05f28ba83fb42898912fc4379ddc9b6-element-260\" visibility=\"hidden\" gadfly:scale=\"5.0\"/>\n",
        "      <path fill=\"none\" d=\"M110.01,5 L 110.01 77.4\" id=\"fig-e05f28ba83fb42898912fc4379ddc9b6-element-261\" visibility=\"hidden\" gadfly:scale=\"5.0\"/>\n",
        "      <path fill=\"none\" d=\"M117.16,5 L 117.16 77.4\" id=\"fig-e05f28ba83fb42898912fc4379ddc9b6-element-262\" visibility=\"hidden\" gadfly:scale=\"5.0\"/>\n",
        "      <path fill=\"none\" d=\"M124.31,5 L 124.31 77.4\" id=\"fig-e05f28ba83fb42898912fc4379ddc9b6-element-263\" visibility=\"hidden\" gadfly:scale=\"5.0\"/>\n",
        "      <path fill=\"none\" d=\"M131.46,5 L 131.46 77.4\" id=\"fig-e05f28ba83fb42898912fc4379ddc9b6-element-264\" visibility=\"hidden\" gadfly:scale=\"5.0\"/>\n",
        "      <path fill=\"none\" d=\"M138.61,5 L 138.61 77.4\" id=\"fig-e05f28ba83fb42898912fc4379ddc9b6-element-265\" visibility=\"hidden\" gadfly:scale=\"5.0\"/>\n",
        "      <path fill=\"none\" d=\"M145.76,5 L 145.76 77.4\" id=\"fig-e05f28ba83fb42898912fc4379ddc9b6-element-266\" visibility=\"hidden\" gadfly:scale=\"5.0\"/>\n",
        "      <path fill=\"none\" d=\"M152.91,5 L 152.91 77.4\" id=\"fig-e05f28ba83fb42898912fc4379ddc9b6-element-267\" visibility=\"hidden\" gadfly:scale=\"5.0\"/>\n",
        "      <path fill=\"none\" d=\"M160.06,5 L 160.06 77.4\" id=\"fig-e05f28ba83fb42898912fc4379ddc9b6-element-268\" visibility=\"hidden\" gadfly:scale=\"5.0\"/>\n",
        "      <path fill=\"none\" d=\"M167.21,5 L 167.21 77.4\" id=\"fig-e05f28ba83fb42898912fc4379ddc9b6-element-269\" visibility=\"hidden\" gadfly:scale=\"5.0\"/>\n",
        "      <path fill=\"none\" d=\"M174.36,5 L 174.36 77.4\" id=\"fig-e05f28ba83fb42898912fc4379ddc9b6-element-270\" visibility=\"hidden\" gadfly:scale=\"5.0\"/>\n",
        "      <path fill=\"none\" d=\"M181.51,5 L 181.51 77.4\" id=\"fig-e05f28ba83fb42898912fc4379ddc9b6-element-271\" visibility=\"hidden\" gadfly:scale=\"5.0\"/>\n",
        "      <path fill=\"none\" d=\"M188.67,5 L 188.67 77.4\" id=\"fig-e05f28ba83fb42898912fc4379ddc9b6-element-272\" visibility=\"hidden\" gadfly:scale=\"5.0\"/>\n",
        "      <path fill=\"none\" d=\"M195.82,5 L 195.82 77.4\" id=\"fig-e05f28ba83fb42898912fc4379ddc9b6-element-273\" visibility=\"hidden\" gadfly:scale=\"5.0\"/>\n",
        "      <path fill=\"none\" d=\"M202.97,5 L 202.97 77.4\" id=\"fig-e05f28ba83fb42898912fc4379ddc9b6-element-274\" visibility=\"hidden\" gadfly:scale=\"5.0\"/>\n",
        "      <path fill=\"none\" d=\"M210.12,5 L 210.12 77.4\" id=\"fig-e05f28ba83fb42898912fc4379ddc9b6-element-275\" visibility=\"hidden\" gadfly:scale=\"5.0\"/>\n",
        "    </g>\n",
        "    <g class=\"plotpanel\" id=\"fig-e05f28ba83fb42898912fc4379ddc9b6-element-276\">\n",
        "      <g stroke-width=\"1.06\" fill=\"none\" class=\"geometry color_10X_MMSN\" stroke=\"#FF5EA0\" id=\"fig-e05f28ba83fb42898912fc4379ddc9b6-element-277\">\n",
        "        <path fill=\"none\" d=\"M34.9,17.25 L 36.35 17.84 37.81 18.44 39.27 19.04 40.73 19.64 42.19 20.24 43.65 20.84 45.11 21.43 46.57 22.03 48.03 22.63 49.49 23.23 50.95 23.83 52.41 24.42 53.87 25.02 55.32 25.62 56.78 26.22 58.24 26.82 59.7 27.42 61.16 28.01 62.62 28.61 64.08 29.21 65.54 29.81 67 30.41 68.46 31.01 69.92 31.6 71.38 32.2 72.84 32.8 74.3 33.4 75.75 34 77.21 34.6 78.67 35.19 80.13 35.79 81.59 36.39 83.05 36.99 84.51 37.59 85.97 38.19 87.43 38.78 88.89 39.38 90.35 39.98 91.81 40.58 93.27 41.18 94.72 41.77 96.18 42.37 97.64 42.97 99.1 43.57 100.56 44.17 102.02 44.77 103.48 45.36 104.94 45.96\" id=\"fig-e05f28ba83fb42898912fc4379ddc9b6-element-278\"/>\n",
        "      </g>\n",
        "      <g stroke-width=\"1.06\" fill=\"none\" class=\"geometry color_MMSN\" stroke=\"#D4CA3A\" id=\"fig-e05f28ba83fb42898912fc4379ddc9b6-element-279\">\n",
        "        <path fill=\"none\" d=\"M34.9,27.02 L 36.35 27.62 37.81 28.21 39.27 28.81 40.73 29.41 42.19 30.01 43.65 30.61 45.11 31.21 46.57 31.8 48.03 32.4 49.49 33 50.95 33.6 52.41 34.2 53.87 34.79 55.32 35.39 56.78 35.99 58.24 36.59 59.7 37.19 61.16 37.79 62.62 38.38 64.08 38.98 65.54 39.58 67 40.18 68.46 40.78 69.92 41.38 71.38 41.97 72.84 42.57 74.3 43.17 75.75 43.77 77.21 44.37 78.67 44.97 80.13 45.56 81.59 46.16 83.05 46.76 84.51 47.36 85.97 47.96 87.43 48.56 88.89 49.15 90.35 49.75 91.81 50.35 93.27 50.95 94.72 51.55 96.18 52.15 97.64 52.74 99.1 53.34 100.56 53.94 102.02 54.54 103.48 55.14 104.94 55.73\" id=\"fig-e05f28ba83fb42898912fc4379ddc9b6-element-280\"/>\n",
        "      </g>\n",
        "      <g class=\"geometry\" id=\"fig-e05f28ba83fb42898912fc4379ddc9b6-element-281\">\n",
        "        <g class=\"color_Simulation\" stroke=\"#FFFFFF\" stroke-width=\"0.3\" fill=\"#00BFFF\" id=\"fig-e05f28ba83fb42898912fc4379ddc9b6-element-282\">\n",
        "          <circle cx=\"34.9\" cy=\"36.96\" r=\"0.9\" id=\"fig-e05f28ba83fb42898912fc4379ddc9b6-element-283\"/>\n",
        "          <circle cx=\"36.35\" cy=\"37.72\" r=\"0.9\" id=\"fig-e05f28ba83fb42898912fc4379ddc9b6-element-284\"/>\n",
        "          <circle cx=\"37.81\" cy=\"38.42\" r=\"0.9\" id=\"fig-e05f28ba83fb42898912fc4379ddc9b6-element-285\"/>\n",
        "          <circle cx=\"39.27\" cy=\"39.04\" r=\"0.9\" id=\"fig-e05f28ba83fb42898912fc4379ddc9b6-element-286\"/>\n",
        "          <circle cx=\"40.73\" cy=\"39.62\" r=\"0.9\" id=\"fig-e05f28ba83fb42898912fc4379ddc9b6-element-287\"/>\n",
        "          <circle cx=\"42.19\" cy=\"40.22\" r=\"0.9\" id=\"fig-e05f28ba83fb42898912fc4379ddc9b6-element-288\"/>\n",
        "          <circle cx=\"43.65\" cy=\"40.77\" r=\"0.9\" id=\"fig-e05f28ba83fb42898912fc4379ddc9b6-element-289\"/>\n",
        "          <circle cx=\"45.11\" cy=\"41.44\" r=\"0.9\" id=\"fig-e05f28ba83fb42898912fc4379ddc9b6-element-290\"/>\n",
        "          <circle cx=\"46.57\" cy=\"41.85\" r=\"0.9\" id=\"fig-e05f28ba83fb42898912fc4379ddc9b6-element-291\"/>\n",
        "          <circle cx=\"48.03\" cy=\"42.62\" r=\"0.9\" id=\"fig-e05f28ba83fb42898912fc4379ddc9b6-element-292\"/>\n",
        "          <circle cx=\"49.49\" cy=\"43.07\" r=\"0.9\" id=\"fig-e05f28ba83fb42898912fc4379ddc9b6-element-293\"/>\n",
        "          <circle cx=\"50.95\" cy=\"43.75\" r=\"0.9\" id=\"fig-e05f28ba83fb42898912fc4379ddc9b6-element-294\"/>\n",
        "          <circle cx=\"52.41\" cy=\"44.33\" r=\"0.9\" id=\"fig-e05f28ba83fb42898912fc4379ddc9b6-element-295\"/>\n",
        "          <circle cx=\"53.87\" cy=\"44.77\" r=\"0.9\" id=\"fig-e05f28ba83fb42898912fc4379ddc9b6-element-296\"/>\n",
        "          <circle cx=\"55.32\" cy=\"45.48\" r=\"0.9\" id=\"fig-e05f28ba83fb42898912fc4379ddc9b6-element-297\"/>\n",
        "          <circle cx=\"56.78\" cy=\"46.03\" r=\"0.9\" id=\"fig-e05f28ba83fb42898912fc4379ddc9b6-element-298\"/>\n",
        "          <circle cx=\"58.24\" cy=\"46.65\" r=\"0.9\" id=\"fig-e05f28ba83fb42898912fc4379ddc9b6-element-299\"/>\n",
        "          <circle cx=\"59.7\" cy=\"47.21\" r=\"0.9\" id=\"fig-e05f28ba83fb42898912fc4379ddc9b6-element-300\"/>\n",
        "          <circle cx=\"61.16\" cy=\"47.88\" r=\"0.9\" id=\"fig-e05f28ba83fb42898912fc4379ddc9b6-element-301\"/>\n",
        "          <circle cx=\"62.62\" cy=\"48.35\" r=\"0.9\" id=\"fig-e05f28ba83fb42898912fc4379ddc9b6-element-302\"/>\n",
        "          <circle cx=\"64.08\" cy=\"49.01\" r=\"0.9\" id=\"fig-e05f28ba83fb42898912fc4379ddc9b6-element-303\"/>\n",
        "          <circle cx=\"65.54\" cy=\"49.63\" r=\"0.9\" id=\"fig-e05f28ba83fb42898912fc4379ddc9b6-element-304\"/>\n",
        "          <circle cx=\"67\" cy=\"50.25\" r=\"0.9\" id=\"fig-e05f28ba83fb42898912fc4379ddc9b6-element-305\"/>\n",
        "          <circle cx=\"68.46\" cy=\"50.83\" r=\"0.9\" id=\"fig-e05f28ba83fb42898912fc4379ddc9b6-element-306\"/>\n",
        "          <circle cx=\"69.92\" cy=\"51.5\" r=\"0.9\" id=\"fig-e05f28ba83fb42898912fc4379ddc9b6-element-307\"/>\n",
        "          <circle cx=\"71.38\" cy=\"52.1\" r=\"0.9\" id=\"fig-e05f28ba83fb42898912fc4379ddc9b6-element-308\"/>\n",
        "          <circle cx=\"72.84\" cy=\"52.67\" r=\"0.9\" id=\"fig-e05f28ba83fb42898912fc4379ddc9b6-element-309\"/>\n",
        "          <circle cx=\"74.3\" cy=\"53.18\" r=\"0.9\" id=\"fig-e05f28ba83fb42898912fc4379ddc9b6-element-310\"/>\n",
        "          <circle cx=\"75.75\" cy=\"53.7\" r=\"0.9\" id=\"fig-e05f28ba83fb42898912fc4379ddc9b6-element-311\"/>\n",
        "          <circle cx=\"77.21\" cy=\"54.41\" r=\"0.9\" id=\"fig-e05f28ba83fb42898912fc4379ddc9b6-element-312\"/>\n",
        "          <circle cx=\"78.67\" cy=\"55.09\" r=\"0.9\" id=\"fig-e05f28ba83fb42898912fc4379ddc9b6-element-313\"/>\n",
        "          <circle cx=\"80.13\" cy=\"55.75\" r=\"0.9\" id=\"fig-e05f28ba83fb42898912fc4379ddc9b6-element-314\"/>\n",
        "          <circle cx=\"81.59\" cy=\"56.22\" r=\"0.9\" id=\"fig-e05f28ba83fb42898912fc4379ddc9b6-element-315\"/>\n",
        "          <circle cx=\"83.05\" cy=\"56.86\" r=\"0.9\" id=\"fig-e05f28ba83fb42898912fc4379ddc9b6-element-316\"/>\n",
        "          <circle cx=\"84.51\" cy=\"57.42\" r=\"0.9\" id=\"fig-e05f28ba83fb42898912fc4379ddc9b6-element-317\"/>\n",
        "          <circle cx=\"85.97\" cy=\"58.05\" r=\"0.9\" id=\"fig-e05f28ba83fb42898912fc4379ddc9b6-element-318\"/>\n",
        "          <circle cx=\"87.43\" cy=\"58.62\" r=\"0.9\" id=\"fig-e05f28ba83fb42898912fc4379ddc9b6-element-319\"/>\n",
        "          <circle cx=\"88.89\" cy=\"59.22\" r=\"0.9\" id=\"fig-e05f28ba83fb42898912fc4379ddc9b6-element-320\"/>\n",
        "          <circle cx=\"90.35\" cy=\"59.83\" r=\"0.9\" id=\"fig-e05f28ba83fb42898912fc4379ddc9b6-element-321\"/>\n",
        "          <circle cx=\"91.81\" cy=\"60.41\" r=\"0.9\" id=\"fig-e05f28ba83fb42898912fc4379ddc9b6-element-322\"/>\n",
        "          <circle cx=\"93.27\" cy=\"61.01\" r=\"0.9\" id=\"fig-e05f28ba83fb42898912fc4379ddc9b6-element-323\"/>\n",
        "          <circle cx=\"94.72\" cy=\"61.61\" r=\"0.9\" id=\"fig-e05f28ba83fb42898912fc4379ddc9b6-element-324\"/>\n",
        "          <circle cx=\"96.18\" cy=\"62.25\" r=\"0.9\" id=\"fig-e05f28ba83fb42898912fc4379ddc9b6-element-325\"/>\n",
        "          <circle cx=\"97.64\" cy=\"62.83\" r=\"0.9\" id=\"fig-e05f28ba83fb42898912fc4379ddc9b6-element-326\"/>\n",
        "          <circle cx=\"99.1\" cy=\"63.4\" r=\"0.9\" id=\"fig-e05f28ba83fb42898912fc4379ddc9b6-element-327\"/>\n",
        "          <circle cx=\"100.56\" cy=\"64.02\" r=\"0.9\" id=\"fig-e05f28ba83fb42898912fc4379ddc9b6-element-328\"/>\n",
        "          <circle cx=\"102.02\" cy=\"64.59\" r=\"0.9\" id=\"fig-e05f28ba83fb42898912fc4379ddc9b6-element-329\"/>\n",
        "          <circle cx=\"103.48\" cy=\"65.18\" r=\"0.9\" id=\"fig-e05f28ba83fb42898912fc4379ddc9b6-element-330\"/>\n",
        "          <circle cx=\"104.94\" cy=\"65.86\" r=\"0.9\" id=\"fig-e05f28ba83fb42898912fc4379ddc9b6-element-331\"/>\n",
        "        </g>\n",
        "      </g>\n",
        "    </g>\n",
        "    <g opacity=\"0\" class=\"guide zoomslider\" stroke=\"none\" id=\"fig-e05f28ba83fb42898912fc4379ddc9b6-element-332\">\n",
        "      <g fill=\"#EAEAEA\" stroke-width=\"0.3\" stroke-opacity=\"0\" stroke=\"#6A6A6A\" id=\"fig-e05f28ba83fb42898912fc4379ddc9b6-element-333\">\n",
        "        <rect x=\"112.16\" y=\"8\" width=\"4\" height=\"4\" id=\"fig-e05f28ba83fb42898912fc4379ddc9b6-element-334\"/>\n",
        "        <g class=\"button_logo\" fill=\"#6A6A6A\" id=\"fig-e05f28ba83fb42898912fc4379ddc9b6-element-335\">\n",
        "          <path d=\"M112.96,9.6 L 113.76 9.6 113.76 8.8 114.56 8.8 114.56 9.6 115.36 9.6 115.36 10.4 114.56 10.4 114.56 11.2 113.76 11.2 113.76 10.4 112.96 10.4 z\" id=\"fig-e05f28ba83fb42898912fc4379ddc9b6-element-336\"/>\n",
        "        </g>\n",
        "      </g>\n",
        "      <g fill=\"#EAEAEA\" id=\"fig-e05f28ba83fb42898912fc4379ddc9b6-element-337\">\n",
        "        <rect x=\"92.66\" y=\"8\" width=\"19\" height=\"4\" id=\"fig-e05f28ba83fb42898912fc4379ddc9b6-element-338\"/>\n",
        "      </g>\n",
        "      <g class=\"zoomslider_thumb\" fill=\"#6A6A6A\" id=\"fig-e05f28ba83fb42898912fc4379ddc9b6-element-339\">\n",
        "        <rect x=\"101.16\" y=\"8\" width=\"2\" height=\"4\" id=\"fig-e05f28ba83fb42898912fc4379ddc9b6-element-340\"/>\n",
        "      </g>\n",
        "      <g fill=\"#EAEAEA\" stroke-width=\"0.3\" stroke-opacity=\"0\" stroke=\"#6A6A6A\" id=\"fig-e05f28ba83fb42898912fc4379ddc9b6-element-341\">\n",
        "        <rect x=\"88.16\" y=\"8\" width=\"4\" height=\"4\" id=\"fig-e05f28ba83fb42898912fc4379ddc9b6-element-342\"/>\n",
        "        <g class=\"button_logo\" fill=\"#6A6A6A\" id=\"fig-e05f28ba83fb42898912fc4379ddc9b6-element-343\">\n",
        "          <path d=\"M88.96,9.6 L 91.36 9.6 91.36 10.4 88.96 10.4 z\" id=\"fig-e05f28ba83fb42898912fc4379ddc9b6-element-344\"/>\n",
        "        </g>\n",
        "      </g>\n",
        "    </g>\n",
        "  </g>\n",
        "  <g class=\"guide ylabels\" font-size=\"4.23\" font-family=\"'PT Sans Caption','Helvetica Neue','Helvetica',sans-serif\" fill=\"#FFFFFF\" id=\"fig-e05f28ba83fb42898912fc4379ddc9b6-element-345\">\n",
        "    <text x=\"24.78\" y=\"173.12\" text-anchor=\"end\" dy=\"0.35em\" id=\"fig-e05f28ba83fb42898912fc4379ddc9b6-element-346\" visibility=\"hidden\" gadfly:scale=\"1.0\">10<tspan style=\"dominant-baseline:inherit\" dy=\"-0.6em\" font-size=\"83.333333%\">-12</tspan></text>\n",
        "    <text x=\"24.78\" y=\"153.58\" text-anchor=\"end\" dy=\"0.35em\" id=\"fig-e05f28ba83fb42898912fc4379ddc9b6-element-347\" visibility=\"hidden\" gadfly:scale=\"1.0\">10<tspan style=\"dominant-baseline:inherit\" dy=\"-0.6em\" font-size=\"83.333333%\">-10</tspan></text>\n",
        "    <text x=\"24.78\" y=\"134.03\" text-anchor=\"end\" dy=\"0.35em\" id=\"fig-e05f28ba83fb42898912fc4379ddc9b6-element-348\" visibility=\"hidden\" gadfly:scale=\"1.0\">10<tspan style=\"dominant-baseline:inherit\" dy=\"-0.6em\" font-size=\"83.333333%\">-8</tspan></text>\n",
        "    <text x=\"24.78\" y=\"114.49\" text-anchor=\"end\" dy=\"0.35em\" id=\"fig-e05f28ba83fb42898912fc4379ddc9b6-element-349\" visibility=\"hidden\" gadfly:scale=\"1.0\">10<tspan style=\"dominant-baseline:inherit\" dy=\"-0.6em\" font-size=\"83.333333%\">-6</tspan></text>\n",
        "    <text x=\"24.78\" y=\"94.95\" text-anchor=\"end\" dy=\"0.35em\" id=\"fig-e05f28ba83fb42898912fc4379ddc9b6-element-350\" visibility=\"hidden\" gadfly:scale=\"1.0\">10<tspan style=\"dominant-baseline:inherit\" dy=\"-0.6em\" font-size=\"83.333333%\">-4</tspan></text>\n",
        "    <text x=\"24.78\" y=\"75.4\" text-anchor=\"end\" dy=\"0.35em\" id=\"fig-e05f28ba83fb42898912fc4379ddc9b6-element-351\" visibility=\"visible\" gadfly:scale=\"1.0\">10<tspan style=\"dominant-baseline:inherit\" dy=\"-0.6em\" font-size=\"83.333333%\">-2</tspan></text>\n",
        "    <text x=\"24.78\" y=\"55.86\" text-anchor=\"end\" dy=\"0.35em\" id=\"fig-e05f28ba83fb42898912fc4379ddc9b6-element-352\" visibility=\"visible\" gadfly:scale=\"1.0\">10<tspan style=\"dominant-baseline:inherit\" dy=\"-0.6em\" font-size=\"83.333333%\">0</tspan></text>\n",
        "    <text x=\"24.78\" y=\"36.32\" text-anchor=\"end\" dy=\"0.35em\" id=\"fig-e05f28ba83fb42898912fc4379ddc9b6-element-353\" visibility=\"visible\" gadfly:scale=\"1.0\">10<tspan style=\"dominant-baseline:inherit\" dy=\"-0.6em\" font-size=\"83.333333%\">2</tspan></text>\n",
        "    <text x=\"24.78\" y=\"16.77\" text-anchor=\"end\" dy=\"0.35em\" id=\"fig-e05f28ba83fb42898912fc4379ddc9b6-element-354\" visibility=\"visible\" gadfly:scale=\"1.0\">10<tspan style=\"dominant-baseline:inherit\" dy=\"-0.6em\" font-size=\"83.333333%\">4</tspan></text>\n",
        "    <text x=\"24.78\" y=\"-2.77\" text-anchor=\"end\" dy=\"0.35em\" id=\"fig-e05f28ba83fb42898912fc4379ddc9b6-element-355\" visibility=\"visible\" gadfly:scale=\"1.0\">10<tspan style=\"dominant-baseline:inherit\" dy=\"-0.6em\" font-size=\"83.333333%\">6</tspan></text>\n",
        "    <text x=\"24.78\" y=\"-22.32\" text-anchor=\"end\" dy=\"0.35em\" id=\"fig-e05f28ba83fb42898912fc4379ddc9b6-element-356\" visibility=\"hidden\" gadfly:scale=\"1.0\">10<tspan style=\"dominant-baseline:inherit\" dy=\"-0.6em\" font-size=\"83.333333%\">8</tspan></text>\n",
        "    <text x=\"24.78\" y=\"-41.86\" text-anchor=\"end\" dy=\"0.35em\" id=\"fig-e05f28ba83fb42898912fc4379ddc9b6-element-357\" visibility=\"hidden\" gadfly:scale=\"1.0\">10<tspan style=\"dominant-baseline:inherit\" dy=\"-0.6em\" font-size=\"83.333333%\">10</tspan></text>\n",
        "    <text x=\"24.78\" y=\"-61.4\" text-anchor=\"end\" dy=\"0.35em\" id=\"fig-e05f28ba83fb42898912fc4379ddc9b6-element-358\" visibility=\"hidden\" gadfly:scale=\"1.0\">10<tspan style=\"dominant-baseline:inherit\" dy=\"-0.6em\" font-size=\"83.333333%\">12</tspan></text>\n",
        "    <text x=\"24.78\" y=\"-80.95\" text-anchor=\"end\" dy=\"0.35em\" id=\"fig-e05f28ba83fb42898912fc4379ddc9b6-element-359\" visibility=\"hidden\" gadfly:scale=\"1.0\">10<tspan style=\"dominant-baseline:inherit\" dy=\"-0.6em\" font-size=\"83.333333%\">14</tspan></text>\n",
        "    <text x=\"24.78\" y=\"-100.49\" text-anchor=\"end\" dy=\"0.35em\" id=\"fig-e05f28ba83fb42898912fc4379ddc9b6-element-360\" visibility=\"hidden\" gadfly:scale=\"1.0\">10<tspan style=\"dominant-baseline:inherit\" dy=\"-0.6em\" font-size=\"83.333333%\">16</tspan></text>\n",
        "    <text x=\"24.78\" y=\"153.58\" text-anchor=\"end\" dy=\"0.35em\" id=\"fig-e05f28ba83fb42898912fc4379ddc9b6-element-361\" visibility=\"hidden\" gadfly:scale=\"10.0\">10<tspan style=\"dominant-baseline:inherit\" dy=\"-0.6em\" font-size=\"83.333333%\">-10.0</tspan></text>\n",
        "    <text x=\"24.78\" y=\"148.69\" text-anchor=\"end\" dy=\"0.35em\" id=\"fig-e05f28ba83fb42898912fc4379ddc9b6-element-362\" visibility=\"hidden\" gadfly:scale=\"10.0\">10<tspan style=\"dominant-baseline:inherit\" dy=\"-0.6em\" font-size=\"83.333333%\">-9.5</tspan></text>\n",
        "    <text x=\"24.78\" y=\"143.81\" text-anchor=\"end\" dy=\"0.35em\" id=\"fig-e05f28ba83fb42898912fc4379ddc9b6-element-363\" visibility=\"hidden\" gadfly:scale=\"10.0\">10<tspan style=\"dominant-baseline:inherit\" dy=\"-0.6em\" font-size=\"83.333333%\">-9.0</tspan></text>\n",
        "    <text x=\"24.78\" y=\"138.92\" text-anchor=\"end\" dy=\"0.35em\" id=\"fig-e05f28ba83fb42898912fc4379ddc9b6-element-364\" visibility=\"hidden\" gadfly:scale=\"10.0\">10<tspan style=\"dominant-baseline:inherit\" dy=\"-0.6em\" font-size=\"83.333333%\">-8.5</tspan></text>\n",
        "    <text x=\"24.78\" y=\"134.03\" text-anchor=\"end\" dy=\"0.35em\" id=\"fig-e05f28ba83fb42898912fc4379ddc9b6-element-365\" visibility=\"hidden\" gadfly:scale=\"10.0\">10<tspan style=\"dominant-baseline:inherit\" dy=\"-0.6em\" font-size=\"83.333333%\">-8.0</tspan></text>\n",
        "    <text x=\"24.78\" y=\"129.15\" text-anchor=\"end\" dy=\"0.35em\" id=\"fig-e05f28ba83fb42898912fc4379ddc9b6-element-366\" visibility=\"hidden\" gadfly:scale=\"10.0\">10<tspan style=\"dominant-baseline:inherit\" dy=\"-0.6em\" font-size=\"83.333333%\">-7.5</tspan></text>\n",
        "    <text x=\"24.78\" y=\"124.26\" text-anchor=\"end\" dy=\"0.35em\" id=\"fig-e05f28ba83fb42898912fc4379ddc9b6-element-367\" visibility=\"hidden\" gadfly:scale=\"10.0\">10<tspan style=\"dominant-baseline:inherit\" dy=\"-0.6em\" font-size=\"83.333333%\">-7.0</tspan></text>\n",
        "    <text x=\"24.78\" y=\"119.38\" text-anchor=\"end\" dy=\"0.35em\" id=\"fig-e05f28ba83fb42898912fc4379ddc9b6-element-368\" visibility=\"hidden\" gadfly:scale=\"10.0\">10<tspan style=\"dominant-baseline:inherit\" dy=\"-0.6em\" font-size=\"83.333333%\">-6.5</tspan></text>\n",
        "    <text x=\"24.78\" y=\"114.49\" text-anchor=\"end\" dy=\"0.35em\" id=\"fig-e05f28ba83fb42898912fc4379ddc9b6-element-369\" visibility=\"hidden\" gadfly:scale=\"10.0\">10<tspan style=\"dominant-baseline:inherit\" dy=\"-0.6em\" font-size=\"83.333333%\">-6.0</tspan></text>\n",
        "    <text x=\"24.78\" y=\"109.61\" text-anchor=\"end\" dy=\"0.35em\" id=\"fig-e05f28ba83fb42898912fc4379ddc9b6-element-370\" visibility=\"hidden\" gadfly:scale=\"10.0\">10<tspan style=\"dominant-baseline:inherit\" dy=\"-0.6em\" font-size=\"83.333333%\">-5.5</tspan></text>\n",
        "    <text x=\"24.78\" y=\"104.72\" text-anchor=\"end\" dy=\"0.35em\" id=\"fig-e05f28ba83fb42898912fc4379ddc9b6-element-371\" visibility=\"hidden\" gadfly:scale=\"10.0\">10<tspan style=\"dominant-baseline:inherit\" dy=\"-0.6em\" font-size=\"83.333333%\">-5.0</tspan></text>\n",
        "    <text x=\"24.78\" y=\"99.83\" text-anchor=\"end\" dy=\"0.35em\" id=\"fig-e05f28ba83fb42898912fc4379ddc9b6-element-372\" visibility=\"hidden\" gadfly:scale=\"10.0\">10<tspan style=\"dominant-baseline:inherit\" dy=\"-0.6em\" font-size=\"83.333333%\">-4.5</tspan></text>\n",
        "    <text x=\"24.78\" y=\"94.95\" text-anchor=\"end\" dy=\"0.35em\" id=\"fig-e05f28ba83fb42898912fc4379ddc9b6-element-373\" visibility=\"hidden\" gadfly:scale=\"10.0\">10<tspan style=\"dominant-baseline:inherit\" dy=\"-0.6em\" font-size=\"83.333333%\">-4.0</tspan></text>\n",
        "    <text x=\"24.78\" y=\"90.06\" text-anchor=\"end\" dy=\"0.35em\" id=\"fig-e05f28ba83fb42898912fc4379ddc9b6-element-374\" visibility=\"hidden\" gadfly:scale=\"10.0\">10<tspan style=\"dominant-baseline:inherit\" dy=\"-0.6em\" font-size=\"83.333333%\">-3.5</tspan></text>\n",
        "    <text x=\"24.78\" y=\"85.18\" text-anchor=\"end\" dy=\"0.35em\" id=\"fig-e05f28ba83fb42898912fc4379ddc9b6-element-375\" visibility=\"hidden\" gadfly:scale=\"10.0\">10<tspan style=\"dominant-baseline:inherit\" dy=\"-0.6em\" font-size=\"83.333333%\">-3.0</tspan></text>\n",
        "    <text x=\"24.78\" y=\"80.29\" text-anchor=\"end\" dy=\"0.35em\" id=\"fig-e05f28ba83fb42898912fc4379ddc9b6-element-376\" visibility=\"hidden\" gadfly:scale=\"10.0\">10<tspan style=\"dominant-baseline:inherit\" dy=\"-0.6em\" font-size=\"83.333333%\">-2.5</tspan></text>\n",
        "    <text x=\"24.78\" y=\"75.4\" text-anchor=\"end\" dy=\"0.35em\" id=\"fig-e05f28ba83fb42898912fc4379ddc9b6-element-377\" visibility=\"hidden\" gadfly:scale=\"10.0\">10<tspan style=\"dominant-baseline:inherit\" dy=\"-0.6em\" font-size=\"83.333333%\">-2.0</tspan></text>\n",
        "    <text x=\"24.78\" y=\"70.52\" text-anchor=\"end\" dy=\"0.35em\" id=\"fig-e05f28ba83fb42898912fc4379ddc9b6-element-378\" visibility=\"hidden\" gadfly:scale=\"10.0\">10<tspan style=\"dominant-baseline:inherit\" dy=\"-0.6em\" font-size=\"83.333333%\">-1.5</tspan></text>\n",
        "    <text x=\"24.78\" y=\"65.63\" text-anchor=\"end\" dy=\"0.35em\" id=\"fig-e05f28ba83fb42898912fc4379ddc9b6-element-379\" visibility=\"hidden\" gadfly:scale=\"10.0\">10<tspan style=\"dominant-baseline:inherit\" dy=\"-0.6em\" font-size=\"83.333333%\">-1.0</tspan></text>\n",
        "    <text x=\"24.78\" y=\"60.75\" text-anchor=\"end\" dy=\"0.35em\" id=\"fig-e05f28ba83fb42898912fc4379ddc9b6-element-380\" visibility=\"hidden\" gadfly:scale=\"10.0\">10<tspan style=\"dominant-baseline:inherit\" dy=\"-0.6em\" font-size=\"83.333333%\">-0.5</tspan></text>\n",
        "    <text x=\"24.78\" y=\"55.86\" text-anchor=\"end\" dy=\"0.35em\" id=\"fig-e05f28ba83fb42898912fc4379ddc9b6-element-381\" visibility=\"hidden\" gadfly:scale=\"10.0\">10<tspan style=\"dominant-baseline:inherit\" dy=\"-0.6em\" font-size=\"83.333333%\">0.0</tspan></text>\n",
        "    <text x=\"24.78\" y=\"50.97\" text-anchor=\"end\" dy=\"0.35em\" id=\"fig-e05f28ba83fb42898912fc4379ddc9b6-element-382\" visibility=\"hidden\" gadfly:scale=\"10.0\">10<tspan style=\"dominant-baseline:inherit\" dy=\"-0.6em\" font-size=\"83.333333%\">0.5</tspan></text>\n",
        "    <text x=\"24.78\" y=\"46.09\" text-anchor=\"end\" dy=\"0.35em\" id=\"fig-e05f28ba83fb42898912fc4379ddc9b6-element-383\" visibility=\"hidden\" gadfly:scale=\"10.0\">10<tspan style=\"dominant-baseline:inherit\" dy=\"-0.6em\" font-size=\"83.333333%\">1.0</tspan></text>\n",
        "    <text x=\"24.78\" y=\"41.2\" text-anchor=\"end\" dy=\"0.35em\" id=\"fig-e05f28ba83fb42898912fc4379ddc9b6-element-384\" visibility=\"hidden\" gadfly:scale=\"10.0\">10<tspan style=\"dominant-baseline:inherit\" dy=\"-0.6em\" font-size=\"83.333333%\">1.5</tspan></text>\n",
        "    <text x=\"24.78\" y=\"36.32\" text-anchor=\"end\" dy=\"0.35em\" id=\"fig-e05f28ba83fb42898912fc4379ddc9b6-element-385\" visibility=\"hidden\" gadfly:scale=\"10.0\">10<tspan style=\"dominant-baseline:inherit\" dy=\"-0.6em\" font-size=\"83.333333%\">2.0</tspan></text>\n",
        "    <text x=\"24.78\" y=\"31.43\" text-anchor=\"end\" dy=\"0.35em\" id=\"fig-e05f28ba83fb42898912fc4379ddc9b6-element-386\" visibility=\"hidden\" gadfly:scale=\"10.0\">10<tspan style=\"dominant-baseline:inherit\" dy=\"-0.6em\" font-size=\"83.333333%\">2.5</tspan></text>\n",
        "    <text x=\"24.78\" y=\"26.54\" text-anchor=\"end\" dy=\"0.35em\" id=\"fig-e05f28ba83fb42898912fc4379ddc9b6-element-387\" visibility=\"hidden\" gadfly:scale=\"10.0\">10<tspan style=\"dominant-baseline:inherit\" dy=\"-0.6em\" font-size=\"83.333333%\">3.0</tspan></text>\n",
        "    <text x=\"24.78\" y=\"21.66\" text-anchor=\"end\" dy=\"0.35em\" id=\"fig-e05f28ba83fb42898912fc4379ddc9b6-element-388\" visibility=\"hidden\" gadfly:scale=\"10.0\">10<tspan style=\"dominant-baseline:inherit\" dy=\"-0.6em\" font-size=\"83.333333%\">3.5</tspan></text>\n",
        "    <text x=\"24.78\" y=\"16.77\" text-anchor=\"end\" dy=\"0.35em\" id=\"fig-e05f28ba83fb42898912fc4379ddc9b6-element-389\" visibility=\"hidden\" gadfly:scale=\"10.0\">10<tspan style=\"dominant-baseline:inherit\" dy=\"-0.6em\" font-size=\"83.333333%\">4.0</tspan></text>\n",
        "    <text x=\"24.78\" y=\"11.89\" text-anchor=\"end\" dy=\"0.35em\" id=\"fig-e05f28ba83fb42898912fc4379ddc9b6-element-390\" visibility=\"hidden\" gadfly:scale=\"10.0\">10<tspan style=\"dominant-baseline:inherit\" dy=\"-0.6em\" font-size=\"83.333333%\">4.5</tspan></text>\n",
        "    <text x=\"24.78\" y=\"7\" text-anchor=\"end\" dy=\"0.35em\" id=\"fig-e05f28ba83fb42898912fc4379ddc9b6-element-391\" visibility=\"hidden\" gadfly:scale=\"10.0\">10<tspan style=\"dominant-baseline:inherit\" dy=\"-0.6em\" font-size=\"83.333333%\">5.0</tspan></text>\n",
        "    <text x=\"24.78\" y=\"2.11\" text-anchor=\"end\" dy=\"0.35em\" id=\"fig-e05f28ba83fb42898912fc4379ddc9b6-element-392\" visibility=\"hidden\" gadfly:scale=\"10.0\">10<tspan style=\"dominant-baseline:inherit\" dy=\"-0.6em\" font-size=\"83.333333%\">5.5</tspan></text>\n",
        "    <text x=\"24.78\" y=\"-2.77\" text-anchor=\"end\" dy=\"0.35em\" id=\"fig-e05f28ba83fb42898912fc4379ddc9b6-element-393\" visibility=\"hidden\" gadfly:scale=\"10.0\">10<tspan style=\"dominant-baseline:inherit\" dy=\"-0.6em\" font-size=\"83.333333%\">6.0</tspan></text>\n",
        "    <text x=\"24.78\" y=\"-7.66\" text-anchor=\"end\" dy=\"0.35em\" id=\"fig-e05f28ba83fb42898912fc4379ddc9b6-element-394\" visibility=\"hidden\" gadfly:scale=\"10.0\">10<tspan style=\"dominant-baseline:inherit\" dy=\"-0.6em\" font-size=\"83.333333%\">6.5</tspan></text>\n",
        "    <text x=\"24.78\" y=\"-12.54\" text-anchor=\"end\" dy=\"0.35em\" id=\"fig-e05f28ba83fb42898912fc4379ddc9b6-element-395\" visibility=\"hidden\" gadfly:scale=\"10.0\">10<tspan style=\"dominant-baseline:inherit\" dy=\"-0.6em\" font-size=\"83.333333%\">7.0</tspan></text>\n",
        "    <text x=\"24.78\" y=\"-17.43\" text-anchor=\"end\" dy=\"0.35em\" id=\"fig-e05f28ba83fb42898912fc4379ddc9b6-element-396\" visibility=\"hidden\" gadfly:scale=\"10.0\">10<tspan style=\"dominant-baseline:inherit\" dy=\"-0.6em\" font-size=\"83.333333%\">7.5</tspan></text>\n",
        "    <text x=\"24.78\" y=\"-22.32\" text-anchor=\"end\" dy=\"0.35em\" id=\"fig-e05f28ba83fb42898912fc4379ddc9b6-element-397\" visibility=\"hidden\" gadfly:scale=\"10.0\">10<tspan style=\"dominant-baseline:inherit\" dy=\"-0.6em\" font-size=\"83.333333%\">8.0</tspan></text>\n",
        "    <text x=\"24.78\" y=\"-27.2\" text-anchor=\"end\" dy=\"0.35em\" id=\"fig-e05f28ba83fb42898912fc4379ddc9b6-element-398\" visibility=\"hidden\" gadfly:scale=\"10.0\">10<tspan style=\"dominant-baseline:inherit\" dy=\"-0.6em\" font-size=\"83.333333%\">8.5</tspan></text>\n",
        "    <text x=\"24.78\" y=\"-32.09\" text-anchor=\"end\" dy=\"0.35em\" id=\"fig-e05f28ba83fb42898912fc4379ddc9b6-element-399\" visibility=\"hidden\" gadfly:scale=\"10.0\">10<tspan style=\"dominant-baseline:inherit\" dy=\"-0.6em\" font-size=\"83.333333%\">9.0</tspan></text>\n",
        "    <text x=\"24.78\" y=\"-36.97\" text-anchor=\"end\" dy=\"0.35em\" id=\"fig-e05f28ba83fb42898912fc4379ddc9b6-element-400\" visibility=\"hidden\" gadfly:scale=\"10.0\">10<tspan style=\"dominant-baseline:inherit\" dy=\"-0.6em\" font-size=\"83.333333%\">9.5</tspan></text>\n",
        "    <text x=\"24.78\" y=\"-41.86\" text-anchor=\"end\" dy=\"0.35em\" id=\"fig-e05f28ba83fb42898912fc4379ddc9b6-element-401\" visibility=\"hidden\" gadfly:scale=\"10.0\">10<tspan style=\"dominant-baseline:inherit\" dy=\"-0.6em\" font-size=\"83.333333%\">10.0</tspan></text>\n",
        "    <text x=\"24.78\" y=\"-46.75\" text-anchor=\"end\" dy=\"0.35em\" id=\"fig-e05f28ba83fb42898912fc4379ddc9b6-element-402\" visibility=\"hidden\" gadfly:scale=\"10.0\">10<tspan style=\"dominant-baseline:inherit\" dy=\"-0.6em\" font-size=\"83.333333%\">10.5</tspan></text>\n",
        "    <text x=\"24.78\" y=\"-51.63\" text-anchor=\"end\" dy=\"0.35em\" id=\"fig-e05f28ba83fb42898912fc4379ddc9b6-element-403\" visibility=\"hidden\" gadfly:scale=\"10.0\">10<tspan style=\"dominant-baseline:inherit\" dy=\"-0.6em\" font-size=\"83.333333%\">11.0</tspan></text>\n",
        "    <text x=\"24.78\" y=\"-56.52\" text-anchor=\"end\" dy=\"0.35em\" id=\"fig-e05f28ba83fb42898912fc4379ddc9b6-element-404\" visibility=\"hidden\" gadfly:scale=\"10.0\">10<tspan style=\"dominant-baseline:inherit\" dy=\"-0.6em\" font-size=\"83.333333%\">11.5</tspan></text>\n",
        "    <text x=\"24.78\" y=\"-61.4\" text-anchor=\"end\" dy=\"0.35em\" id=\"fig-e05f28ba83fb42898912fc4379ddc9b6-element-405\" visibility=\"hidden\" gadfly:scale=\"10.0\">10<tspan style=\"dominant-baseline:inherit\" dy=\"-0.6em\" font-size=\"83.333333%\">12.0</tspan></text>\n",
        "    <text x=\"24.78\" y=\"-66.29\" text-anchor=\"end\" dy=\"0.35em\" id=\"fig-e05f28ba83fb42898912fc4379ddc9b6-element-406\" visibility=\"hidden\" gadfly:scale=\"10.0\">10<tspan style=\"dominant-baseline:inherit\" dy=\"-0.6em\" font-size=\"83.333333%\">12.5</tspan></text>\n",
        "    <text x=\"24.78\" y=\"-71.18\" text-anchor=\"end\" dy=\"0.35em\" id=\"fig-e05f28ba83fb42898912fc4379ddc9b6-element-407\" visibility=\"hidden\" gadfly:scale=\"10.0\">10<tspan style=\"dominant-baseline:inherit\" dy=\"-0.6em\" font-size=\"83.333333%\">13.0</tspan></text>\n",
        "    <text x=\"24.78\" y=\"-76.06\" text-anchor=\"end\" dy=\"0.35em\" id=\"fig-e05f28ba83fb42898912fc4379ddc9b6-element-408\" visibility=\"hidden\" gadfly:scale=\"10.0\">10<tspan style=\"dominant-baseline:inherit\" dy=\"-0.6em\" font-size=\"83.333333%\">13.5</tspan></text>\n",
        "    <text x=\"24.78\" y=\"-80.95\" text-anchor=\"end\" dy=\"0.35em\" id=\"fig-e05f28ba83fb42898912fc4379ddc9b6-element-409\" visibility=\"hidden\" gadfly:scale=\"10.0\">10<tspan style=\"dominant-baseline:inherit\" dy=\"-0.6em\" font-size=\"83.333333%\">14.0</tspan></text>\n",
        "    <text x=\"24.78\" y=\"153.58\" text-anchor=\"end\" dy=\"0.35em\" id=\"fig-e05f28ba83fb42898912fc4379ddc9b6-element-410\" visibility=\"hidden\" gadfly:scale=\"0.5\">10<tspan style=\"dominant-baseline:inherit\" dy=\"-0.6em\" font-size=\"83.333333%\">-10</tspan></text>\n",
        "    <text x=\"24.78\" y=\"55.86\" text-anchor=\"end\" dy=\"0.35em\" id=\"fig-e05f28ba83fb42898912fc4379ddc9b6-element-411\" visibility=\"hidden\" gadfly:scale=\"0.5\">10<tspan style=\"dominant-baseline:inherit\" dy=\"-0.6em\" font-size=\"83.333333%\">0</tspan></text>\n",
        "    <text x=\"24.78\" y=\"-41.86\" text-anchor=\"end\" dy=\"0.35em\" id=\"fig-e05f28ba83fb42898912fc4379ddc9b6-element-412\" visibility=\"hidden\" gadfly:scale=\"0.5\">10<tspan style=\"dominant-baseline:inherit\" dy=\"-0.6em\" font-size=\"83.333333%\">10</tspan></text>\n",
        "    <text x=\"24.78\" y=\"-139.58\" text-anchor=\"end\" dy=\"0.35em\" id=\"fig-e05f28ba83fb42898912fc4379ddc9b6-element-413\" visibility=\"hidden\" gadfly:scale=\"0.5\">10<tspan style=\"dominant-baseline:inherit\" dy=\"-0.6em\" font-size=\"83.333333%\">20</tspan></text>\n",
        "    <text x=\"24.78\" y=\"153.58\" text-anchor=\"end\" dy=\"0.35em\" id=\"fig-e05f28ba83fb42898912fc4379ddc9b6-element-414\" visibility=\"hidden\" gadfly:scale=\"5.0\">10<tspan style=\"dominant-baseline:inherit\" dy=\"-0.6em\" font-size=\"83.333333%\">-10.0</tspan></text>\n",
        "    <text x=\"24.78\" y=\"148.69\" text-anchor=\"end\" dy=\"0.35em\" id=\"fig-e05f28ba83fb42898912fc4379ddc9b6-element-415\" visibility=\"hidden\" gadfly:scale=\"5.0\">10<tspan style=\"dominant-baseline:inherit\" dy=\"-0.6em\" font-size=\"83.333333%\">-9.5</tspan></text>\n",
        "    <text x=\"24.78\" y=\"143.81\" text-anchor=\"end\" dy=\"0.35em\" id=\"fig-e05f28ba83fb42898912fc4379ddc9b6-element-416\" visibility=\"hidden\" gadfly:scale=\"5.0\">10<tspan style=\"dominant-baseline:inherit\" dy=\"-0.6em\" font-size=\"83.333333%\">-9.0</tspan></text>\n",
        "    <text x=\"24.78\" y=\"138.92\" text-anchor=\"end\" dy=\"0.35em\" id=\"fig-e05f28ba83fb42898912fc4379ddc9b6-element-417\" visibility=\"hidden\" gadfly:scale=\"5.0\">10<tspan style=\"dominant-baseline:inherit\" dy=\"-0.6em\" font-size=\"83.333333%\">-8.5</tspan></text>\n",
        "    <text x=\"24.78\" y=\"134.03\" text-anchor=\"end\" dy=\"0.35em\" id=\"fig-e05f28ba83fb42898912fc4379ddc9b6-element-418\" visibility=\"hidden\" gadfly:scale=\"5.0\">10<tspan style=\"dominant-baseline:inherit\" dy=\"-0.6em\" font-size=\"83.333333%\">-8.0</tspan></text>\n",
        "    <text x=\"24.78\" y=\"129.15\" text-anchor=\"end\" dy=\"0.35em\" id=\"fig-e05f28ba83fb42898912fc4379ddc9b6-element-419\" visibility=\"hidden\" gadfly:scale=\"5.0\">10<tspan style=\"dominant-baseline:inherit\" dy=\"-0.6em\" font-size=\"83.333333%\">-7.5</tspan></text>\n",
        "    <text x=\"24.78\" y=\"124.26\" text-anchor=\"end\" dy=\"0.35em\" id=\"fig-e05f28ba83fb42898912fc4379ddc9b6-element-420\" visibility=\"hidden\" gadfly:scale=\"5.0\">10<tspan style=\"dominant-baseline:inherit\" dy=\"-0.6em\" font-size=\"83.333333%\">-7.0</tspan></text>\n",
        "    <text x=\"24.78\" y=\"119.38\" text-anchor=\"end\" dy=\"0.35em\" id=\"fig-e05f28ba83fb42898912fc4379ddc9b6-element-421\" visibility=\"hidden\" gadfly:scale=\"5.0\">10<tspan style=\"dominant-baseline:inherit\" dy=\"-0.6em\" font-size=\"83.333333%\">-6.5</tspan></text>\n",
        "    <text x=\"24.78\" y=\"114.49\" text-anchor=\"end\" dy=\"0.35em\" id=\"fig-e05f28ba83fb42898912fc4379ddc9b6-element-422\" visibility=\"hidden\" gadfly:scale=\"5.0\">10<tspan style=\"dominant-baseline:inherit\" dy=\"-0.6em\" font-size=\"83.333333%\">-6.0</tspan></text>\n",
        "    <text x=\"24.78\" y=\"109.61\" text-anchor=\"end\" dy=\"0.35em\" id=\"fig-e05f28ba83fb42898912fc4379ddc9b6-element-423\" visibility=\"hidden\" gadfly:scale=\"5.0\">10<tspan style=\"dominant-baseline:inherit\" dy=\"-0.6em\" font-size=\"83.333333%\">-5.5</tspan></text>\n",
        "    <text x=\"24.78\" y=\"104.72\" text-anchor=\"end\" dy=\"0.35em\" id=\"fig-e05f28ba83fb42898912fc4379ddc9b6-element-424\" visibility=\"hidden\" gadfly:scale=\"5.0\">10<tspan style=\"dominant-baseline:inherit\" dy=\"-0.6em\" font-size=\"83.333333%\">-5.0</tspan></text>\n",
        "    <text x=\"24.78\" y=\"99.83\" text-anchor=\"end\" dy=\"0.35em\" id=\"fig-e05f28ba83fb42898912fc4379ddc9b6-element-425\" visibility=\"hidden\" gadfly:scale=\"5.0\">10<tspan style=\"dominant-baseline:inherit\" dy=\"-0.6em\" font-size=\"83.333333%\">-4.5</tspan></text>\n",
        "    <text x=\"24.78\" y=\"94.95\" text-anchor=\"end\" dy=\"0.35em\" id=\"fig-e05f28ba83fb42898912fc4379ddc9b6-element-426\" visibility=\"hidden\" gadfly:scale=\"5.0\">10<tspan style=\"dominant-baseline:inherit\" dy=\"-0.6em\" font-size=\"83.333333%\">-4.0</tspan></text>\n",
        "    <text x=\"24.78\" y=\"90.06\" text-anchor=\"end\" dy=\"0.35em\" id=\"fig-e05f28ba83fb42898912fc4379ddc9b6-element-427\" visibility=\"hidden\" gadfly:scale=\"5.0\">10<tspan style=\"dominant-baseline:inherit\" dy=\"-0.6em\" font-size=\"83.333333%\">-3.5</tspan></text>\n",
        "    <text x=\"24.78\" y=\"85.18\" text-anchor=\"end\" dy=\"0.35em\" id=\"fig-e05f28ba83fb42898912fc4379ddc9b6-element-428\" visibility=\"hidden\" gadfly:scale=\"5.0\">10<tspan style=\"dominant-baseline:inherit\" dy=\"-0.6em\" font-size=\"83.333333%\">-3.0</tspan></text>\n",
        "    <text x=\"24.78\" y=\"80.29\" text-anchor=\"end\" dy=\"0.35em\" id=\"fig-e05f28ba83fb42898912fc4379ddc9b6-element-429\" visibility=\"hidden\" gadfly:scale=\"5.0\">10<tspan style=\"dominant-baseline:inherit\" dy=\"-0.6em\" font-size=\"83.333333%\">-2.5</tspan></text>\n",
        "    <text x=\"24.78\" y=\"75.4\" text-anchor=\"end\" dy=\"0.35em\" id=\"fig-e05f28ba83fb42898912fc4379ddc9b6-element-430\" visibility=\"hidden\" gadfly:scale=\"5.0\">10<tspan style=\"dominant-baseline:inherit\" dy=\"-0.6em\" font-size=\"83.333333%\">-2.0</tspan></text>\n",
        "    <text x=\"24.78\" y=\"70.52\" text-anchor=\"end\" dy=\"0.35em\" id=\"fig-e05f28ba83fb42898912fc4379ddc9b6-element-431\" visibility=\"hidden\" gadfly:scale=\"5.0\">10<tspan style=\"dominant-baseline:inherit\" dy=\"-0.6em\" font-size=\"83.333333%\">-1.5</tspan></text>\n",
        "    <text x=\"24.78\" y=\"65.63\" text-anchor=\"end\" dy=\"0.35em\" id=\"fig-e05f28ba83fb42898912fc4379ddc9b6-element-432\" visibility=\"hidden\" gadfly:scale=\"5.0\">10<tspan style=\"dominant-baseline:inherit\" dy=\"-0.6em\" font-size=\"83.333333%\">-1.0</tspan></text>\n",
        "    <text x=\"24.78\" y=\"60.75\" text-anchor=\"end\" dy=\"0.35em\" id=\"fig-e05f28ba83fb42898912fc4379ddc9b6-element-433\" visibility=\"hidden\" gadfly:scale=\"5.0\">10<tspan style=\"dominant-baseline:inherit\" dy=\"-0.6em\" font-size=\"83.333333%\">-0.5</tspan></text>\n",
        "    <text x=\"24.78\" y=\"55.86\" text-anchor=\"end\" dy=\"0.35em\" id=\"fig-e05f28ba83fb42898912fc4379ddc9b6-element-434\" visibility=\"hidden\" gadfly:scale=\"5.0\">10<tspan style=\"dominant-baseline:inherit\" dy=\"-0.6em\" font-size=\"83.333333%\">0.0</tspan></text>\n",
        "    <text x=\"24.78\" y=\"50.97\" text-anchor=\"end\" dy=\"0.35em\" id=\"fig-e05f28ba83fb42898912fc4379ddc9b6-element-435\" visibility=\"hidden\" gadfly:scale=\"5.0\">10<tspan style=\"dominant-baseline:inherit\" dy=\"-0.6em\" font-size=\"83.333333%\">0.5</tspan></text>\n",
        "    <text x=\"24.78\" y=\"46.09\" text-anchor=\"end\" dy=\"0.35em\" id=\"fig-e05f28ba83fb42898912fc4379ddc9b6-element-436\" visibility=\"hidden\" gadfly:scale=\"5.0\">10<tspan style=\"dominant-baseline:inherit\" dy=\"-0.6em\" font-size=\"83.333333%\">1.0</tspan></text>\n",
        "    <text x=\"24.78\" y=\"41.2\" text-anchor=\"end\" dy=\"0.35em\" id=\"fig-e05f28ba83fb42898912fc4379ddc9b6-element-437\" visibility=\"hidden\" gadfly:scale=\"5.0\">10<tspan style=\"dominant-baseline:inherit\" dy=\"-0.6em\" font-size=\"83.333333%\">1.5</tspan></text>\n",
        "    <text x=\"24.78\" y=\"36.32\" text-anchor=\"end\" dy=\"0.35em\" id=\"fig-e05f28ba83fb42898912fc4379ddc9b6-element-438\" visibility=\"hidden\" gadfly:scale=\"5.0\">10<tspan style=\"dominant-baseline:inherit\" dy=\"-0.6em\" font-size=\"83.333333%\">2.0</tspan></text>\n",
        "    <text x=\"24.78\" y=\"31.43\" text-anchor=\"end\" dy=\"0.35em\" id=\"fig-e05f28ba83fb42898912fc4379ddc9b6-element-439\" visibility=\"hidden\" gadfly:scale=\"5.0\">10<tspan style=\"dominant-baseline:inherit\" dy=\"-0.6em\" font-size=\"83.333333%\">2.5</tspan></text>\n",
        "    <text x=\"24.78\" y=\"26.54\" text-anchor=\"end\" dy=\"0.35em\" id=\"fig-e05f28ba83fb42898912fc4379ddc9b6-element-440\" visibility=\"hidden\" gadfly:scale=\"5.0\">10<tspan style=\"dominant-baseline:inherit\" dy=\"-0.6em\" font-size=\"83.333333%\">3.0</tspan></text>\n",
        "    <text x=\"24.78\" y=\"21.66\" text-anchor=\"end\" dy=\"0.35em\" id=\"fig-e05f28ba83fb42898912fc4379ddc9b6-element-441\" visibility=\"hidden\" gadfly:scale=\"5.0\">10<tspan style=\"dominant-baseline:inherit\" dy=\"-0.6em\" font-size=\"83.333333%\">3.5</tspan></text>\n",
        "    <text x=\"24.78\" y=\"16.77\" text-anchor=\"end\" dy=\"0.35em\" id=\"fig-e05f28ba83fb42898912fc4379ddc9b6-element-442\" visibility=\"hidden\" gadfly:scale=\"5.0\">10<tspan style=\"dominant-baseline:inherit\" dy=\"-0.6em\" font-size=\"83.333333%\">4.0</tspan></text>\n",
        "    <text x=\"24.78\" y=\"11.89\" text-anchor=\"end\" dy=\"0.35em\" id=\"fig-e05f28ba83fb42898912fc4379ddc9b6-element-443\" visibility=\"hidden\" gadfly:scale=\"5.0\">10<tspan style=\"dominant-baseline:inherit\" dy=\"-0.6em\" font-size=\"83.333333%\">4.5</tspan></text>\n",
        "    <text x=\"24.78\" y=\"7\" text-anchor=\"end\" dy=\"0.35em\" id=\"fig-e05f28ba83fb42898912fc4379ddc9b6-element-444\" visibility=\"hidden\" gadfly:scale=\"5.0\">10<tspan style=\"dominant-baseline:inherit\" dy=\"-0.6em\" font-size=\"83.333333%\">5.0</tspan></text>\n",
        "    <text x=\"24.78\" y=\"2.11\" text-anchor=\"end\" dy=\"0.35em\" id=\"fig-e05f28ba83fb42898912fc4379ddc9b6-element-445\" visibility=\"hidden\" gadfly:scale=\"5.0\">10<tspan style=\"dominant-baseline:inherit\" dy=\"-0.6em\" font-size=\"83.333333%\">5.5</tspan></text>\n",
        "    <text x=\"24.78\" y=\"-2.77\" text-anchor=\"end\" dy=\"0.35em\" id=\"fig-e05f28ba83fb42898912fc4379ddc9b6-element-446\" visibility=\"hidden\" gadfly:scale=\"5.0\">10<tspan style=\"dominant-baseline:inherit\" dy=\"-0.6em\" font-size=\"83.333333%\">6.0</tspan></text>\n",
        "    <text x=\"24.78\" y=\"-7.66\" text-anchor=\"end\" dy=\"0.35em\" id=\"fig-e05f28ba83fb42898912fc4379ddc9b6-element-447\" visibility=\"hidden\" gadfly:scale=\"5.0\">10<tspan style=\"dominant-baseline:inherit\" dy=\"-0.6em\" font-size=\"83.333333%\">6.5</tspan></text>\n",
        "    <text x=\"24.78\" y=\"-12.54\" text-anchor=\"end\" dy=\"0.35em\" id=\"fig-e05f28ba83fb42898912fc4379ddc9b6-element-448\" visibility=\"hidden\" gadfly:scale=\"5.0\">10<tspan style=\"dominant-baseline:inherit\" dy=\"-0.6em\" font-size=\"83.333333%\">7.0</tspan></text>\n",
        "    <text x=\"24.78\" y=\"-17.43\" text-anchor=\"end\" dy=\"0.35em\" id=\"fig-e05f28ba83fb42898912fc4379ddc9b6-element-449\" visibility=\"hidden\" gadfly:scale=\"5.0\">10<tspan style=\"dominant-baseline:inherit\" dy=\"-0.6em\" font-size=\"83.333333%\">7.5</tspan></text>\n",
        "    <text x=\"24.78\" y=\"-22.32\" text-anchor=\"end\" dy=\"0.35em\" id=\"fig-e05f28ba83fb42898912fc4379ddc9b6-element-450\" visibility=\"hidden\" gadfly:scale=\"5.0\">10<tspan style=\"dominant-baseline:inherit\" dy=\"-0.6em\" font-size=\"83.333333%\">8.0</tspan></text>\n",
        "    <text x=\"24.78\" y=\"-27.2\" text-anchor=\"end\" dy=\"0.35em\" id=\"fig-e05f28ba83fb42898912fc4379ddc9b6-element-451\" visibility=\"hidden\" gadfly:scale=\"5.0\">10<tspan style=\"dominant-baseline:inherit\" dy=\"-0.6em\" font-size=\"83.333333%\">8.5</tspan></text>\n",
        "    <text x=\"24.78\" y=\"-32.09\" text-anchor=\"end\" dy=\"0.35em\" id=\"fig-e05f28ba83fb42898912fc4379ddc9b6-element-452\" visibility=\"hidden\" gadfly:scale=\"5.0\">10<tspan style=\"dominant-baseline:inherit\" dy=\"-0.6em\" font-size=\"83.333333%\">9.0</tspan></text>\n",
        "    <text x=\"24.78\" y=\"-36.97\" text-anchor=\"end\" dy=\"0.35em\" id=\"fig-e05f28ba83fb42898912fc4379ddc9b6-element-453\" visibility=\"hidden\" gadfly:scale=\"5.0\">10<tspan style=\"dominant-baseline:inherit\" dy=\"-0.6em\" font-size=\"83.333333%\">9.5</tspan></text>\n",
        "    <text x=\"24.78\" y=\"-41.86\" text-anchor=\"end\" dy=\"0.35em\" id=\"fig-e05f28ba83fb42898912fc4379ddc9b6-element-454\" visibility=\"hidden\" gadfly:scale=\"5.0\">10<tspan style=\"dominant-baseline:inherit\" dy=\"-0.6em\" font-size=\"83.333333%\">10.0</tspan></text>\n",
        "    <text x=\"24.78\" y=\"-46.75\" text-anchor=\"end\" dy=\"0.35em\" id=\"fig-e05f28ba83fb42898912fc4379ddc9b6-element-455\" visibility=\"hidden\" gadfly:scale=\"5.0\">10<tspan style=\"dominant-baseline:inherit\" dy=\"-0.6em\" font-size=\"83.333333%\">10.5</tspan></text>\n",
        "    <text x=\"24.78\" y=\"-51.63\" text-anchor=\"end\" dy=\"0.35em\" id=\"fig-e05f28ba83fb42898912fc4379ddc9b6-element-456\" visibility=\"hidden\" gadfly:scale=\"5.0\">10<tspan style=\"dominant-baseline:inherit\" dy=\"-0.6em\" font-size=\"83.333333%\">11.0</tspan></text>\n",
        "    <text x=\"24.78\" y=\"-56.52\" text-anchor=\"end\" dy=\"0.35em\" id=\"fig-e05f28ba83fb42898912fc4379ddc9b6-element-457\" visibility=\"hidden\" gadfly:scale=\"5.0\">10<tspan style=\"dominant-baseline:inherit\" dy=\"-0.6em\" font-size=\"83.333333%\">11.5</tspan></text>\n",
        "    <text x=\"24.78\" y=\"-61.4\" text-anchor=\"end\" dy=\"0.35em\" id=\"fig-e05f28ba83fb42898912fc4379ddc9b6-element-458\" visibility=\"hidden\" gadfly:scale=\"5.0\">10<tspan style=\"dominant-baseline:inherit\" dy=\"-0.6em\" font-size=\"83.333333%\">12.0</tspan></text>\n",
        "    <text x=\"24.78\" y=\"-66.29\" text-anchor=\"end\" dy=\"0.35em\" id=\"fig-e05f28ba83fb42898912fc4379ddc9b6-element-459\" visibility=\"hidden\" gadfly:scale=\"5.0\">10<tspan style=\"dominant-baseline:inherit\" dy=\"-0.6em\" font-size=\"83.333333%\">12.5</tspan></text>\n",
        "    <text x=\"24.78\" y=\"-71.18\" text-anchor=\"end\" dy=\"0.35em\" id=\"fig-e05f28ba83fb42898912fc4379ddc9b6-element-460\" visibility=\"hidden\" gadfly:scale=\"5.0\">10<tspan style=\"dominant-baseline:inherit\" dy=\"-0.6em\" font-size=\"83.333333%\">13.0</tspan></text>\n",
        "    <text x=\"24.78\" y=\"-76.06\" text-anchor=\"end\" dy=\"0.35em\" id=\"fig-e05f28ba83fb42898912fc4379ddc9b6-element-461\" visibility=\"hidden\" gadfly:scale=\"5.0\">10<tspan style=\"dominant-baseline:inherit\" dy=\"-0.6em\" font-size=\"83.333333%\">13.5</tspan></text>\n",
        "    <text x=\"24.78\" y=\"-80.95\" text-anchor=\"end\" dy=\"0.35em\" id=\"fig-e05f28ba83fb42898912fc4379ddc9b6-element-462\" visibility=\"hidden\" gadfly:scale=\"5.0\">10<tspan style=\"dominant-baseline:inherit\" dy=\"-0.6em\" font-size=\"83.333333%\">14.0</tspan></text>\n",
        "  </g>\n",
        "  <g font-size=\"6\" font-family=\"'PT Sans','Helvetica Neue','Helvetica',sans-serif\" fill=\"#FFFFFF\" stroke=\"none\" id=\"fig-e05f28ba83fb42898912fc4379ddc9b6-element-463\">\n",
        "    <text x=\"9.79\" y=\"39.2\" text-anchor=\"middle\" dy=\"0.35em\" transform=\"rotate(-90, 9.79, 41.2)\" id=\"fig-e05f28ba83fb42898912fc4379ddc9b6-element-464\">Surface density [g/cm^2]</text>\n",
        "  </g>\n",
        "</g>\n",
        "<defs>\n",
        "<clipPath id=\"fig-e05f28ba83fb42898912fc4379ddc9b6-element-16\">\n",
        "  <path d=\"M25.78,5 L 119.16 5 119.16 77.4 25.78 77.4\" />\n",
        "</clipPath\n",
        "></defs>\n",
        "<script> <![CDATA[\n",
        "(function(N){var k=/[\\.\\/]/,L=/\\s*,\\s*/,C=function(a,d){return a-d},a,v,y={n:{}},M=function(){for(var a=0,d=this.length;a<d;a++)if(\"undefined\"!=typeof this[a])return this[a]},A=function(){for(var a=this.length;--a;)if(\"undefined\"!=typeof this[a])return this[a]},w=function(k,d){k=String(k);var f=v,n=Array.prototype.slice.call(arguments,2),u=w.listeners(k),p=0,b,q=[],e={},l=[],r=a;l.firstDefined=M;l.lastDefined=A;a=k;for(var s=v=0,x=u.length;s<x;s++)\"zIndex\"in u[s]&&(q.push(u[s].zIndex),0>u[s].zIndex&&\n",
        "(e[u[s].zIndex]=u[s]));for(q.sort(C);0>q[p];)if(b=e[q[p++] ],l.push(b.apply(d,n)),v)return v=f,l;for(s=0;s<x;s++)if(b=u[s],\"zIndex\"in b)if(b.zIndex==q[p]){l.push(b.apply(d,n));if(v)break;do if(p++,(b=e[q[p] ])&&l.push(b.apply(d,n)),v)break;while(b)}else e[b.zIndex]=b;else if(l.push(b.apply(d,n)),v)break;v=f;a=r;return l};w._events=y;w.listeners=function(a){a=a.split(k);var d=y,f,n,u,p,b,q,e,l=[d],r=[];u=0;for(p=a.length;u<p;u++){e=[];b=0;for(q=l.length;b<q;b++)for(d=l[b].n,f=[d[a[u] ],d[\"*\"] ],n=2;n--;)if(d=\n",
        "f[n])e.push(d),r=r.concat(d.f||[]);l=e}return r};w.on=function(a,d){a=String(a);if(\"function\"!=typeof d)return function(){};for(var f=a.split(L),n=0,u=f.length;n<u;n++)(function(a){a=a.split(k);for(var b=y,f,e=0,l=a.length;e<l;e++)b=b.n,b=b.hasOwnProperty(a[e])&&b[a[e] ]||(b[a[e] ]={n:{}});b.f=b.f||[];e=0;for(l=b.f.length;e<l;e++)if(b.f[e]==d){f=!0;break}!f&&b.f.push(d)})(f[n]);return function(a){+a==+a&&(d.zIndex=+a)}};w.f=function(a){var d=[].slice.call(arguments,1);return function(){w.apply(null,\n",
        "[a,null].concat(d).concat([].slice.call(arguments,0)))}};w.stop=function(){v=1};w.nt=function(k){return k?(new RegExp(\"(?:\\\\.|\\\\/|^)\"+k+\"(?:\\\\.|\\\\/|$)\")).test(a):a};w.nts=function(){return a.split(k)};w.off=w.unbind=function(a,d){if(a){var f=a.split(L);if(1<f.length)for(var n=0,u=f.length;n<u;n++)w.off(f[n],d);else{for(var f=a.split(k),p,b,q,e,l=[y],n=0,u=f.length;n<u;n++)for(e=0;e<l.length;e+=q.length-2){q=[e,1];p=l[e].n;if(\"*\"!=f[n])p[f[n] ]&&q.push(p[f[n] ]);else for(b in p)p.hasOwnProperty(b)&&\n",
        "q.push(p[b]);l.splice.apply(l,q)}n=0;for(u=l.length;n<u;n++)for(p=l[n];p.n;){if(d){if(p.f){e=0;for(f=p.f.length;e<f;e++)if(p.f[e]==d){p.f.splice(e,1);break}!p.f.length&&delete p.f}for(b in p.n)if(p.n.hasOwnProperty(b)&&p.n[b].f){q=p.n[b].f;e=0;for(f=q.length;e<f;e++)if(q[e]==d){q.splice(e,1);break}!q.length&&delete p.n[b].f}}else for(b in delete p.f,p.n)p.n.hasOwnProperty(b)&&p.n[b].f&&delete p.n[b].f;p=p.n}}}else w._events=y={n:{}}};w.once=function(a,d){var f=function(){w.unbind(a,f);return d.apply(this,\n",
        "arguments)};return w.on(a,f)};w.version=\"0.4.2\";w.toString=function(){return\"You are running Eve 0.4.2\"};\"undefined\"!=typeof module&&module.exports?module.exports=w:\"function\"===typeof define&&define.amd?define(\"eve\",[],function(){return w}):N.eve=w})(this);\n",
        "(function(N,k){\"function\"===typeof define&&define.amd?define(\"Snap.svg\",[\"eve\"],function(L){return k(N,L)}):k(N,N.eve)})(this,function(N,k){var L=function(a){var k={},y=N.requestAnimationFrame||N.webkitRequestAnimationFrame||N.mozRequestAnimationFrame||N.oRequestAnimationFrame||N.msRequestAnimationFrame||function(a){setTimeout(a,16)},M=Array.isArray||function(a){return a instanceof Array||\"[object Array]\"==Object.prototype.toString.call(a)},A=0,w=\"M\"+(+new Date).toString(36),z=function(a){if(null==\n",
        "a)return this.s;var b=this.s-a;this.b+=this.dur*b;this.B+=this.dur*b;this.s=a},d=function(a){if(null==a)return this.spd;this.spd=a},f=function(a){if(null==a)return this.dur;this.s=this.s*a/this.dur;this.dur=a},n=function(){delete k[this.id];this.update();a(\"mina.stop.\"+this.id,this)},u=function(){this.pdif||(delete k[this.id],this.update(),this.pdif=this.get()-this.b)},p=function(){this.pdif&&(this.b=this.get()-this.pdif,delete this.pdif,k[this.id]=this)},b=function(){var a;if(M(this.start)){a=[];\n",
        "for(var b=0,e=this.start.length;b<e;b++)a[b]=+this.start[b]+(this.end[b]-this.start[b])*this.easing(this.s)}else a=+this.start+(this.end-this.start)*this.easing(this.s);this.set(a)},q=function(){var l=0,b;for(b in k)if(k.hasOwnProperty(b)){var e=k[b],f=e.get();l++;e.s=(f-e.b)/(e.dur/e.spd);1<=e.s&&(delete k[b],e.s=1,l--,function(b){setTimeout(function(){a(\"mina.finish.\"+b.id,b)})}(e));e.update()}l&&y(q)},e=function(a,r,s,x,G,h,J){a={id:w+(A++).toString(36),start:a,end:r,b:s,s:0,dur:x-s,spd:1,get:G,\n",
        "set:h,easing:J||e.linear,status:z,speed:d,duration:f,stop:n,pause:u,resume:p,update:b};k[a.id]=a;r=0;for(var K in k)if(k.hasOwnProperty(K)&&(r++,2==r))break;1==r&&y(q);return a};e.time=Date.now||function(){return+new Date};e.getById=function(a){return k[a]||null};e.linear=function(a){return a};e.easeout=function(a){return Math.pow(a,1.7)};e.easein=function(a){return Math.pow(a,0.48)};e.easeinout=function(a){if(1==a)return 1;if(0==a)return 0;var b=0.48-a/1.04,e=Math.sqrt(0.1734+b*b);a=e-b;a=Math.pow(Math.abs(a),\n",
        "1/3)*(0>a?-1:1);b=-e-b;b=Math.pow(Math.abs(b),1/3)*(0>b?-1:1);a=a+b+0.5;return 3*(1-a)*a*a+a*a*a};e.backin=function(a){return 1==a?1:a*a*(2.70158*a-1.70158)};e.backout=function(a){if(0==a)return 0;a-=1;return a*a*(2.70158*a+1.70158)+1};e.elastic=function(a){return a==!!a?a:Math.pow(2,-10*a)*Math.sin(2*(a-0.075)*Math.PI/0.3)+1};e.bounce=function(a){a<1/2.75?a*=7.5625*a:a<2/2.75?(a-=1.5/2.75,a=7.5625*a*a+0.75):a<2.5/2.75?(a-=2.25/2.75,a=7.5625*a*a+0.9375):(a-=2.625/2.75,a=7.5625*a*a+0.984375);return a};\n",
        "return N.mina=e}(\"undefined\"==typeof k?function(){}:k),C=function(){function a(c,t){if(c){if(c.tagName)return x(c);if(y(c,\"array\")&&a.set)return a.set.apply(a,c);if(c instanceof e)return c;if(null==t)return c=G.doc.querySelector(c),x(c)}return new s(null==c?\"100%\":c,null==t?\"100%\":t)}function v(c,a){if(a){\"#text\"==c&&(c=G.doc.createTextNode(a.text||\"\"));\"string\"==typeof c&&(c=v(c));if(\"string\"==typeof a)return\"xlink:\"==a.substring(0,6)?c.getAttributeNS(m,a.substring(6)):\"xml:\"==a.substring(0,4)?c.getAttributeNS(la,\n",
        "a.substring(4)):c.getAttribute(a);for(var da in a)if(a[h](da)){var b=J(a[da]);b?\"xlink:\"==da.substring(0,6)?c.setAttributeNS(m,da.substring(6),b):\"xml:\"==da.substring(0,4)?c.setAttributeNS(la,da.substring(4),b):c.setAttribute(da,b):c.removeAttribute(da)}}else c=G.doc.createElementNS(la,c);return c}function y(c,a){a=J.prototype.toLowerCase.call(a);return\"finite\"==a?isFinite(c):\"array\"==a&&(c instanceof Array||Array.isArray&&Array.isArray(c))?!0:\"null\"==a&&null===c||a==typeof c&&null!==c||\"object\"==\n",
        "a&&c===Object(c)||$.call(c).slice(8,-1).toLowerCase()==a}function M(c){if(\"function\"==typeof c||Object(c)!==c)return c;var a=new c.constructor,b;for(b in c)c[h](b)&&(a[b]=M(c[b]));return a}function A(c,a,b){function m(){var e=Array.prototype.slice.call(arguments,0),f=e.join(\"\\u2400\"),d=m.cache=m.cache||{},l=m.count=m.count||[];if(d[h](f)){a:for(var e=l,l=f,B=0,H=e.length;B<H;B++)if(e[B]===l){e.push(e.splice(B,1)[0]);break a}return b?b(d[f]):d[f]}1E3<=l.length&&delete d[l.shift()];l.push(f);d[f]=c.apply(a,\n",
        "e);return b?b(d[f]):d[f]}return m}function w(c,a,b,m,e,f){return null==e?(c-=b,a-=m,c||a?(180*I.atan2(-a,-c)/C+540)%360:0):w(c,a,e,f)-w(b,m,e,f)}function z(c){return c%360*C/180}function d(c){var a=[];c=c.replace(/(?:^|\\s)(\\w+)\\(([^)]+)\\)/g,function(c,b,m){m=m.split(/\\s*,\\s*|\\s+/);\"rotate\"==b&&1==m.length&&m.push(0,0);\"scale\"==b&&(2<m.length?m=m.slice(0,2):2==m.length&&m.push(0,0),1==m.length&&m.push(m[0],0,0));\"skewX\"==b?a.push([\"m\",1,0,I.tan(z(m[0])),1,0,0]):\"skewY\"==b?a.push([\"m\",1,I.tan(z(m[0])),\n",
        "0,1,0,0]):a.push([b.charAt(0)].concat(m));return c});return a}function f(c,t){var b=O(c),m=new a.Matrix;if(b)for(var e=0,f=b.length;e<f;e++){var h=b[e],d=h.length,B=J(h[0]).toLowerCase(),H=h[0]!=B,l=H?m.invert():0,E;\"t\"==B&&2==d?m.translate(h[1],0):\"t\"==B&&3==d?H?(d=l.x(0,0),B=l.y(0,0),H=l.x(h[1],h[2]),l=l.y(h[1],h[2]),m.translate(H-d,l-B)):m.translate(h[1],h[2]):\"r\"==B?2==d?(E=E||t,m.rotate(h[1],E.x+E.width/2,E.y+E.height/2)):4==d&&(H?(H=l.x(h[2],h[3]),l=l.y(h[2],h[3]),m.rotate(h[1],H,l)):m.rotate(h[1],\n",
        "h[2],h[3])):\"s\"==B?2==d||3==d?(E=E||t,m.scale(h[1],h[d-1],E.x+E.width/2,E.y+E.height/2)):4==d?H?(H=l.x(h[2],h[3]),l=l.y(h[2],h[3]),m.scale(h[1],h[1],H,l)):m.scale(h[1],h[1],h[2],h[3]):5==d&&(H?(H=l.x(h[3],h[4]),l=l.y(h[3],h[4]),m.scale(h[1],h[2],H,l)):m.scale(h[1],h[2],h[3],h[4])):\"m\"==B&&7==d&&m.add(h[1],h[2],h[3],h[4],h[5],h[6])}return m}function n(c,t){if(null==t){var m=!0;t=\"linearGradient\"==c.type||\"radialGradient\"==c.type?c.node.getAttribute(\"gradientTransform\"):\"pattern\"==c.type?c.node.getAttribute(\"patternTransform\"):\n",
        "c.node.getAttribute(\"transform\");if(!t)return new a.Matrix;t=d(t)}else t=a._.rgTransform.test(t)?J(t).replace(/\\.{3}|\\u2026/g,c._.transform||aa):d(t),y(t,\"array\")&&(t=a.path?a.path.toString.call(t):J(t)),c._.transform=t;var b=f(t,c.getBBox(1));if(m)return b;c.matrix=b}function u(c){c=c.node.ownerSVGElement&&x(c.node.ownerSVGElement)||c.node.parentNode&&x(c.node.parentNode)||a.select(\"svg\")||a(0,0);var t=c.select(\"defs\"),t=null==t?!1:t.node;t||(t=r(\"defs\",c.node).node);return t}function p(c){return c.node.ownerSVGElement&&\n",
        "x(c.node.ownerSVGElement)||a.select(\"svg\")}function b(c,a,m){function b(c){if(null==c)return aa;if(c==+c)return c;v(B,{width:c});try{return B.getBBox().width}catch(a){return 0}}function h(c){if(null==c)return aa;if(c==+c)return c;v(B,{height:c});try{return B.getBBox().height}catch(a){return 0}}function e(b,B){null==a?d[b]=B(c.attr(b)||0):b==a&&(d=B(null==m?c.attr(b)||0:m))}var f=p(c).node,d={},B=f.querySelector(\".svg---mgr\");B||(B=v(\"rect\"),v(B,{x:-9E9,y:-9E9,width:10,height:10,\"class\":\"svg---mgr\",\n",
        "fill:\"none\"}),f.appendChild(B));switch(c.type){case \"rect\":e(\"rx\",b),e(\"ry\",h);case \"image\":e(\"width\",b),e(\"height\",h);case \"text\":e(\"x\",b);e(\"y\",h);break;case \"circle\":e(\"cx\",b);e(\"cy\",h);e(\"r\",b);break;case \"ellipse\":e(\"cx\",b);e(\"cy\",h);e(\"rx\",b);e(\"ry\",h);break;case \"line\":e(\"x1\",b);e(\"x2\",b);e(\"y1\",h);e(\"y2\",h);break;case \"marker\":e(\"refX\",b);e(\"markerWidth\",b);e(\"refY\",h);e(\"markerHeight\",h);break;case \"radialGradient\":e(\"fx\",b);e(\"fy\",h);break;case \"tspan\":e(\"dx\",b);e(\"dy\",h);break;default:e(a,\n",
        "b)}f.removeChild(B);return d}function q(c){y(c,\"array\")||(c=Array.prototype.slice.call(arguments,0));for(var a=0,b=0,m=this.node;this[a];)delete this[a++];for(a=0;a<c.length;a++)\"set\"==c[a].type?c[a].forEach(function(c){m.appendChild(c.node)}):m.appendChild(c[a].node);for(var h=m.childNodes,a=0;a<h.length;a++)this[b++]=x(h[a]);return this}function e(c){if(c.snap in E)return E[c.snap];var a=this.id=V(),b;try{b=c.ownerSVGElement}catch(m){}this.node=c;b&&(this.paper=new s(b));this.type=c.tagName;this.anims=\n",
        "{};this._={transform:[]};c.snap=a;E[a]=this;\"g\"==this.type&&(this.add=q);if(this.type in{g:1,mask:1,pattern:1})for(var e in s.prototype)s.prototype[h](e)&&(this[e]=s.prototype[e])}function l(c){this.node=c}function r(c,a){var b=v(c);a.appendChild(b);return x(b)}function s(c,a){var b,m,f,d=s.prototype;if(c&&\"svg\"==c.tagName){if(c.snap in E)return E[c.snap];var l=c.ownerDocument;b=new e(c);m=c.getElementsByTagName(\"desc\")[0];f=c.getElementsByTagName(\"defs\")[0];m||(m=v(\"desc\"),m.appendChild(l.createTextNode(\"Created with Snap\")),\n",
        "b.node.appendChild(m));f||(f=v(\"defs\"),b.node.appendChild(f));b.defs=f;for(var ca in d)d[h](ca)&&(b[ca]=d[ca]);b.paper=b.root=b}else b=r(\"svg\",G.doc.body),v(b.node,{height:a,version:1.1,width:c,xmlns:la});return b}function x(c){return!c||c instanceof e||c instanceof l?c:c.tagName&&\"svg\"==c.tagName.toLowerCase()?new s(c):c.tagName&&\"object\"==c.tagName.toLowerCase()&&\"image/svg+xml\"==c.type?new s(c.contentDocument.getElementsByTagName(\"svg\")[0]):new e(c)}a.version=\"0.3.0\";a.toString=function(){return\"Snap v\"+\n",
        "this.version};a._={};var G={win:N,doc:N.document};a._.glob=G;var h=\"hasOwnProperty\",J=String,K=parseFloat,U=parseInt,I=Math,P=I.max,Q=I.min,Y=I.abs,C=I.PI,aa=\"\",$=Object.prototype.toString,F=/^\\s*((#[a-f\\d]{6})|(#[a-f\\d]{3})|rgba?\\(\\s*([\\d\\.]+%?\\s*,\\s*[\\d\\.]+%?\\s*,\\s*[\\d\\.]+%?(?:\\s*,\\s*[\\d\\.]+%?)?)\\s*\\)|hsba?\\(\\s*([\\d\\.]+(?:deg|\\xb0|%)?\\s*,\\s*[\\d\\.]+%?\\s*,\\s*[\\d\\.]+(?:%?\\s*,\\s*[\\d\\.]+)?%?)\\s*\\)|hsla?\\(\\s*([\\d\\.]+(?:deg|\\xb0|%)?\\s*,\\s*[\\d\\.]+%?\\s*,\\s*[\\d\\.]+(?:%?\\s*,\\s*[\\d\\.]+)?%?)\\s*\\))\\s*$/i;a._.separator=\n",
        "RegExp(\"[,\\t\\n\\x0B\\f\\r \\u00a0\\u1680\\u180e\\u2000\\u2001\\u2002\\u2003\\u2004\\u2005\\u2006\\u2007\\u2008\\u2009\\u200a\\u202f\\u205f\\u3000\\u2028\\u2029]+\");var S=RegExp(\"[\\t\\n\\x0B\\f\\r \\u00a0\\u1680\\u180e\\u2000\\u2001\\u2002\\u2003\\u2004\\u2005\\u2006\\u2007\\u2008\\u2009\\u200a\\u202f\\u205f\\u3000\\u2028\\u2029]*,[\\t\\n\\x0B\\f\\r \\u00a0\\u1680\\u180e\\u2000\\u2001\\u2002\\u2003\\u2004\\u2005\\u2006\\u2007\\u2008\\u2009\\u200a\\u202f\\u205f\\u3000\\u2028\\u2029]*\"),X={hs:1,rg:1},W=RegExp(\"([a-z])[\\t\\n\\x0B\\f\\r \\u00a0\\u1680\\u180e\\u2000\\u2001\\u2002\\u2003\\u2004\\u2005\\u2006\\u2007\\u2008\\u2009\\u200a\\u202f\\u205f\\u3000\\u2028\\u2029,]*((-?\\\\d*\\\\.?\\\\d*(?:e[\\\\-+]?\\\\d+)?[\\t\\n\\x0B\\f\\r \\u00a0\\u1680\\u180e\\u2000\\u2001\\u2002\\u2003\\u2004\\u2005\\u2006\\u2007\\u2008\\u2009\\u200a\\u202f\\u205f\\u3000\\u2028\\u2029]*,?[\\t\\n\\x0B\\f\\r \\u00a0\\u1680\\u180e\\u2000\\u2001\\u2002\\u2003\\u2004\\u2005\\u2006\\u2007\\u2008\\u2009\\u200a\\u202f\\u205f\\u3000\\u2028\\u2029]*)+)\",\n",
        "\"ig\"),ma=RegExp(\"([rstm])[\\t\\n\\x0B\\f\\r \\u00a0\\u1680\\u180e\\u2000\\u2001\\u2002\\u2003\\u2004\\u2005\\u2006\\u2007\\u2008\\u2009\\u200a\\u202f\\u205f\\u3000\\u2028\\u2029,]*((-?\\\\d*\\\\.?\\\\d*(?:e[\\\\-+]?\\\\d+)?[\\t\\n\\x0B\\f\\r \\u00a0\\u1680\\u180e\\u2000\\u2001\\u2002\\u2003\\u2004\\u2005\\u2006\\u2007\\u2008\\u2009\\u200a\\u202f\\u205f\\u3000\\u2028\\u2029]*,?[\\t\\n\\x0B\\f\\r \\u00a0\\u1680\\u180e\\u2000\\u2001\\u2002\\u2003\\u2004\\u2005\\u2006\\u2007\\u2008\\u2009\\u200a\\u202f\\u205f\\u3000\\u2028\\u2029]*)+)\",\"ig\"),Z=RegExp(\"(-?\\\\d*\\\\.?\\\\d*(?:e[\\\\-+]?\\\\d+)?)[\\t\\n\\x0B\\f\\r \\u00a0\\u1680\\u180e\\u2000\\u2001\\u2002\\u2003\\u2004\\u2005\\u2006\\u2007\\u2008\\u2009\\u200a\\u202f\\u205f\\u3000\\u2028\\u2029]*,?[\\t\\n\\x0B\\f\\r \\u00a0\\u1680\\u180e\\u2000\\u2001\\u2002\\u2003\\u2004\\u2005\\u2006\\u2007\\u2008\\u2009\\u200a\\u202f\\u205f\\u3000\\u2028\\u2029]*\",\n",
        "\"ig\"),na=0,ba=\"S\"+(+new Date).toString(36),V=function(){return ba+(na++).toString(36)},m=\"http://www.w3.org/1999/xlink\",la=\"http://www.w3.org/2000/svg\",E={},ca=a.url=function(c){return\"url('#\"+c+\"')\"};a._.$=v;a._.id=V;a.format=function(){var c=/\\{([^\\}]+)\\}/g,a=/(?:(?:^|\\.)(.+?)(?=\\[|\\.|$|\\()|\\[('|\")(.+?)\\2\\])(\\(\\))?/g,b=function(c,b,m){var h=m;b.replace(a,function(c,a,b,m,t){a=a||m;h&&(a in h&&(h=h[a]),\"function\"==typeof h&&t&&(h=h()))});return h=(null==h||h==m?c:h)+\"\"};return function(a,m){return J(a).replace(c,\n",
        "function(c,a){return b(c,a,m)})}}();a._.clone=M;a._.cacher=A;a.rad=z;a.deg=function(c){return 180*c/C%360};a.angle=w;a.is=y;a.snapTo=function(c,a,b){b=y(b,\"finite\")?b:10;if(y(c,\"array\"))for(var m=c.length;m--;){if(Y(c[m]-a)<=b)return c[m]}else{c=+c;m=a%c;if(m<b)return a-m;if(m>c-b)return a-m+c}return a};a.getRGB=A(function(c){if(!c||(c=J(c)).indexOf(\"-\")+1)return{r:-1,g:-1,b:-1,hex:\"none\",error:1,toString:ka};if(\"none\"==c)return{r:-1,g:-1,b:-1,hex:\"none\",toString:ka};!X[h](c.toLowerCase().substring(0,\n",
        "2))&&\"#\"!=c.charAt()&&(c=T(c));if(!c)return{r:-1,g:-1,b:-1,hex:\"none\",error:1,toString:ka};var b,m,e,f,d;if(c=c.match(F)){c[2]&&(e=U(c[2].substring(5),16),m=U(c[2].substring(3,5),16),b=U(c[2].substring(1,3),16));c[3]&&(e=U((d=c[3].charAt(3))+d,16),m=U((d=c[3].charAt(2))+d,16),b=U((d=c[3].charAt(1))+d,16));c[4]&&(d=c[4].split(S),b=K(d[0]),\"%\"==d[0].slice(-1)&&(b*=2.55),m=K(d[1]),\"%\"==d[1].slice(-1)&&(m*=2.55),e=K(d[2]),\"%\"==d[2].slice(-1)&&(e*=2.55),\"rgba\"==c[1].toLowerCase().slice(0,4)&&(f=K(d[3])),\n",
        "d[3]&&\"%\"==d[3].slice(-1)&&(f/=100));if(c[5])return d=c[5].split(S),b=K(d[0]),\"%\"==d[0].slice(-1)&&(b/=100),m=K(d[1]),\"%\"==d[1].slice(-1)&&(m/=100),e=K(d[2]),\"%\"==d[2].slice(-1)&&(e/=100),\"deg\"!=d[0].slice(-3)&&\"\\u00b0\"!=d[0].slice(-1)||(b/=360),\"hsba\"==c[1].toLowerCase().slice(0,4)&&(f=K(d[3])),d[3]&&\"%\"==d[3].slice(-1)&&(f/=100),a.hsb2rgb(b,m,e,f);if(c[6])return d=c[6].split(S),b=K(d[0]),\"%\"==d[0].slice(-1)&&(b/=100),m=K(d[1]),\"%\"==d[1].slice(-1)&&(m/=100),e=K(d[2]),\"%\"==d[2].slice(-1)&&(e/=100),\n",
        "\"deg\"!=d[0].slice(-3)&&\"\\u00b0\"!=d[0].slice(-1)||(b/=360),\"hsla\"==c[1].toLowerCase().slice(0,4)&&(f=K(d[3])),d[3]&&\"%\"==d[3].slice(-1)&&(f/=100),a.hsl2rgb(b,m,e,f);b=Q(I.round(b),255);m=Q(I.round(m),255);e=Q(I.round(e),255);f=Q(P(f,0),1);c={r:b,g:m,b:e,toString:ka};c.hex=\"#\"+(16777216|e|m<<8|b<<16).toString(16).slice(1);c.opacity=y(f,\"finite\")?f:1;return c}return{r:-1,g:-1,b:-1,hex:\"none\",error:1,toString:ka}},a);a.hsb=A(function(c,b,m){return a.hsb2rgb(c,b,m).hex});a.hsl=A(function(c,b,m){return a.hsl2rgb(c,\n",
        "b,m).hex});a.rgb=A(function(c,a,b,m){if(y(m,\"finite\")){var e=I.round;return\"rgba(\"+[e(c),e(a),e(b),+m.toFixed(2)]+\")\"}return\"#\"+(16777216|b|a<<8|c<<16).toString(16).slice(1)});var T=function(c){var a=G.doc.getElementsByTagName(\"head\")[0]||G.doc.getElementsByTagName(\"svg\")[0];T=A(function(c){if(\"red\"==c.toLowerCase())return\"rgb(255, 0, 0)\";a.style.color=\"rgb(255, 0, 0)\";a.style.color=c;c=G.doc.defaultView.getComputedStyle(a,aa).getPropertyValue(\"color\");return\"rgb(255, 0, 0)\"==c?null:c});return T(c)},\n",
        "qa=function(){return\"hsb(\"+[this.h,this.s,this.b]+\")\"},ra=function(){return\"hsl(\"+[this.h,this.s,this.l]+\")\"},ka=function(){return 1==this.opacity||null==this.opacity?this.hex:\"rgba(\"+[this.r,this.g,this.b,this.opacity]+\")\"},D=function(c,b,m){null==b&&y(c,\"object\")&&\"r\"in c&&\"g\"in c&&\"b\"in c&&(m=c.b,b=c.g,c=c.r);null==b&&y(c,string)&&(m=a.getRGB(c),c=m.r,b=m.g,m=m.b);if(1<c||1<b||1<m)c/=255,b/=255,m/=255;return[c,b,m]},oa=function(c,b,m,e){c=I.round(255*c);b=I.round(255*b);m=I.round(255*m);c={r:c,\n",
        "g:b,b:m,opacity:y(e,\"finite\")?e:1,hex:a.rgb(c,b,m),toString:ka};y(e,\"finite\")&&(c.opacity=e);return c};a.color=function(c){var b;y(c,\"object\")&&\"h\"in c&&\"s\"in c&&\"b\"in c?(b=a.hsb2rgb(c),c.r=b.r,c.g=b.g,c.b=b.b,c.opacity=1,c.hex=b.hex):y(c,\"object\")&&\"h\"in c&&\"s\"in c&&\"l\"in c?(b=a.hsl2rgb(c),c.r=b.r,c.g=b.g,c.b=b.b,c.opacity=1,c.hex=b.hex):(y(c,\"string\")&&(c=a.getRGB(c)),y(c,\"object\")&&\"r\"in c&&\"g\"in c&&\"b\"in c&&!(\"error\"in c)?(b=a.rgb2hsl(c),c.h=b.h,c.s=b.s,c.l=b.l,b=a.rgb2hsb(c),c.v=b.b):(c={hex:\"none\"},\n",
        "c.r=c.g=c.b=c.h=c.s=c.v=c.l=-1,c.error=1));c.toString=ka;return c};a.hsb2rgb=function(c,a,b,m){y(c,\"object\")&&\"h\"in c&&\"s\"in c&&\"b\"in c&&(b=c.b,a=c.s,c=c.h,m=c.o);var e,h,d;c=360*c%360/60;d=b*a;a=d*(1-Y(c%2-1));b=e=h=b-d;c=~~c;b+=[d,a,0,0,a,d][c];e+=[a,d,d,a,0,0][c];h+=[0,0,a,d,d,a][c];return oa(b,e,h,m)};a.hsl2rgb=function(c,a,b,m){y(c,\"object\")&&\"h\"in c&&\"s\"in c&&\"l\"in c&&(b=c.l,a=c.s,c=c.h);if(1<c||1<a||1<b)c/=360,a/=100,b/=100;var e,h,d;c=360*c%360/60;d=2*a*(0.5>b?b:1-b);a=d*(1-Y(c%2-1));b=e=\n",
        "h=b-d/2;c=~~c;b+=[d,a,0,0,a,d][c];e+=[a,d,d,a,0,0][c];h+=[0,0,a,d,d,a][c];return oa(b,e,h,m)};a.rgb2hsb=function(c,a,b){b=D(c,a,b);c=b[0];a=b[1];b=b[2];var m,e;m=P(c,a,b);e=m-Q(c,a,b);c=((0==e?0:m==c?(a-b)/e:m==a?(b-c)/e+2:(c-a)/e+4)+360)%6*60/360;return{h:c,s:0==e?0:e/m,b:m,toString:qa}};a.rgb2hsl=function(c,a,b){b=D(c,a,b);c=b[0];a=b[1];b=b[2];var m,e,h;m=P(c,a,b);e=Q(c,a,b);h=m-e;c=((0==h?0:m==c?(a-b)/h:m==a?(b-c)/h+2:(c-a)/h+4)+360)%6*60/360;m=(m+e)/2;return{h:c,s:0==h?0:0.5>m?h/(2*m):h/(2-2*\n",
        "m),l:m,toString:ra}};a.parsePathString=function(c){if(!c)return null;var b=a.path(c);if(b.arr)return a.path.clone(b.arr);var m={a:7,c:6,o:2,h:1,l:2,m:2,r:4,q:4,s:4,t:2,v:1,u:3,z:0},e=[];y(c,\"array\")&&y(c[0],\"array\")&&(e=a.path.clone(c));e.length||J(c).replace(W,function(c,a,b){var h=[];c=a.toLowerCase();b.replace(Z,function(c,a){a&&h.push(+a)});\"m\"==c&&2<h.length&&(e.push([a].concat(h.splice(0,2))),c=\"l\",a=\"m\"==a?\"l\":\"L\");\"o\"==c&&1==h.length&&e.push([a,h[0] ]);if(\"r\"==c)e.push([a].concat(h));else for(;h.length>=\n",
        "m[c]&&(e.push([a].concat(h.splice(0,m[c]))),m[c]););});e.toString=a.path.toString;b.arr=a.path.clone(e);return e};var O=a.parseTransformString=function(c){if(!c)return null;var b=[];y(c,\"array\")&&y(c[0],\"array\")&&(b=a.path.clone(c));b.length||J(c).replace(ma,function(c,a,m){var e=[];a.toLowerCase();m.replace(Z,function(c,a){a&&e.push(+a)});b.push([a].concat(e))});b.toString=a.path.toString;return b};a._.svgTransform2string=d;a._.rgTransform=RegExp(\"^[a-z][\\t\\n\\x0B\\f\\r \\u00a0\\u1680\\u180e\\u2000\\u2001\\u2002\\u2003\\u2004\\u2005\\u2006\\u2007\\u2008\\u2009\\u200a\\u202f\\u205f\\u3000\\u2028\\u2029]*-?\\\\.?\\\\d\",\n",
        "\"i\");a._.transform2matrix=f;a._unit2px=b;a._.getSomeDefs=u;a._.getSomeSVG=p;a.select=function(c){return x(G.doc.querySelector(c))};a.selectAll=function(c){c=G.doc.querySelectorAll(c);for(var b=(a.set||Array)(),m=0;m<c.length;m++)b.push(x(c[m]));return b};setInterval(function(){for(var c in E)if(E[h](c)){var a=E[c],b=a.node;(\"svg\"!=a.type&&!b.ownerSVGElement||\"svg\"==a.type&&(!b.parentNode||\"ownerSVGElement\"in b.parentNode&&!b.ownerSVGElement))&&delete E[c]}},1E4);(function(c){function m(c){function a(c,\n",
        "b){var m=v(c.node,b);(m=(m=m&&m.match(d))&&m[2])&&\"#\"==m.charAt()&&(m=m.substring(1))&&(f[m]=(f[m]||[]).concat(function(a){var m={};m[b]=ca(a);v(c.node,m)}))}function b(c){var a=v(c.node,\"xlink:href\");a&&\"#\"==a.charAt()&&(a=a.substring(1))&&(f[a]=(f[a]||[]).concat(function(a){c.attr(\"xlink:href\",\"#\"+a)}))}var e=c.selectAll(\"*\"),h,d=/^\\s*url\\((\"|'|)(.*)\\1\\)\\s*$/;c=[];for(var f={},l=0,E=e.length;l<E;l++){h=e[l];a(h,\"fill\");a(h,\"stroke\");a(h,\"filter\");a(h,\"mask\");a(h,\"clip-path\");b(h);var t=v(h.node,\n",
        "\"id\");t&&(v(h.node,{id:h.id}),c.push({old:t,id:h.id}))}l=0;for(E=c.length;l<E;l++)if(e=f[c[l].old])for(h=0,t=e.length;h<t;h++)e[h](c[l].id)}function e(c,a,b){return function(m){m=m.slice(c,a);1==m.length&&(m=m[0]);return b?b(m):m}}function d(c){return function(){var a=c?\"<\"+this.type:\"\",b=this.node.attributes,m=this.node.childNodes;if(c)for(var e=0,h=b.length;e<h;e++)a+=\" \"+b[e].name+'=\"'+b[e].value.replace(/\"/g,'\\\\\"')+'\"';if(m.length){c&&(a+=\">\");e=0;for(h=m.length;e<h;e++)3==m[e].nodeType?a+=m[e].nodeValue:\n",
        "1==m[e].nodeType&&(a+=x(m[e]).toString());c&&(a+=\"</\"+this.type+\">\")}else c&&(a+=\"/>\");return a}}c.attr=function(c,a){if(!c)return this;if(y(c,\"string\"))if(1<arguments.length){var b={};b[c]=a;c=b}else return k(\"snap.util.getattr.\"+c,this).firstDefined();for(var m in c)c[h](m)&&k(\"snap.util.attr.\"+m,this,c[m]);return this};c.getBBox=function(c){if(!a.Matrix||!a.path)return this.node.getBBox();var b=this,m=new a.Matrix;if(b.removed)return a._.box();for(;\"use\"==b.type;)if(c||(m=m.add(b.transform().localMatrix.translate(b.attr(\"x\")||\n",
        "0,b.attr(\"y\")||0))),b.original)b=b.original;else var e=b.attr(\"xlink:href\"),b=b.original=b.node.ownerDocument.getElementById(e.substring(e.indexOf(\"#\")+1));var e=b._,h=a.path.get[b.type]||a.path.get.deflt;try{if(c)return e.bboxwt=h?a.path.getBBox(b.realPath=h(b)):a._.box(b.node.getBBox()),a._.box(e.bboxwt);b.realPath=h(b);b.matrix=b.transform().localMatrix;e.bbox=a.path.getBBox(a.path.map(b.realPath,m.add(b.matrix)));return a._.box(e.bbox)}catch(d){return a._.box()}};var f=function(){return this.string};\n",
        "c.transform=function(c){var b=this._;if(null==c){var m=this;c=new a.Matrix(this.node.getCTM());for(var e=n(this),h=[e],d=new a.Matrix,l=e.toTransformString(),b=J(e)==J(this.matrix)?J(b.transform):l;\"svg\"!=m.type&&(m=m.parent());)h.push(n(m));for(m=h.length;m--;)d.add(h[m]);return{string:b,globalMatrix:c,totalMatrix:d,localMatrix:e,diffMatrix:c.clone().add(e.invert()),global:c.toTransformString(),total:d.toTransformString(),local:l,toString:f}}c instanceof a.Matrix?this.matrix=c:n(this,c);this.node&&\n",
        "(\"linearGradient\"==this.type||\"radialGradient\"==this.type?v(this.node,{gradientTransform:this.matrix}):\"pattern\"==this.type?v(this.node,{patternTransform:this.matrix}):v(this.node,{transform:this.matrix}));return this};c.parent=function(){return x(this.node.parentNode)};c.append=c.add=function(c){if(c){if(\"set\"==c.type){var a=this;c.forEach(function(c){a.add(c)});return this}c=x(c);this.node.appendChild(c.node);c.paper=this.paper}return this};c.appendTo=function(c){c&&(c=x(c),c.append(this));return this};\n",
        "c.prepend=function(c){if(c){if(\"set\"==c.type){var a=this,b;c.forEach(function(c){b?b.after(c):a.prepend(c);b=c});return this}c=x(c);var m=c.parent();this.node.insertBefore(c.node,this.node.firstChild);this.add&&this.add();c.paper=this.paper;this.parent()&&this.parent().add();m&&m.add()}return this};c.prependTo=function(c){c=x(c);c.prepend(this);return this};c.before=function(c){if(\"set\"==c.type){var a=this;c.forEach(function(c){var b=c.parent();a.node.parentNode.insertBefore(c.node,a.node);b&&b.add()});\n",
        "this.parent().add();return this}c=x(c);var b=c.parent();this.node.parentNode.insertBefore(c.node,this.node);this.parent()&&this.parent().add();b&&b.add();c.paper=this.paper;return this};c.after=function(c){c=x(c);var a=c.parent();this.node.nextSibling?this.node.parentNode.insertBefore(c.node,this.node.nextSibling):this.node.parentNode.appendChild(c.node);this.parent()&&this.parent().add();a&&a.add();c.paper=this.paper;return this};c.insertBefore=function(c){c=x(c);var a=this.parent();c.node.parentNode.insertBefore(this.node,\n",
        "c.node);this.paper=c.paper;a&&a.add();c.parent()&&c.parent().add();return this};c.insertAfter=function(c){c=x(c);var a=this.parent();c.node.parentNode.insertBefore(this.node,c.node.nextSibling);this.paper=c.paper;a&&a.add();c.parent()&&c.parent().add();return this};c.remove=function(){var c=this.parent();this.node.parentNode&&this.node.parentNode.removeChild(this.node);delete this.paper;this.removed=!0;c&&c.add();return this};c.select=function(c){return x(this.node.querySelector(c))};c.selectAll=\n",
        "function(c){c=this.node.querySelectorAll(c);for(var b=(a.set||Array)(),m=0;m<c.length;m++)b.push(x(c[m]));return b};c.asPX=function(c,a){null==a&&(a=this.attr(c));return+b(this,c,a)};c.use=function(){var c,a=this.node.id;a||(a=this.id,v(this.node,{id:a}));c=\"linearGradient\"==this.type||\"radialGradient\"==this.type||\"pattern\"==this.type?r(this.type,this.node.parentNode):r(\"use\",this.node.parentNode);v(c.node,{\"xlink:href\":\"#\"+a});c.original=this;return c};var l=/\\S+/g;c.addClass=function(c){var a=(c||\n",
        "\"\").match(l)||[];c=this.node;var b=c.className.baseVal,m=b.match(l)||[],e,h,d;if(a.length){for(e=0;d=a[e++];)h=m.indexOf(d),~h||m.push(d);a=m.join(\" \");b!=a&&(c.className.baseVal=a)}return this};c.removeClass=function(c){var a=(c||\"\").match(l)||[];c=this.node;var b=c.className.baseVal,m=b.match(l)||[],e,h;if(m.length){for(e=0;h=a[e++];)h=m.indexOf(h),~h&&m.splice(h,1);a=m.join(\" \");b!=a&&(c.className.baseVal=a)}return this};c.hasClass=function(c){return!!~(this.node.className.baseVal.match(l)||[]).indexOf(c)};\n",
        "c.toggleClass=function(c,a){if(null!=a)return a?this.addClass(c):this.removeClass(c);var b=(c||\"\").match(l)||[],m=this.node,e=m.className.baseVal,h=e.match(l)||[],d,f,E;for(d=0;E=b[d++];)f=h.indexOf(E),~f?h.splice(f,1):h.push(E);b=h.join(\" \");e!=b&&(m.className.baseVal=b);return this};c.clone=function(){var c=x(this.node.cloneNode(!0));v(c.node,\"id\")&&v(c.node,{id:c.id});m(c);c.insertAfter(this);return c};c.toDefs=function(){u(this).appendChild(this.node);return this};c.pattern=c.toPattern=function(c,\n",
        "a,b,m){var e=r(\"pattern\",u(this));null==c&&(c=this.getBBox());y(c,\"object\")&&\"x\"in c&&(a=c.y,b=c.width,m=c.height,c=c.x);v(e.node,{x:c,y:a,width:b,height:m,patternUnits:\"userSpaceOnUse\",id:e.id,viewBox:[c,a,b,m].join(\" \")});e.node.appendChild(this.node);return e};c.marker=function(c,a,b,m,e,h){var d=r(\"marker\",u(this));null==c&&(c=this.getBBox());y(c,\"object\")&&\"x\"in c&&(a=c.y,b=c.width,m=c.height,e=c.refX||c.cx,h=c.refY||c.cy,c=c.x);v(d.node,{viewBox:[c,a,b,m].join(\" \"),markerWidth:b,markerHeight:m,\n",
        "orient:\"auto\",refX:e||0,refY:h||0,id:d.id});d.node.appendChild(this.node);return d};var E=function(c,a,b,m){\"function\"!=typeof b||b.length||(m=b,b=L.linear);this.attr=c;this.dur=a;b&&(this.easing=b);m&&(this.callback=m)};a._.Animation=E;a.animation=function(c,a,b,m){return new E(c,a,b,m)};c.inAnim=function(){var c=[],a;for(a in this.anims)this.anims[h](a)&&function(a){c.push({anim:new E(a._attrs,a.dur,a.easing,a._callback),mina:a,curStatus:a.status(),status:function(c){return a.status(c)},stop:function(){a.stop()}})}(this.anims[a]);\n",
        "return c};a.animate=function(c,a,b,m,e,h){\"function\"!=typeof e||e.length||(h=e,e=L.linear);var d=L.time();c=L(c,a,d,d+m,L.time,b,e);h&&k.once(\"mina.finish.\"+c.id,h);return c};c.stop=function(){for(var c=this.inAnim(),a=0,b=c.length;a<b;a++)c[a].stop();return this};c.animate=function(c,a,b,m){\"function\"!=typeof b||b.length||(m=b,b=L.linear);c instanceof E&&(m=c.callback,b=c.easing,a=b.dur,c=c.attr);var d=[],f=[],l={},t,ca,n,T=this,q;for(q in c)if(c[h](q)){T.equal?(n=T.equal(q,J(c[q])),t=n.from,ca=\n",
        "n.to,n=n.f):(t=+T.attr(q),ca=+c[q]);var la=y(t,\"array\")?t.length:1;l[q]=e(d.length,d.length+la,n);d=d.concat(t);f=f.concat(ca)}t=L.time();var p=L(d,f,t,t+a,L.time,function(c){var a={},b;for(b in l)l[h](b)&&(a[b]=l[b](c));T.attr(a)},b);T.anims[p.id]=p;p._attrs=c;p._callback=m;k(\"snap.animcreated.\"+T.id,p);k.once(\"mina.finish.\"+p.id,function(){delete T.anims[p.id];m&&m.call(T)});k.once(\"mina.stop.\"+p.id,function(){delete T.anims[p.id]});return T};var T={};c.data=function(c,b){var m=T[this.id]=T[this.id]||\n",
        "{};if(0==arguments.length)return k(\"snap.data.get.\"+this.id,this,m,null),m;if(1==arguments.length){if(a.is(c,\"object\")){for(var e in c)c[h](e)&&this.data(e,c[e]);return this}k(\"snap.data.get.\"+this.id,this,m[c],c);return m[c]}m[c]=b;k(\"snap.data.set.\"+this.id,this,b,c);return this};c.removeData=function(c){null==c?T[this.id]={}:T[this.id]&&delete T[this.id][c];return this};c.outerSVG=c.toString=d(1);c.innerSVG=d()})(e.prototype);a.parse=function(c){var a=G.doc.createDocumentFragment(),b=!0,m=G.doc.createElement(\"div\");\n",
        "c=J(c);c.match(/^\\s*<\\s*svg(?:\\s|>)/)||(c=\"<svg>\"+c+\"</svg>\",b=!1);m.innerHTML=c;if(c=m.getElementsByTagName(\"svg\")[0])if(b)a=c;else for(;c.firstChild;)a.appendChild(c.firstChild);m.innerHTML=aa;return new l(a)};l.prototype.select=e.prototype.select;l.prototype.selectAll=e.prototype.selectAll;a.fragment=function(){for(var c=Array.prototype.slice.call(arguments,0),b=G.doc.createDocumentFragment(),m=0,e=c.length;m<e;m++){var h=c[m];h.node&&h.node.nodeType&&b.appendChild(h.node);h.nodeType&&b.appendChild(h);\n",
        "\"string\"==typeof h&&b.appendChild(a.parse(h).node)}return new l(b)};a._.make=r;a._.wrap=x;s.prototype.el=function(c,a){var b=r(c,this.node);a&&b.attr(a);return b};k.on(\"snap.util.getattr\",function(){var c=k.nt(),c=c.substring(c.lastIndexOf(\".\")+1),a=c.replace(/[A-Z]/g,function(c){return\"-\"+c.toLowerCase()});return pa[h](a)?this.node.ownerDocument.defaultView.getComputedStyle(this.node,null).getPropertyValue(a):v(this.node,c)});var pa={\"alignment-baseline\":0,\"baseline-shift\":0,clip:0,\"clip-path\":0,\n",
        "\"clip-rule\":0,color:0,\"color-interpolation\":0,\"color-interpolation-filters\":0,\"color-profile\":0,\"color-rendering\":0,cursor:0,direction:0,display:0,\"dominant-baseline\":0,\"enable-background\":0,fill:0,\"fill-opacity\":0,\"fill-rule\":0,filter:0,\"flood-color\":0,\"flood-opacity\":0,font:0,\"font-family\":0,\"font-size\":0,\"font-size-adjust\":0,\"font-stretch\":0,\"font-style\":0,\"font-variant\":0,\"font-weight\":0,\"glyph-orientation-horizontal\":0,\"glyph-orientation-vertical\":0,\"image-rendering\":0,kerning:0,\"letter-spacing\":0,\n",
        "\"lighting-color\":0,marker:0,\"marker-end\":0,\"marker-mid\":0,\"marker-start\":0,mask:0,opacity:0,overflow:0,\"pointer-events\":0,\"shape-rendering\":0,\"stop-color\":0,\"stop-opacity\":0,stroke:0,\"stroke-dasharray\":0,\"stroke-dashoffset\":0,\"stroke-linecap\":0,\"stroke-linejoin\":0,\"stroke-miterlimit\":0,\"stroke-opacity\":0,\"stroke-width\":0,\"text-anchor\":0,\"text-decoration\":0,\"text-rendering\":0,\"unicode-bidi\":0,visibility:0,\"word-spacing\":0,\"writing-mode\":0};k.on(\"snap.util.attr\",function(c){var a=k.nt(),b={},a=a.substring(a.lastIndexOf(\".\")+\n",
        "1);b[a]=c;var m=a.replace(/-(\\w)/gi,function(c,a){return a.toUpperCase()}),a=a.replace(/[A-Z]/g,function(c){return\"-\"+c.toLowerCase()});pa[h](a)?this.node.style[m]=null==c?aa:c:v(this.node,b)});a.ajax=function(c,a,b,m){var e=new XMLHttpRequest,h=V();if(e){if(y(a,\"function\"))m=b,b=a,a=null;else if(y(a,\"object\")){var d=[],f;for(f in a)a.hasOwnProperty(f)&&d.push(encodeURIComponent(f)+\"=\"+encodeURIComponent(a[f]));a=d.join(\"&\")}e.open(a?\"POST\":\"GET\",c,!0);a&&(e.setRequestHeader(\"X-Requested-With\",\"XMLHttpRequest\"),\n",
        "e.setRequestHeader(\"Content-type\",\"application/x-www-form-urlencoded\"));b&&(k.once(\"snap.ajax.\"+h+\".0\",b),k.once(\"snap.ajax.\"+h+\".200\",b),k.once(\"snap.ajax.\"+h+\".304\",b));e.onreadystatechange=function(){4==e.readyState&&k(\"snap.ajax.\"+h+\".\"+e.status,m,e)};if(4==e.readyState)return e;e.send(a);return e}};a.load=function(c,b,m){a.ajax(c,function(c){c=a.parse(c.responseText);m?b.call(m,c):b(c)})};a.getElementByPoint=function(c,a){var b,m,e=G.doc.elementFromPoint(c,a);if(G.win.opera&&\"svg\"==e.tagName){b=\n",
        "e;m=b.getBoundingClientRect();b=b.ownerDocument;var h=b.body,d=b.documentElement;b=m.top+(g.win.pageYOffset||d.scrollTop||h.scrollTop)-(d.clientTop||h.clientTop||0);m=m.left+(g.win.pageXOffset||d.scrollLeft||h.scrollLeft)-(d.clientLeft||h.clientLeft||0);h=e.createSVGRect();h.x=c-m;h.y=a-b;h.width=h.height=1;b=e.getIntersectionList(h,null);b.length&&(e=b[b.length-1])}return e?x(e):null};a.plugin=function(c){c(a,e,s,G,l)};return G.win.Snap=a}();C.plugin(function(a,k,y,M,A){function w(a,d,f,b,q,e){null==\n",
        "d&&\"[object SVGMatrix]\"==z.call(a)?(this.a=a.a,this.b=a.b,this.c=a.c,this.d=a.d,this.e=a.e,this.f=a.f):null!=a?(this.a=+a,this.b=+d,this.c=+f,this.d=+b,this.e=+q,this.f=+e):(this.a=1,this.c=this.b=0,this.d=1,this.f=this.e=0)}var z=Object.prototype.toString,d=String,f=Math;(function(n){function k(a){return a[0]*a[0]+a[1]*a[1]}function p(a){var d=f.sqrt(k(a));a[0]&&(a[0]/=d);a[1]&&(a[1]/=d)}n.add=function(a,d,e,f,n,p){var k=[[],[],[] ],u=[[this.a,this.c,this.e],[this.b,this.d,this.f],[0,0,1] ];d=[[a,\n",
        "e,n],[d,f,p],[0,0,1] ];a&&a instanceof w&&(d=[[a.a,a.c,a.e],[a.b,a.d,a.f],[0,0,1] ]);for(a=0;3>a;a++)for(e=0;3>e;e++){for(f=n=0;3>f;f++)n+=u[a][f]*d[f][e];k[a][e]=n}this.a=k[0][0];this.b=k[1][0];this.c=k[0][1];this.d=k[1][1];this.e=k[0][2];this.f=k[1][2];return this};n.invert=function(){var a=this.a*this.d-this.b*this.c;return new w(this.d/a,-this.b/a,-this.c/a,this.a/a,(this.c*this.f-this.d*this.e)/a,(this.b*this.e-this.a*this.f)/a)};n.clone=function(){return new w(this.a,this.b,this.c,this.d,this.e,\n",
        "this.f)};n.translate=function(a,d){return this.add(1,0,0,1,a,d)};n.scale=function(a,d,e,f){null==d&&(d=a);(e||f)&&this.add(1,0,0,1,e,f);this.add(a,0,0,d,0,0);(e||f)&&this.add(1,0,0,1,-e,-f);return this};n.rotate=function(b,d,e){b=a.rad(b);d=d||0;e=e||0;var l=+f.cos(b).toFixed(9);b=+f.sin(b).toFixed(9);this.add(l,b,-b,l,d,e);return this.add(1,0,0,1,-d,-e)};n.x=function(a,d){return a*this.a+d*this.c+this.e};n.y=function(a,d){return a*this.b+d*this.d+this.f};n.get=function(a){return+this[d.fromCharCode(97+\n",
        "a)].toFixed(4)};n.toString=function(){return\"matrix(\"+[this.get(0),this.get(1),this.get(2),this.get(3),this.get(4),this.get(5)].join()+\")\"};n.offset=function(){return[this.e.toFixed(4),this.f.toFixed(4)]};n.determinant=function(){return this.a*this.d-this.b*this.c};n.split=function(){var b={};b.dx=this.e;b.dy=this.f;var d=[[this.a,this.c],[this.b,this.d] ];b.scalex=f.sqrt(k(d[0]));p(d[0]);b.shear=d[0][0]*d[1][0]+d[0][1]*d[1][1];d[1]=[d[1][0]-d[0][0]*b.shear,d[1][1]-d[0][1]*b.shear];b.scaley=f.sqrt(k(d[1]));\n",
        "p(d[1]);b.shear/=b.scaley;0>this.determinant()&&(b.scalex=-b.scalex);var e=-d[0][1],d=d[1][1];0>d?(b.rotate=a.deg(f.acos(d)),0>e&&(b.rotate=360-b.rotate)):b.rotate=a.deg(f.asin(e));b.isSimple=!+b.shear.toFixed(9)&&(b.scalex.toFixed(9)==b.scaley.toFixed(9)||!b.rotate);b.isSuperSimple=!+b.shear.toFixed(9)&&b.scalex.toFixed(9)==b.scaley.toFixed(9)&&!b.rotate;b.noRotation=!+b.shear.toFixed(9)&&!b.rotate;return b};n.toTransformString=function(a){a=a||this.split();if(+a.shear.toFixed(9))return\"m\"+[this.get(0),\n",
        "this.get(1),this.get(2),this.get(3),this.get(4),this.get(5)];a.scalex=+a.scalex.toFixed(4);a.scaley=+a.scaley.toFixed(4);a.rotate=+a.rotate.toFixed(4);return(a.dx||a.dy?\"t\"+[+a.dx.toFixed(4),+a.dy.toFixed(4)]:\"\")+(1!=a.scalex||1!=a.scaley?\"s\"+[a.scalex,a.scaley,0,0]:\"\")+(a.rotate?\"r\"+[+a.rotate.toFixed(4),0,0]:\"\")}})(w.prototype);a.Matrix=w;a.matrix=function(a,d,f,b,k,e){return new w(a,d,f,b,k,e)}});C.plugin(function(a,v,y,M,A){function w(h){return function(d){k.stop();d instanceof A&&1==d.node.childNodes.length&&\n",
        "(\"radialGradient\"==d.node.firstChild.tagName||\"linearGradient\"==d.node.firstChild.tagName||\"pattern\"==d.node.firstChild.tagName)&&(d=d.node.firstChild,b(this).appendChild(d),d=u(d));if(d instanceof v)if(\"radialGradient\"==d.type||\"linearGradient\"==d.type||\"pattern\"==d.type){d.node.id||e(d.node,{id:d.id});var f=l(d.node.id)}else f=d.attr(h);else f=a.color(d),f.error?(f=a(b(this).ownerSVGElement).gradient(d))?(f.node.id||e(f.node,{id:f.id}),f=l(f.node.id)):f=d:f=r(f);d={};d[h]=f;e(this.node,d);this.node.style[h]=\n",
        "x}}function z(a){k.stop();a==+a&&(a+=\"px\");this.node.style.fontSize=a}function d(a){var b=[];a=a.childNodes;for(var e=0,f=a.length;e<f;e++){var l=a[e];3==l.nodeType&&b.push(l.nodeValue);\"tspan\"==l.tagName&&(1==l.childNodes.length&&3==l.firstChild.nodeType?b.push(l.firstChild.nodeValue):b.push(d(l)))}return b}function f(){k.stop();return this.node.style.fontSize}var n=a._.make,u=a._.wrap,p=a.is,b=a._.getSomeDefs,q=/^url\\(#?([^)]+)\\)$/,e=a._.$,l=a.url,r=String,s=a._.separator,x=\"\";k.on(\"snap.util.attr.mask\",\n",
        "function(a){if(a instanceof v||a instanceof A){k.stop();a instanceof A&&1==a.node.childNodes.length&&(a=a.node.firstChild,b(this).appendChild(a),a=u(a));if(\"mask\"==a.type)var d=a;else d=n(\"mask\",b(this)),d.node.appendChild(a.node);!d.node.id&&e(d.node,{id:d.id});e(this.node,{mask:l(d.id)})}});(function(a){k.on(\"snap.util.attr.clip\",a);k.on(\"snap.util.attr.clip-path\",a);k.on(\"snap.util.attr.clipPath\",a)})(function(a){if(a instanceof v||a instanceof A){k.stop();if(\"clipPath\"==a.type)var d=a;else d=\n",
        "n(\"clipPath\",b(this)),d.node.appendChild(a.node),!d.node.id&&e(d.node,{id:d.id});e(this.node,{\"clip-path\":l(d.id)})}});k.on(\"snap.util.attr.fill\",w(\"fill\"));k.on(\"snap.util.attr.stroke\",w(\"stroke\"));var G=/^([lr])(?:\\(([^)]*)\\))?(.*)$/i;k.on(\"snap.util.grad.parse\",function(a){a=r(a);var b=a.match(G);if(!b)return null;a=b[1];var e=b[2],b=b[3],e=e.split(/\\s*,\\s*/).map(function(a){return+a==a?+a:a});1==e.length&&0==e[0]&&(e=[]);b=b.split(\"-\");b=b.map(function(a){a=a.split(\":\");var b={color:a[0]};a[1]&&\n",
        "(b.offset=parseFloat(a[1]));return b});return{type:a,params:e,stops:b}});k.on(\"snap.util.attr.d\",function(b){k.stop();p(b,\"array\")&&p(b[0],\"array\")&&(b=a.path.toString.call(b));b=r(b);b.match(/[ruo]/i)&&(b=a.path.toAbsolute(b));e(this.node,{d:b})})(-1);k.on(\"snap.util.attr.#text\",function(a){k.stop();a=r(a);for(a=M.doc.createTextNode(a);this.node.firstChild;)this.node.removeChild(this.node.firstChild);this.node.appendChild(a)})(-1);k.on(\"snap.util.attr.path\",function(a){k.stop();this.attr({d:a})})(-1);\n",
        "k.on(\"snap.util.attr.class\",function(a){k.stop();this.node.className.baseVal=a})(-1);k.on(\"snap.util.attr.viewBox\",function(a){a=p(a,\"object\")&&\"x\"in a?[a.x,a.y,a.width,a.height].join(\" \"):p(a,\"array\")?a.join(\" \"):a;e(this.node,{viewBox:a});k.stop()})(-1);k.on(\"snap.util.attr.transform\",function(a){this.transform(a);k.stop()})(-1);k.on(\"snap.util.attr.r\",function(a){\"rect\"==this.type&&(k.stop(),e(this.node,{rx:a,ry:a}))})(-1);k.on(\"snap.util.attr.textpath\",function(a){k.stop();if(\"text\"==this.type){var d,\n",
        "f;if(!a&&this.textPath){for(a=this.textPath;a.node.firstChild;)this.node.appendChild(a.node.firstChild);a.remove();delete this.textPath}else if(p(a,\"string\")?(d=b(this),a=u(d.parentNode).path(a),d.appendChild(a.node),d=a.id,a.attr({id:d})):(a=u(a),a instanceof v&&(d=a.attr(\"id\"),d||(d=a.id,a.attr({id:d})))),d)if(a=this.textPath,f=this.node,a)a.attr({\"xlink:href\":\"#\"+d});else{for(a=e(\"textPath\",{\"xlink:href\":\"#\"+d});f.firstChild;)a.appendChild(f.firstChild);f.appendChild(a);this.textPath=u(a)}}})(-1);\n",
        "k.on(\"snap.util.attr.text\",function(a){if(\"text\"==this.type){for(var b=this.node,d=function(a){var b=e(\"tspan\");if(p(a,\"array\"))for(var f=0;f<a.length;f++)b.appendChild(d(a[f]));else b.appendChild(M.doc.createTextNode(a));b.normalize&&b.normalize();return b};b.firstChild;)b.removeChild(b.firstChild);for(a=d(a);a.firstChild;)b.appendChild(a.firstChild)}k.stop()})(-1);k.on(\"snap.util.attr.fontSize\",z)(-1);k.on(\"snap.util.attr.font-size\",z)(-1);k.on(\"snap.util.getattr.transform\",function(){k.stop();\n",
        "return this.transform()})(-1);k.on(\"snap.util.getattr.textpath\",function(){k.stop();return this.textPath})(-1);(function(){function b(d){return function(){k.stop();var b=M.doc.defaultView.getComputedStyle(this.node,null).getPropertyValue(\"marker-\"+d);return\"none\"==b?b:a(M.doc.getElementById(b.match(q)[1]))}}function d(a){return function(b){k.stop();var d=\"marker\"+a.charAt(0).toUpperCase()+a.substring(1);if(\"\"==b||!b)this.node.style[d]=\"none\";else if(\"marker\"==b.type){var f=b.node.id;f||e(b.node,{id:b.id});\n",
        "this.node.style[d]=l(f)}}}k.on(\"snap.util.getattr.marker-end\",b(\"end\"))(-1);k.on(\"snap.util.getattr.markerEnd\",b(\"end\"))(-1);k.on(\"snap.util.getattr.marker-start\",b(\"start\"))(-1);k.on(\"snap.util.getattr.markerStart\",b(\"start\"))(-1);k.on(\"snap.util.getattr.marker-mid\",b(\"mid\"))(-1);k.on(\"snap.util.getattr.markerMid\",b(\"mid\"))(-1);k.on(\"snap.util.attr.marker-end\",d(\"end\"))(-1);k.on(\"snap.util.attr.markerEnd\",d(\"end\"))(-1);k.on(\"snap.util.attr.marker-start\",d(\"start\"))(-1);k.on(\"snap.util.attr.markerStart\",\n",
        "d(\"start\"))(-1);k.on(\"snap.util.attr.marker-mid\",d(\"mid\"))(-1);k.on(\"snap.util.attr.markerMid\",d(\"mid\"))(-1)})();k.on(\"snap.util.getattr.r\",function(){if(\"rect\"==this.type&&e(this.node,\"rx\")==e(this.node,\"ry\"))return k.stop(),e(this.node,\"rx\")})(-1);k.on(\"snap.util.getattr.text\",function(){if(\"text\"==this.type||\"tspan\"==this.type){k.stop();var a=d(this.node);return 1==a.length?a[0]:a}})(-1);k.on(\"snap.util.getattr.#text\",function(){return this.node.textContent})(-1);k.on(\"snap.util.getattr.viewBox\",\n",
        "function(){k.stop();var b=e(this.node,\"viewBox\");if(b)return b=b.split(s),a._.box(+b[0],+b[1],+b[2],+b[3])})(-1);k.on(\"snap.util.getattr.points\",function(){var a=e(this.node,\"points\");k.stop();if(a)return a.split(s)})(-1);k.on(\"snap.util.getattr.path\",function(){var a=e(this.node,\"d\");k.stop();return a})(-1);k.on(\"snap.util.getattr.class\",function(){return this.node.className.baseVal})(-1);k.on(\"snap.util.getattr.fontSize\",f)(-1);k.on(\"snap.util.getattr.font-size\",f)(-1)});C.plugin(function(a,v,y,\n",
        "M,A){function w(a){return a}function z(a){return function(b){return+b.toFixed(3)+a}}var d={\"+\":function(a,b){return a+b},\"-\":function(a,b){return a-b},\"/\":function(a,b){return a/b},\"*\":function(a,b){return a*b}},f=String,n=/[a-z]+$/i,u=/^\\s*([+\\-\\/*])\\s*=\\s*([\\d.eE+\\-]+)\\s*([^\\d\\s]+)?\\s*$/;k.on(\"snap.util.attr\",function(a){if(a=f(a).match(u)){var b=k.nt(),b=b.substring(b.lastIndexOf(\".\")+1),q=this.attr(b),e={};k.stop();var l=a[3]||\"\",r=q.match(n),s=d[a[1] ];r&&r==l?a=s(parseFloat(q),+a[2]):(q=this.asPX(b),\n",
        "a=s(this.asPX(b),this.asPX(b,a[2]+l)));isNaN(q)||isNaN(a)||(e[b]=a,this.attr(e))}})(-10);k.on(\"snap.util.equal\",function(a,b){var q=f(this.attr(a)||\"\"),e=f(b).match(u);if(e){k.stop();var l=e[3]||\"\",r=q.match(n),s=d[e[1] ];if(r&&r==l)return{from:parseFloat(q),to:s(parseFloat(q),+e[2]),f:z(r)};q=this.asPX(a);return{from:q,to:s(q,this.asPX(a,e[2]+l)),f:w}}})(-10)});C.plugin(function(a,v,y,M,A){var w=y.prototype,z=a.is;w.rect=function(a,d,k,p,b,q){var e;null==q&&(q=b);z(a,\"object\")&&\"[object Object]\"==\n",
        "a?e=a:null!=a&&(e={x:a,y:d,width:k,height:p},null!=b&&(e.rx=b,e.ry=q));return this.el(\"rect\",e)};w.circle=function(a,d,k){var p;z(a,\"object\")&&\"[object Object]\"==a?p=a:null!=a&&(p={cx:a,cy:d,r:k});return this.el(\"circle\",p)};var d=function(){function a(){this.parentNode.removeChild(this)}return function(d,k){var p=M.doc.createElement(\"img\"),b=M.doc.body;p.style.cssText=\"position:absolute;left:-9999em;top:-9999em\";p.onload=function(){k.call(p);p.onload=p.onerror=null;b.removeChild(p)};p.onerror=a;\n",
        "b.appendChild(p);p.src=d}}();w.image=function(f,n,k,p,b){var q=this.el(\"image\");if(z(f,\"object\")&&\"src\"in f)q.attr(f);else if(null!=f){var e={\"xlink:href\":f,preserveAspectRatio:\"none\"};null!=n&&null!=k&&(e.x=n,e.y=k);null!=p&&null!=b?(e.width=p,e.height=b):d(f,function(){a._.$(q.node,{width:this.offsetWidth,height:this.offsetHeight})});a._.$(q.node,e)}return q};w.ellipse=function(a,d,k,p){var b;z(a,\"object\")&&\"[object Object]\"==a?b=a:null!=a&&(b={cx:a,cy:d,rx:k,ry:p});return this.el(\"ellipse\",b)};\n",
        "w.path=function(a){var d;z(a,\"object\")&&!z(a,\"array\")?d=a:a&&(d={d:a});return this.el(\"path\",d)};w.group=w.g=function(a){var d=this.el(\"g\");1==arguments.length&&a&&!a.type?d.attr(a):arguments.length&&d.add(Array.prototype.slice.call(arguments,0));return d};w.svg=function(a,d,k,p,b,q,e,l){var r={};z(a,\"object\")&&null==d?r=a:(null!=a&&(r.x=a),null!=d&&(r.y=d),null!=k&&(r.width=k),null!=p&&(r.height=p),null!=b&&null!=q&&null!=e&&null!=l&&(r.viewBox=[b,q,e,l]));return this.el(\"svg\",r)};w.mask=function(a){var d=\n",
        "this.el(\"mask\");1==arguments.length&&a&&!a.type?d.attr(a):arguments.length&&d.add(Array.prototype.slice.call(arguments,0));return d};w.ptrn=function(a,d,k,p,b,q,e,l){if(z(a,\"object\"))var r=a;else arguments.length?(r={},null!=a&&(r.x=a),null!=d&&(r.y=d),null!=k&&(r.width=k),null!=p&&(r.height=p),null!=b&&null!=q&&null!=e&&null!=l&&(r.viewBox=[b,q,e,l])):r={patternUnits:\"userSpaceOnUse\"};return this.el(\"pattern\",r)};w.use=function(a){return null!=a?(make(\"use\",this.node),a instanceof v&&(a.attr(\"id\")||\n",
        "a.attr({id:ID()}),a=a.attr(\"id\")),this.el(\"use\",{\"xlink:href\":a})):v.prototype.use.call(this)};w.text=function(a,d,k){var p={};z(a,\"object\")?p=a:null!=a&&(p={x:a,y:d,text:k||\"\"});return this.el(\"text\",p)};w.line=function(a,d,k,p){var b={};z(a,\"object\")?b=a:null!=a&&(b={x1:a,x2:k,y1:d,y2:p});return this.el(\"line\",b)};w.polyline=function(a){1<arguments.length&&(a=Array.prototype.slice.call(arguments,0));var d={};z(a,\"object\")&&!z(a,\"array\")?d=a:null!=a&&(d={points:a});return this.el(\"polyline\",d)};\n",
        "w.polygon=function(a){1<arguments.length&&(a=Array.prototype.slice.call(arguments,0));var d={};z(a,\"object\")&&!z(a,\"array\")?d=a:null!=a&&(d={points:a});return this.el(\"polygon\",d)};(function(){function d(){return this.selectAll(\"stop\")}function n(b,d){var f=e(\"stop\"),k={offset:+d+\"%\"};b=a.color(b);k[\"stop-color\"]=b.hex;1>b.opacity&&(k[\"stop-opacity\"]=b.opacity);e(f,k);this.node.appendChild(f);return this}function u(){if(\"linearGradient\"==this.type){var b=e(this.node,\"x1\")||0,d=e(this.node,\"x2\")||\n",
        "1,f=e(this.node,\"y1\")||0,k=e(this.node,\"y2\")||0;return a._.box(b,f,math.abs(d-b),math.abs(k-f))}b=this.node.r||0;return a._.box((this.node.cx||0.5)-b,(this.node.cy||0.5)-b,2*b,2*b)}function p(a,d){function f(a,b){for(var d=(b-u)/(a-w),e=w;e<a;e++)h[e].offset=+(+u+d*(e-w)).toFixed(2);w=a;u=b}var n=k(\"snap.util.grad.parse\",null,d).firstDefined(),p;if(!n)return null;n.params.unshift(a);p=\"l\"==n.type.toLowerCase()?b.apply(0,n.params):q.apply(0,n.params);n.type!=n.type.toLowerCase()&&e(p.node,{gradientUnits:\"userSpaceOnUse\"});\n",
        "var h=n.stops,n=h.length,u=0,w=0;n--;for(var v=0;v<n;v++)\"offset\"in h[v]&&f(v,h[v].offset);h[n].offset=h[n].offset||100;f(n,h[n].offset);for(v=0;v<=n;v++){var y=h[v];p.addStop(y.color,y.offset)}return p}function b(b,k,p,q,w){b=a._.make(\"linearGradient\",b);b.stops=d;b.addStop=n;b.getBBox=u;null!=k&&e(b.node,{x1:k,y1:p,x2:q,y2:w});return b}function q(b,k,p,q,w,h){b=a._.make(\"radialGradient\",b);b.stops=d;b.addStop=n;b.getBBox=u;null!=k&&e(b.node,{cx:k,cy:p,r:q});null!=w&&null!=h&&e(b.node,{fx:w,fy:h});\n",
        "return b}var e=a._.$;w.gradient=function(a){return p(this.defs,a)};w.gradientLinear=function(a,d,e,f){return b(this.defs,a,d,e,f)};w.gradientRadial=function(a,b,d,e,f){return q(this.defs,a,b,d,e,f)};w.toString=function(){var b=this.node.ownerDocument,d=b.createDocumentFragment(),b=b.createElement(\"div\"),e=this.node.cloneNode(!0);d.appendChild(b);b.appendChild(e);a._.$(e,{xmlns:\"http://www.w3.org/2000/svg\"});b=b.innerHTML;d.removeChild(d.firstChild);return b};w.clear=function(){for(var a=this.node.firstChild,\n",
        "b;a;)b=a.nextSibling,\"defs\"!=a.tagName?a.parentNode.removeChild(a):w.clear.call({node:a}),a=b}})()});C.plugin(function(a,k,y,M){function A(a){var b=A.ps=A.ps||{};b[a]?b[a].sleep=100:b[a]={sleep:100};setTimeout(function(){for(var d in b)b[L](d)&&d!=a&&(b[d].sleep--,!b[d].sleep&&delete b[d])});return b[a]}function w(a,b,d,e){null==a&&(a=b=d=e=0);null==b&&(b=a.y,d=a.width,e=a.height,a=a.x);return{x:a,y:b,width:d,w:d,height:e,h:e,x2:a+d,y2:b+e,cx:a+d/2,cy:b+e/2,r1:F.min(d,e)/2,r2:F.max(d,e)/2,r0:F.sqrt(d*\n",
        "d+e*e)/2,path:s(a,b,d,e),vb:[a,b,d,e].join(\" \")}}function z(){return this.join(\",\").replace(N,\"$1\")}function d(a){a=C(a);a.toString=z;return a}function f(a,b,d,h,f,k,l,n,p){if(null==p)return e(a,b,d,h,f,k,l,n);if(0>p||e(a,b,d,h,f,k,l,n)<p)p=void 0;else{var q=0.5,O=1-q,s;for(s=e(a,b,d,h,f,k,l,n,O);0.01<Z(s-p);)q/=2,O+=(s<p?1:-1)*q,s=e(a,b,d,h,f,k,l,n,O);p=O}return u(a,b,d,h,f,k,l,n,p)}function n(b,d){function e(a){return+(+a).toFixed(3)}return a._.cacher(function(a,h,l){a instanceof k&&(a=a.attr(\"d\"));\n",
        "a=I(a);for(var n,p,D,q,O=\"\",s={},c=0,t=0,r=a.length;t<r;t++){D=a[t];if(\"M\"==D[0])n=+D[1],p=+D[2];else{q=f(n,p,D[1],D[2],D[3],D[4],D[5],D[6]);if(c+q>h){if(d&&!s.start){n=f(n,p,D[1],D[2],D[3],D[4],D[5],D[6],h-c);O+=[\"C\"+e(n.start.x),e(n.start.y),e(n.m.x),e(n.m.y),e(n.x),e(n.y)];if(l)return O;s.start=O;O=[\"M\"+e(n.x),e(n.y)+\"C\"+e(n.n.x),e(n.n.y),e(n.end.x),e(n.end.y),e(D[5]),e(D[6])].join();c+=q;n=+D[5];p=+D[6];continue}if(!b&&!d)return n=f(n,p,D[1],D[2],D[3],D[4],D[5],D[6],h-c)}c+=q;n=+D[5];p=+D[6]}O+=\n",
        "D.shift()+D}s.end=O;return n=b?c:d?s:u(n,p,D[0],D[1],D[2],D[3],D[4],D[5],1)},null,a._.clone)}function u(a,b,d,e,h,f,k,l,n){var p=1-n,q=ma(p,3),s=ma(p,2),c=n*n,t=c*n,r=q*a+3*s*n*d+3*p*n*n*h+t*k,q=q*b+3*s*n*e+3*p*n*n*f+t*l,s=a+2*n*(d-a)+c*(h-2*d+a),t=b+2*n*(e-b)+c*(f-2*e+b),x=d+2*n*(h-d)+c*(k-2*h+d),c=e+2*n*(f-e)+c*(l-2*f+e);a=p*a+n*d;b=p*b+n*e;h=p*h+n*k;f=p*f+n*l;l=90-180*F.atan2(s-x,t-c)/S;return{x:r,y:q,m:{x:s,y:t},n:{x:x,y:c},start:{x:a,y:b},end:{x:h,y:f},alpha:l}}function p(b,d,e,h,f,n,k,l){a.is(b,\n",
        "\"array\")||(b=[b,d,e,h,f,n,k,l]);b=U.apply(null,b);return w(b.min.x,b.min.y,b.max.x-b.min.x,b.max.y-b.min.y)}function b(a,b,d){return b>=a.x&&b<=a.x+a.width&&d>=a.y&&d<=a.y+a.height}function q(a,d){a=w(a);d=w(d);return b(d,a.x,a.y)||b(d,a.x2,a.y)||b(d,a.x,a.y2)||b(d,a.x2,a.y2)||b(a,d.x,d.y)||b(a,d.x2,d.y)||b(a,d.x,d.y2)||b(a,d.x2,d.y2)||(a.x<d.x2&&a.x>d.x||d.x<a.x2&&d.x>a.x)&&(a.y<d.y2&&a.y>d.y||d.y<a.y2&&d.y>a.y)}function e(a,b,d,e,h,f,n,k,l){null==l&&(l=1);l=(1<l?1:0>l?0:l)/2;for(var p=[-0.1252,\n",
        "0.1252,-0.3678,0.3678,-0.5873,0.5873,-0.7699,0.7699,-0.9041,0.9041,-0.9816,0.9816],q=[0.2491,0.2491,0.2335,0.2335,0.2032,0.2032,0.1601,0.1601,0.1069,0.1069,0.0472,0.0472],s=0,c=0;12>c;c++)var t=l*p[c]+l,r=t*(t*(-3*a+9*d-9*h+3*n)+6*a-12*d+6*h)-3*a+3*d,t=t*(t*(-3*b+9*e-9*f+3*k)+6*b-12*e+6*f)-3*b+3*e,s=s+q[c]*F.sqrt(r*r+t*t);return l*s}function l(a,b,d){a=I(a);b=I(b);for(var h,f,l,n,k,s,r,O,x,c,t=d?0:[],w=0,v=a.length;w<v;w++)if(x=a[w],\"M\"==x[0])h=k=x[1],f=s=x[2];else{\"C\"==x[0]?(x=[h,f].concat(x.slice(1)),\n",
        "h=x[6],f=x[7]):(x=[h,f,h,f,k,s,k,s],h=k,f=s);for(var G=0,y=b.length;G<y;G++)if(c=b[G],\"M\"==c[0])l=r=c[1],n=O=c[2];else{\"C\"==c[0]?(c=[l,n].concat(c.slice(1)),l=c[6],n=c[7]):(c=[l,n,l,n,r,O,r,O],l=r,n=O);var z;var K=x,B=c;z=d;var H=p(K),J=p(B);if(q(H,J)){for(var H=e.apply(0,K),J=e.apply(0,B),H=~~(H/8),J=~~(J/8),U=[],A=[],F={},M=z?0:[],P=0;P<H+1;P++){var C=u.apply(0,K.concat(P/H));U.push({x:C.x,y:C.y,t:P/H})}for(P=0;P<J+1;P++)C=u.apply(0,B.concat(P/J)),A.push({x:C.x,y:C.y,t:P/J});for(P=0;P<H;P++)for(K=\n",
        "0;K<J;K++){var Q=U[P],L=U[P+1],B=A[K],C=A[K+1],N=0.001>Z(L.x-Q.x)?\"y\":\"x\",S=0.001>Z(C.x-B.x)?\"y\":\"x\",R;R=Q.x;var Y=Q.y,V=L.x,ea=L.y,fa=B.x,ga=B.y,ha=C.x,ia=C.y;if(W(R,V)<X(fa,ha)||X(R,V)>W(fa,ha)||W(Y,ea)<X(ga,ia)||X(Y,ea)>W(ga,ia))R=void 0;else{var $=(R*ea-Y*V)*(fa-ha)-(R-V)*(fa*ia-ga*ha),aa=(R*ea-Y*V)*(ga-ia)-(Y-ea)*(fa*ia-ga*ha),ja=(R-V)*(ga-ia)-(Y-ea)*(fa-ha);if(ja){var $=$/ja,aa=aa/ja,ja=+$.toFixed(2),ba=+aa.toFixed(2);R=ja<+X(R,V).toFixed(2)||ja>+W(R,V).toFixed(2)||ja<+X(fa,ha).toFixed(2)||\n",
        "ja>+W(fa,ha).toFixed(2)||ba<+X(Y,ea).toFixed(2)||ba>+W(Y,ea).toFixed(2)||ba<+X(ga,ia).toFixed(2)||ba>+W(ga,ia).toFixed(2)?void 0:{x:$,y:aa}}else R=void 0}R&&F[R.x.toFixed(4)]!=R.y.toFixed(4)&&(F[R.x.toFixed(4)]=R.y.toFixed(4),Q=Q.t+Z((R[N]-Q[N])/(L[N]-Q[N]))*(L.t-Q.t),B=B.t+Z((R[S]-B[S])/(C[S]-B[S]))*(C.t-B.t),0<=Q&&1>=Q&&0<=B&&1>=B&&(z?M++:M.push({x:R.x,y:R.y,t1:Q,t2:B})))}z=M}else z=z?0:[];if(d)t+=z;else{H=0;for(J=z.length;H<J;H++)z[H].segment1=w,z[H].segment2=G,z[H].bez1=x,z[H].bez2=c;t=t.concat(z)}}}return t}\n",
        "function r(a){var b=A(a);if(b.bbox)return C(b.bbox);if(!a)return w();a=I(a);for(var d=0,e=0,h=[],f=[],l,n=0,k=a.length;n<k;n++)l=a[n],\"M\"==l[0]?(d=l[1],e=l[2],h.push(d),f.push(e)):(d=U(d,e,l[1],l[2],l[3],l[4],l[5],l[6]),h=h.concat(d.min.x,d.max.x),f=f.concat(d.min.y,d.max.y),d=l[5],e=l[6]);a=X.apply(0,h);l=X.apply(0,f);h=W.apply(0,h);f=W.apply(0,f);f=w(a,l,h-a,f-l);b.bbox=C(f);return f}function s(a,b,d,e,h){if(h)return[[\"M\",+a+ +h,b],[\"l\",d-2*h,0],[\"a\",h,h,0,0,1,h,h],[\"l\",0,e-2*h],[\"a\",h,h,0,0,1,\n",
        "-h,h],[\"l\",2*h-d,0],[\"a\",h,h,0,0,1,-h,-h],[\"l\",0,2*h-e],[\"a\",h,h,0,0,1,h,-h],[\"z\"] ];a=[[\"M\",a,b],[\"l\",d,0],[\"l\",0,e],[\"l\",-d,0],[\"z\"] ];a.toString=z;return a}function x(a,b,d,e,h){null==h&&null==e&&(e=d);a=+a;b=+b;d=+d;e=+e;if(null!=h){var f=Math.PI/180,l=a+d*Math.cos(-e*f);a+=d*Math.cos(-h*f);var n=b+d*Math.sin(-e*f);b+=d*Math.sin(-h*f);d=[[\"M\",l,n],[\"A\",d,d,0,+(180<h-e),0,a,b] ]}else d=[[\"M\",a,b],[\"m\",0,-e],[\"a\",d,e,0,1,1,0,2*e],[\"a\",d,e,0,1,1,0,-2*e],[\"z\"] ];d.toString=z;return d}function G(b){var e=\n",
        "A(b);if(e.abs)return d(e.abs);Q(b,\"array\")&&Q(b&&b[0],\"array\")||(b=a.parsePathString(b));if(!b||!b.length)return[[\"M\",0,0] ];var h=[],f=0,l=0,n=0,k=0,p=0;\"M\"==b[0][0]&&(f=+b[0][1],l=+b[0][2],n=f,k=l,p++,h[0]=[\"M\",f,l]);for(var q=3==b.length&&\"M\"==b[0][0]&&\"R\"==b[1][0].toUpperCase()&&\"Z\"==b[2][0].toUpperCase(),s,r,w=p,c=b.length;w<c;w++){h.push(s=[]);r=b[w];p=r[0];if(p!=p.toUpperCase())switch(s[0]=p.toUpperCase(),s[0]){case \"A\":s[1]=r[1];s[2]=r[2];s[3]=r[3];s[4]=r[4];s[5]=r[5];s[6]=+r[6]+f;s[7]=+r[7]+\n",
        "l;break;case \"V\":s[1]=+r[1]+l;break;case \"H\":s[1]=+r[1]+f;break;case \"R\":for(var t=[f,l].concat(r.slice(1)),u=2,v=t.length;u<v;u++)t[u]=+t[u]+f,t[++u]=+t[u]+l;h.pop();h=h.concat(P(t,q));break;case \"O\":h.pop();t=x(f,l,r[1],r[2]);t.push(t[0]);h=h.concat(t);break;case \"U\":h.pop();h=h.concat(x(f,l,r[1],r[2],r[3]));s=[\"U\"].concat(h[h.length-1].slice(-2));break;case \"M\":n=+r[1]+f,k=+r[2]+l;default:for(u=1,v=r.length;u<v;u++)s[u]=+r[u]+(u%2?f:l)}else if(\"R\"==p)t=[f,l].concat(r.slice(1)),h.pop(),h=h.concat(P(t,\n",
        "q)),s=[\"R\"].concat(r.slice(-2));else if(\"O\"==p)h.pop(),t=x(f,l,r[1],r[2]),t.push(t[0]),h=h.concat(t);else if(\"U\"==p)h.pop(),h=h.concat(x(f,l,r[1],r[2],r[3])),s=[\"U\"].concat(h[h.length-1].slice(-2));else for(t=0,u=r.length;t<u;t++)s[t]=r[t];p=p.toUpperCase();if(\"O\"!=p)switch(s[0]){case \"Z\":f=+n;l=+k;break;case \"H\":f=s[1];break;case \"V\":l=s[1];break;case \"M\":n=s[s.length-2],k=s[s.length-1];default:f=s[s.length-2],l=s[s.length-1]}}h.toString=z;e.abs=d(h);return h}function h(a,b,d,e){return[a,b,d,e,d,\n",
        "e]}function J(a,b,d,e,h,f){var l=1/3,n=2/3;return[l*a+n*d,l*b+n*e,l*h+n*d,l*f+n*e,h,f]}function K(b,d,e,h,f,l,n,k,p,s){var r=120*S/180,q=S/180*(+f||0),c=[],t,x=a._.cacher(function(a,b,c){var d=a*F.cos(c)-b*F.sin(c);a=a*F.sin(c)+b*F.cos(c);return{x:d,y:a}});if(s)v=s[0],t=s[1],l=s[2],u=s[3];else{t=x(b,d,-q);b=t.x;d=t.y;t=x(k,p,-q);k=t.x;p=t.y;F.cos(S/180*f);F.sin(S/180*f);t=(b-k)/2;v=(d-p)/2;u=t*t/(e*e)+v*v/(h*h);1<u&&(u=F.sqrt(u),e*=u,h*=u);var u=e*e,w=h*h,u=(l==n?-1:1)*F.sqrt(Z((u*w-u*v*v-w*t*t)/\n",
        "(u*v*v+w*t*t)));l=u*e*v/h+(b+k)/2;var u=u*-h*t/e+(d+p)/2,v=F.asin(((d-u)/h).toFixed(9));t=F.asin(((p-u)/h).toFixed(9));v=b<l?S-v:v;t=k<l?S-t:t;0>v&&(v=2*S+v);0>t&&(t=2*S+t);n&&v>t&&(v-=2*S);!n&&t>v&&(t-=2*S)}if(Z(t-v)>r){var c=t,w=k,G=p;t=v+r*(n&&t>v?1:-1);k=l+e*F.cos(t);p=u+h*F.sin(t);c=K(k,p,e,h,f,0,n,w,G,[t,c,l,u])}l=t-v;f=F.cos(v);r=F.sin(v);n=F.cos(t);t=F.sin(t);l=F.tan(l/4);e=4/3*e*l;l*=4/3*h;h=[b,d];b=[b+e*r,d-l*f];d=[k+e*t,p-l*n];k=[k,p];b[0]=2*h[0]-b[0];b[1]=2*h[1]-b[1];if(s)return[b,d,k].concat(c);\n",
        "c=[b,d,k].concat(c).join().split(\",\");s=[];k=0;for(p=c.length;k<p;k++)s[k]=k%2?x(c[k-1],c[k],q).y:x(c[k],c[k+1],q).x;return s}function U(a,b,d,e,h,f,l,k){for(var n=[],p=[[],[] ],s,r,c,t,q=0;2>q;++q)0==q?(r=6*a-12*d+6*h,s=-3*a+9*d-9*h+3*l,c=3*d-3*a):(r=6*b-12*e+6*f,s=-3*b+9*e-9*f+3*k,c=3*e-3*b),1E-12>Z(s)?1E-12>Z(r)||(s=-c/r,0<s&&1>s&&n.push(s)):(t=r*r-4*c*s,c=F.sqrt(t),0>t||(t=(-r+c)/(2*s),0<t&&1>t&&n.push(t),s=(-r-c)/(2*s),0<s&&1>s&&n.push(s)));for(r=q=n.length;q--;)s=n[q],c=1-s,p[0][q]=c*c*c*a+3*\n",
        "c*c*s*d+3*c*s*s*h+s*s*s*l,p[1][q]=c*c*c*b+3*c*c*s*e+3*c*s*s*f+s*s*s*k;p[0][r]=a;p[1][r]=b;p[0][r+1]=l;p[1][r+1]=k;p[0].length=p[1].length=r+2;return{min:{x:X.apply(0,p[0]),y:X.apply(0,p[1])},max:{x:W.apply(0,p[0]),y:W.apply(0,p[1])}}}function I(a,b){var e=!b&&A(a);if(!b&&e.curve)return d(e.curve);var f=G(a),l=b&&G(b),n={x:0,y:0,bx:0,by:0,X:0,Y:0,qx:null,qy:null},k={x:0,y:0,bx:0,by:0,X:0,Y:0,qx:null,qy:null},p=function(a,b,c){if(!a)return[\"C\",b.x,b.y,b.x,b.y,b.x,b.y];a[0]in{T:1,Q:1}||(b.qx=b.qy=null);\n",
        "switch(a[0]){case \"M\":b.X=a[1];b.Y=a[2];break;case \"A\":a=[\"C\"].concat(K.apply(0,[b.x,b.y].concat(a.slice(1))));break;case \"S\":\"C\"==c||\"S\"==c?(c=2*b.x-b.bx,b=2*b.y-b.by):(c=b.x,b=b.y);a=[\"C\",c,b].concat(a.slice(1));break;case \"T\":\"Q\"==c||\"T\"==c?(b.qx=2*b.x-b.qx,b.qy=2*b.y-b.qy):(b.qx=b.x,b.qy=b.y);a=[\"C\"].concat(J(b.x,b.y,b.qx,b.qy,a[1],a[2]));break;case \"Q\":b.qx=a[1];b.qy=a[2];a=[\"C\"].concat(J(b.x,b.y,a[1],a[2],a[3],a[4]));break;case \"L\":a=[\"C\"].concat(h(b.x,b.y,a[1],a[2]));break;case \"H\":a=[\"C\"].concat(h(b.x,\n",
        "b.y,a[1],b.y));break;case \"V\":a=[\"C\"].concat(h(b.x,b.y,b.x,a[1]));break;case \"Z\":a=[\"C\"].concat(h(b.x,b.y,b.X,b.Y))}return a},s=function(a,b){if(7<a[b].length){a[b].shift();for(var c=a[b];c.length;)q[b]=\"A\",l&&(u[b]=\"A\"),a.splice(b++,0,[\"C\"].concat(c.splice(0,6)));a.splice(b,1);v=W(f.length,l&&l.length||0)}},r=function(a,b,c,d,e){a&&b&&\"M\"==a[e][0]&&\"M\"!=b[e][0]&&(b.splice(e,0,[\"M\",d.x,d.y]),c.bx=0,c.by=0,c.x=a[e][1],c.y=a[e][2],v=W(f.length,l&&l.length||0))},q=[],u=[],c=\"\",t=\"\",x=0,v=W(f.length,\n",
        "l&&l.length||0);for(;x<v;x++){f[x]&&(c=f[x][0]);\"C\"!=c&&(q[x]=c,x&&(t=q[x-1]));f[x]=p(f[x],n,t);\"A\"!=q[x]&&\"C\"==c&&(q[x]=\"C\");s(f,x);l&&(l[x]&&(c=l[x][0]),\"C\"!=c&&(u[x]=c,x&&(t=u[x-1])),l[x]=p(l[x],k,t),\"A\"!=u[x]&&\"C\"==c&&(u[x]=\"C\"),s(l,x));r(f,l,n,k,x);r(l,f,k,n,x);var w=f[x],z=l&&l[x],y=w.length,U=l&&z.length;n.x=w[y-2];n.y=w[y-1];n.bx=$(w[y-4])||n.x;n.by=$(w[y-3])||n.y;k.bx=l&&($(z[U-4])||k.x);k.by=l&&($(z[U-3])||k.y);k.x=l&&z[U-2];k.y=l&&z[U-1]}l||(e.curve=d(f));return l?[f,l]:f}function P(a,\n",
        "b){for(var d=[],e=0,h=a.length;h-2*!b>e;e+=2){var f=[{x:+a[e-2],y:+a[e-1]},{x:+a[e],y:+a[e+1]},{x:+a[e+2],y:+a[e+3]},{x:+a[e+4],y:+a[e+5]}];b?e?h-4==e?f[3]={x:+a[0],y:+a[1]}:h-2==e&&(f[2]={x:+a[0],y:+a[1]},f[3]={x:+a[2],y:+a[3]}):f[0]={x:+a[h-2],y:+a[h-1]}:h-4==e?f[3]=f[2]:e||(f[0]={x:+a[e],y:+a[e+1]});d.push([\"C\",(-f[0].x+6*f[1].x+f[2].x)/6,(-f[0].y+6*f[1].y+f[2].y)/6,(f[1].x+6*f[2].x-f[3].x)/6,(f[1].y+6*f[2].y-f[3].y)/6,f[2].x,f[2].y])}return d}y=k.prototype;var Q=a.is,C=a._.clone,L=\"hasOwnProperty\",\n",
        "N=/,?([a-z]),?/gi,$=parseFloat,F=Math,S=F.PI,X=F.min,W=F.max,ma=F.pow,Z=F.abs;M=n(1);var na=n(),ba=n(0,1),V=a._unit2px;a.path=A;a.path.getTotalLength=M;a.path.getPointAtLength=na;a.path.getSubpath=function(a,b,d){if(1E-6>this.getTotalLength(a)-d)return ba(a,b).end;a=ba(a,d,1);return b?ba(a,b).end:a};y.getTotalLength=function(){if(this.node.getTotalLength)return this.node.getTotalLength()};y.getPointAtLength=function(a){return na(this.attr(\"d\"),a)};y.getSubpath=function(b,d){return a.path.getSubpath(this.attr(\"d\"),\n",
        "b,d)};a._.box=w;a.path.findDotsAtSegment=u;a.path.bezierBBox=p;a.path.isPointInsideBBox=b;a.path.isBBoxIntersect=q;a.path.intersection=function(a,b){return l(a,b)};a.path.intersectionNumber=function(a,b){return l(a,b,1)};a.path.isPointInside=function(a,d,e){var h=r(a);return b(h,d,e)&&1==l(a,[[\"M\",d,e],[\"H\",h.x2+10] ],1)%2};a.path.getBBox=r;a.path.get={path:function(a){return a.attr(\"path\")},circle:function(a){a=V(a);return x(a.cx,a.cy,a.r)},ellipse:function(a){a=V(a);return x(a.cx||0,a.cy||0,a.rx,\n",
        "a.ry)},rect:function(a){a=V(a);return s(a.x||0,a.y||0,a.width,a.height,a.rx,a.ry)},image:function(a){a=V(a);return s(a.x||0,a.y||0,a.width,a.height)},line:function(a){return\"M\"+[a.attr(\"x1\")||0,a.attr(\"y1\")||0,a.attr(\"x2\"),a.attr(\"y2\")]},polyline:function(a){return\"M\"+a.attr(\"points\")},polygon:function(a){return\"M\"+a.attr(\"points\")+\"z\"},deflt:function(a){a=a.node.getBBox();return s(a.x,a.y,a.width,a.height)}};a.path.toRelative=function(b){var e=A(b),h=String.prototype.toLowerCase;if(e.rel)return d(e.rel);\n",
        "a.is(b,\"array\")&&a.is(b&&b[0],\"array\")||(b=a.parsePathString(b));var f=[],l=0,n=0,k=0,p=0,s=0;\"M\"==b[0][0]&&(l=b[0][1],n=b[0][2],k=l,p=n,s++,f.push([\"M\",l,n]));for(var r=b.length;s<r;s++){var q=f[s]=[],x=b[s];if(x[0]!=h.call(x[0]))switch(q[0]=h.call(x[0]),q[0]){case \"a\":q[1]=x[1];q[2]=x[2];q[3]=x[3];q[4]=x[4];q[5]=x[5];q[6]=+(x[6]-l).toFixed(3);q[7]=+(x[7]-n).toFixed(3);break;case \"v\":q[1]=+(x[1]-n).toFixed(3);break;case \"m\":k=x[1],p=x[2];default:for(var c=1,t=x.length;c<t;c++)q[c]=+(x[c]-(c%2?l:\n",
        "n)).toFixed(3)}else for(f[s]=[],\"m\"==x[0]&&(k=x[1]+l,p=x[2]+n),q=0,c=x.length;q<c;q++)f[s][q]=x[q];x=f[s].length;switch(f[s][0]){case \"z\":l=k;n=p;break;case \"h\":l+=+f[s][x-1];break;case \"v\":n+=+f[s][x-1];break;default:l+=+f[s][x-2],n+=+f[s][x-1]}}f.toString=z;e.rel=d(f);return f};a.path.toAbsolute=G;a.path.toCubic=I;a.path.map=function(a,b){if(!b)return a;var d,e,h,f,l,n,k;a=I(a);h=0;for(l=a.length;h<l;h++)for(k=a[h],f=1,n=k.length;f<n;f+=2)d=b.x(k[f],k[f+1]),e=b.y(k[f],k[f+1]),k[f]=d,k[f+1]=e;return a};\n",
        "a.path.toString=z;a.path.clone=d});C.plugin(function(a,v,y,C){var A=Math.max,w=Math.min,z=function(a){this.items=[];this.bindings={};this.length=0;this.type=\"set\";if(a)for(var f=0,n=a.length;f<n;f++)a[f]&&(this[this.items.length]=this.items[this.items.length]=a[f],this.length++)};v=z.prototype;v.push=function(){for(var a,f,n=0,k=arguments.length;n<k;n++)if(a=arguments[n])f=this.items.length,this[f]=this.items[f]=a,this.length++;return this};v.pop=function(){this.length&&delete this[this.length--];\n",
        "return this.items.pop()};v.forEach=function(a,f){for(var n=0,k=this.items.length;n<k&&!1!==a.call(f,this.items[n],n);n++);return this};v.animate=function(d,f,n,u){\"function\"!=typeof n||n.length||(u=n,n=L.linear);d instanceof a._.Animation&&(u=d.callback,n=d.easing,f=n.dur,d=d.attr);var p=arguments;if(a.is(d,\"array\")&&a.is(p[p.length-1],\"array\"))var b=!0;var q,e=function(){q?this.b=q:q=this.b},l=0,r=u&&function(){l++==this.length&&u.call(this)};return this.forEach(function(a,l){k.once(\"snap.animcreated.\"+\n",
        "a.id,e);b?p[l]&&a.animate.apply(a,p[l]):a.animate(d,f,n,r)})};v.remove=function(){for(;this.length;)this.pop().remove();return this};v.bind=function(a,f,k){var u={};if(\"function\"==typeof f)this.bindings[a]=f;else{var p=k||a;this.bindings[a]=function(a){u[p]=a;f.attr(u)}}return this};v.attr=function(a){var f={},k;for(k in a)if(this.bindings[k])this.bindings[k](a[k]);else f[k]=a[k];a=0;for(k=this.items.length;a<k;a++)this.items[a].attr(f);return this};v.clear=function(){for(;this.length;)this.pop()};\n",
        "v.splice=function(a,f,k){a=0>a?A(this.length+a,0):a;f=A(0,w(this.length-a,f));var u=[],p=[],b=[],q;for(q=2;q<arguments.length;q++)b.push(arguments[q]);for(q=0;q<f;q++)p.push(this[a+q]);for(;q<this.length-a;q++)u.push(this[a+q]);var e=b.length;for(q=0;q<e+u.length;q++)this.items[a+q]=this[a+q]=q<e?b[q]:u[q-e];for(q=this.items.length=this.length-=f-e;this[q];)delete this[q++];return new z(p)};v.exclude=function(a){for(var f=0,k=this.length;f<k;f++)if(this[f]==a)return this.splice(f,1),!0;return!1};\n",
        "v.insertAfter=function(a){for(var f=this.items.length;f--;)this.items[f].insertAfter(a);return this};v.getBBox=function(){for(var a=[],f=[],k=[],u=[],p=this.items.length;p--;)if(!this.items[p].removed){var b=this.items[p].getBBox();a.push(b.x);f.push(b.y);k.push(b.x+b.width);u.push(b.y+b.height)}a=w.apply(0,a);f=w.apply(0,f);k=A.apply(0,k);u=A.apply(0,u);return{x:a,y:f,x2:k,y2:u,width:k-a,height:u-f,cx:a+(k-a)/2,cy:f+(u-f)/2}};v.clone=function(a){a=new z;for(var f=0,k=this.items.length;f<k;f++)a.push(this.items[f].clone());\n",
        "return a};v.toString=function(){return\"Snap\\u2018s set\"};v.type=\"set\";a.set=function(){var a=new z;arguments.length&&a.push.apply(a,Array.prototype.slice.call(arguments,0));return a}});C.plugin(function(a,v,y,C){function A(a){var b=a[0];switch(b.toLowerCase()){case \"t\":return[b,0,0];case \"m\":return[b,1,0,0,1,0,0];case \"r\":return 4==a.length?[b,0,a[2],a[3] ]:[b,0];case \"s\":return 5==a.length?[b,1,1,a[3],a[4] ]:3==a.length?[b,1,1]:[b,1]}}function w(b,d,f){d=q(d).replace(/\\.{3}|\\u2026/g,b);b=a.parseTransformString(b)||\n",
        "[];d=a.parseTransformString(d)||[];for(var k=Math.max(b.length,d.length),p=[],v=[],h=0,w,z,y,I;h<k;h++){y=b[h]||A(d[h]);I=d[h]||A(y);if(y[0]!=I[0]||\"r\"==y[0].toLowerCase()&&(y[2]!=I[2]||y[3]!=I[3])||\"s\"==y[0].toLowerCase()&&(y[3]!=I[3]||y[4]!=I[4])){b=a._.transform2matrix(b,f());d=a._.transform2matrix(d,f());p=[[\"m\",b.a,b.b,b.c,b.d,b.e,b.f] ];v=[[\"m\",d.a,d.b,d.c,d.d,d.e,d.f] ];break}p[h]=[];v[h]=[];w=0;for(z=Math.max(y.length,I.length);w<z;w++)w in y&&(p[h][w]=y[w]),w in I&&(v[h][w]=I[w])}return{from:u(p),\n",
        "to:u(v),f:n(p)}}function z(a){return a}function d(a){return function(b){return+b.toFixed(3)+a}}function f(b){return a.rgb(b[0],b[1],b[2])}function n(a){var b=0,d,f,k,n,h,p,q=[];d=0;for(f=a.length;d<f;d++){h=\"[\";p=['\"'+a[d][0]+'\"'];k=1;for(n=a[d].length;k<n;k++)p[k]=\"val[\"+b++ +\"]\";h+=p+\"]\";q[d]=h}return Function(\"val\",\"return Snap.path.toString.call([\"+q+\"])\")}function u(a){for(var b=[],d=0,f=a.length;d<f;d++)for(var k=1,n=a[d].length;k<n;k++)b.push(a[d][k]);return b}var p={},b=/[a-z]+$/i,q=String;\n",
        "p.stroke=p.fill=\"colour\";v.prototype.equal=function(a,b){return k(\"snap.util.equal\",this,a,b).firstDefined()};k.on(\"snap.util.equal\",function(e,k){var r,s;r=q(this.attr(e)||\"\");var x=this;if(r==+r&&k==+k)return{from:+r,to:+k,f:z};if(\"colour\"==p[e])return r=a.color(r),s=a.color(k),{from:[r.r,r.g,r.b,r.opacity],to:[s.r,s.g,s.b,s.opacity],f:f};if(\"transform\"==e||\"gradientTransform\"==e||\"patternTransform\"==e)return k instanceof a.Matrix&&(k=k.toTransformString()),a._.rgTransform.test(k)||(k=a._.svgTransform2string(k)),\n",
        "w(r,k,function(){return x.getBBox(1)});if(\"d\"==e||\"path\"==e)return r=a.path.toCubic(r,k),{from:u(r[0]),to:u(r[1]),f:n(r[0])};if(\"points\"==e)return r=q(r).split(a._.separator),s=q(k).split(a._.separator),{from:r,to:s,f:function(a){return a}};aUnit=r.match(b);s=q(k).match(b);return aUnit&&aUnit==s?{from:parseFloat(r),to:parseFloat(k),f:d(aUnit)}:{from:this.asPX(e),to:this.asPX(e,k),f:z}})});C.plugin(function(a,v,y,C){var A=v.prototype,w=\"createTouch\"in C.doc;v=\"click dblclick mousedown mousemove mouseout mouseover mouseup touchstart touchmove touchend touchcancel\".split(\" \");\n",
        "var z={mousedown:\"touchstart\",mousemove:\"touchmove\",mouseup:\"touchend\"},d=function(a,b){var d=\"y\"==a?\"scrollTop\":\"scrollLeft\",e=b&&b.node?b.node.ownerDocument:C.doc;return e[d in e.documentElement?\"documentElement\":\"body\"][d]},f=function(){this.returnValue=!1},n=function(){return this.originalEvent.preventDefault()},u=function(){this.cancelBubble=!0},p=function(){return this.originalEvent.stopPropagation()},b=function(){if(C.doc.addEventListener)return function(a,b,e,f){var k=w&&z[b]?z[b]:b,l=function(k){var l=\n",
        "d(\"y\",f),q=d(\"x\",f);if(w&&z.hasOwnProperty(b))for(var r=0,u=k.targetTouches&&k.targetTouches.length;r<u;r++)if(k.targetTouches[r].target==a||a.contains(k.targetTouches[r].target)){u=k;k=k.targetTouches[r];k.originalEvent=u;k.preventDefault=n;k.stopPropagation=p;break}return e.call(f,k,k.clientX+q,k.clientY+l)};b!==k&&a.addEventListener(b,l,!1);a.addEventListener(k,l,!1);return function(){b!==k&&a.removeEventListener(b,l,!1);a.removeEventListener(k,l,!1);return!0}};if(C.doc.attachEvent)return function(a,\n",
        "b,e,h){var k=function(a){a=a||h.node.ownerDocument.window.event;var b=d(\"y\",h),k=d(\"x\",h),k=a.clientX+k,b=a.clientY+b;a.preventDefault=a.preventDefault||f;a.stopPropagation=a.stopPropagation||u;return e.call(h,a,k,b)};a.attachEvent(\"on\"+b,k);return function(){a.detachEvent(\"on\"+b,k);return!0}}}(),q=[],e=function(a){for(var b=a.clientX,e=a.clientY,f=d(\"y\"),l=d(\"x\"),n,p=q.length;p--;){n=q[p];if(w)for(var r=a.touches&&a.touches.length,u;r--;){if(u=a.touches[r],u.identifier==n.el._drag.id||n.el.node.contains(u.target)){b=\n",
        "u.clientX;e=u.clientY;(a.originalEvent?a.originalEvent:a).preventDefault();break}}else a.preventDefault();b+=l;e+=f;k(\"snap.drag.move.\"+n.el.id,n.move_scope||n.el,b-n.el._drag.x,e-n.el._drag.y,b,e,a)}},l=function(b){a.unmousemove(e).unmouseup(l);for(var d=q.length,f;d--;)f=q[d],f.el._drag={},k(\"snap.drag.end.\"+f.el.id,f.end_scope||f.start_scope||f.move_scope||f.el,b);q=[]};for(y=v.length;y--;)(function(d){a[d]=A[d]=function(e,f){a.is(e,\"function\")&&(this.events=this.events||[],this.events.push({name:d,\n",
        "f:e,unbind:b(this.node||document,d,e,f||this)}));return this};a[\"un\"+d]=A[\"un\"+d]=function(a){for(var b=this.events||[],e=b.length;e--;)if(b[e].name==d&&(b[e].f==a||!a)){b[e].unbind();b.splice(e,1);!b.length&&delete this.events;break}return this}})(v[y]);A.hover=function(a,b,d,e){return this.mouseover(a,d).mouseout(b,e||d)};A.unhover=function(a,b){return this.unmouseover(a).unmouseout(b)};var r=[];A.drag=function(b,d,f,h,n,p){function u(r,v,w){(r.originalEvent||r).preventDefault();this._drag.x=v;\n",
        "this._drag.y=w;this._drag.id=r.identifier;!q.length&&a.mousemove(e).mouseup(l);q.push({el:this,move_scope:h,start_scope:n,end_scope:p});d&&k.on(\"snap.drag.start.\"+this.id,d);b&&k.on(\"snap.drag.move.\"+this.id,b);f&&k.on(\"snap.drag.end.\"+this.id,f);k(\"snap.drag.start.\"+this.id,n||h||this,v,w,r)}if(!arguments.length){var v;return this.drag(function(a,b){this.attr({transform:v+(v?\"T\":\"t\")+[a,b]})},function(){v=this.transform().local})}this._drag={};r.push({el:this,start:u});this.mousedown(u);return this};\n",
        "A.undrag=function(){for(var b=r.length;b--;)r[b].el==this&&(this.unmousedown(r[b].start),r.splice(b,1),k.unbind(\"snap.drag.*.\"+this.id));!r.length&&a.unmousemove(e).unmouseup(l);return this}});C.plugin(function(a,v,y,C){y=y.prototype;var A=/^\\s*url\\((.+)\\)/,w=String,z=a._.$;a.filter={};y.filter=function(d){var f=this;\"svg\"!=f.type&&(f=f.paper);d=a.parse(w(d));var k=a._.id(),u=z(\"filter\");z(u,{id:k,filterUnits:\"userSpaceOnUse\"});u.appendChild(d.node);f.defs.appendChild(u);return new v(u)};k.on(\"snap.util.getattr.filter\",\n",
        "function(){k.stop();var d=z(this.node,\"filter\");if(d)return(d=w(d).match(A))&&a.select(d[1])});k.on(\"snap.util.attr.filter\",function(d){if(d instanceof v&&\"filter\"==d.type){k.stop();var f=d.node.id;f||(z(d.node,{id:d.id}),f=d.id);z(this.node,{filter:a.url(f)})}d&&\"none\"!=d||(k.stop(),this.node.removeAttribute(\"filter\"))});a.filter.blur=function(d,f){null==d&&(d=2);return a.format('<feGaussianBlur stdDeviation=\"{def}\"/>',{def:null==f?d:[d,f]})};a.filter.blur.toString=function(){return this()};a.filter.shadow=\n",
        "function(d,f,k,u,p){\"string\"==typeof k&&(p=u=k,k=4);\"string\"!=typeof u&&(p=u,u=\"#000\");null==k&&(k=4);null==p&&(p=1);null==d&&(d=0,f=2);null==f&&(f=d);u=a.color(u||\"#000\");return a.format('<feGaussianBlur in=\"SourceAlpha\" stdDeviation=\"{blur}\"/><feOffset dx=\"{dx}\" dy=\"{dy}\" result=\"offsetblur\"/><feFlood flood-color=\"{color}\"/><feComposite in2=\"offsetblur\" operator=\"in\"/><feComponentTransfer><feFuncA type=\"linear\" slope=\"{opacity}\"/></feComponentTransfer><feMerge><feMergeNode/><feMergeNode in=\"SourceGraphic\"/></feMerge>',\n",
        "{color:u,dx:d,dy:f,blur:k,opacity:p})};a.filter.shadow.toString=function(){return this()};a.filter.grayscale=function(d){null==d&&(d=1);return a.format('<feColorMatrix type=\"matrix\" values=\"{a} {b} {c} 0 0 {d} {e} {f} 0 0 {g} {b} {h} 0 0 0 0 0 1 0\"/>',{a:0.2126+0.7874*(1-d),b:0.7152-0.7152*(1-d),c:0.0722-0.0722*(1-d),d:0.2126-0.2126*(1-d),e:0.7152+0.2848*(1-d),f:0.0722-0.0722*(1-d),g:0.2126-0.2126*(1-d),h:0.0722+0.9278*(1-d)})};a.filter.grayscale.toString=function(){return this()};a.filter.sepia=\n",
        "function(d){null==d&&(d=1);return a.format('<feColorMatrix type=\"matrix\" values=\"{a} {b} {c} 0 0 {d} {e} {f} 0 0 {g} {h} {i} 0 0 0 0 0 1 0\"/>',{a:0.393+0.607*(1-d),b:0.769-0.769*(1-d),c:0.189-0.189*(1-d),d:0.349-0.349*(1-d),e:0.686+0.314*(1-d),f:0.168-0.168*(1-d),g:0.272-0.272*(1-d),h:0.534-0.534*(1-d),i:0.131+0.869*(1-d)})};a.filter.sepia.toString=function(){return this()};a.filter.saturate=function(d){null==d&&(d=1);return a.format('<feColorMatrix type=\"saturate\" values=\"{amount}\"/>',{amount:1-\n",
        "d})};a.filter.saturate.toString=function(){return this()};a.filter.hueRotate=function(d){return a.format('<feColorMatrix type=\"hueRotate\" values=\"{angle}\"/>',{angle:d||0})};a.filter.hueRotate.toString=function(){return this()};a.filter.invert=function(d){null==d&&(d=1);return a.format('<feComponentTransfer><feFuncR type=\"table\" tableValues=\"{amount} {amount2}\"/><feFuncG type=\"table\" tableValues=\"{amount} {amount2}\"/><feFuncB type=\"table\" tableValues=\"{amount} {amount2}\"/></feComponentTransfer>',{amount:d,\n",
        "amount2:1-d})};a.filter.invert.toString=function(){return this()};a.filter.brightness=function(d){null==d&&(d=1);return a.format('<feComponentTransfer><feFuncR type=\"linear\" slope=\"{amount}\"/><feFuncG type=\"linear\" slope=\"{amount}\"/><feFuncB type=\"linear\" slope=\"{amount}\"/></feComponentTransfer>',{amount:d})};a.filter.brightness.toString=function(){return this()};a.filter.contrast=function(d){null==d&&(d=1);return a.format('<feComponentTransfer><feFuncR type=\"linear\" slope=\"{amount}\" intercept=\"{amount2}\"/><feFuncG type=\"linear\" slope=\"{amount}\" intercept=\"{amount2}\"/><feFuncB type=\"linear\" slope=\"{amount}\" intercept=\"{amount2}\"/></feComponentTransfer>',\n",
        "{amount:d,amount2:0.5-d/2})};a.filter.contrast.toString=function(){return this()}});return C});\n",
        "\n",
        "]]> </script>\n",
        "<script> <![CDATA[\n",
        "\n",
        "(function (glob, factory) {\n",
        "    // AMD support\n",
        "    if (typeof define === \"function\" && define.amd) {\n",
        "        // Define as an anonymous module\n",
        "        define(\"Gadfly\", [\"Snap.svg\"], function (Snap) {\n",
        "            return factory(Snap);\n",
        "        });\n",
        "    } else {\n",
        "        // Browser globals (glob is window)\n",
        "        // Snap adds itself to window\n",
        "        glob.Gadfly = factory(glob.Snap);\n",
        "    }\n",
        "}(this, function (Snap) {\n",
        "\n",
        "var Gadfly = {};\n",
        "\n",
        "// Get an x/y coordinate value in pixels\n",
        "var xPX = function(fig, x) {\n",
        "    var client_box = fig.node.getBoundingClientRect();\n",
        "    return x * fig.node.viewBox.baseVal.width / client_box.width;\n",
        "};\n",
        "\n",
        "var yPX = function(fig, y) {\n",
        "    var client_box = fig.node.getBoundingClientRect();\n",
        "    return y * fig.node.viewBox.baseVal.height / client_box.height;\n",
        "};\n",
        "\n",
        "\n",
        "Snap.plugin(function (Snap, Element, Paper, global) {\n",
        "    // Traverse upwards from a snap element to find and return the first\n",
        "    // note with the \"plotroot\" class.\n",
        "    Element.prototype.plotroot = function () {\n",
        "        var element = this;\n",
        "        while (!element.hasClass(\"plotroot\") && element.parent() != null) {\n",
        "            element = element.parent();\n",
        "        }\n",
        "        return element;\n",
        "    };\n",
        "\n",
        "    Element.prototype.svgroot = function () {\n",
        "        var element = this;\n",
        "        while (element.node.nodeName != \"svg\" && element.parent() != null) {\n",
        "            element = element.parent();\n",
        "        }\n",
        "        return element;\n",
        "    };\n",
        "\n",
        "    Element.prototype.plotbounds = function () {\n",
        "        var root = this.plotroot()\n",
        "        var bbox = root.select(\".guide.background\").node.getBBox();\n",
        "        return {\n",
        "            x0: bbox.x,\n",
        "            x1: bbox.x + bbox.width,\n",
        "            y0: bbox.y,\n",
        "            y1: bbox.y + bbox.height\n",
        "        };\n",
        "    };\n",
        "\n",
        "    Element.prototype.plotcenter = function () {\n",
        "        var root = this.plotroot()\n",
        "        var bbox = root.select(\".guide.background\").node.getBBox();\n",
        "        return {\n",
        "            x: bbox.x + bbox.width / 2,\n",
        "            y: bbox.y + bbox.height / 2\n",
        "        };\n",
        "    };\n",
        "\n",
        "    // Emulate IE style mouseenter/mouseleave events, since Microsoft always\n",
        "    // does everything right.\n",
        "    // See: http://www.dynamic-tools.net/toolbox/isMouseLeaveOrEnter/\n",
        "    var events = [\"mouseenter\", \"mouseleave\"];\n",
        "\n",
        "    for (i in events) {\n",
        "        (function (event_name) {\n",
        "            var event_name = events[i];\n",
        "            Element.prototype[event_name] = function (fn, scope) {\n",
        "                if (Snap.is(fn, \"function\")) {\n",
        "                    var fn2 = function (event) {\n",
        "                        if (event.type != \"mouseover\" && event.type != \"mouseout\") {\n",
        "                            return;\n",
        "                        }\n",
        "\n",
        "                        var reltg = event.relatedTarget ? event.relatedTarget :\n",
        "                            event.type == \"mouseout\" ? event.toElement : event.fromElement;\n",
        "                        while (reltg && reltg != this.node) reltg = reltg.parentNode;\n",
        "\n",
        "                        if (reltg != this.node) {\n",
        "                            return fn.apply(this, event);\n",
        "                        }\n",
        "                    };\n",
        "\n",
        "                    if (event_name == \"mouseenter\") {\n",
        "                        this.mouseover(fn2, scope);\n",
        "                    } else {\n",
        "                        this.mouseout(fn2, scope);\n",
        "                    }\n",
        "                }\n",
        "                return this;\n",
        "            };\n",
        "        })(events[i]);\n",
        "    }\n",
        "\n",
        "\n",
        "    Element.prototype.mousewheel = function (fn, scope) {\n",
        "        if (Snap.is(fn, \"function\")) {\n",
        "            var el = this;\n",
        "            var fn2 = function (event) {\n",
        "                fn.apply(el, [event]);\n",
        "            };\n",
        "        }\n",
        "\n",
        "        this.node.addEventListener(\n",
        "            /Firefox/i.test(navigator.userAgent) ? \"DOMMouseScroll\" : \"mousewheel\",\n",
        "            fn2);\n",
        "\n",
        "        return this;\n",
        "    };\n",
        "\n",
        "\n",
        "    // Snap's attr function can be too slow for things like panning/zooming.\n",
        "    // This is a function to directly update element attributes without going\n",
        "    // through eve.\n",
        "    Element.prototype.attribute = function(key, val) {\n",
        "        if (val === undefined) {\n",
        "            return this.node.getAttribute(key, val);\n",
        "        } else {\n",
        "            return this.node.setAttribute(key, val);\n",
        "        }\n",
        "    };\n",
        "});\n",
        "\n",
        "\n",
        "// When the plot is moused over, emphasize the grid lines.\n",
        "Gadfly.plot_mouseover = function(event) {\n",
        "    var root = this.plotroot();\n",
        "    init_pan_zoom(root);\n",
        "\n",
        "    var xgridlines = root.select(\".xgridlines\"),\n",
        "        ygridlines = root.select(\".ygridlines\");\n",
        "\n",
        "    xgridlines.data(\"unfocused_strokedash\",\n",
        "                    xgridlines.attr(\"stroke-dasharray\").replace(/px/g, \"mm\"))\n",
        "    ygridlines.data(\"unfocused_strokedash\",\n",
        "                    ygridlines.attr(\"stroke-dasharray\").replace(/px/g, \"mm\"))\n",
        "\n",
        "    // emphasize grid lines\n",
        "    var destcolor = root.data(\"focused_xgrid_color\");\n",
        "    xgridlines.attr(\"stroke-dasharray\", \"none\")\n",
        "              .selectAll(\"path\")\n",
        "              .animate({stroke: destcolor}, 250);\n",
        "\n",
        "    destcolor = root.data(\"focused_ygrid_color\");\n",
        "    ygridlines.attr(\"stroke-dasharray\", \"none\")\n",
        "              .selectAll(\"path\")\n",
        "              .animate({stroke: destcolor}, 250);\n",
        "\n",
        "    // reveal zoom slider\n",
        "    root.select(\".zoomslider\")\n",
        "        .animate({opacity: 1.0}, 250);\n",
        "};\n",
        "\n",
        "\n",
        "// Unemphasize grid lines on mouse out.\n",
        "Gadfly.plot_mouseout = function(event) {\n",
        "    var root = this.plotroot();\n",
        "    var xgridlines = root.select(\".xgridlines\"),\n",
        "        ygridlines = root.select(\".ygridlines\");\n",
        "\n",
        "    var destcolor = root.data(\"unfocused_xgrid_color\");\n",
        "\n",
        "    xgridlines.attr(\"stroke-dasharray\", xgridlines.data(\"unfocused_strokedash\"))\n",
        "              .selectAll(\"path\")\n",
        "              .animate({stroke: destcolor}, 250);\n",
        "\n",
        "    destcolor = root.data(\"unfocused_ygrid_color\");\n",
        "    ygridlines.attr(\"stroke-dasharray\", ygridlines.data(\"unfocused_strokedash\"))\n",
        "              .selectAll(\"path\")\n",
        "              .animate({stroke: destcolor}, 250);\n",
        "\n",
        "    // hide zoom slider\n",
        "    root.select(\".zoomslider\")\n",
        "        .animate({opacity: 0.0}, 250);\n",
        "};\n",
        "\n",
        "\n",
        "var set_geometry_transform = function(root, tx, ty, scale) {\n",
        "    var xscalable = root.hasClass(\"xscalable\"),\n",
        "        yscalable = root.hasClass(\"yscalable\");\n",
        "\n",
        "    var old_scale = root.data(\"scale\");\n",
        "\n",
        "    var xscale = xscalable ? scale : 1.0,\n",
        "        yscale = yscalable ? scale : 1.0;\n",
        "\n",
        "    tx = xscalable ? tx : 0.0;\n",
        "    ty = yscalable ? ty : 0.0;\n",
        "\n",
        "    var t = new Snap.Matrix().translate(tx, ty).scale(xscale, yscale);\n",
        "\n",
        "    root.selectAll(\".geometry, image\")\n",
        "        .forEach(function (element, i) {\n",
        "            element.transform(t);\n",
        "        });\n",
        "\n",
        "    bounds = root.plotbounds();\n",
        "\n",
        "    if (yscalable) {\n",
        "        var xfixed_t = new Snap.Matrix().translate(0, ty).scale(1.0, yscale);\n",
        "        root.selectAll(\".xfixed\")\n",
        "            .forEach(function (element, i) {\n",
        "                element.transform(xfixed_t);\n",
        "            });\n",
        "\n",
        "        root.select(\".ylabels\")\n",
        "            .transform(xfixed_t)\n",
        "            .selectAll(\"text\")\n",
        "            .forEach(function (element, i) {\n",
        "                if (element.attribute(\"gadfly:inscale\") == \"true\") {\n",
        "                    var cx = element.asPX(\"x\"),\n",
        "                        cy = element.asPX(\"y\");\n",
        "                    var st = element.data(\"static_transform\");\n",
        "                    unscale_t = new Snap.Matrix();\n",
        "                    unscale_t.scale(1, 1/scale, cx, cy).add(st);\n",
        "                    element.transform(unscale_t);\n",
        "\n",
        "                    var y = cy * scale + ty;\n",
        "                    element.attr(\"visibility\",\n",
        "                        bounds.y0 <= y && y <= bounds.y1 ? \"visible\" : \"hidden\");\n",
        "                }\n",
        "            });\n",
        "    }\n",
        "\n",
        "    if (xscalable) {\n",
        "        var yfixed_t = new Snap.Matrix().translate(tx, 0).scale(xscale, 1.0);\n",
        "        var xtrans = new Snap.Matrix().translate(tx, 0);\n",
        "        root.selectAll(\".yfixed\")\n",
        "            .forEach(function (element, i) {\n",
        "                element.transform(yfixed_t);\n",
        "            });\n",
        "\n",
        "        root.select(\".xlabels\")\n",
        "            .transform(yfixed_t)\n",
        "            .selectAll(\"text\")\n",
        "            .forEach(function (element, i) {\n",
        "                if (element.attribute(\"gadfly:inscale\") == \"true\") {\n",
        "                    var cx = element.asPX(\"x\"),\n",
        "                        cy = element.asPX(\"y\");\n",
        "                    var st = element.data(\"static_transform\");\n",
        "                    unscale_t = new Snap.Matrix();\n",
        "                    unscale_t.scale(1/scale, 1, cx, cy).add(st);\n",
        "\n",
        "                    element.transform(unscale_t);\n",
        "\n",
        "                    var x = cx * scale + tx;\n",
        "                    element.attr(\"visibility\",\n",
        "                        bounds.x0 <= x && x <= bounds.x1 ? \"visible\" : \"hidden\");\n",
        "                    }\n",
        "            });\n",
        "    }\n",
        "\n",
        "    // we must unscale anything that is scale invariance: widths, raiduses, etc.\n",
        "    var size_attribs = [\"font-size\"];\n",
        "    var unscaled_selection = \".geometry, .geometry *\";\n",
        "    if (xscalable) {\n",
        "        size_attribs.push(\"rx\");\n",
        "        unscaled_selection += \", .xgridlines\";\n",
        "    }\n",
        "    if (yscalable) {\n",
        "        size_attribs.push(\"ry\");\n",
        "        unscaled_selection += \", .ygridlines\";\n",
        "    }\n",
        "\n",
        "    root.selectAll(unscaled_selection)\n",
        "        .forEach(function (element, i) {\n",
        "            // circle need special help\n",
        "            if (element.node.nodeName == \"circle\") {\n",
        "                var cx = element.attribute(\"cx\"),\n",
        "                    cy = element.attribute(\"cy\");\n",
        "                unscale_t = new Snap.Matrix().scale(1/xscale, 1/yscale,\n",
        "                                                        cx, cy);\n",
        "                element.transform(unscale_t);\n",
        "                return;\n",
        "            }\n",
        "\n",
        "            for (i in size_attribs) {\n",
        "                var key = size_attribs[i];\n",
        "                var val = parseFloat(element.attribute(key));\n",
        "                if (val !== undefined && val != 0 && !isNaN(val)) {\n",
        "                    element.attribute(key, val * old_scale / scale);\n",
        "                }\n",
        "            }\n",
        "        });\n",
        "};\n",
        "\n",
        "\n",
        "// Find the most appropriate tick scale and update label visibility.\n",
        "var update_tickscale = function(root, scale, axis) {\n",
        "    if (!root.hasClass(axis + \"scalable\")) return;\n",
        "\n",
        "    var tickscales = root.data(axis + \"tickscales\");\n",
        "    var best_tickscale = 1.0;\n",
        "    var best_tickscale_dist = Infinity;\n",
        "    for (tickscale in tickscales) {\n",
        "        var dist = Math.abs(Math.log(tickscale) - Math.log(scale));\n",
        "        if (dist < best_tickscale_dist) {\n",
        "            best_tickscale_dist = dist;\n",
        "            best_tickscale = tickscale;\n",
        "        }\n",
        "    }\n",
        "\n",
        "    if (best_tickscale != root.data(axis + \"tickscale\")) {\n",
        "        root.data(axis + \"tickscale\", best_tickscale);\n",
        "        var mark_inscale_gridlines = function (element, i) {\n",
        "            var inscale = element.attr(\"gadfly:scale\") == best_tickscale;\n",
        "            element.attribute(\"gadfly:inscale\", inscale);\n",
        "            element.attr(\"visibility\", inscale ? \"visible\" : \"hidden\");\n",
        "        };\n",
        "\n",
        "        var mark_inscale_labels = function (element, i) {\n",
        "            var inscale = element.attr(\"gadfly:scale\") == best_tickscale;\n",
        "            element.attribute(\"gadfly:inscale\", inscale);\n",
        "            element.attr(\"visibility\", inscale ? \"visible\" : \"hidden\");\n",
        "        };\n",
        "\n",
        "        root.select(\".\" + axis + \"gridlines\").selectAll(\"path\").forEach(mark_inscale_gridlines);\n",
        "        root.select(\".\" + axis + \"labels\").selectAll(\"text\").forEach(mark_inscale_labels);\n",
        "    }\n",
        "};\n",
        "\n",
        "\n",
        "var set_plot_pan_zoom = function(root, tx, ty, scale) {\n",
        "    var old_scale = root.data(\"scale\");\n",
        "    var bounds = root.plotbounds();\n",
        "\n",
        "    var width = bounds.x1 - bounds.x0,\n",
        "        height = bounds.y1 - bounds.y0;\n",
        "\n",
        "    // compute the viewport derived from tx, ty, and scale\n",
        "    var x_min = -width * scale - (scale * width - width),\n",
        "        x_max = width * scale,\n",
        "        y_min = -height * scale - (scale * height - height),\n",
        "        y_max = height * scale;\n",
        "\n",
        "    var x0 = bounds.x0 - scale * bounds.x0,\n",
        "        y0 = bounds.y0 - scale * bounds.y0;\n",
        "\n",
        "    var tx = Math.max(Math.min(tx - x0, x_max), x_min),\n",
        "        ty = Math.max(Math.min(ty - y0, y_max), y_min);\n",
        "\n",
        "    tx += x0;\n",
        "    ty += y0;\n",
        "\n",
        "    // when the scale change, we may need to alter which set of\n",
        "    // ticks is being displayed\n",
        "    if (scale != old_scale) {\n",
        "        update_tickscale(root, scale, \"x\");\n",
        "        update_tickscale(root, scale, \"y\");\n",
        "    }\n",
        "\n",
        "    set_geometry_transform(root, tx, ty, scale);\n",
        "\n",
        "    root.data(\"scale\", scale);\n",
        "    root.data(\"tx\", tx);\n",
        "    root.data(\"ty\", ty);\n",
        "};\n",
        "\n",
        "\n",
        "var scale_centered_translation = function(root, scale) {\n",
        "    var bounds = root.plotbounds();\n",
        "\n",
        "    var width = bounds.x1 - bounds.x0,\n",
        "        height = bounds.y1 - bounds.y0;\n",
        "\n",
        "    var tx0 = root.data(\"tx\"),\n",
        "        ty0 = root.data(\"ty\");\n",
        "\n",
        "    var scale0 = root.data(\"scale\");\n",
        "\n",
        "    // how off from center the current view is\n",
        "    var xoff = tx0 - (bounds.x0 * (1 - scale0) + (width * (1 - scale0)) / 2),\n",
        "        yoff = ty0 - (bounds.y0 * (1 - scale0) + (height * (1 - scale0)) / 2);\n",
        "\n",
        "    // rescale offsets\n",
        "    xoff = xoff * scale / scale0;\n",
        "    yoff = yoff * scale / scale0;\n",
        "\n",
        "    // adjust for the panel position being scaled\n",
        "    var x_edge_adjust = bounds.x0 * (1 - scale),\n",
        "        y_edge_adjust = bounds.y0 * (1 - scale);\n",
        "\n",
        "    return {\n",
        "        x: xoff + x_edge_adjust + (width - width * scale) / 2,\n",
        "        y: yoff + y_edge_adjust + (height - height * scale) / 2\n",
        "    };\n",
        "};\n",
        "\n",
        "\n",
        "// Initialize data for panning zooming if it isn't already.\n",
        "var init_pan_zoom = function(root) {\n",
        "    if (root.data(\"zoompan-ready\")) {\n",
        "        return;\n",
        "    }\n",
        "\n",
        "    // The non-scaling-stroke trick. Rather than try to correct for the\n",
        "    // stroke-width when zooming, we force it to a fixed value.\n",
        "    var px_per_mm = root.node.getCTM().a;\n",
        "\n",
        "    // Drag events report deltas in pixels, which we'd like to convert to\n",
        "    // millimeters.\n",
        "    root.data(\"px_per_mm\", px_per_mm);\n",
        "\n",
        "    root.selectAll(\"path\")\n",
        "        .forEach(function (element, i) {\n",
        "        sw = element.asPX(\"stroke-width\") * px_per_mm;\n",
        "        if (sw > 0) {\n",
        "            element.attribute(\"stroke-width\", sw);\n",
        "            element.attribute(\"vector-effect\", \"non-scaling-stroke\");\n",
        "        }\n",
        "    });\n",
        "\n",
        "    // Store ticks labels original tranformation\n",
        "    root.selectAll(\".xlabels > text, .ylabels > text\")\n",
        "        .forEach(function (element, i) {\n",
        "            var lm = element.transform().localMatrix;\n",
        "            element.data(\"static_transform\",\n",
        "                new Snap.Matrix(lm.a, lm.b, lm.c, lm.d, lm.e, lm.f));\n",
        "        });\n",
        "\n",
        "    if (root.data(\"tx\") === undefined) root.data(\"tx\", 0);\n",
        "    if (root.data(\"ty\") === undefined) root.data(\"ty\", 0);\n",
        "    if (root.data(\"scale\") === undefined) root.data(\"scale\", 1.0);\n",
        "    if (root.data(\"xtickscales\") === undefined) {\n",
        "\n",
        "        // index all the tick scales that are listed\n",
        "        var xtickscales = {};\n",
        "        var ytickscales = {};\n",
        "        var add_x_tick_scales = function (element, i) {\n",
        "            xtickscales[element.attribute(\"gadfly:scale\")] = true;\n",
        "        };\n",
        "        var add_y_tick_scales = function (element, i) {\n",
        "            ytickscales[element.attribute(\"gadfly:scale\")] = true;\n",
        "        };\n",
        "\n",
        "        root.select(\".xgridlines\").selectAll(\"path\").forEach(add_x_tick_scales);\n",
        "        root.select(\".ygridlines\").selectAll(\"path\").forEach(add_y_tick_scales);\n",
        "        root.select(\".xlabels\").selectAll(\"text\").forEach(add_x_tick_scales);\n",
        "        root.select(\".ylabels\").selectAll(\"text\").forEach(add_y_tick_scales);\n",
        "\n",
        "        root.data(\"xtickscales\", xtickscales);\n",
        "        root.data(\"ytickscales\", ytickscales);\n",
        "        root.data(\"xtickscale\", 1.0);\n",
        "    }\n",
        "\n",
        "    var min_scale = 1.0, max_scale = 1.0;\n",
        "    for (scale in xtickscales) {\n",
        "        min_scale = Math.min(min_scale, scale);\n",
        "        max_scale = Math.max(max_scale, scale);\n",
        "    }\n",
        "    for (scale in ytickscales) {\n",
        "        min_scale = Math.min(min_scale, scale);\n",
        "        max_scale = Math.max(max_scale, scale);\n",
        "    }\n",
        "    root.data(\"min_scale\", min_scale);\n",
        "    root.data(\"max_scale\", max_scale);\n",
        "\n",
        "    // store the original positions of labels\n",
        "    root.select(\".xlabels\")\n",
        "        .selectAll(\"text\")\n",
        "        .forEach(function (element, i) {\n",
        "            element.data(\"x\", element.asPX(\"x\"));\n",
        "        });\n",
        "\n",
        "    root.select(\".ylabels\")\n",
        "        .selectAll(\"text\")\n",
        "        .forEach(function (element, i) {\n",
        "            element.data(\"y\", element.asPX(\"y\"));\n",
        "        });\n",
        "\n",
        "    // mark grid lines and ticks as in or out of scale.\n",
        "    var mark_inscale = function (element, i) {\n",
        "        element.attribute(\"gadfly:inscale\", element.attribute(\"gadfly:scale\") == 1.0);\n",
        "    };\n",
        "\n",
        "    root.select(\".xgridlines\").selectAll(\"path\").forEach(mark_inscale);\n",
        "    root.select(\".ygridlines\").selectAll(\"path\").forEach(mark_inscale);\n",
        "    root.select(\".xlabels\").selectAll(\"text\").forEach(mark_inscale);\n",
        "    root.select(\".ylabels\").selectAll(\"text\").forEach(mark_inscale);\n",
        "\n",
        "    // figure out the upper ond lower bounds on panning using the maximum\n",
        "    // and minum grid lines\n",
        "    var bounds = root.plotbounds();\n",
        "    var pan_bounds = {\n",
        "        x0: 0.0,\n",
        "        y0: 0.0,\n",
        "        x1: 0.0,\n",
        "        y1: 0.0\n",
        "    };\n",
        "\n",
        "    root.select(\".xgridlines\")\n",
        "        .selectAll(\"path\")\n",
        "        .forEach(function (element, i) {\n",
        "            if (element.attribute(\"gadfly:inscale\") == \"true\") {\n",
        "                var bbox = element.node.getBBox();\n",
        "                if (bounds.x1 - bbox.x < pan_bounds.x0) {\n",
        "                    pan_bounds.x0 = bounds.x1 - bbox.x;\n",
        "                }\n",
        "                if (bounds.x0 - bbox.x > pan_bounds.x1) {\n",
        "                    pan_bounds.x1 = bounds.x0 - bbox.x;\n",
        "                }\n",
        "            }\n",
        "        });\n",
        "\n",
        "    root.select(\".ygridlines\")\n",
        "        .selectAll(\"path\")\n",
        "        .forEach(function (element, i) {\n",
        "            if (element.attribute(\"gadfly:inscale\") == \"true\") {\n",
        "                var bbox = element.node.getBBox();\n",
        "                if (bounds.y1 - bbox.y < pan_bounds.y0) {\n",
        "                    pan_bounds.y0 = bounds.y1 - bbox.y;\n",
        "                }\n",
        "                if (bounds.y0 - bbox.y > pan_bounds.y1) {\n",
        "                    pan_bounds.y1 = bounds.y0 - bbox.y;\n",
        "                }\n",
        "            }\n",
        "        });\n",
        "\n",
        "    // nudge these values a little\n",
        "    pan_bounds.x0 -= 5;\n",
        "    pan_bounds.x1 += 5;\n",
        "    pan_bounds.y0 -= 5;\n",
        "    pan_bounds.y1 += 5;\n",
        "    root.data(\"pan_bounds\", pan_bounds);\n",
        "\n",
        "    // Set all grid lines at scale 1.0 to visible. Out of bounds lines\n",
        "    // will be clipped.\n",
        "    root.select(\".xgridlines\")\n",
        "        .selectAll(\"path\")\n",
        "        .forEach(function (element, i) {\n",
        "            if (element.attribute(\"gadfly:inscale\") == \"true\") {\n",
        "                element.attr(\"visibility\", \"visible\");\n",
        "            }\n",
        "        });\n",
        "\n",
        "    root.select(\".ygridlines\")\n",
        "        .selectAll(\"path\")\n",
        "        .forEach(function (element, i) {\n",
        "            if (element.attribute(\"gadfly:inscale\") == \"true\") {\n",
        "                element.attr(\"visibility\", \"visible\");\n",
        "            }\n",
        "        });\n",
        "\n",
        "    root.data(\"zoompan-ready\", true)\n",
        "};\n",
        "\n",
        "\n",
        "// Panning\n",
        "Gadfly.guide_background_drag_onmove = function(dx, dy, x, y, event) {\n",
        "    var root = this.plotroot();\n",
        "    var px_per_mm = root.data(\"px_per_mm\");\n",
        "    dx /= px_per_mm;\n",
        "    dy /= px_per_mm;\n",
        "\n",
        "    var tx0 = root.data(\"tx\"),\n",
        "        ty0 = root.data(\"ty\");\n",
        "\n",
        "    var dx0 = root.data(\"dx\"),\n",
        "        dy0 = root.data(\"dy\");\n",
        "\n",
        "    root.data(\"dx\", dx);\n",
        "    root.data(\"dy\", dy);\n",
        "\n",
        "    dx = dx - dx0;\n",
        "    dy = dy - dy0;\n",
        "\n",
        "    var tx = tx0 + dx,\n",
        "        ty = ty0 + dy;\n",
        "\n",
        "    set_plot_pan_zoom(root, tx, ty, root.data(\"scale\"));\n",
        "};\n",
        "\n",
        "\n",
        "Gadfly.guide_background_drag_onstart = function(x, y, event) {\n",
        "    var root = this.plotroot();\n",
        "    root.data(\"dx\", 0);\n",
        "    root.data(\"dy\", 0);\n",
        "    init_pan_zoom(root);\n",
        "};\n",
        "\n",
        "\n",
        "Gadfly.guide_background_drag_onend = function(event) {\n",
        "    var root = this.plotroot();\n",
        "};\n",
        "\n",
        "\n",
        "Gadfly.guide_background_scroll = function(event) {\n",
        "    if (event.shiftKey) {\n",
        "        var root = this.plotroot();\n",
        "        init_pan_zoom(root);\n",
        "        var new_scale = root.data(\"scale\") * Math.pow(2, 0.002 * event.wheelDelta);\n",
        "        new_scale = Math.max(\n",
        "            root.data(\"min_scale\"),\n",
        "            Math.min(root.data(\"max_scale\"), new_scale))\n",
        "        update_plot_scale(root, new_scale);\n",
        "        event.stopPropagation();\n",
        "    }\n",
        "};\n",
        "\n",
        "\n",
        "Gadfly.zoomslider_button_mouseover = function(event) {\n",
        "    this.select(\".button_logo\")\n",
        "         .animate({fill: this.data(\"mouseover_color\")}, 100);\n",
        "};\n",
        "\n",
        "\n",
        "Gadfly.zoomslider_button_mouseout = function(event) {\n",
        "     this.select(\".button_logo\")\n",
        "         .animate({fill: this.data(\"mouseout_color\")}, 100);\n",
        "};\n",
        "\n",
        "\n",
        "Gadfly.zoomslider_zoomout_click = function(event) {\n",
        "    var root = this.plotroot();\n",
        "    init_pan_zoom(root);\n",
        "    var min_scale = root.data(\"min_scale\"),\n",
        "        scale = root.data(\"scale\");\n",
        "    Snap.animate(\n",
        "        scale,\n",
        "        Math.max(min_scale, scale / 1.5),\n",
        "        function (new_scale) {\n",
        "            update_plot_scale(root, new_scale);\n",
        "        },\n",
        "        200);\n",
        "};\n",
        "\n",
        "\n",
        "Gadfly.zoomslider_zoomin_click = function(event) {\n",
        "    var root = this.plotroot();\n",
        "    init_pan_zoom(root);\n",
        "    var max_scale = root.data(\"max_scale\"),\n",
        "        scale = root.data(\"scale\");\n",
        "\n",
        "    Snap.animate(\n",
        "        scale,\n",
        "        Math.min(max_scale, scale * 1.5),\n",
        "        function (new_scale) {\n",
        "            update_plot_scale(root, new_scale);\n",
        "        },\n",
        "        200);\n",
        "};\n",
        "\n",
        "\n",
        "Gadfly.zoomslider_track_click = function(event) {\n",
        "    // TODO\n",
        "};\n",
        "\n",
        "\n",
        "Gadfly.zoomslider_thumb_mousedown = function(event) {\n",
        "    this.animate({fill: this.data(\"mouseover_color\")}, 100);\n",
        "};\n",
        "\n",
        "\n",
        "Gadfly.zoomslider_thumb_mouseup = function(event) {\n",
        "    this.animate({fill: this.data(\"mouseout_color\")}, 100);\n",
        "};\n",
        "\n",
        "\n",
        "// compute the position in [0, 1] of the zoom slider thumb from the current scale\n",
        "var slider_position_from_scale = function(scale, min_scale, max_scale) {\n",
        "    if (scale >= 1.0) {\n",
        "        return 0.5 + 0.5 * (Math.log(scale) / Math.log(max_scale));\n",
        "    }\n",
        "    else {\n",
        "        return 0.5 * (Math.log(scale) - Math.log(min_scale)) / (0 - Math.log(min_scale));\n",
        "    }\n",
        "}\n",
        "\n",
        "\n",
        "var update_plot_scale = function(root, new_scale) {\n",
        "    var trans = scale_centered_translation(root, new_scale);\n",
        "    set_plot_pan_zoom(root, trans.x, trans.y, new_scale);\n",
        "\n",
        "    root.selectAll(\".zoomslider_thumb\")\n",
        "        .forEach(function (element, i) {\n",
        "            var min_pos = element.data(\"min_pos\"),\n",
        "                max_pos = element.data(\"max_pos\"),\n",
        "                min_scale = root.data(\"min_scale\"),\n",
        "                max_scale = root.data(\"max_scale\");\n",
        "            var xmid = (min_pos + max_pos) / 2;\n",
        "            var xpos = slider_position_from_scale(new_scale, min_scale, max_scale);\n",
        "            element.transform(new Snap.Matrix().translate(\n",
        "                Math.max(min_pos, Math.min(\n",
        "                         max_pos, min_pos + (max_pos - min_pos) * xpos)) - xmid, 0));\n",
        "    });\n",
        "};\n",
        "\n",
        "\n",
        "Gadfly.zoomslider_thumb_dragmove = function(dx, dy, x, y) {\n",
        "    var root = this.plotroot();\n",
        "    var min_pos = this.data(\"min_pos\"),\n",
        "        max_pos = this.data(\"max_pos\"),\n",
        "        min_scale = root.data(\"min_scale\"),\n",
        "        max_scale = root.data(\"max_scale\"),\n",
        "        old_scale = root.data(\"old_scale\");\n",
        "\n",
        "    var px_per_mm = root.data(\"px_per_mm\");\n",
        "    dx /= px_per_mm;\n",
        "    dy /= px_per_mm;\n",
        "\n",
        "    var xmid = (min_pos + max_pos) / 2;\n",
        "    var xpos = slider_position_from_scale(old_scale, min_scale, max_scale) +\n",
        "                   dx / (max_pos - min_pos);\n",
        "\n",
        "    // compute the new scale\n",
        "    var new_scale;\n",
        "    if (xpos >= 0.5) {\n",
        "        new_scale = Math.exp(2.0 * (xpos - 0.5) * Math.log(max_scale));\n",
        "    }\n",
        "    else {\n",
        "        new_scale = Math.exp(2.0 * xpos * (0 - Math.log(min_scale)) +\n",
        "                        Math.log(min_scale));\n",
        "    }\n",
        "    new_scale = Math.min(max_scale, Math.max(min_scale, new_scale));\n",
        "\n",
        "    update_plot_scale(root, new_scale);\n",
        "};\n",
        "\n",
        "\n",
        "Gadfly.zoomslider_thumb_dragstart = function(event) {\n",
        "    var root = this.plotroot();\n",
        "    init_pan_zoom(root);\n",
        "\n",
        "    // keep track of what the scale was when we started dragging\n",
        "    root.data(\"old_scale\", root.data(\"scale\"));\n",
        "};\n",
        "\n",
        "\n",
        "Gadfly.zoomslider_thumb_dragend = function(event) {\n",
        "};\n",
        "\n",
        "\n",
        "var toggle_color_class = function(root, color_class, ison) {\n",
        "    var guides = root.selectAll(\".guide.\" + color_class + \",.guide .\" + color_class);\n",
        "    var geoms = root.selectAll(\".geometry.\" + color_class + \",.geometry .\" + color_class);\n",
        "    if (ison) {\n",
        "        guides.animate({opacity: 0.5}, 250);\n",
        "        geoms.animate({opacity: 0.0}, 250);\n",
        "    } else {\n",
        "        guides.animate({opacity: 1.0}, 250);\n",
        "        geoms.animate({opacity: 1.0}, 250);\n",
        "    }\n",
        "};\n",
        "\n",
        "\n",
        "Gadfly.colorkey_swatch_click = function(event) {\n",
        "    var root = this.plotroot();\n",
        "    var color_class = this.data(\"color_class\");\n",
        "\n",
        "    if (event.shiftKey) {\n",
        "        root.selectAll(\".colorkey text\")\n",
        "            .forEach(function (element) {\n",
        "                var other_color_class = element.data(\"color_class\");\n",
        "                if (other_color_class != color_class) {\n",
        "                    toggle_color_class(root, other_color_class,\n",
        "                                       element.attr(\"opacity\") == 1.0);\n",
        "                }\n",
        "            });\n",
        "    } else {\n",
        "        toggle_color_class(root, color_class, this.attr(\"opacity\") == 1.0);\n",
        "    }\n",
        "};\n",
        "\n",
        "\n",
        "return Gadfly;\n",
        "\n",
        "}));\n",
        "\n",
        "\n",
        "//@ sourceURL=gadfly.js\n",
        "\n",
        "(function (glob, factory) {\n",
        "    // AMD support\n",
        "      if (typeof require === \"function\" && typeof define === \"function\" && define.amd) {\n",
        "        require([\"Snap.svg\", \"Gadfly\"], function (Snap, Gadfly) {\n",
        "            factory(Snap, Gadfly);\n",
        "        });\n",
        "      } else {\n",
        "          factory(glob.Snap, glob.Gadfly);\n",
        "      }\n",
        "})(window, function (Snap, Gadfly) {\n",
        "    var fig = Snap(\"#fig-e05f28ba83fb42898912fc4379ddc9b6\");\n",
        "fig.select(\"#fig-e05f28ba83fb42898912fc4379ddc9b6-element-4\")\n",
        "   .drag(function() {}, function() {}, function() {});\n",
        "fig.select(\"#fig-e05f28ba83fb42898912fc4379ddc9b6-element-6\")\n",
        "   .data(\"color_class\", \"color_Simulation\")\n",
        ".click(Gadfly.colorkey_swatch_click)\n",
        ";\n",
        "fig.select(\"#fig-e05f28ba83fb42898912fc4379ddc9b6-element-7\")\n",
        "   .data(\"color_class\", \"color_MMSN\")\n",
        ".click(Gadfly.colorkey_swatch_click)\n",
        ";\n",
        "fig.select(\"#fig-e05f28ba83fb42898912fc4379ddc9b6-element-8\")\n",
        "   .data(\"color_class\", \"color_10X_MMSN\")\n",
        ".click(Gadfly.colorkey_swatch_click)\n",
        ";\n",
        "fig.select(\"#fig-e05f28ba83fb42898912fc4379ddc9b6-element-10\")\n",
        "   .data(\"color_class\", \"color_Simulation\")\n",
        ".click(Gadfly.colorkey_swatch_click)\n",
        ";\n",
        "fig.select(\"#fig-e05f28ba83fb42898912fc4379ddc9b6-element-11\")\n",
        "   .data(\"color_class\", \"color_MMSN\")\n",
        ".click(Gadfly.colorkey_swatch_click)\n",
        ";\n",
        "fig.select(\"#fig-e05f28ba83fb42898912fc4379ddc9b6-element-12\")\n",
        "   .data(\"color_class\", \"color_10X_MMSN\")\n",
        ".click(Gadfly.colorkey_swatch_click)\n",
        ";\n",
        "fig.select(\"#fig-e05f28ba83fb42898912fc4379ddc9b6-element-15\")\n",
        "   .mouseenter(Gadfly.plot_mouseover)\n",
        ".mouseleave(Gadfly.plot_mouseout)\n",
        ".mousewheel(Gadfly.guide_background_scroll)\n",
        ".drag(Gadfly.guide_background_drag_onmove,\n",
        "      Gadfly.guide_background_drag_onstart,\n",
        "      Gadfly.guide_background_drag_onend)\n",
        ";\n",
        "fig.select(\"#fig-e05f28ba83fb42898912fc4379ddc9b6-element-19\")\n",
        "   .plotroot().data(\"unfocused_ygrid_color\", \"#D0D0E0\")\n",
        ";\n",
        "fig.select(\"#fig-e05f28ba83fb42898912fc4379ddc9b6-element-19\")\n",
        "   .plotroot().data(\"focused_ygrid_color\", \"#A0A0A0\")\n",
        ";\n",
        "fig.select(\"#fig-e05f28ba83fb42898912fc4379ddc9b6-element-137\")\n",
        "   .plotroot().data(\"unfocused_xgrid_color\", \"#D0D0E0\")\n",
        ";\n",
        "fig.select(\"#fig-e05f28ba83fb42898912fc4379ddc9b6-element-137\")\n",
        "   .plotroot().data(\"focused_xgrid_color\", \"#A0A0A0\")\n",
        ";\n",
        "fig.select(\"#fig-e05f28ba83fb42898912fc4379ddc9b6-element-333\")\n",
        "   .data(\"mouseover_color\", \"#cd5c5c\")\n",
        ";\n",
        "fig.select(\"#fig-e05f28ba83fb42898912fc4379ddc9b6-element-333\")\n",
        "   .data(\"mouseout_color\", \"#6a6a6a\")\n",
        ";\n",
        "fig.select(\"#fig-e05f28ba83fb42898912fc4379ddc9b6-element-333\")\n",
        "   .click(Gadfly.zoomslider_zoomin_click)\n",
        ".mouseenter(Gadfly.zoomslider_button_mouseover)\n",
        ".mouseleave(Gadfly.zoomslider_button_mouseout)\n",
        ";\n",
        "fig.select(\"#fig-e05f28ba83fb42898912fc4379ddc9b6-element-337\")\n",
        "   .data(\"max_pos\", 103.16)\n",
        ";\n",
        "fig.select(\"#fig-e05f28ba83fb42898912fc4379ddc9b6-element-337\")\n",
        "   .data(\"min_pos\", 86.16)\n",
        ";\n",
        "fig.select(\"#fig-e05f28ba83fb42898912fc4379ddc9b6-element-337\")\n",
        "   .click(Gadfly.zoomslider_track_click);\n",
        "fig.select(\"#fig-e05f28ba83fb42898912fc4379ddc9b6-element-339\")\n",
        "   .data(\"max_pos\", 103.16)\n",
        ";\n",
        "fig.select(\"#fig-e05f28ba83fb42898912fc4379ddc9b6-element-339\")\n",
        "   .data(\"min_pos\", 86.16)\n",
        ";\n",
        "fig.select(\"#fig-e05f28ba83fb42898912fc4379ddc9b6-element-339\")\n",
        "   .data(\"mouseover_color\", \"#cd5c5c\")\n",
        ";\n",
        "fig.select(\"#fig-e05f28ba83fb42898912fc4379ddc9b6-element-339\")\n",
        "   .data(\"mouseout_color\", \"#6a6a6a\")\n",
        ";\n",
        "fig.select(\"#fig-e05f28ba83fb42898912fc4379ddc9b6-element-339\")\n",
        "   .drag(Gadfly.zoomslider_thumb_dragmove,\n",
        "     Gadfly.zoomslider_thumb_dragstart,\n",
        "     Gadfly.zoomslider_thumb_dragend)\n",
        ".mousedown(Gadfly.zoomslider_thumb_mousedown)\n",
        ".mouseup(Gadfly.zoomslider_thumb_mouseup)\n",
        ";\n",
        "fig.select(\"#fig-e05f28ba83fb42898912fc4379ddc9b6-element-341\")\n",
        "   .data(\"mouseover_color\", \"#cd5c5c\")\n",
        ";\n",
        "fig.select(\"#fig-e05f28ba83fb42898912fc4379ddc9b6-element-341\")\n",
        "   .data(\"mouseout_color\", \"#6a6a6a\")\n",
        ";\n",
        "fig.select(\"#fig-e05f28ba83fb42898912fc4379ddc9b6-element-341\")\n",
        "   .click(Gadfly.zoomslider_zoomout_click)\n",
        ".mouseenter(Gadfly.zoomslider_button_mouseover)\n",
        ".mouseleave(Gadfly.zoomslider_button_mouseout)\n",
        ";\n",
        "    });\n",
        "]]> </script>\n",
        "</svg>\n"
       ],
       "metadata": {},
       "output_type": "pyout",
       "png": "[encoded data removed]",
       "prompt_number": 8,
       "svg": [
        "<?xml version=\"1.0\" encoding=\"UTF-8\"?>\n",
        "<svg xmlns=\"http://www.w3.org/2000/svg\"\n",
        "     xmlns:xlink=\"http://www.w3.org/1999/xlink\"\n",
        "     xmlns:gadfly=\"http://www.gadflyjl.org/ns\"\n",
        "     version=\"1.2\"\n",
        "     width=\"141.42mm\" height=\"100mm\" viewBox=\"0 0 141.42 100\"\n",
        "     stroke=\"none\"\n",
        "     fill=\"#000000\"\n",
        "     stroke-width=\"0.3\"\n",
        "     font-size=\"3.88\"\n",
        ">\n",
        "<g class=\"plotroot xscalable yscalable\" id=\"fig-70405c5bca3049d7a01e42892deafdc1-element-1\">\n",
        "  <g font-size=\"6\" font-family=\"'PT Sans','Helvetica Neue','Helvetica',sans-serif\" fill=\"#FFFFFF\" stroke=\"none\" id=\"fig-70405c5bca3049d7a01e42892deafdc1-element-2\">\n",
        "    <text x=\"72.47\" y=\"92\" text-anchor=\"middle\">Semi-major axis [AU]</text>\n",
        "  </g>\n",
        "  <g class=\"guide xlabels\" font-size=\"4.23\" font-family=\"'PT Sans Caption','Helvetica Neue','Helvetica',sans-serif\" fill=\"#FFFFFF\" id=\"fig-70405c5bca3049d7a01e42892deafdc1-element-3\">\n",
        "    <text x=\"27.78\" y=\"84.42\" text-anchor=\"middle\">10<tspan style=\"dominant-baseline:inherit\" dy=\"-0.6em\" font-size=\"83.333333%\">-1.5</tspan></text>\n",
        "    <text x=\"45.66\" y=\"84.42\" text-anchor=\"middle\">10<tspan style=\"dominant-baseline:inherit\" dy=\"-0.6em\" font-size=\"83.333333%\">-1.0</tspan></text>\n",
        "    <text x=\"63.53\" y=\"84.42\" text-anchor=\"middle\">10<tspan style=\"dominant-baseline:inherit\" dy=\"-0.6em\" font-size=\"83.333333%\">-0.5</tspan></text>\n",
        "    <text x=\"81.41\" y=\"84.42\" text-anchor=\"middle\">10<tspan style=\"dominant-baseline:inherit\" dy=\"-0.6em\" font-size=\"83.333333%\">0.0</tspan></text>\n",
        "    <text x=\"99.29\" y=\"84.42\" text-anchor=\"middle\">10<tspan style=\"dominant-baseline:inherit\" dy=\"-0.6em\" font-size=\"83.333333%\">0.5</tspan></text>\n",
        "    <text x=\"117.16\" y=\"84.42\" text-anchor=\"middle\">10<tspan style=\"dominant-baseline:inherit\" dy=\"-0.6em\" font-size=\"83.333333%\">1.0</tspan></text>\n",
        "  </g>\n",
        "  <g class=\"guide colorkey\" id=\"fig-70405c5bca3049d7a01e42892deafdc1-element-4\">\n",
        "    <g fill=\"#FFFFFF\" font-size=\"2.82\" font-family=\"'PT Sans','Helvetica Neue','Helvetica',sans-serif\" id=\"fig-70405c5bca3049d7a01e42892deafdc1-element-5\">\n",
        "      <text x=\"122.97\" y=\"39.39\" dy=\"0.35em\" id=\"fig-70405c5bca3049d7a01e42892deafdc1-element-6\" class=\"color_Simulation\">Simulation</text>\n",
        "      <text x=\"122.97\" y=\"43.02\" dy=\"0.35em\" id=\"fig-70405c5bca3049d7a01e42892deafdc1-element-7\" class=\"color_MMSN\">MMSN</text>\n",
        "      <text x=\"122.97\" y=\"46.64\" dy=\"0.35em\" id=\"fig-70405c5bca3049d7a01e42892deafdc1-element-8\" class=\"color_10X_MMSN\">10X MMSN</text>\n",
        "    </g>\n",
        "    <g stroke=\"none\" id=\"fig-70405c5bca3049d7a01e42892deafdc1-element-9\">\n",
        "      <rect x=\"120.16\" y=\"38.48\" width=\"1.81\" height=\"1.81\" id=\"fig-70405c5bca3049d7a01e42892deafdc1-element-10\" fill=\"#00BFFF\" class=\"color_Simulation\"/>\n",
        "      <rect x=\"120.16\" y=\"42.11\" width=\"1.81\" height=\"1.81\" id=\"fig-70405c5bca3049d7a01e42892deafdc1-element-11\" fill=\"#D4CA3A\" class=\"color_MMSN\"/>\n",
        "      <rect x=\"120.16\" y=\"45.74\" width=\"1.81\" height=\"1.81\" id=\"fig-70405c5bca3049d7a01e42892deafdc1-element-12\" fill=\"#FF5EA0\" class=\"color_10X_MMSN\"/>\n",
        "    </g>\n",
        "    <g fill=\"#FFFFFF\" font-size=\"4.94\" font-family=\"'PT Sans','Helvetica Neue','Helvetica',sans-serif\" stroke=\"none\" id=\"fig-70405c5bca3049d7a01e42892deafdc1-element-13\">\n",
        "      <text x=\"120.16\" y=\"36.06\" id=\"fig-70405c5bca3049d7a01e42892deafdc1-element-14\"></text>\n",
        "    </g>\n",
        "  </g>\n",
        "  <g clip-path=\"url(#fig-70405c5bca3049d7a01e42892deafdc1-element-16)\" id=\"fig-70405c5bca3049d7a01e42892deafdc1-element-15\">\n",
        "    <g pointer-events=\"visible\" opacity=\"1\" fill=\"none\" stroke=\"#000000\" class=\"guide background\" id=\"fig-70405c5bca3049d7a01e42892deafdc1-element-17\">\n",
        "      <rect x=\"25.78\" y=\"5\" width=\"93.38\" height=\"72.4\" id=\"fig-70405c5bca3049d7a01e42892deafdc1-element-18\"/>\n",
        "    </g>\n",
        "    <g class=\"guide ygridlines xfixed\" stroke-dasharray=\"0.5,0.5\" stroke-width=\"0.2\" stroke=\"#D0D0E0\" id=\"fig-70405c5bca3049d7a01e42892deafdc1-element-19\">\n",
        "      <path fill=\"none\" d=\"M25.78,75.4 L 119.16 75.4\" id=\"fig-70405c5bca3049d7a01e42892deafdc1-element-20\"/>\n",
        "      <path fill=\"none\" d=\"M25.78,55.86 L 119.16 55.86\" id=\"fig-70405c5bca3049d7a01e42892deafdc1-element-21\"/>\n",
        "      <path fill=\"none\" d=\"M25.78,36.32 L 119.16 36.32\" id=\"fig-70405c5bca3049d7a01e42892deafdc1-element-22\"/>\n",
        "      <path fill=\"none\" d=\"M25.78,16.77 L 119.16 16.77\" id=\"fig-70405c5bca3049d7a01e42892deafdc1-element-23\"/>\n",
        "      <path fill=\"none\" d=\"M25.78,-2.77 L 119.16 -2.77\" id=\"fig-70405c5bca3049d7a01e42892deafdc1-element-24\"/>\n",
        "    </g>\n",
        "    <g class=\"guide xgridlines yfixed\" stroke-dasharray=\"0.5,0.5\" stroke-width=\"0.2\" stroke=\"#D0D0E0\" id=\"fig-70405c5bca3049d7a01e42892deafdc1-element-25\">\n",
        "      <path fill=\"none\" d=\"M27.78,5 L 27.78 77.4\" id=\"fig-70405c5bca3049d7a01e42892deafdc1-element-26\"/>\n",
        "      <path fill=\"none\" d=\"M45.66,5 L 45.66 77.4\" id=\"fig-70405c5bca3049d7a01e42892deafdc1-element-27\"/>\n",
        "      <path fill=\"none\" d=\"M63.53,5 L 63.53 77.4\" id=\"fig-70405c5bca3049d7a01e42892deafdc1-element-28\"/>\n",
        "      <path fill=\"none\" d=\"M81.41,5 L 81.41 77.4\" id=\"fig-70405c5bca3049d7a01e42892deafdc1-element-29\"/>\n",
        "      <path fill=\"none\" d=\"M99.29,5 L 99.29 77.4\" id=\"fig-70405c5bca3049d7a01e42892deafdc1-element-30\"/>\n",
        "      <path fill=\"none\" d=\"M117.16,5 L 117.16 77.4\" id=\"fig-70405c5bca3049d7a01e42892deafdc1-element-31\"/>\n",
        "    </g>\n",
        "    <g class=\"plotpanel\" id=\"fig-70405c5bca3049d7a01e42892deafdc1-element-32\">\n",
        "      <g stroke-width=\"1.06\" fill=\"none\" class=\"geometry color_10X_MMSN\" stroke=\"#FF5EA0\" id=\"fig-70405c5bca3049d7a01e42892deafdc1-element-33\">\n",
        "        <path fill=\"none\" d=\"M34.9,17.25 L 36.35 17.84 37.81 18.44 39.27 19.04 40.73 19.64 42.19 20.24 43.65 20.84 45.11 21.43 46.57 22.03 48.03 22.63 49.49 23.23 50.95 23.83 52.41 24.42 53.87 25.02 55.32 25.62 56.78 26.22 58.24 26.82 59.7 27.42 61.16 28.01 62.62 28.61 64.08 29.21 65.54 29.81 67 30.41 68.46 31.01 69.92 31.6 71.38 32.2 72.84 32.8 74.3 33.4 75.75 34 77.21 34.6 78.67 35.19 80.13 35.79 81.59 36.39 83.05 36.99 84.51 37.59 85.97 38.19 87.43 38.78 88.89 39.38 90.35 39.98 91.81 40.58 93.27 41.18 94.72 41.77 96.18 42.37 97.64 42.97 99.1 43.57 100.56 44.17 102.02 44.77 103.48 45.36 104.94 45.96\" id=\"fig-70405c5bca3049d7a01e42892deafdc1-element-34\"/>\n",
        "      </g>\n",
        "      <g stroke-width=\"1.06\" fill=\"none\" class=\"geometry color_MMSN\" stroke=\"#D4CA3A\" id=\"fig-70405c5bca3049d7a01e42892deafdc1-element-35\">\n",
        "        <path fill=\"none\" d=\"M34.9,27.02 L 36.35 27.62 37.81 28.21 39.27 28.81 40.73 29.41 42.19 30.01 43.65 30.61 45.11 31.21 46.57 31.8 48.03 32.4 49.49 33 50.95 33.6 52.41 34.2 53.87 34.79 55.32 35.39 56.78 35.99 58.24 36.59 59.7 37.19 61.16 37.79 62.62 38.38 64.08 38.98 65.54 39.58 67 40.18 68.46 40.78 69.92 41.38 71.38 41.97 72.84 42.57 74.3 43.17 75.75 43.77 77.21 44.37 78.67 44.97 80.13 45.56 81.59 46.16 83.05 46.76 84.51 47.36 85.97 47.96 87.43 48.56 88.89 49.15 90.35 49.75 91.81 50.35 93.27 50.95 94.72 51.55 96.18 52.15 97.64 52.74 99.1 53.34 100.56 53.94 102.02 54.54 103.48 55.14 104.94 55.73\" id=\"fig-70405c5bca3049d7a01e42892deafdc1-element-36\"/>\n",
        "      </g>\n",
        "      <g class=\"geometry\" id=\"fig-70405c5bca3049d7a01e42892deafdc1-element-37\">\n",
        "        <g class=\"color_Simulation\" stroke=\"#FFFFFF\" stroke-width=\"0.3\" fill=\"#00BFFF\" id=\"fig-70405c5bca3049d7a01e42892deafdc1-element-38\">\n",
        "          <circle cx=\"34.9\" cy=\"36.96\" r=\"0.9\" id=\"fig-70405c5bca3049d7a01e42892deafdc1-element-39\"/>\n",
        "          <circle cx=\"36.35\" cy=\"37.72\" r=\"0.9\" id=\"fig-70405c5bca3049d7a01e42892deafdc1-element-40\"/>\n",
        "          <circle cx=\"37.81\" cy=\"38.42\" r=\"0.9\" id=\"fig-70405c5bca3049d7a01e42892deafdc1-element-41\"/>\n",
        "          <circle cx=\"39.27\" cy=\"39.04\" r=\"0.9\" id=\"fig-70405c5bca3049d7a01e42892deafdc1-element-42\"/>\n",
        "          <circle cx=\"40.73\" cy=\"39.62\" r=\"0.9\" id=\"fig-70405c5bca3049d7a01e42892deafdc1-element-43\"/>\n",
        "          <circle cx=\"42.19\" cy=\"40.22\" r=\"0.9\" id=\"fig-70405c5bca3049d7a01e42892deafdc1-element-44\"/>\n",
        "          <circle cx=\"43.65\" cy=\"40.77\" r=\"0.9\" id=\"fig-70405c5bca3049d7a01e42892deafdc1-element-45\"/>\n",
        "          <circle cx=\"45.11\" cy=\"41.44\" r=\"0.9\" id=\"fig-70405c5bca3049d7a01e42892deafdc1-element-46\"/>\n",
        "          <circle cx=\"46.57\" cy=\"41.85\" r=\"0.9\" id=\"fig-70405c5bca3049d7a01e42892deafdc1-element-47\"/>\n",
        "          <circle cx=\"48.03\" cy=\"42.62\" r=\"0.9\" id=\"fig-70405c5bca3049d7a01e42892deafdc1-element-48\"/>\n",
        "          <circle cx=\"49.49\" cy=\"43.07\" r=\"0.9\" id=\"fig-70405c5bca3049d7a01e42892deafdc1-element-49\"/>\n",
        "          <circle cx=\"50.95\" cy=\"43.75\" r=\"0.9\" id=\"fig-70405c5bca3049d7a01e42892deafdc1-element-50\"/>\n",
        "          <circle cx=\"52.41\" cy=\"44.33\" r=\"0.9\" id=\"fig-70405c5bca3049d7a01e42892deafdc1-element-51\"/>\n",
        "          <circle cx=\"53.87\" cy=\"44.77\" r=\"0.9\" id=\"fig-70405c5bca3049d7a01e42892deafdc1-element-52\"/>\n",
        "          <circle cx=\"55.32\" cy=\"45.48\" r=\"0.9\" id=\"fig-70405c5bca3049d7a01e42892deafdc1-element-53\"/>\n",
        "          <circle cx=\"56.78\" cy=\"46.03\" r=\"0.9\" id=\"fig-70405c5bca3049d7a01e42892deafdc1-element-54\"/>\n",
        "          <circle cx=\"58.24\" cy=\"46.65\" r=\"0.9\" id=\"fig-70405c5bca3049d7a01e42892deafdc1-element-55\"/>\n",
        "          <circle cx=\"59.7\" cy=\"47.21\" r=\"0.9\" id=\"fig-70405c5bca3049d7a01e42892deafdc1-element-56\"/>\n",
        "          <circle cx=\"61.16\" cy=\"47.88\" r=\"0.9\" id=\"fig-70405c5bca3049d7a01e42892deafdc1-element-57\"/>\n",
        "          <circle cx=\"62.62\" cy=\"48.35\" r=\"0.9\" id=\"fig-70405c5bca3049d7a01e42892deafdc1-element-58\"/>\n",
        "          <circle cx=\"64.08\" cy=\"49.01\" r=\"0.9\" id=\"fig-70405c5bca3049d7a01e42892deafdc1-element-59\"/>\n",
        "          <circle cx=\"65.54\" cy=\"49.63\" r=\"0.9\" id=\"fig-70405c5bca3049d7a01e42892deafdc1-element-60\"/>\n",
        "          <circle cx=\"67\" cy=\"50.25\" r=\"0.9\" id=\"fig-70405c5bca3049d7a01e42892deafdc1-element-61\"/>\n",
        "          <circle cx=\"68.46\" cy=\"50.83\" r=\"0.9\" id=\"fig-70405c5bca3049d7a01e42892deafdc1-element-62\"/>\n",
        "          <circle cx=\"69.92\" cy=\"51.5\" r=\"0.9\" id=\"fig-70405c5bca3049d7a01e42892deafdc1-element-63\"/>\n",
        "          <circle cx=\"71.38\" cy=\"52.1\" r=\"0.9\" id=\"fig-70405c5bca3049d7a01e42892deafdc1-element-64\"/>\n",
        "          <circle cx=\"72.84\" cy=\"52.67\" r=\"0.9\" id=\"fig-70405c5bca3049d7a01e42892deafdc1-element-65\"/>\n",
        "          <circle cx=\"74.3\" cy=\"53.18\" r=\"0.9\" id=\"fig-70405c5bca3049d7a01e42892deafdc1-element-66\"/>\n",
        "          <circle cx=\"75.75\" cy=\"53.7\" r=\"0.9\" id=\"fig-70405c5bca3049d7a01e42892deafdc1-element-67\"/>\n",
        "          <circle cx=\"77.21\" cy=\"54.41\" r=\"0.9\" id=\"fig-70405c5bca3049d7a01e42892deafdc1-element-68\"/>\n",
        "          <circle cx=\"78.67\" cy=\"55.09\" r=\"0.9\" id=\"fig-70405c5bca3049d7a01e42892deafdc1-element-69\"/>\n",
        "          <circle cx=\"80.13\" cy=\"55.75\" r=\"0.9\" id=\"fig-70405c5bca3049d7a01e42892deafdc1-element-70\"/>\n",
        "          <circle cx=\"81.59\" cy=\"56.22\" r=\"0.9\" id=\"fig-70405c5bca3049d7a01e42892deafdc1-element-71\"/>\n",
        "          <circle cx=\"83.05\" cy=\"56.86\" r=\"0.9\" id=\"fig-70405c5bca3049d7a01e42892deafdc1-element-72\"/>\n",
        "          <circle cx=\"84.51\" cy=\"57.42\" r=\"0.9\" id=\"fig-70405c5bca3049d7a01e42892deafdc1-element-73\"/>\n",
        "          <circle cx=\"85.97\" cy=\"58.05\" r=\"0.9\" id=\"fig-70405c5bca3049d7a01e42892deafdc1-element-74\"/>\n",
        "          <circle cx=\"87.43\" cy=\"58.62\" r=\"0.9\" id=\"fig-70405c5bca3049d7a01e42892deafdc1-element-75\"/>\n",
        "          <circle cx=\"88.89\" cy=\"59.22\" r=\"0.9\" id=\"fig-70405c5bca3049d7a01e42892deafdc1-element-76\"/>\n",
        "          <circle cx=\"90.35\" cy=\"59.83\" r=\"0.9\" id=\"fig-70405c5bca3049d7a01e42892deafdc1-element-77\"/>\n",
        "          <circle cx=\"91.81\" cy=\"60.41\" r=\"0.9\" id=\"fig-70405c5bca3049d7a01e42892deafdc1-element-78\"/>\n",
        "          <circle cx=\"93.27\" cy=\"61.01\" r=\"0.9\" id=\"fig-70405c5bca3049d7a01e42892deafdc1-element-79\"/>\n",
        "          <circle cx=\"94.72\" cy=\"61.61\" r=\"0.9\" id=\"fig-70405c5bca3049d7a01e42892deafdc1-element-80\"/>\n",
        "          <circle cx=\"96.18\" cy=\"62.25\" r=\"0.9\" id=\"fig-70405c5bca3049d7a01e42892deafdc1-element-81\"/>\n",
        "          <circle cx=\"97.64\" cy=\"62.83\" r=\"0.9\" id=\"fig-70405c5bca3049d7a01e42892deafdc1-element-82\"/>\n",
        "          <circle cx=\"99.1\" cy=\"63.4\" r=\"0.9\" id=\"fig-70405c5bca3049d7a01e42892deafdc1-element-83\"/>\n",
        "          <circle cx=\"100.56\" cy=\"64.02\" r=\"0.9\" id=\"fig-70405c5bca3049d7a01e42892deafdc1-element-84\"/>\n",
        "          <circle cx=\"102.02\" cy=\"64.59\" r=\"0.9\" id=\"fig-70405c5bca3049d7a01e42892deafdc1-element-85\"/>\n",
        "          <circle cx=\"103.48\" cy=\"65.18\" r=\"0.9\" id=\"fig-70405c5bca3049d7a01e42892deafdc1-element-86\"/>\n",
        "          <circle cx=\"104.94\" cy=\"65.86\" r=\"0.9\" id=\"fig-70405c5bca3049d7a01e42892deafdc1-element-87\"/>\n",
        "        </g>\n",
        "      </g>\n",
        "    </g>\n",
        "  </g>\n",
        "  <g class=\"guide ylabels\" font-size=\"4.23\" font-family=\"'PT Sans Caption','Helvetica Neue','Helvetica',sans-serif\" fill=\"#FFFFFF\" id=\"fig-70405c5bca3049d7a01e42892deafdc1-element-88\">\n",
        "    <text x=\"24.78\" y=\"75.4\" text-anchor=\"end\" dy=\"0.35em\" id=\"fig-70405c5bca3049d7a01e42892deafdc1-element-89\">10<tspan style=\"dominant-baseline:inherit\" dy=\"-0.6em\" font-size=\"83.333333%\">-2</tspan></text>\n",
        "    <text x=\"24.78\" y=\"55.86\" text-anchor=\"end\" dy=\"0.35em\" id=\"fig-70405c5bca3049d7a01e42892deafdc1-element-90\">10<tspan style=\"dominant-baseline:inherit\" dy=\"-0.6em\" font-size=\"83.333333%\">0</tspan></text>\n",
        "    <text x=\"24.78\" y=\"36.32\" text-anchor=\"end\" dy=\"0.35em\" id=\"fig-70405c5bca3049d7a01e42892deafdc1-element-91\">10<tspan style=\"dominant-baseline:inherit\" dy=\"-0.6em\" font-size=\"83.333333%\">2</tspan></text>\n",
        "    <text x=\"24.78\" y=\"16.77\" text-anchor=\"end\" dy=\"0.35em\" id=\"fig-70405c5bca3049d7a01e42892deafdc1-element-92\">10<tspan style=\"dominant-baseline:inherit\" dy=\"-0.6em\" font-size=\"83.333333%\">4</tspan></text>\n",
        "    <text x=\"24.78\" y=\"-2.77\" text-anchor=\"end\" dy=\"0.35em\" id=\"fig-70405c5bca3049d7a01e42892deafdc1-element-93\">10<tspan style=\"dominant-baseline:inherit\" dy=\"-0.6em\" font-size=\"83.333333%\">6</tspan></text>\n",
        "  </g>\n",
        "  <g font-size=\"6\" font-family=\"'PT Sans','Helvetica Neue','Helvetica',sans-serif\" fill=\"#FFFFFF\" stroke=\"none\" id=\"fig-70405c5bca3049d7a01e42892deafdc1-element-94\">\n",
        "    <text x=\"9.79\" y=\"39.2\" text-anchor=\"middle\" dy=\"0.35em\" transform=\"rotate(-90, 9.79, 41.2)\" id=\"fig-70405c5bca3049d7a01e42892deafdc1-element-95\">Surface density [g/cm^2]</text>\n",
        "  </g>\n",
        "</g>\n",
        "<defs>\n",
        "<clipPath id=\"fig-70405c5bca3049d7a01e42892deafdc1-element-16\">\n",
        "  <path d=\"M25.78,5 L 119.16 5 119.16 77.4 25.78 77.4\" />\n",
        "</clipPath\n",
        "></defs>\n",
        "</svg>\n"
       ],
       "text": [
        "Plot(...)"
       ]
      }
     ],
     "prompt_number": 8
    },
    {
     "cell_type": "markdown",
     "metadata": {},
     "source": [
      "#### Now test pebble accretion with planetesimal formation"
     ]
    },
    {
     "cell_type": "code",
     "collapsed": false,
     "input": [
      "include(\"../src/pebble_accretion.jl\")\n",
      "total_mass = PA.surfacedensity2mass(1e1, 0.05, 5.0, \u03b1=-1.5)\n",
      "d = PA.EmptyDisk(0.05, 5.0)\n",
      "t_0 = 1e5\n",
      "t_end = 3e6\n",
      "\u0394t = 1e3\n",
      "num_steps = (t_end - t_0) / \u0394t\n",
      "t = t_0\n",
      "while t < t_end\n",
      "    print(\"\\r $t\")\n",
      "    PA.form_planetesimals!(d, total_mass/num_steps)\n",
      "    PA.accrete_pebbles!(d, t, \u0394t, flux_reduction=total_mass/num_steps/\u0394t)\n",
      "    t += \u0394t\n",
      "end\n",
      "PA.plot(d)"
     ],
     "language": "python",
     "metadata": {},
     "outputs": [
      {
       "output_type": "stream",
       "stream": "stderr",
       "text": [
        "Warning: replacing module PA\n"
       ]
      },
      {
       "output_type": "stream",
       "stream": "stdout",
       "text": [
        "\r",
        " 100000.0\r",
        " 101000.0"
       ]
      },
      {
       "output_type": "stream",
       "stream": "stdout",
       "text": [
        "\r",
        " 102000.0"
       ]
      },
      {
       "output_type": "stream",
       "stream": "stdout",
       "text": [
        "\r",
        " 103000.0"
       ]
      },
      {
       "output_type": "stream",
       "stream": "stdout",
       "text": [
        "\r",
        " 104000.0\r",
        " 105000.0"
       ]
      },
      {
       "output_type": "stream",
       "stream": "stdout",
       "text": [
        "\r",
        " 106000.0"
       ]
      },
      {
       "output_type": "stream",
       "stream": "stdout",
       "text": [
        "\r",
        " 107000.0"
       ]
      },
      {
       "output_type": "stream",
       "stream": "stdout",
       "text": [
        "\r",
        " 108000.0"
       ]
      },
      {
       "output_type": "stream",
       "stream": "stdout",
       "text": [
        "\r",
        " 109000.0"
       ]
      },
      {
       "output_type": "stream",
       "stream": "stdout",
       "text": [
        "\r",
        " 110000.0"
       ]
      },
      {
       "output_type": "stream",
       "stream": "stdout",
       "text": [
        "\r",
        " 111000.0"
       ]
      },
      {
       "output_type": "stream",
       "stream": "stdout",
       "text": [
        "\r",
        " 112000.0"
       ]
      },
      {
       "output_type": "stream",
       "stream": "stdout",
       "text": [
        "\r",
        " 113000.0"
       ]
      },
      {
       "output_type": "stream",
       "stream": "stdout",
       "text": [
        "\r",
        " 114000.0"
       ]
      },
      {
       "output_type": "stream",
       "stream": "stdout",
       "text": [
        "\r",
        " 115000.0"
       ]
      },
      {
       "output_type": "stream",
       "stream": "stdout",
       "text": [
        "\r",
        " 116000.0"
       ]
      },
      {
       "output_type": "stream",
       "stream": "stdout",
       "text": [
        "\r",
        " 117000.0"
       ]
      },
      {
       "output_type": "stream",
       "stream": "stdout",
       "text": [
        "\r",
        " 118000.0"
       ]
      },
      {
       "output_type": "stream",
       "stream": "stdout",
       "text": [
        "\r",
        " 119000.0"
       ]
      },
      {
       "output_type": "stream",
       "stream": "stdout",
       "text": [
        "\r",
        " 120000.0"
       ]
      },
      {
       "output_type": "stream",
       "stream": "stdout",
       "text": [
        "\r",
        " 121000.0"
       ]
      },
      {
       "output_type": "stream",
       "stream": "stdout",
       "text": [
        "\r",
        " 122000.0"
       ]
      },
      {
       "output_type": "stream",
       "stream": "stdout",
       "text": [
        "\r",
        " 123000.0"
       ]
      },
      {
       "output_type": "stream",
       "stream": "stdout",
       "text": [
        "\r",
        " 124000.0"
       ]
      },
      {
       "output_type": "stream",
       "stream": "stdout",
       "text": [
        "\r",
        " 125000.0"
       ]
      },
      {
       "output_type": "stream",
       "stream": "stdout",
       "text": [
        "\r",
        " 126000.0"
       ]
      },
      {
       "output_type": "stream",
       "stream": "stdout",
       "text": [
        "\r",
        " 127000.0"
       ]
      },
      {
       "output_type": "stream",
       "stream": "stdout",
       "text": [
        "\r",
        " 128000.0"
       ]
      },
      {
       "output_type": "stream",
       "stream": "stdout",
       "text": [
        "\r",
        " 129000.0"
       ]
      },
      {
       "output_type": "stream",
       "stream": "stdout",
       "text": [
        "\r",
        " 130000.0"
       ]
      },
      {
       "output_type": "stream",
       "stream": "stdout",
       "text": [
        "\r",
        " 131000.0"
       ]
      },
      {
       "output_type": "stream",
       "stream": "stdout",
       "text": [
        "\r",
        " 132000.0"
       ]
      },
      {
       "output_type": "stream",
       "stream": "stdout",
       "text": [
        "\r",
        " 133000.0"
       ]
      },
      {
       "output_type": "stream",
       "stream": "stdout",
       "text": [
        "\r",
        " 134000.0"
       ]
      },
      {
       "output_type": "stream",
       "stream": "stdout",
       "text": [
        "\r",
        " 135000.0"
       ]
      },
      {
       "output_type": "stream",
       "stream": "stdout",
       "text": [
        "\r",
        " 136000.0"
       ]
      },
      {
       "output_type": "stream",
       "stream": "stdout",
       "text": [
        "\r",
        " 137000.0"
       ]
      },
      {
       "output_type": "stream",
       "stream": "stdout",
       "text": [
        "\r",
        " 138000.0"
       ]
      },
      {
       "output_type": "stream",
       "stream": "stdout",
       "text": [
        "\r",
        " 139000.0"
       ]
      },
      {
       "output_type": "stream",
       "stream": "stdout",
       "text": [
        "\r",
        " 140000.0"
       ]
      },
      {
       "output_type": "stream",
       "stream": "stdout",
       "text": [
        "\r",
        " 141000.0"
       ]
      },
      {
       "output_type": "stream",
       "stream": "stdout",
       "text": [
        "\r",
        " 142000.0"
       ]
      },
      {
       "output_type": "stream",
       "stream": "stdout",
       "text": [
        "\r",
        " 143000.0"
       ]
      },
      {
       "output_type": "stream",
       "stream": "stdout",
       "text": [
        "\r",
        " 144000.0"
       ]
      },
      {
       "output_type": "stream",
       "stream": "stdout",
       "text": [
        "\r",
        " 145000.0"
       ]
      },
      {
       "output_type": "stream",
       "stream": "stdout",
       "text": [
        "\r",
        " 146000.0"
       ]
      },
      {
       "output_type": "stream",
       "stream": "stdout",
       "text": [
        "\r",
        " 147000.0"
       ]
      },
      {
       "output_type": "stream",
       "stream": "stdout",
       "text": [
        "\r",
        " 148000.0"
       ]
      },
      {
       "output_type": "stream",
       "stream": "stdout",
       "text": [
        "\r",
        " 149000.0"
       ]
      },
      {
       "output_type": "stream",
       "stream": "stdout",
       "text": [
        "\r",
        " 150000.0"
       ]
      },
      {
       "output_type": "stream",
       "stream": "stdout",
       "text": [
        "\r",
        " 151000.0"
       ]
      },
      {
       "output_type": "stream",
       "stream": "stdout",
       "text": [
        "\r",
        " 152000.0"
       ]
      },
      {
       "output_type": "stream",
       "stream": "stdout",
       "text": [
        "\r",
        " 153000.0"
       ]
      },
      {
       "output_type": "stream",
       "stream": "stdout",
       "text": [
        "\r",
        " 154000.0"
       ]
      },
      {
       "output_type": "stream",
       "stream": "stdout",
       "text": [
        "\r",
        " 155000.0"
       ]
      },
      {
       "output_type": "stream",
       "stream": "stdout",
       "text": [
        "\r",
        " 156000.0"
       ]
      },
      {
       "output_type": "stream",
       "stream": "stdout",
       "text": [
        "\r",
        " 157000.0"
       ]
      },
      {
       "output_type": "stream",
       "stream": "stdout",
       "text": [
        "\r",
        " 158000.0"
       ]
      },
      {
       "output_type": "stream",
       "stream": "stdout",
       "text": [
        "\r",
        " 159000.0"
       ]
      },
      {
       "output_type": "stream",
       "stream": "stdout",
       "text": [
        "\r",
        " 160000.0"
       ]
      },
      {
       "output_type": "stream",
       "stream": "stdout",
       "text": [
        "\r",
        " 161000.0"
       ]
      },
      {
       "output_type": "stream",
       "stream": "stdout",
       "text": [
        "\r",
        " 162000.0"
       ]
      },
      {
       "output_type": "stream",
       "stream": "stdout",
       "text": [
        "\r",
        " 163000.0"
       ]
      },
      {
       "output_type": "stream",
       "stream": "stdout",
       "text": [
        "\r",
        " 164000.0"
       ]
      },
      {
       "output_type": "stream",
       "stream": "stdout",
       "text": [
        "\r",
        " 165000.0"
       ]
      },
      {
       "output_type": "stream",
       "stream": "stdout",
       "text": [
        "\r",
        " 166000.0"
       ]
      },
      {
       "output_type": "stream",
       "stream": "stdout",
       "text": [
        "\r",
        " 167000.0"
       ]
      },
      {
       "output_type": "stream",
       "stream": "stdout",
       "text": [
        "\r",
        " 168000.0"
       ]
      },
      {
       "output_type": "stream",
       "stream": "stdout",
       "text": [
        "\r",
        " 169000.0"
       ]
      },
      {
       "output_type": "stream",
       "stream": "stdout",
       "text": [
        "\r",
        " 170000.0"
       ]
      },
      {
       "output_type": "stream",
       "stream": "stdout",
       "text": [
        "\r",
        " 171000.0"
       ]
      },
      {
       "output_type": "stream",
       "stream": "stdout",
       "text": [
        "\r",
        " 172000.0"
       ]
      },
      {
       "output_type": "stream",
       "stream": "stdout",
       "text": [
        "\r",
        " 173000.0"
       ]
      },
      {
       "output_type": "stream",
       "stream": "stdout",
       "text": [
        "\r",
        " 174000.0"
       ]
      },
      {
       "output_type": "stream",
       "stream": "stdout",
       "text": [
        "\r",
        " 175000.0"
       ]
      },
      {
       "output_type": "stream",
       "stream": "stdout",
       "text": [
        "\r",
        " 176000.0"
       ]
      },
      {
       "output_type": "stream",
       "stream": "stdout",
       "text": [
        "\r",
        " 177000.0"
       ]
      },
      {
       "output_type": "stream",
       "stream": "stdout",
       "text": [
        "\r",
        " 178000.0"
       ]
      },
      {
       "output_type": "stream",
       "stream": "stdout",
       "text": [
        "\r",
        " 179000.0"
       ]
      },
      {
       "output_type": "stream",
       "stream": "stdout",
       "text": [
        "\r",
        " 180000.0"
       ]
      },
      {
       "output_type": "stream",
       "stream": "stdout",
       "text": [
        "\r",
        " 181000.0"
       ]
      },
      {
       "output_type": "stream",
       "stream": "stdout",
       "text": [
        "\r",
        " 182000.0"
       ]
      },
      {
       "output_type": "stream",
       "stream": "stdout",
       "text": [
        "\r",
        " 183000.0"
       ]
      },
      {
       "output_type": "stream",
       "stream": "stdout",
       "text": [
        "\r",
        " 184000.0"
       ]
      },
      {
       "output_type": "stream",
       "stream": "stdout",
       "text": [
        "\r",
        " 185000.0"
       ]
      },
      {
       "output_type": "stream",
       "stream": "stdout",
       "text": [
        "\r",
        " 186000.0"
       ]
      },
      {
       "output_type": "stream",
       "stream": "stdout",
       "text": [
        "\r",
        " 187000.0"
       ]
      },
      {
       "output_type": "stream",
       "stream": "stdout",
       "text": [
        "\r",
        " 188000.0"
       ]
      },
      {
       "output_type": "stream",
       "stream": "stdout",
       "text": [
        "\r",
        " 189000.0"
       ]
      },
      {
       "output_type": "stream",
       "stream": "stdout",
       "text": [
        "\r",
        " 190000.0"
       ]
      },
      {
       "output_type": "stream",
       "stream": "stdout",
       "text": [
        "\r",
        " 191000.0"
       ]
      },
      {
       "output_type": "stream",
       "stream": "stdout",
       "text": [
        "\r",
        " 192000.0"
       ]
      },
      {
       "output_type": "stream",
       "stream": "stdout",
       "text": [
        "\r",
        " 193000.0"
       ]
      },
      {
       "output_type": "stream",
       "stream": "stdout",
       "text": [
        "\r",
        " 194000.0"
       ]
      },
      {
       "output_type": "stream",
       "stream": "stdout",
       "text": [
        "\r",
        " 195000.0"
       ]
      },
      {
       "output_type": "stream",
       "stream": "stdout",
       "text": [
        "\r",
        " 196000.0"
       ]
      },
      {
       "output_type": "stream",
       "stream": "stdout",
       "text": [
        "\r",
        " 197000.0"
       ]
      },
      {
       "output_type": "stream",
       "stream": "stdout",
       "text": [
        "\r",
        " 198000.0"
       ]
      },
      {
       "output_type": "stream",
       "stream": "stdout",
       "text": [
        "\r",
        " 199000.0"
       ]
      },
      {
       "output_type": "stream",
       "stream": "stdout",
       "text": [
        "\r",
        " 200000.0"
       ]
      },
      {
       "output_type": "stream",
       "stream": "stdout",
       "text": [
        "\r",
        " 201000.0"
       ]
      },
      {
       "output_type": "stream",
       "stream": "stdout",
       "text": [
        "\r",
        " 202000.0"
       ]
      },
      {
       "output_type": "stream",
       "stream": "stdout",
       "text": [
        "\r",
        " 203000.0"
       ]
      },
      {
       "output_type": "stream",
       "stream": "stdout",
       "text": [
        "\r",
        " 204000.0"
       ]
      },
      {
       "output_type": "stream",
       "stream": "stdout",
       "text": [
        "\r",
        " 205000.0"
       ]
      },
      {
       "output_type": "stream",
       "stream": "stdout",
       "text": [
        "\r",
        " 206000.0"
       ]
      },
      {
       "output_type": "stream",
       "stream": "stdout",
       "text": [
        "\r",
        " 207000.0"
       ]
      },
      {
       "output_type": "stream",
       "stream": "stdout",
       "text": [
        "\r",
        " 208000.0"
       ]
      },
      {
       "output_type": "stream",
       "stream": "stdout",
       "text": [
        "\r",
        " 209000.0"
       ]
      },
      {
       "output_type": "stream",
       "stream": "stdout",
       "text": [
        "\r",
        " 210000.0"
       ]
      },
      {
       "output_type": "stream",
       "stream": "stdout",
       "text": [
        "\r",
        " 211000.0"
       ]
      },
      {
       "output_type": "stream",
       "stream": "stdout",
       "text": [
        "\r",
        " 212000.0"
       ]
      },
      {
       "output_type": "stream",
       "stream": "stdout",
       "text": [
        "\r",
        " 213000.0"
       ]
      },
      {
       "output_type": "stream",
       "stream": "stdout",
       "text": [
        "\r",
        " 214000.0"
       ]
      },
      {
       "output_type": "stream",
       "stream": "stdout",
       "text": [
        "\r",
        " 215000.0"
       ]
      },
      {
       "output_type": "stream",
       "stream": "stdout",
       "text": [
        "\r",
        " 216000.0"
       ]
      },
      {
       "output_type": "stream",
       "stream": "stdout",
       "text": [
        "\r",
        " 217000.0"
       ]
      },
      {
       "output_type": "stream",
       "stream": "stdout",
       "text": [
        "\r",
        " 218000.0"
       ]
      },
      {
       "output_type": "stream",
       "stream": "stdout",
       "text": [
        "\r",
        " 219000.0"
       ]
      },
      {
       "output_type": "stream",
       "stream": "stdout",
       "text": [
        "\r",
        " 220000.0"
       ]
      },
      {
       "output_type": "stream",
       "stream": "stdout",
       "text": [
        "\r",
        " 221000.0"
       ]
      },
      {
       "output_type": "stream",
       "stream": "stdout",
       "text": [
        "\r",
        " 222000.0"
       ]
      },
      {
       "output_type": "stream",
       "stream": "stdout",
       "text": [
        "\r",
        " 223000.0"
       ]
      },
      {
       "output_type": "stream",
       "stream": "stdout",
       "text": [
        "\r",
        " 224000.0"
       ]
      },
      {
       "output_type": "stream",
       "stream": "stdout",
       "text": [
        "\r",
        " 225000.0"
       ]
      },
      {
       "output_type": "stream",
       "stream": "stdout",
       "text": [
        "\r",
        " 226000.0"
       ]
      },
      {
       "output_type": "stream",
       "stream": "stdout",
       "text": [
        "\r",
        " 227000.0"
       ]
      },
      {
       "output_type": "stream",
       "stream": "stdout",
       "text": [
        "\r",
        " 228000.0"
       ]
      },
      {
       "output_type": "stream",
       "stream": "stdout",
       "text": [
        "\r",
        " 229000.0"
       ]
      },
      {
       "output_type": "stream",
       "stream": "stdout",
       "text": [
        "\r",
        " 230000.0"
       ]
      },
      {
       "output_type": "stream",
       "stream": "stdout",
       "text": [
        "\r",
        " 231000.0"
       ]
      },
      {
       "output_type": "stream",
       "stream": "stdout",
       "text": [
        "\r",
        " 232000.0"
       ]
      },
      {
       "output_type": "stream",
       "stream": "stdout",
       "text": [
        "\r",
        " 233000.0"
       ]
      },
      {
       "output_type": "stream",
       "stream": "stdout",
       "text": [
        "\r",
        " 234000.0"
       ]
      },
      {
       "output_type": "stream",
       "stream": "stdout",
       "text": [
        "\r",
        " 235000.0"
       ]
      },
      {
       "output_type": "stream",
       "stream": "stdout",
       "text": [
        "\r",
        " 236000.0"
       ]
      },
      {
       "output_type": "stream",
       "stream": "stdout",
       "text": [
        "\r",
        " 237000.0"
       ]
      },
      {
       "output_type": "stream",
       "stream": "stdout",
       "text": [
        "\r",
        " 238000.0"
       ]
      },
      {
       "output_type": "stream",
       "stream": "stdout",
       "text": [
        "\r",
        " 239000.0"
       ]
      },
      {
       "output_type": "stream",
       "stream": "stdout",
       "text": [
        "\r",
        " 240000.0"
       ]
      },
      {
       "output_type": "stream",
       "stream": "stdout",
       "text": [
        "\r",
        " 241000.0"
       ]
      },
      {
       "output_type": "stream",
       "stream": "stdout",
       "text": [
        "\r",
        " 242000.0"
       ]
      },
      {
       "output_type": "stream",
       "stream": "stdout",
       "text": [
        "\r",
        " 243000.0"
       ]
      },
      {
       "output_type": "stream",
       "stream": "stdout",
       "text": [
        "\r",
        " 244000.0"
       ]
      },
      {
       "output_type": "stream",
       "stream": "stdout",
       "text": [
        "\r",
        " 245000.0"
       ]
      },
      {
       "output_type": "stream",
       "stream": "stdout",
       "text": [
        "\r",
        " 246000.0"
       ]
      },
      {
       "output_type": "stream",
       "stream": "stdout",
       "text": [
        "\r",
        " 247000.0"
       ]
      },
      {
       "output_type": "stream",
       "stream": "stdout",
       "text": [
        "\r",
        " 248000.0"
       ]
      },
      {
       "output_type": "stream",
       "stream": "stdout",
       "text": [
        "\r",
        " 249000.0"
       ]
      },
      {
       "output_type": "stream",
       "stream": "stdout",
       "text": [
        "\r",
        " 250000.0"
       ]
      },
      {
       "output_type": "stream",
       "stream": "stdout",
       "text": [
        "\r",
        " 251000.0"
       ]
      },
      {
       "output_type": "stream",
       "stream": "stdout",
       "text": [
        "\r",
        " 252000.0"
       ]
      },
      {
       "output_type": "stream",
       "stream": "stdout",
       "text": [
        "\r",
        " 253000.0"
       ]
      },
      {
       "output_type": "stream",
       "stream": "stdout",
       "text": [
        "\r",
        " 254000.0"
       ]
      },
      {
       "output_type": "stream",
       "stream": "stdout",
       "text": [
        "\r",
        " 255000.0"
       ]
      },
      {
       "output_type": "stream",
       "stream": "stdout",
       "text": [
        "\r",
        " 256000.0"
       ]
      },
      {
       "output_type": "stream",
       "stream": "stdout",
       "text": [
        "\r",
        " 257000.0"
       ]
      },
      {
       "output_type": "stream",
       "stream": "stdout",
       "text": [
        "\r",
        " 258000.0"
       ]
      },
      {
       "output_type": "stream",
       "stream": "stdout",
       "text": [
        "\r",
        " 259000.0"
       ]
      },
      {
       "output_type": "stream",
       "stream": "stdout",
       "text": [
        "\r",
        " 260000.0"
       ]
      },
      {
       "output_type": "stream",
       "stream": "stdout",
       "text": [
        "\r",
        " 261000.0"
       ]
      },
      {
       "output_type": "stream",
       "stream": "stdout",
       "text": [
        "\r",
        " 262000.0"
       ]
      },
      {
       "output_type": "stream",
       "stream": "stdout",
       "text": [
        "\r",
        " 263000.0"
       ]
      },
      {
       "output_type": "stream",
       "stream": "stdout",
       "text": [
        "\r",
        " 264000.0"
       ]
      },
      {
       "output_type": "stream",
       "stream": "stdout",
       "text": [
        "\r",
        " 265000.0"
       ]
      },
      {
       "output_type": "stream",
       "stream": "stdout",
       "text": [
        "\r",
        " 266000.0"
       ]
      },
      {
       "output_type": "stream",
       "stream": "stdout",
       "text": [
        "\r",
        " 267000.0"
       ]
      },
      {
       "output_type": "stream",
       "stream": "stdout",
       "text": [
        "\r",
        " 268000.0"
       ]
      },
      {
       "output_type": "stream",
       "stream": "stdout",
       "text": [
        "\r",
        " 269000.0"
       ]
      },
      {
       "output_type": "stream",
       "stream": "stdout",
       "text": [
        "\r",
        " 270000.0"
       ]
      },
      {
       "output_type": "stream",
       "stream": "stdout",
       "text": [
        "\r",
        " 271000.0"
       ]
      },
      {
       "output_type": "stream",
       "stream": "stdout",
       "text": [
        "\r",
        " 272000.0"
       ]
      },
      {
       "output_type": "stream",
       "stream": "stdout",
       "text": [
        "\r",
        " 273000.0"
       ]
      },
      {
       "output_type": "stream",
       "stream": "stdout",
       "text": [
        "\r",
        " 274000.0"
       ]
      },
      {
       "output_type": "stream",
       "stream": "stdout",
       "text": [
        "\r",
        " 275000.0"
       ]
      },
      {
       "output_type": "stream",
       "stream": "stdout",
       "text": [
        "\r",
        " 276000.0"
       ]
      },
      {
       "output_type": "stream",
       "stream": "stdout",
       "text": [
        "\r",
        " 277000.0"
       ]
      },
      {
       "output_type": "stream",
       "stream": "stdout",
       "text": [
        "\r",
        " 278000.0"
       ]
      },
      {
       "output_type": "stream",
       "stream": "stdout",
       "text": [
        "\r",
        " 279000.0"
       ]
      },
      {
       "output_type": "stream",
       "stream": "stdout",
       "text": [
        "\r",
        " 280000.0"
       ]
      },
      {
       "output_type": "stream",
       "stream": "stdout",
       "text": [
        "\r",
        " 281000.0"
       ]
      },
      {
       "output_type": "stream",
       "stream": "stdout",
       "text": [
        "\r",
        " 282000.0"
       ]
      },
      {
       "output_type": "stream",
       "stream": "stdout",
       "text": [
        "\r",
        " 283000.0"
       ]
      },
      {
       "output_type": "stream",
       "stream": "stdout",
       "text": [
        "\r",
        " 284000.0"
       ]
      },
      {
       "output_type": "stream",
       "stream": "stdout",
       "text": [
        "\r",
        " 285000.0"
       ]
      },
      {
       "output_type": "stream",
       "stream": "stdout",
       "text": [
        "\r",
        " 286000.0"
       ]
      },
      {
       "output_type": "stream",
       "stream": "stdout",
       "text": [
        "\r",
        " 287000.0"
       ]
      },
      {
       "output_type": "stream",
       "stream": "stdout",
       "text": [
        "\r",
        " 288000.0"
       ]
      },
      {
       "output_type": "stream",
       "stream": "stdout",
       "text": [
        "\r",
        " 289000.0"
       ]
      },
      {
       "output_type": "stream",
       "stream": "stdout",
       "text": [
        "\r",
        " 290000.0"
       ]
      },
      {
       "output_type": "stream",
       "stream": "stdout",
       "text": [
        "\r",
        " 291000.0"
       ]
      },
      {
       "output_type": "stream",
       "stream": "stdout",
       "text": [
        "\r",
        " 292000.0"
       ]
      },
      {
       "output_type": "stream",
       "stream": "stdout",
       "text": [
        "\r",
        " 293000.0"
       ]
      },
      {
       "output_type": "stream",
       "stream": "stdout",
       "text": [
        "\r",
        " 294000.0"
       ]
      },
      {
       "output_type": "stream",
       "stream": "stdout",
       "text": [
        "\r",
        " 295000.0"
       ]
      },
      {
       "output_type": "stream",
       "stream": "stdout",
       "text": [
        "\r",
        " 296000.0"
       ]
      },
      {
       "output_type": "stream",
       "stream": "stdout",
       "text": [
        "\r",
        " 297000.0"
       ]
      },
      {
       "output_type": "stream",
       "stream": "stdout",
       "text": [
        "\r",
        " 298000.0"
       ]
      },
      {
       "output_type": "stream",
       "stream": "stdout",
       "text": [
        "\r",
        " 299000.0"
       ]
      },
      {
       "output_type": "stream",
       "stream": "stdout",
       "text": [
        "\r",
        " 300000.0"
       ]
      },
      {
       "output_type": "stream",
       "stream": "stdout",
       "text": [
        "\r",
        " 301000.0"
       ]
      },
      {
       "output_type": "stream",
       "stream": "stdout",
       "text": [
        "\r",
        " 302000.0"
       ]
      },
      {
       "output_type": "stream",
       "stream": "stdout",
       "text": [
        "\r",
        " 303000.0"
       ]
      },
      {
       "output_type": "stream",
       "stream": "stdout",
       "text": [
        "\r",
        " 304000.0"
       ]
      },
      {
       "output_type": "stream",
       "stream": "stdout",
       "text": [
        "\r",
        " 305000.0"
       ]
      },
      {
       "output_type": "stream",
       "stream": "stdout",
       "text": [
        "\r",
        " 306000.0"
       ]
      },
      {
       "output_type": "stream",
       "stream": "stdout",
       "text": [
        "\r",
        " 307000.0"
       ]
      },
      {
       "output_type": "stream",
       "stream": "stdout",
       "text": [
        "\r",
        " 308000.0"
       ]
      },
      {
       "output_type": "stream",
       "stream": "stdout",
       "text": [
        "\r",
        " 309000.0"
       ]
      },
      {
       "output_type": "stream",
       "stream": "stdout",
       "text": [
        "\r",
        " 310000.0"
       ]
      },
      {
       "output_type": "stream",
       "stream": "stdout",
       "text": [
        "\r",
        " 311000.0"
       ]
      },
      {
       "output_type": "stream",
       "stream": "stdout",
       "text": [
        "\r",
        " 312000.0"
       ]
      },
      {
       "output_type": "stream",
       "stream": "stdout",
       "text": [
        "\r",
        " 313000.0"
       ]
      },
      {
       "output_type": "stream",
       "stream": "stdout",
       "text": [
        "\r",
        " 314000.0"
       ]
      },
      {
       "output_type": "stream",
       "stream": "stdout",
       "text": [
        "\r",
        " 315000.0"
       ]
      },
      {
       "output_type": "stream",
       "stream": "stdout",
       "text": [
        "\r",
        " 316000.0"
       ]
      },
      {
       "output_type": "stream",
       "stream": "stdout",
       "text": [
        "\r",
        " 317000.0"
       ]
      },
      {
       "output_type": "stream",
       "stream": "stdout",
       "text": [
        "\r",
        " 318000.0"
       ]
      },
      {
       "output_type": "stream",
       "stream": "stdout",
       "text": [
        "\r",
        " 319000.0"
       ]
      },
      {
       "output_type": "stream",
       "stream": "stdout",
       "text": [
        "\r",
        " 320000.0"
       ]
      },
      {
       "output_type": "stream",
       "stream": "stdout",
       "text": [
        "\r",
        " 321000.0"
       ]
      },
      {
       "output_type": "stream",
       "stream": "stdout",
       "text": [
        "\r",
        " 322000.0"
       ]
      },
      {
       "output_type": "stream",
       "stream": "stdout",
       "text": [
        "\r",
        " 323000.0"
       ]
      },
      {
       "output_type": "stream",
       "stream": "stdout",
       "text": [
        "\r",
        " 324000.0"
       ]
      },
      {
       "output_type": "stream",
       "stream": "stdout",
       "text": [
        "\r",
        " 325000.0"
       ]
      },
      {
       "output_type": "stream",
       "stream": "stdout",
       "text": [
        "\r",
        " 326000.0"
       ]
      },
      {
       "output_type": "stream",
       "stream": "stdout",
       "text": [
        "\r",
        " 327000.0"
       ]
      },
      {
       "output_type": "stream",
       "stream": "stdout",
       "text": [
        "\r",
        " 328000.0"
       ]
      },
      {
       "output_type": "stream",
       "stream": "stdout",
       "text": [
        "\r",
        " 329000.0"
       ]
      },
      {
       "output_type": "stream",
       "stream": "stdout",
       "text": [
        "\r",
        " 330000.0"
       ]
      },
      {
       "output_type": "stream",
       "stream": "stdout",
       "text": [
        "\r",
        " 331000.0"
       ]
      },
      {
       "output_type": "stream",
       "stream": "stdout",
       "text": [
        "\r",
        " 332000.0"
       ]
      },
      {
       "output_type": "stream",
       "stream": "stdout",
       "text": [
        "\r",
        " 333000.0"
       ]
      },
      {
       "output_type": "stream",
       "stream": "stdout",
       "text": [
        "\r",
        " 334000.0"
       ]
      },
      {
       "output_type": "stream",
       "stream": "stdout",
       "text": [
        "\r",
        " 335000.0"
       ]
      },
      {
       "output_type": "stream",
       "stream": "stdout",
       "text": [
        "\r",
        " 336000.0"
       ]
      },
      {
       "output_type": "stream",
       "stream": "stdout",
       "text": [
        "\r",
        " 337000.0"
       ]
      },
      {
       "output_type": "stream",
       "stream": "stdout",
       "text": [
        "\r",
        " 338000.0"
       ]
      },
      {
       "output_type": "stream",
       "stream": "stdout",
       "text": [
        "\r",
        " 339000.0"
       ]
      },
      {
       "output_type": "stream",
       "stream": "stdout",
       "text": [
        "\r",
        " 340000.0"
       ]
      },
      {
       "output_type": "stream",
       "stream": "stdout",
       "text": [
        "\r",
        " 341000.0"
       ]
      },
      {
       "output_type": "stream",
       "stream": "stdout",
       "text": [
        "\r",
        " 342000.0"
       ]
      },
      {
       "output_type": "stream",
       "stream": "stdout",
       "text": [
        "\r",
        " 343000.0"
       ]
      },
      {
       "output_type": "stream",
       "stream": "stdout",
       "text": [
        "\r",
        " 344000.0"
       ]
      },
      {
       "output_type": "stream",
       "stream": "stdout",
       "text": [
        "\r",
        " 345000.0"
       ]
      },
      {
       "output_type": "stream",
       "stream": "stdout",
       "text": [
        "\r",
        " 346000.0"
       ]
      },
      {
       "output_type": "stream",
       "stream": "stdout",
       "text": [
        "\r",
        " 347000.0"
       ]
      },
      {
       "output_type": "stream",
       "stream": "stdout",
       "text": [
        "\r",
        " 348000.0"
       ]
      },
      {
       "output_type": "stream",
       "stream": "stdout",
       "text": [
        "\r",
        " 349000.0"
       ]
      },
      {
       "output_type": "stream",
       "stream": "stdout",
       "text": [
        "\r",
        " 350000.0"
       ]
      },
      {
       "output_type": "stream",
       "stream": "stdout",
       "text": [
        "\r",
        " 351000.0"
       ]
      },
      {
       "output_type": "stream",
       "stream": "stdout",
       "text": [
        "\r",
        " 352000.0"
       ]
      },
      {
       "output_type": "stream",
       "stream": "stdout",
       "text": [
        "\r",
        " 353000.0"
       ]
      },
      {
       "output_type": "stream",
       "stream": "stdout",
       "text": [
        "\r",
        " 354000.0"
       ]
      },
      {
       "output_type": "stream",
       "stream": "stdout",
       "text": [
        "\r",
        " 355000.0"
       ]
      },
      {
       "output_type": "stream",
       "stream": "stdout",
       "text": [
        "\r",
        " 356000.0"
       ]
      },
      {
       "output_type": "stream",
       "stream": "stdout",
       "text": [
        "\r",
        " 357000.0"
       ]
      },
      {
       "output_type": "stream",
       "stream": "stdout",
       "text": [
        "\r",
        " 358000.0"
       ]
      },
      {
       "output_type": "stream",
       "stream": "stdout",
       "text": [
        "\r",
        " 359000.0"
       ]
      },
      {
       "output_type": "stream",
       "stream": "stdout",
       "text": [
        "\r",
        " 360000.0"
       ]
      },
      {
       "output_type": "stream",
       "stream": "stdout",
       "text": [
        "\r",
        " 361000.0"
       ]
      },
      {
       "output_type": "stream",
       "stream": "stdout",
       "text": [
        "\r",
        " 362000.0"
       ]
      },
      {
       "output_type": "stream",
       "stream": "stdout",
       "text": [
        "\r",
        " 363000.0"
       ]
      },
      {
       "output_type": "stream",
       "stream": "stdout",
       "text": [
        "\r",
        " 364000.0"
       ]
      },
      {
       "output_type": "stream",
       "stream": "stdout",
       "text": [
        "\r",
        " 365000.0"
       ]
      },
      {
       "output_type": "stream",
       "stream": "stdout",
       "text": [
        "\r",
        " 366000.0"
       ]
      },
      {
       "output_type": "stream",
       "stream": "stdout",
       "text": [
        "\r",
        " 367000.0"
       ]
      },
      {
       "output_type": "stream",
       "stream": "stdout",
       "text": [
        "\r",
        " 368000.0"
       ]
      },
      {
       "output_type": "stream",
       "stream": "stdout",
       "text": [
        "\r",
        " 369000.0"
       ]
      },
      {
       "output_type": "stream",
       "stream": "stdout",
       "text": [
        "\r",
        " 370000.0"
       ]
      },
      {
       "output_type": "stream",
       "stream": "stdout",
       "text": [
        "\r",
        " 371000.0"
       ]
      },
      {
       "output_type": "stream",
       "stream": "stdout",
       "text": [
        "\r",
        " 372000.0"
       ]
      },
      {
       "output_type": "stream",
       "stream": "stdout",
       "text": [
        "\r",
        " 373000.0"
       ]
      },
      {
       "output_type": "stream",
       "stream": "stdout",
       "text": [
        "\r",
        " 374000.0"
       ]
      },
      {
       "output_type": "stream",
       "stream": "stdout",
       "text": [
        "\r",
        " 375000.0"
       ]
      },
      {
       "output_type": "stream",
       "stream": "stdout",
       "text": [
        "\r",
        " 376000.0"
       ]
      },
      {
       "output_type": "stream",
       "stream": "stdout",
       "text": [
        "\r",
        " 377000.0"
       ]
      },
      {
       "output_type": "stream",
       "stream": "stdout",
       "text": [
        "\r",
        " 378000.0"
       ]
      },
      {
       "output_type": "stream",
       "stream": "stdout",
       "text": [
        "\r",
        " 379000.0"
       ]
      },
      {
       "output_type": "stream",
       "stream": "stdout",
       "text": [
        "\r",
        " 380000.0"
       ]
      },
      {
       "output_type": "stream",
       "stream": "stdout",
       "text": [
        "\r",
        " 381000.0"
       ]
      },
      {
       "output_type": "stream",
       "stream": "stdout",
       "text": [
        "\r",
        " 382000.0"
       ]
      },
      {
       "output_type": "stream",
       "stream": "stdout",
       "text": [
        "\r",
        " 383000.0"
       ]
      },
      {
       "output_type": "stream",
       "stream": "stdout",
       "text": [
        "\r",
        " 384000.0"
       ]
      },
      {
       "output_type": "stream",
       "stream": "stdout",
       "text": [
        "\r",
        " 385000.0"
       ]
      },
      {
       "output_type": "stream",
       "stream": "stdout",
       "text": [
        "\r",
        " 386000.0"
       ]
      },
      {
       "output_type": "stream",
       "stream": "stdout",
       "text": [
        "\r",
        " 387000.0"
       ]
      },
      {
       "output_type": "stream",
       "stream": "stdout",
       "text": [
        "\r",
        " 388000.0"
       ]
      },
      {
       "output_type": "stream",
       "stream": "stdout",
       "text": [
        "\r",
        " 389000.0"
       ]
      },
      {
       "output_type": "stream",
       "stream": "stdout",
       "text": [
        "\r",
        " 390000.0"
       ]
      },
      {
       "output_type": "stream",
       "stream": "stdout",
       "text": [
        "\r",
        " 391000.0"
       ]
      },
      {
       "output_type": "stream",
       "stream": "stdout",
       "text": [
        "\r",
        " 392000.0"
       ]
      },
      {
       "output_type": "stream",
       "stream": "stdout",
       "text": [
        "\r",
        " 393000.0"
       ]
      },
      {
       "output_type": "stream",
       "stream": "stdout",
       "text": [
        "\r",
        " 394000.0"
       ]
      },
      {
       "output_type": "stream",
       "stream": "stdout",
       "text": [
        "\r",
        " 395000.0"
       ]
      },
      {
       "output_type": "stream",
       "stream": "stdout",
       "text": [
        "\r",
        " 396000.0"
       ]
      },
      {
       "output_type": "stream",
       "stream": "stdout",
       "text": [
        "\r",
        " 397000.0"
       ]
      },
      {
       "output_type": "stream",
       "stream": "stdout",
       "text": [
        "\r",
        " 398000.0"
       ]
      },
      {
       "output_type": "stream",
       "stream": "stdout",
       "text": [
        "\r",
        " 399000.0"
       ]
      },
      {
       "output_type": "stream",
       "stream": "stdout",
       "text": [
        "\r",
        " 400000.0"
       ]
      },
      {
       "output_type": "stream",
       "stream": "stdout",
       "text": [
        "\r",
        " 401000.0"
       ]
      },
      {
       "output_type": "stream",
       "stream": "stdout",
       "text": [
        "\r",
        " 402000.0"
       ]
      },
      {
       "output_type": "stream",
       "stream": "stdout",
       "text": [
        "\r",
        " 403000.0"
       ]
      },
      {
       "output_type": "stream",
       "stream": "stdout",
       "text": [
        "\r",
        " 404000.0"
       ]
      },
      {
       "output_type": "stream",
       "stream": "stdout",
       "text": [
        "\r",
        " 405000.0"
       ]
      },
      {
       "output_type": "stream",
       "stream": "stdout",
       "text": [
        "\r",
        " 406000.0"
       ]
      },
      {
       "output_type": "stream",
       "stream": "stdout",
       "text": [
        "\r",
        " 407000.0"
       ]
      },
      {
       "output_type": "stream",
       "stream": "stdout",
       "text": [
        "\r",
        " 408000.0"
       ]
      },
      {
       "output_type": "stream",
       "stream": "stdout",
       "text": [
        "\r",
        " 409000.0"
       ]
      },
      {
       "output_type": "stream",
       "stream": "stdout",
       "text": [
        "\r",
        " 410000.0"
       ]
      },
      {
       "output_type": "stream",
       "stream": "stdout",
       "text": [
        "\r",
        " 411000.0"
       ]
      },
      {
       "output_type": "stream",
       "stream": "stdout",
       "text": [
        "\r",
        " 412000.0"
       ]
      },
      {
       "output_type": "stream",
       "stream": "stdout",
       "text": [
        "\r",
        " 413000.0"
       ]
      },
      {
       "output_type": "stream",
       "stream": "stdout",
       "text": [
        "\r",
        " 414000.0"
       ]
      },
      {
       "output_type": "stream",
       "stream": "stdout",
       "text": [
        "\r",
        " 415000.0"
       ]
      },
      {
       "output_type": "stream",
       "stream": "stdout",
       "text": [
        "\r",
        " 416000.0"
       ]
      },
      {
       "output_type": "stream",
       "stream": "stdout",
       "text": [
        "\r",
        " 417000.0"
       ]
      },
      {
       "output_type": "stream",
       "stream": "stdout",
       "text": [
        "\r",
        " 418000.0"
       ]
      },
      {
       "output_type": "stream",
       "stream": "stdout",
       "text": [
        "\r",
        " 419000.0"
       ]
      },
      {
       "output_type": "stream",
       "stream": "stdout",
       "text": [
        "\r",
        " 420000.0"
       ]
      },
      {
       "output_type": "stream",
       "stream": "stdout",
       "text": [
        "\r",
        " 421000.0"
       ]
      },
      {
       "output_type": "stream",
       "stream": "stdout",
       "text": [
        "\r",
        " 422000.0"
       ]
      },
      {
       "output_type": "stream",
       "stream": "stdout",
       "text": [
        "\r",
        " 423000.0"
       ]
      },
      {
       "output_type": "stream",
       "stream": "stdout",
       "text": [
        "\r",
        " 424000.0"
       ]
      },
      {
       "output_type": "stream",
       "stream": "stdout",
       "text": [
        "\r",
        " 425000.0"
       ]
      },
      {
       "output_type": "stream",
       "stream": "stdout",
       "text": [
        "\r",
        " 426000.0"
       ]
      },
      {
       "output_type": "stream",
       "stream": "stdout",
       "text": [
        "\r",
        " 427000.0"
       ]
      },
      {
       "output_type": "stream",
       "stream": "stdout",
       "text": [
        "\r",
        " 428000.0"
       ]
      },
      {
       "output_type": "stream",
       "stream": "stdout",
       "text": [
        "\r",
        " 429000.0"
       ]
      },
      {
       "output_type": "stream",
       "stream": "stdout",
       "text": [
        "\r",
        " 430000.0"
       ]
      },
      {
       "output_type": "stream",
       "stream": "stdout",
       "text": [
        "\r",
        " 431000.0"
       ]
      },
      {
       "output_type": "stream",
       "stream": "stdout",
       "text": [
        "\r",
        " 432000.0"
       ]
      },
      {
       "output_type": "stream",
       "stream": "stdout",
       "text": [
        "\r",
        " 433000.0"
       ]
      },
      {
       "output_type": "stream",
       "stream": "stdout",
       "text": [
        "\r",
        " 434000.0"
       ]
      },
      {
       "output_type": "stream",
       "stream": "stdout",
       "text": [
        "\r",
        " 435000.0"
       ]
      },
      {
       "output_type": "stream",
       "stream": "stdout",
       "text": [
        "\r",
        " 436000.0"
       ]
      },
      {
       "output_type": "stream",
       "stream": "stdout",
       "text": [
        "\r",
        " 437000.0"
       ]
      },
      {
       "output_type": "stream",
       "stream": "stdout",
       "text": [
        "\r",
        " 438000.0"
       ]
      },
      {
       "output_type": "stream",
       "stream": "stdout",
       "text": [
        "\r",
        " 439000.0"
       ]
      },
      {
       "output_type": "stream",
       "stream": "stdout",
       "text": [
        "\r",
        " 440000.0"
       ]
      },
      {
       "output_type": "stream",
       "stream": "stdout",
       "text": [
        "\r",
        " 441000.0"
       ]
      },
      {
       "output_type": "stream",
       "stream": "stdout",
       "text": [
        "\r",
        " 442000.0"
       ]
      },
      {
       "output_type": "stream",
       "stream": "stdout",
       "text": [
        "\r",
        " 443000.0"
       ]
      },
      {
       "output_type": "stream",
       "stream": "stdout",
       "text": [
        "\r",
        " 444000.0"
       ]
      },
      {
       "output_type": "stream",
       "stream": "stdout",
       "text": [
        "\r",
        " 445000.0"
       ]
      },
      {
       "output_type": "stream",
       "stream": "stdout",
       "text": [
        "\r",
        " 446000.0"
       ]
      },
      {
       "output_type": "stream",
       "stream": "stdout",
       "text": [
        "\r",
        " 447000.0"
       ]
      },
      {
       "output_type": "stream",
       "stream": "stdout",
       "text": [
        "\r",
        " 448000.0"
       ]
      },
      {
       "output_type": "stream",
       "stream": "stdout",
       "text": [
        "\r",
        " 449000.0"
       ]
      },
      {
       "output_type": "stream",
       "stream": "stdout",
       "text": [
        "\r",
        " 450000.0"
       ]
      },
      {
       "output_type": "stream",
       "stream": "stdout",
       "text": [
        "\r",
        " 451000.0"
       ]
      },
      {
       "output_type": "stream",
       "stream": "stdout",
       "text": [
        "\r",
        " 452000.0"
       ]
      },
      {
       "output_type": "stream",
       "stream": "stdout",
       "text": [
        "\r",
        " 453000.0"
       ]
      },
      {
       "output_type": "stream",
       "stream": "stdout",
       "text": [
        "\r",
        " 454000.0"
       ]
      },
      {
       "output_type": "stream",
       "stream": "stdout",
       "text": [
        "\r",
        " 455000.0"
       ]
      },
      {
       "output_type": "stream",
       "stream": "stdout",
       "text": [
        "\r",
        " 456000.0"
       ]
      },
      {
       "output_type": "stream",
       "stream": "stdout",
       "text": [
        "\r",
        " 457000.0"
       ]
      },
      {
       "output_type": "stream",
       "stream": "stdout",
       "text": [
        "\r",
        " 458000.0"
       ]
      },
      {
       "output_type": "stream",
       "stream": "stdout",
       "text": [
        "\r",
        " 459000.0"
       ]
      },
      {
       "output_type": "stream",
       "stream": "stdout",
       "text": [
        "\r",
        " 460000.0"
       ]
      },
      {
       "output_type": "stream",
       "stream": "stdout",
       "text": [
        "\r",
        " 461000.0"
       ]
      },
      {
       "output_type": "stream",
       "stream": "stdout",
       "text": [
        "\r",
        " 462000.0"
       ]
      },
      {
       "output_type": "stream",
       "stream": "stdout",
       "text": [
        "\r",
        " 463000.0"
       ]
      },
      {
       "output_type": "stream",
       "stream": "stdout",
       "text": [
        "\r",
        " 464000.0"
       ]
      },
      {
       "output_type": "stream",
       "stream": "stdout",
       "text": [
        "\r",
        " 465000.0"
       ]
      },
      {
       "output_type": "stream",
       "stream": "stdout",
       "text": [
        "\r",
        " 466000.0"
       ]
      },
      {
       "output_type": "stream",
       "stream": "stdout",
       "text": [
        "\r",
        " 467000.0"
       ]
      },
      {
       "output_type": "stream",
       "stream": "stdout",
       "text": [
        "\r",
        " 468000.0"
       ]
      },
      {
       "output_type": "stream",
       "stream": "stdout",
       "text": [
        "\r",
        " 469000.0"
       ]
      },
      {
       "output_type": "stream",
       "stream": "stdout",
       "text": [
        "\r",
        " 470000.0"
       ]
      },
      {
       "output_type": "stream",
       "stream": "stdout",
       "text": [
        "\r",
        " 471000.0"
       ]
      },
      {
       "output_type": "stream",
       "stream": "stdout",
       "text": [
        "\r",
        " 472000.0"
       ]
      },
      {
       "output_type": "stream",
       "stream": "stdout",
       "text": [
        "\r",
        " 473000.0"
       ]
      },
      {
       "output_type": "stream",
       "stream": "stdout",
       "text": [
        "\r",
        " 474000.0"
       ]
      },
      {
       "output_type": "stream",
       "stream": "stdout",
       "text": [
        "\r",
        " 475000.0"
       ]
      },
      {
       "output_type": "stream",
       "stream": "stdout",
       "text": [
        "\r",
        " 476000.0"
       ]
      },
      {
       "output_type": "stream",
       "stream": "stdout",
       "text": [
        "\r",
        " 477000.0"
       ]
      },
      {
       "output_type": "stream",
       "stream": "stdout",
       "text": [
        "\r",
        " 478000.0"
       ]
      },
      {
       "output_type": "stream",
       "stream": "stdout",
       "text": [
        "\r",
        " 479000.0"
       ]
      },
      {
       "output_type": "stream",
       "stream": "stdout",
       "text": [
        "\r",
        " 480000.0"
       ]
      },
      {
       "output_type": "stream",
       "stream": "stdout",
       "text": [
        "\r",
        " 481000.0"
       ]
      },
      {
       "output_type": "stream",
       "stream": "stdout",
       "text": [
        "\r",
        " 482000.0"
       ]
      },
      {
       "output_type": "stream",
       "stream": "stdout",
       "text": [
        "\r",
        " 483000.0"
       ]
      },
      {
       "output_type": "stream",
       "stream": "stdout",
       "text": [
        "\r",
        " 484000.0"
       ]
      },
      {
       "output_type": "stream",
       "stream": "stdout",
       "text": [
        "\r",
        " 485000.0"
       ]
      },
      {
       "output_type": "stream",
       "stream": "stdout",
       "text": [
        "\r",
        " 486000.0"
       ]
      },
      {
       "output_type": "stream",
       "stream": "stdout",
       "text": [
        "\r",
        " 487000.0"
       ]
      },
      {
       "output_type": "stream",
       "stream": "stdout",
       "text": [
        "\r",
        " 488000.0"
       ]
      },
      {
       "output_type": "stream",
       "stream": "stdout",
       "text": [
        "\r",
        " 489000.0"
       ]
      },
      {
       "output_type": "stream",
       "stream": "stdout",
       "text": [
        "\r",
        " 490000.0"
       ]
      },
      {
       "output_type": "stream",
       "stream": "stdout",
       "text": [
        "\r",
        " 491000.0"
       ]
      },
      {
       "output_type": "stream",
       "stream": "stdout",
       "text": [
        "\r",
        " 492000.0"
       ]
      },
      {
       "output_type": "stream",
       "stream": "stdout",
       "text": [
        "\r",
        " 493000.0"
       ]
      },
      {
       "output_type": "stream",
       "stream": "stdout",
       "text": [
        "\r",
        " 494000.0"
       ]
      },
      {
       "output_type": "stream",
       "stream": "stdout",
       "text": [
        "\r",
        " 495000.0"
       ]
      },
      {
       "output_type": "stream",
       "stream": "stdout",
       "text": [
        "\r",
        " 496000.0"
       ]
      },
      {
       "output_type": "stream",
       "stream": "stdout",
       "text": [
        "\r",
        " 497000.0"
       ]
      },
      {
       "output_type": "stream",
       "stream": "stdout",
       "text": [
        "\r",
        " 498000.0"
       ]
      },
      {
       "output_type": "stream",
       "stream": "stdout",
       "text": [
        "\r",
        " 499000.0"
       ]
      },
      {
       "output_type": "stream",
       "stream": "stdout",
       "text": [
        "\r",
        " 500000.0"
       ]
      },
      {
       "output_type": "stream",
       "stream": "stdout",
       "text": [
        "\r",
        " 501000.0"
       ]
      },
      {
       "output_type": "stream",
       "stream": "stdout",
       "text": [
        "\r",
        " 502000.0"
       ]
      },
      {
       "output_type": "stream",
       "stream": "stdout",
       "text": [
        "\r",
        " 503000.0"
       ]
      },
      {
       "output_type": "stream",
       "stream": "stdout",
       "text": [
        "\r",
        " 504000.0"
       ]
      },
      {
       "output_type": "stream",
       "stream": "stdout",
       "text": [
        "\r",
        " 505000.0"
       ]
      },
      {
       "output_type": "stream",
       "stream": "stdout",
       "text": [
        "\r",
        " 506000.0"
       ]
      },
      {
       "output_type": "stream",
       "stream": "stdout",
       "text": [
        "\r",
        " 507000.0"
       ]
      },
      {
       "output_type": "stream",
       "stream": "stdout",
       "text": [
        "\r",
        " 508000.0"
       ]
      },
      {
       "output_type": "stream",
       "stream": "stdout",
       "text": [
        "\r",
        " 509000.0"
       ]
      },
      {
       "output_type": "stream",
       "stream": "stdout",
       "text": [
        "\r",
        " 510000.0"
       ]
      },
      {
       "output_type": "stream",
       "stream": "stdout",
       "text": [
        "\r",
        " 511000.0"
       ]
      },
      {
       "output_type": "stream",
       "stream": "stdout",
       "text": [
        "\r",
        " 512000.0"
       ]
      },
      {
       "output_type": "stream",
       "stream": "stdout",
       "text": [
        "\r",
        " 513000.0"
       ]
      },
      {
       "output_type": "stream",
       "stream": "stdout",
       "text": [
        "\r",
        " 514000.0"
       ]
      },
      {
       "output_type": "stream",
       "stream": "stdout",
       "text": [
        "\r",
        " 515000.0"
       ]
      },
      {
       "output_type": "stream",
       "stream": "stdout",
       "text": [
        "\r",
        " 516000.0"
       ]
      },
      {
       "output_type": "stream",
       "stream": "stdout",
       "text": [
        "\r",
        " 517000.0"
       ]
      },
      {
       "output_type": "stream",
       "stream": "stdout",
       "text": [
        "\r",
        " 518000.0"
       ]
      },
      {
       "output_type": "stream",
       "stream": "stdout",
       "text": [
        "\r",
        " 519000.0"
       ]
      },
      {
       "output_type": "stream",
       "stream": "stdout",
       "text": [
        "\r",
        " 520000.0"
       ]
      },
      {
       "output_type": "stream",
       "stream": "stdout",
       "text": [
        "\r",
        " 521000.0"
       ]
      },
      {
       "output_type": "stream",
       "stream": "stdout",
       "text": [
        "\r",
        " 522000.0"
       ]
      },
      {
       "output_type": "stream",
       "stream": "stdout",
       "text": [
        "\r",
        " 523000.0"
       ]
      },
      {
       "output_type": "stream",
       "stream": "stdout",
       "text": [
        "\r",
        " 524000.0"
       ]
      },
      {
       "output_type": "stream",
       "stream": "stdout",
       "text": [
        "\r",
        " 525000.0"
       ]
      },
      {
       "output_type": "stream",
       "stream": "stdout",
       "text": [
        "\r",
        " 526000.0"
       ]
      },
      {
       "output_type": "stream",
       "stream": "stdout",
       "text": [
        "\r",
        " 527000.0"
       ]
      },
      {
       "output_type": "stream",
       "stream": "stdout",
       "text": [
        "\r",
        " 528000.0"
       ]
      },
      {
       "output_type": "stream",
       "stream": "stdout",
       "text": [
        "\r",
        " 529000.0"
       ]
      },
      {
       "output_type": "stream",
       "stream": "stdout",
       "text": [
        "\r",
        " 530000.0"
       ]
      },
      {
       "output_type": "stream",
       "stream": "stdout",
       "text": [
        "\r",
        " 531000.0"
       ]
      },
      {
       "output_type": "stream",
       "stream": "stdout",
       "text": [
        "\r",
        " 532000.0"
       ]
      },
      {
       "output_type": "stream",
       "stream": "stdout",
       "text": [
        "\r",
        " 533000.0"
       ]
      },
      {
       "output_type": "stream",
       "stream": "stdout",
       "text": [
        "\r",
        " 534000.0"
       ]
      },
      {
       "output_type": "stream",
       "stream": "stdout",
       "text": [
        "\r",
        " 535000.0"
       ]
      },
      {
       "output_type": "stream",
       "stream": "stdout",
       "text": [
        "\r",
        " 536000.0"
       ]
      },
      {
       "output_type": "stream",
       "stream": "stdout",
       "text": [
        "\r",
        " 537000.0"
       ]
      },
      {
       "output_type": "stream",
       "stream": "stdout",
       "text": [
        "\r",
        " 538000.0"
       ]
      },
      {
       "output_type": "stream",
       "stream": "stdout",
       "text": [
        "\r",
        " 539000.0"
       ]
      },
      {
       "output_type": "stream",
       "stream": "stdout",
       "text": [
        "\r",
        " 540000.0"
       ]
      },
      {
       "output_type": "stream",
       "stream": "stdout",
       "text": [
        "\r",
        " 541000.0"
       ]
      },
      {
       "output_type": "stream",
       "stream": "stdout",
       "text": [
        "\r",
        " 542000.0"
       ]
      },
      {
       "output_type": "stream",
       "stream": "stdout",
       "text": [
        "\r",
        " 543000.0"
       ]
      },
      {
       "output_type": "stream",
       "stream": "stdout",
       "text": [
        "\r",
        " 544000.0"
       ]
      },
      {
       "output_type": "stream",
       "stream": "stdout",
       "text": [
        "\r",
        " 545000.0"
       ]
      },
      {
       "output_type": "stream",
       "stream": "stdout",
       "text": [
        "\r",
        " 546000.0"
       ]
      },
      {
       "output_type": "stream",
       "stream": "stdout",
       "text": [
        "\r",
        " 547000.0"
       ]
      },
      {
       "output_type": "stream",
       "stream": "stdout",
       "text": [
        "\r",
        " 548000.0"
       ]
      },
      {
       "output_type": "stream",
       "stream": "stdout",
       "text": [
        "\r",
        " 549000.0"
       ]
      },
      {
       "output_type": "stream",
       "stream": "stdout",
       "text": [
        "\r",
        " 550000.0"
       ]
      },
      {
       "output_type": "stream",
       "stream": "stdout",
       "text": [
        "\r",
        " 551000.0"
       ]
      },
      {
       "output_type": "stream",
       "stream": "stdout",
       "text": [
        "\r",
        " 552000.0"
       ]
      },
      {
       "output_type": "stream",
       "stream": "stdout",
       "text": [
        "\r",
        " 553000.0"
       ]
      },
      {
       "output_type": "stream",
       "stream": "stdout",
       "text": [
        "\r",
        " 554000.0"
       ]
      },
      {
       "output_type": "stream",
       "stream": "stdout",
       "text": [
        "\r",
        " 555000.0"
       ]
      },
      {
       "output_type": "stream",
       "stream": "stdout",
       "text": [
        "\r",
        " 556000.0"
       ]
      },
      {
       "output_type": "stream",
       "stream": "stdout",
       "text": [
        "\r",
        " 557000.0"
       ]
      },
      {
       "output_type": "stream",
       "stream": "stdout",
       "text": [
        "\r",
        " 558000.0"
       ]
      },
      {
       "output_type": "stream",
       "stream": "stdout",
       "text": [
        "\r",
        " 559000.0"
       ]
      },
      {
       "output_type": "stream",
       "stream": "stdout",
       "text": [
        "\r",
        " 560000.0"
       ]
      },
      {
       "output_type": "stream",
       "stream": "stdout",
       "text": [
        "\r",
        " 561000.0"
       ]
      },
      {
       "output_type": "stream",
       "stream": "stdout",
       "text": [
        "\r",
        " 562000.0"
       ]
      },
      {
       "output_type": "stream",
       "stream": "stdout",
       "text": [
        "\r",
        " 563000.0"
       ]
      },
      {
       "output_type": "stream",
       "stream": "stdout",
       "text": [
        "\r",
        " 564000.0"
       ]
      },
      {
       "output_type": "stream",
       "stream": "stdout",
       "text": [
        "\r",
        " 565000.0"
       ]
      },
      {
       "output_type": "stream",
       "stream": "stdout",
       "text": [
        "\r",
        " 566000.0"
       ]
      },
      {
       "output_type": "stream",
       "stream": "stdout",
       "text": [
        "\r",
        " 567000.0"
       ]
      },
      {
       "output_type": "stream",
       "stream": "stdout",
       "text": [
        "\r",
        " 568000.0"
       ]
      },
      {
       "output_type": "stream",
       "stream": "stdout",
       "text": [
        "\r",
        " 569000.0"
       ]
      },
      {
       "output_type": "stream",
       "stream": "stdout",
       "text": [
        "\r",
        " 570000.0"
       ]
      },
      {
       "output_type": "stream",
       "stream": "stdout",
       "text": [
        "\r",
        " 571000.0"
       ]
      },
      {
       "output_type": "stream",
       "stream": "stdout",
       "text": [
        "\r",
        " 572000.0"
       ]
      },
      {
       "output_type": "stream",
       "stream": "stdout",
       "text": [
        "\r",
        " 573000.0"
       ]
      },
      {
       "output_type": "stream",
       "stream": "stdout",
       "text": [
        "\r",
        " 574000.0"
       ]
      },
      {
       "output_type": "stream",
       "stream": "stdout",
       "text": [
        "\r",
        " 575000.0"
       ]
      },
      {
       "output_type": "stream",
       "stream": "stdout",
       "text": [
        "\r",
        " 576000.0"
       ]
      },
      {
       "output_type": "stream",
       "stream": "stdout",
       "text": [
        "\r",
        " 577000.0"
       ]
      },
      {
       "output_type": "stream",
       "stream": "stdout",
       "text": [
        "\r",
        " 578000.0"
       ]
      },
      {
       "output_type": "stream",
       "stream": "stdout",
       "text": [
        "\r",
        " 579000.0"
       ]
      },
      {
       "output_type": "stream",
       "stream": "stdout",
       "text": [
        "\r",
        " 580000.0"
       ]
      },
      {
       "output_type": "stream",
       "stream": "stdout",
       "text": [
        "\r",
        " 581000.0"
       ]
      },
      {
       "output_type": "stream",
       "stream": "stdout",
       "text": [
        "\r",
        " 582000.0"
       ]
      },
      {
       "output_type": "stream",
       "stream": "stdout",
       "text": [
        "\r",
        " 583000.0"
       ]
      },
      {
       "output_type": "stream",
       "stream": "stdout",
       "text": [
        "\r",
        " 584000.0"
       ]
      },
      {
       "output_type": "stream",
       "stream": "stdout",
       "text": [
        "\r",
        " 585000.0"
       ]
      },
      {
       "output_type": "stream",
       "stream": "stdout",
       "text": [
        "\r",
        " 586000.0"
       ]
      },
      {
       "output_type": "stream",
       "stream": "stdout",
       "text": [
        "\r",
        " 587000.0"
       ]
      },
      {
       "output_type": "stream",
       "stream": "stdout",
       "text": [
        "\r",
        " 588000.0"
       ]
      },
      {
       "output_type": "stream",
       "stream": "stdout",
       "text": [
        "\r",
        " 589000.0"
       ]
      },
      {
       "output_type": "stream",
       "stream": "stdout",
       "text": [
        "\r",
        " 590000.0"
       ]
      },
      {
       "output_type": "stream",
       "stream": "stdout",
       "text": [
        "\r",
        " 591000.0"
       ]
      },
      {
       "output_type": "stream",
       "stream": "stdout",
       "text": [
        "\r",
        " 592000.0"
       ]
      },
      {
       "output_type": "stream",
       "stream": "stdout",
       "text": [
        "\r",
        " 593000.0"
       ]
      },
      {
       "output_type": "stream",
       "stream": "stdout",
       "text": [
        "\r",
        " 594000.0"
       ]
      },
      {
       "output_type": "stream",
       "stream": "stdout",
       "text": [
        "\r",
        " 595000.0"
       ]
      },
      {
       "output_type": "stream",
       "stream": "stdout",
       "text": [
        "\r",
        " 596000.0"
       ]
      },
      {
       "output_type": "stream",
       "stream": "stdout",
       "text": [
        "\r",
        " 597000.0"
       ]
      },
      {
       "output_type": "stream",
       "stream": "stdout",
       "text": [
        "\r",
        " 598000.0"
       ]
      },
      {
       "output_type": "stream",
       "stream": "stdout",
       "text": [
        "\r",
        " 599000.0"
       ]
      },
      {
       "output_type": "stream",
       "stream": "stdout",
       "text": [
        "\r",
        " 600000.0"
       ]
      },
      {
       "output_type": "stream",
       "stream": "stdout",
       "text": [
        "\r",
        " 601000.0"
       ]
      },
      {
       "output_type": "stream",
       "stream": "stdout",
       "text": [
        "\r",
        " 602000.0"
       ]
      },
      {
       "output_type": "stream",
       "stream": "stdout",
       "text": [
        "\r",
        " 603000.0"
       ]
      },
      {
       "output_type": "stream",
       "stream": "stdout",
       "text": [
        "\r",
        " 604000.0"
       ]
      }
     ]
    },
    {
     "cell_type": "code",
     "collapsed": false,
     "input": [],
     "language": "python",
     "metadata": {},
     "outputs": []
    }
   ],
   "metadata": {}
  }
 ]
}