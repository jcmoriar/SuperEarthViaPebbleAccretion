{
 "metadata": {
  "name": "",
  "signature": "sha256:0131ef550e49ebdf334b2984d6d024a21d14441c001ee132e79675cc4e49b24b"
 },
 "nbformat": 3,
 "nbformat_minor": 0,
 "worksheets": []
}